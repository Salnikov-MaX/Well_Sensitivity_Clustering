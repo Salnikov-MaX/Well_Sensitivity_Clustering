{
 "cells": [
  {
   "cell_type": "code",
   "execution_count": 1,
   "metadata": {},
   "outputs": [
    {
     "name": "stderr",
     "output_type": "stream",
     "text": [
      "c:\\Users\\SalnikovMA\\Anaconda3\\envs\\Torch_Env\\lib\\site-packages\\tqdm\\auto.py:22: TqdmWarning: IProgress not found. Please update jupyter and ipywidgets. See https://ipywidgets.readthedocs.io/en/stable/user_install.html\n",
      "  from .autonotebook import tqdm as notebook_tqdm\n"
     ]
    }
   ],
   "source": [
    "import torch\n",
    "import torch.nn as nn\n",
    "import torch.optim as optim\n",
    "from sklearn.preprocessing import MinMaxScaler, StandardScaler\n",
    "from sklearn.model_selection import train_test_split\n",
    "import pandas as pd\n",
    "import numpy as np\n",
    "import matplotlib.pyplot as plt\n",
    "from tqdm import tqdm\n",
    "# from ESO import ESO"
   ]
  },
  {
   "cell_type": "code",
   "execution_count": 2,
   "metadata": {},
   "outputs": [],
   "source": [
    "class Reverse_Regression(nn.Module):\n",
    "    def __init__(self, model):\n",
    "        super().__init__()\n",
    "        input_size, output_size = model.weights.shape[0], model.weights.shape[1]\n",
    "        self.opt_vec = nn.Parameter(torch.randn(output_size, input_size))\n",
    "\n",
    "    def forward(self, weights, weights_2, weights_3, bias):\n",
    "        x3 = self.opt_vec**3 @ weights_3\n",
    "        x2 = self.opt_vec**2 @ weights_2\n",
    "        x1 = self.opt_vec @ weights\n",
    "        return x3 + x2 + x1 + bias\n",
    "\n",
    "\n",
    "class Regression(nn.Module):\n",
    "        def __init__(self, input_size, output_size, lambda_):\n",
    "            super().__init__()\n",
    "            self.weights = nn.Parameter(torch.randn(input_size, output_size))\n",
    "            self.weights_2 = nn.Parameter(torch.randn(input_size, output_size))\n",
    "            self.weights_3 = nn.Parameter(torch.randn(input_size, output_size))\n",
    "            # self.weights_3 = nn.Parameter(torch.randn(input_size, input_size))\n",
    "            self.bias = nn.Parameter(torch.randn(output_size))\n",
    "            self.lambda_ = lambda_\n",
    "            # self.activation = nn.Tanh()  # добавляем функцию активации\n",
    "            # self.activation = nn.Mish() \n",
    "\n",
    "        def forward(self, x):\n",
    "            # x = x @ self.weights_2 # применяем первый слой\n",
    "            # x = self.activation(x)  # применяем функцию активации\n",
    "            return x**3 @ self.weights_3 + x**2 @ self.weights_2 + x @ self.weights + self.bias\n",
    "\n",
    "        def l1_reg(self):\n",
    "            return self.lambda_ * (torch.sum(torch.abs(self.weights)) + torch.sum(torch.abs(self.weights_2)) + torch.sum(torch.abs(self.weights_3)) + torch.sum(torch.abs(self.bias)))\n",
    "\n",
    "        def l2_reg(self):\n",
    "            return self.lambda_ * torch.sum(torch.pow(self.weights, 2))\n"
   ]
  },
  {
   "cell_type": "code",
   "execution_count": 3,
   "metadata": {},
   "outputs": [],
   "source": [
    "df = pd.read_excel('data/Global_Unc6_OF_v23_structured.xlsx')\n",
    "\n",
    "X = df.iloc[3:, 2:16]\n",
    "Y = df.iloc[:, 32:]\n",
    "new_header_1 = Y.iloc[1]\n",
    "new_header_2 = Y.iloc[2]\n",
    "new_header = [str(i) + ' / ' + str(j) for i, j in zip(new_header_1, new_header_2)]\n",
    "Y = Y[3:] #take the data less the header row\n",
    "Y.columns = new_header #set the header row as the df header\n",
    "\n",
    "\n",
    "scaler = MinMaxScaler()\n",
    "inputs = scaler.fit_transform(X)#.to_numpy(dtype=float)"
   ]
  },
  {
   "cell_type": "code",
   "execution_count": 5,
   "metadata": {},
   "outputs": [
    {
     "name": "stderr",
     "output_type": "stream",
     "text": [
      "C:\\Users\\SalnikovMA\\AppData\\Roaming\\Python\\Python310\\site-packages\\sklearn\\base.py:409: UserWarning: X does not have valid feature names, but MinMaxScaler was fitted with feature names\n",
      "  warnings.warn(\n",
      "C:\\Users\\SalnikovMA\\AppData\\Roaming\\Python\\Python310\\site-packages\\sklearn\\base.py:409: UserWarning: X does not have valid feature names, but MinMaxScaler was fitted with feature names\n",
      "  warnings.warn(\n"
     ]
    }
   ],
   "source": [
    "feature_names = df.iloc[2:3, 2:16].loc[2].to_list()\n",
    "lim_df = pd.read_excel('data/input_limits.xlsx')\n",
    "min_val = scaler.transform(np.array([[lim_df[lim_df['Parameter']==f_n].Min.values[0] for f_n in feature_names]]))\n",
    "max_val = scaler.transform(np.array([[lim_df[lim_df['Parameter']==f_n].Max.values[0] for f_n in feature_names]]))\n",
    "min_val = torch.from_numpy(min_val).float()\n",
    "max_val = torch.from_numpy(max_val).float()"
   ]
  },
  {
   "cell_type": "code",
   "execution_count": 6,
   "metadata": {},
   "outputs": [
    {
     "name": "stderr",
     "output_type": "stream",
     "text": [
      "  0%|          | 0/927 [00:00<?, ?it/s]"
     ]
    },
    {
     "name": "stdout",
     "output_type": "stream",
     "text": [
      "L1Loss модели на обучающей выборке 1.543007731437683\n",
      "L1Loss модели на тестовой выборке 2.121776819229126\n"
     ]
    },
    {
     "name": "stderr",
     "output_type": "stream",
     "text": [
      "  0%|          | 1/927 [00:07<1:53:38,  7.36s/it]"
     ]
    },
    {
     "name": "stdout",
     "output_type": "stream",
     "text": [
      "Loss with opt features: 0.0020\n"
     ]
    },
    {
     "name": "stderr",
     "output_type": "stream",
     "text": [
      "  0%|          | 2/927 [00:13<1:45:36,  6.85s/it]"
     ]
    },
    {
     "name": "stdout",
     "output_type": "stream",
     "text": [
      "L1Loss модели на обучающей выборке 0.7611115574836731\n",
      "L1Loss модели на тестовой выборке 0.9105168581008911\n",
      "Loss with opt features: 0.0045\n",
      "L1Loss модели на обучающей выборке 1.5974929332733154\n",
      "L1Loss модели на тестовой выборке 1.8006534576416016\n"
     ]
    },
    {
     "name": "stderr",
     "output_type": "stream",
     "text": [
      "  0%|          | 3/927 [00:18<1:26:45,  5.63s/it]"
     ]
    },
    {
     "name": "stdout",
     "output_type": "stream",
     "text": [
      "Loss with opt features: 0.0017\n",
      "L1Loss модели на обучающей выборке 1.5497100353240967\n",
      "L1Loss модели на тестовой выборке 1.256291151046753\n"
     ]
    },
    {
     "name": "stderr",
     "output_type": "stream",
     "text": [
      "  0%|          | 4/927 [00:22<1:20:22,  5.22s/it]"
     ]
    },
    {
     "name": "stdout",
     "output_type": "stream",
     "text": [
      "Loss with opt features: 0.0309\n",
      "L1Loss модели на обучающей выборке 0.8089146018028259\n",
      "L1Loss модели на тестовой выборке 0.8080270886421204\n",
      "Loss with opt features: 0.0002\n"
     ]
    },
    {
     "name": "stderr",
     "output_type": "stream",
     "text": [
      "  1%|          | 5/927 [00:27<1:20:25,  5.23s/it]"
     ]
    },
    {
     "name": "stdout",
     "output_type": "stream",
     "text": [
      "L1Loss модели на обучающей выборке 1.0242265462875366\n",
      "L1Loss модели на тестовой выборке 1.0499151945114136\n",
      "Loss with opt features: 0.0042\n"
     ]
    },
    {
     "name": "stderr",
     "output_type": "stream",
     "text": [
      "  1%|          | 6/927 [00:32<1:15:53,  4.94s/it]"
     ]
    },
    {
     "name": "stdout",
     "output_type": "stream",
     "text": [
      "L1Loss модели на обучающей выборке 0.9543396234512329\n",
      "L1Loss модели на тестовой выборке 0.9607751965522766\n",
      "Loss with opt features: 0.0093\n"
     ]
    },
    {
     "name": "stderr",
     "output_type": "stream",
     "text": [
      "  1%|          | 7/927 [00:37<1:14:50,  4.88s/it]"
     ]
    },
    {
     "name": "stdout",
     "output_type": "stream",
     "text": [
      "L1Loss модели на обучающей выборке 0.1337408423423767\n",
      "L1Loss модели на тестовой выборке 0.17397063970565796\n"
     ]
    },
    {
     "name": "stderr",
     "output_type": "stream",
     "text": [
      "  1%|          | 8/927 [00:47<1:44:12,  6.80s/it]"
     ]
    },
    {
     "name": "stdout",
     "output_type": "stream",
     "text": [
      "Loss with opt features: 0.0095\n",
      "L1Loss модели на обучающей выборке 0.27015599608421326\n",
      "L1Loss модели на тестовой выборке 0.3955880403518677\n",
      "Loss with opt features: 0.0007\n"
     ]
    },
    {
     "name": "stderr",
     "output_type": "stream",
     "text": [
      "  1%|          | 9/927 [00:54<1:44:32,  6.83s/it]"
     ]
    },
    {
     "name": "stdout",
     "output_type": "stream",
     "text": [
      "L1Loss модели на обучающей выборке 0.3200470805168152\n",
      "L1Loss модели на тестовой выборке 0.5842679738998413\n",
      "Loss with opt features: 0.0200\n"
     ]
    },
    {
     "name": "stderr",
     "output_type": "stream",
     "text": [
      "  1%|          | 10/927 [01:02<1:46:10,  6.95s/it]"
     ]
    },
    {
     "name": "stdout",
     "output_type": "stream",
     "text": [
      "L1Loss модели на обучающей выборке 0.7473676204681396\n",
      "L1Loss модели на тестовой выборке 0.7505241632461548\n",
      "Loss with opt features: 0.0017\n"
     ]
    },
    {
     "name": "stderr",
     "output_type": "stream",
     "text": [
      "  1%|▏         | 12/927 [01:13<1:37:21,  6.38s/it]"
     ]
    },
    {
     "name": "stdout",
     "output_type": "stream",
     "text": [
      "L1Loss модели на обучающей выборке 0.7244241237640381\n",
      "L1Loss модели на тестовой выборке 1.0617190599441528\n",
      "Loss with opt features: 0.0159\n"
     ]
    },
    {
     "name": "stderr",
     "output_type": "stream",
     "text": [
      "  1%|▏         | 13/927 [01:25<2:03:28,  8.11s/it]"
     ]
    },
    {
     "name": "stdout",
     "output_type": "stream",
     "text": [
      "L1Loss модели на обучающей выборке 0.24492168426513672\n",
      "L1Loss модели на тестовой выборке 0.4251527488231659\n",
      "Loss with opt features: 4.0346\n"
     ]
    },
    {
     "name": "stderr",
     "output_type": "stream",
     "text": [
      "  2%|▏         | 14/927 [01:38<2:24:44,  9.51s/it]"
     ]
    },
    {
     "name": "stdout",
     "output_type": "stream",
     "text": [
      "L1Loss модели на обучающей выборке 0.364028662443161\n",
      "L1Loss модели на тестовой выборке 0.5942476391792297\n",
      "Loss with opt features: 10.2107\n",
      "L1Loss модели на обучающей выборке 0.6060792803764343\n",
      "L1Loss модели на тестовой выборке 0.9989609122276306\n",
      "Loss with opt features: 1.8092\n"
     ]
    },
    {
     "name": "stderr",
     "output_type": "stream",
     "text": [
      "  2%|▏         | 15/927 [01:46<2:15:17,  8.90s/it]"
     ]
    },
    {
     "name": "stdout",
     "output_type": "stream",
     "text": [
      "L1Loss модели на обучающей выборке 0.7130995392799377\n",
      "L1Loss модели на тестовой выборке 0.9896030426025391\n"
     ]
    },
    {
     "name": "stderr",
     "output_type": "stream",
     "text": [
      "  2%|▏         | 16/927 [01:53<2:10:26,  8.59s/it]"
     ]
    },
    {
     "name": "stdout",
     "output_type": "stream",
     "text": [
      "Loss with opt features: 0.0843\n",
      "L1Loss модели на обучающей выборке 1.3831114768981934\n",
      "L1Loss модели на тестовой выборке 1.7553728818893433\n",
      "Loss with opt features: 0.0030\n"
     ]
    },
    {
     "name": "stderr",
     "output_type": "stream",
     "text": [
      "  2%|▏         | 18/927 [02:03<1:42:12,  6.75s/it]"
     ]
    },
    {
     "name": "stdout",
     "output_type": "stream",
     "text": [
      "L1Loss модели на обучающей выборке 0.9955433011054993\n",
      "L1Loss модели на тестовой выборке 1.1847034692764282\n",
      "Loss with opt features: 0.0159\n",
      "L1Loss модели на обучающей выборке 0.2019978165626526\n",
      "L1Loss модели на тестовой выборке 0.24466420710086823\n",
      "Loss with opt features: 5.9170\n"
     ]
    },
    {
     "name": "stderr",
     "output_type": "stream",
     "text": [
      "  2%|▏         | 20/927 [02:20<1:53:12,  7.49s/it]"
     ]
    },
    {
     "name": "stdout",
     "output_type": "stream",
     "text": [
      "L1Loss модели на обучающей выборке 0.7157101631164551\n",
      "L1Loss модели на тестовой выборке 1.2293009757995605\n",
      "Loss with opt features: 0.0007\n",
      "L1Loss модели на обучающей выборке 0.8001959323883057\n",
      "L1Loss модели на тестовой выборке 1.0612694025039673\n",
      "Loss with opt features: 7.5829\n"
     ]
    },
    {
     "name": "stderr",
     "output_type": "stream",
     "text": [
      "  2%|▏         | 21/927 [02:28<1:54:24,  7.58s/it]"
     ]
    },
    {
     "name": "stdout",
     "output_type": "stream",
     "text": [
      "L1Loss модели на обучающей выборке 0.24654708802700043\n",
      "L1Loss модели на тестовой выборке 0.30770644545555115\n"
     ]
    },
    {
     "name": "stderr",
     "output_type": "stream",
     "text": [
      "  2%|▏         | 22/927 [02:40<2:11:56,  8.75s/it]"
     ]
    },
    {
     "name": "stdout",
     "output_type": "stream",
     "text": [
      "Loss with opt features: 0.0060\n",
      "L1Loss модели на обучающей выборке 0.4781738221645355\n",
      "L1Loss модели на тестовой выборке 0.633784830570221\n",
      "Loss with opt features: 0.0145\n"
     ]
    },
    {
     "name": "stderr",
     "output_type": "stream",
     "text": [
      "  3%|▎         | 24/927 [02:52<1:53:05,  7.51s/it]"
     ]
    },
    {
     "name": "stdout",
     "output_type": "stream",
     "text": [
      "L1Loss модели на обучающей выборке 0.7838797569274902\n",
      "L1Loss модели на тестовой выборке 0.862905740737915\n",
      "Loss with opt features: 0.0013\n",
      "L1Loss модели на обучающей выборке 1.2620872259140015\n",
      "L1Loss модели на тестовой выборке 1.0835407972335815\n",
      "Loss with opt features: 0.0215\n"
     ]
    },
    {
     "name": "stderr",
     "output_type": "stream",
     "text": [
      "  3%|▎         | 25/927 [02:57<1:41:00,  6.72s/it]"
     ]
    },
    {
     "name": "stdout",
     "output_type": "stream",
     "text": [
      "L1Loss модели на обучающей выборке 0.5104044675827026\n",
      "L1Loss модели на тестовой выборке 0.9754868149757385\n",
      "Loss with opt features: 0.0330\n"
     ]
    },
    {
     "name": "stderr",
     "output_type": "stream",
     "text": [
      "  3%|▎         | 26/927 [03:04<1:40:17,  6.68s/it]"
     ]
    },
    {
     "name": "stdout",
     "output_type": "stream",
     "text": [
      "L1Loss модели на обучающей выборке 0.6232317686080933\n",
      "L1Loss модели на тестовой выборке 0.7700661420822144\n",
      "Loss with opt features: 0.0106\n"
     ]
    },
    {
     "name": "stderr",
     "output_type": "stream",
     "text": [
      "  3%|▎         | 28/927 [03:21<1:55:34,  7.71s/it]"
     ]
    },
    {
     "name": "stdout",
     "output_type": "stream",
     "text": [
      "L1Loss модели на обучающей выборке 0.42770665884017944\n",
      "L1Loss модели на тестовой выборке 0.7137243151664734\n",
      "Loss with opt features: 0.0103\n",
      "L1Loss модели на обучающей выборке 0.7745124697685242\n",
      "L1Loss модели на тестовой выборке 0.9555780291557312\n",
      "Loss with opt features: 0.0209\n"
     ]
    },
    {
     "name": "stderr",
     "output_type": "stream",
     "text": [
      "  3%|▎         | 29/927 [03:28<1:48:48,  7.27s/it]"
     ]
    },
    {
     "name": "stdout",
     "output_type": "stream",
     "text": [
      "L1Loss модели на обучающей выборке 2.257744073867798\n",
      "L1Loss модели на тестовой выборке 2.537003993988037\n",
      "Loss with opt features: 0.0017\n"
     ]
    },
    {
     "name": "stderr",
     "output_type": "stream",
     "text": [
      "  3%|▎         | 31/927 [03:38<1:33:58,  6.29s/it]"
     ]
    },
    {
     "name": "stdout",
     "output_type": "stream",
     "text": [
      "L1Loss модели на обучающей выборке 0.9232056736946106\n",
      "L1Loss модели на тестовой выборке 1.23491370677948\n",
      "Loss with opt features: 0.0151\n",
      "L1Loss модели на обучающей выборке 0.5103589296340942\n",
      "L1Loss модели на тестовой выборке 0.6944515705108643\n"
     ]
    },
    {
     "name": "stderr",
     "output_type": "stream",
     "text": [
      "  3%|▎         | 32/927 [03:46<1:40:54,  6.76s/it]"
     ]
    },
    {
     "name": "stdout",
     "output_type": "stream",
     "text": [
      "Loss with opt features: 0.0466\n",
      "L1Loss модели на обучающей выборке 0.2985093891620636\n",
      "L1Loss модели на тестовой выборке 0.2897234261035919\n",
      "Loss with opt features: 3.0522\n"
     ]
    },
    {
     "name": "stderr",
     "output_type": "stream",
     "text": [
      "  4%|▎         | 33/927 [03:55<1:52:20,  7.54s/it]"
     ]
    },
    {
     "name": "stdout",
     "output_type": "stream",
     "text": [
      "L1Loss модели на обучающей выборке 0.42220231890678406\n",
      "L1Loss модели на тестовой выборке 0.6321576237678528\n"
     ]
    },
    {
     "name": "stderr",
     "output_type": "stream",
     "text": [
      "  4%|▎         | 34/927 [04:04<1:55:15,  7.74s/it]"
     ]
    },
    {
     "name": "stdout",
     "output_type": "stream",
     "text": [
      "Loss with opt features: 0.0078\n"
     ]
    },
    {
     "name": "stderr",
     "output_type": "stream",
     "text": [
      "  4%|▍         | 35/927 [04:08<1:41:53,  6.85s/it]"
     ]
    },
    {
     "name": "stdout",
     "output_type": "stream",
     "text": [
      "L1Loss модели на обучающей выборке 1.104306697845459\n",
      "L1Loss модели на тестовой выборке 1.354310393333435\n",
      "Loss with opt features: 0.0031\n",
      "L1Loss модели на обучающей выборке 0.2846737504005432\n",
      "L1Loss модели на тестовой выборке 0.32008790969848633\n",
      "Loss with opt features: 0.0056\n"
     ]
    },
    {
     "name": "stderr",
     "output_type": "stream",
     "text": [
      "  4%|▍         | 36/927 [04:19<1:57:47,  7.93s/it]"
     ]
    },
    {
     "name": "stdout",
     "output_type": "stream",
     "text": [
      "L1Loss модели на обучающей выборке 0.3945654630661011\n",
      "L1Loss модели на тестовой выборке 0.4248208999633789\n",
      "Loss with opt features: 0.0006\n"
     ]
    },
    {
     "name": "stderr",
     "output_type": "stream",
     "text": [
      "  4%|▍         | 38/927 [04:34<1:51:53,  7.55s/it]"
     ]
    },
    {
     "name": "stdout",
     "output_type": "stream",
     "text": [
      "L1Loss модели на обучающей выборке 0.9904093146324158\n",
      "L1Loss модели на тестовой выборке 1.034729242324829\n",
      "Loss with opt features: 0.0100\n",
      "L1Loss модели на обучающей выборке 0.7983542680740356\n",
      "L1Loss модели на тестовой выборке 0.8459182977676392\n",
      "Loss with opt features: 0.0062\n"
     ]
    },
    {
     "name": "stderr",
     "output_type": "stream",
     "text": [
      "  4%|▍         | 39/927 [04:39<1:40:52,  6.82s/it]"
     ]
    },
    {
     "name": "stdout",
     "output_type": "stream",
     "text": [
      "L1Loss модели на обучающей выборке 0.7003733515739441\n",
      "L1Loss модели на тестовой выборке 0.7309449911117554\n",
      "Loss with opt features: 0.0032\n"
     ]
    },
    {
     "name": "stderr",
     "output_type": "stream",
     "text": [
      "  4%|▍         | 40/927 [04:47<1:46:59,  7.24s/it]"
     ]
    },
    {
     "name": "stdout",
     "output_type": "stream",
     "text": [
      "L1Loss модели на обучающей выборке 0.6546821594238281\n",
      "L1Loss модели на тестовой выборке 0.9124975800514221\n",
      "Loss with opt features: 0.0123\n"
     ]
    },
    {
     "name": "stderr",
     "output_type": "stream",
     "text": [
      "  4%|▍         | 41/927 [04:53<1:38:41,  6.68s/it]"
     ]
    },
    {
     "name": "stdout",
     "output_type": "stream",
     "text": [
      "L1Loss модели на обучающей выборке 0.5374541282653809\n",
      "L1Loss модели на тестовой выборке 0.7889475226402283\n",
      "Loss with opt features: 0.0182\n"
     ]
    },
    {
     "name": "stderr",
     "output_type": "stream",
     "text": [
      "  5%|▍         | 42/927 [04:58<1:33:08,  6.32s/it]"
     ]
    },
    {
     "name": "stdout",
     "output_type": "stream",
     "text": [
      "L1Loss модели на обучающей выборке 0.3624023199081421\n",
      "L1Loss модели на тестовой выборке 0.3872568905353546\n",
      "Loss with opt features: 0.0141\n"
     ]
    },
    {
     "name": "stderr",
     "output_type": "stream",
     "text": [
      "  5%|▍         | 44/927 [05:19<2:06:08,  8.57s/it]"
     ]
    },
    {
     "name": "stdout",
     "output_type": "stream",
     "text": [
      "L1Loss модели на обучающей выборке 0.3593880832195282\n",
      "L1Loss модели на тестовой выборке 0.454460084438324\n",
      "Loss with opt features: 4.6025\n"
     ]
    },
    {
     "name": "stderr",
     "output_type": "stream",
     "text": [
      "  5%|▍         | 45/927 [05:31<2:19:47,  9.51s/it]"
     ]
    },
    {
     "name": "stdout",
     "output_type": "stream",
     "text": [
      "L1Loss модели на обучающей выборке 0.6201919317245483\n",
      "L1Loss модели на тестовой выборке 0.6598923206329346\n",
      "Loss with opt features: 0.0014\n",
      "L1Loss модели на обучающей выборке 0.4368361532688141\n",
      "L1Loss модели на тестовой выборке 0.6798170804977417\n",
      "Loss with opt features: 0.0218\n"
     ]
    },
    {
     "name": "stderr",
     "output_type": "stream",
     "text": [
      "  5%|▍         | 46/927 [05:38<2:07:11,  8.66s/it]"
     ]
    },
    {
     "name": "stdout",
     "output_type": "stream",
     "text": [
      "L1Loss модели на обучающей выборке 0.18744513392448425\n",
      "L1Loss модели на тестовой выборке 0.28130561113357544\n",
      "Loss with opt features: 0.0018\n"
     ]
    },
    {
     "name": "stderr",
     "output_type": "stream",
     "text": [
      "  5%|▌         | 47/927 [05:49<2:19:27,  9.51s/it]"
     ]
    },
    {
     "name": "stdout",
     "output_type": "stream",
     "text": [
      "L1Loss модели на обучающей выборке 0.6563732624053955\n",
      "L1Loss модели на тестовой выборке 0.9480546116828918\n"
     ]
    },
    {
     "name": "stderr",
     "output_type": "stream",
     "text": [
      "  5%|▌         | 48/927 [05:59<2:22:25,  9.72s/it]"
     ]
    },
    {
     "name": "stdout",
     "output_type": "stream",
     "text": [
      "Loss with opt features: 0.0016\n",
      "L1Loss модели на обучающей выборке 0.6259022951126099\n",
      "L1Loss модели на тестовой выборке 1.036423921585083\n"
     ]
    },
    {
     "name": "stderr",
     "output_type": "stream",
     "text": [
      "  5%|▌         | 49/927 [06:08<2:17:03,  9.37s/it]"
     ]
    },
    {
     "name": "stdout",
     "output_type": "stream",
     "text": [
      "Loss with opt features: 0.0181\n",
      "L1Loss модели на обучающей выборке 0.3614905774593353\n",
      "L1Loss модели на тестовой выборке 0.5771358609199524\n",
      "Loss with opt features: 0.0079\n"
     ]
    },
    {
     "name": "stderr",
     "output_type": "stream",
     "text": [
      "  5%|▌         | 50/927 [06:19<2:24:21,  9.88s/it]"
     ]
    },
    {
     "name": "stdout",
     "output_type": "stream",
     "text": [
      "L1Loss модели на обучающей выборке 0.2606099843978882\n",
      "L1Loss модели на тестовой выборке 0.4002350866794586\n",
      "Loss with opt features: 0.0002\n"
     ]
    },
    {
     "name": "stderr",
     "output_type": "stream",
     "text": [
      "  6%|▌         | 51/927 [06:32<2:36:37, 10.73s/it]"
     ]
    },
    {
     "name": "stdout",
     "output_type": "stream",
     "text": [
      "L1Loss модели на обучающей выборке 0.3184490203857422\n",
      "L1Loss модели на тестовой выборке 0.4842306971549988\n",
      "Loss with opt features: 0.0582\n"
     ]
    },
    {
     "name": "stderr",
     "output_type": "stream",
     "text": [
      "  6%|▌         | 52/927 [06:43<2:40:42, 11.02s/it]"
     ]
    },
    {
     "name": "stdout",
     "output_type": "stream",
     "text": [
      "L1Loss модели на обучающей выборке 0.4698474407196045\n",
      "L1Loss модели на тестовой выборке 0.8165044784545898\n",
      "Loss with opt features: 1.3692\n"
     ]
    },
    {
     "name": "stderr",
     "output_type": "stream",
     "text": [
      "  6%|▌         | 53/927 [06:53<2:32:33, 10.47s/it]"
     ]
    },
    {
     "name": "stdout",
     "output_type": "stream",
     "text": [
      "L1Loss модели на обучающей выборке 0.4487192928791046\n",
      "L1Loss модели на тестовой выборке 0.6204322576522827\n",
      "Loss with opt features: 0.0116\n"
     ]
    },
    {
     "name": "stderr",
     "output_type": "stream",
     "text": [
      "  6%|▌         | 54/927 [07:05<2:38:57, 10.93s/it]"
     ]
    },
    {
     "name": "stdout",
     "output_type": "stream",
     "text": [
      "L1Loss модели на обучающей выборке 0.22612838447093964\n",
      "L1Loss модели на тестовой выборке 0.32665663957595825\n",
      "Loss with opt features: 2.1825\n"
     ]
    },
    {
     "name": "stderr",
     "output_type": "stream",
     "text": [
      "  6%|▌         | 55/927 [07:17<2:43:09, 11.23s/it]"
     ]
    },
    {
     "name": "stdout",
     "output_type": "stream",
     "text": [
      "L1Loss модели на обучающей выборке 0.42308226227760315\n",
      "L1Loss модели на тестовой выборке 0.6208426356315613\n",
      "Loss with opt features: 0.0517\n"
     ]
    },
    {
     "name": "stderr",
     "output_type": "stream",
     "text": [
      "  6%|▌         | 56/927 [07:25<2:30:14, 10.35s/it]"
     ]
    },
    {
     "name": "stdout",
     "output_type": "stream",
     "text": [
      "L1Loss модели на обучающей выборке 0.2615088224411011\n",
      "L1Loss модели на тестовой выборке 0.39943960309028625\n",
      "Loss with opt features: 0.0017\n"
     ]
    },
    {
     "name": "stderr",
     "output_type": "stream",
     "text": [
      "  6%|▌         | 57/927 [07:36<2:32:52, 10.54s/it]"
     ]
    },
    {
     "name": "stdout",
     "output_type": "stream",
     "text": [
      "L1Loss модели на обучающей выборке 0.4522128403186798\n",
      "L1Loss модели на тестовой выборке 0.6431657671928406\n",
      "Loss with opt features: 0.0279\n"
     ]
    },
    {
     "name": "stderr",
     "output_type": "stream",
     "text": [
      "  6%|▋         | 58/927 [07:47<2:33:34, 10.60s/it]"
     ]
    },
    {
     "name": "stdout",
     "output_type": "stream",
     "text": [
      "L1Loss модели на обучающей выборке 0.39196106791496277\n",
      "L1Loss модели на тестовой выборке 0.6163946390151978\n",
      "Loss with opt features: 0.0099\n"
     ]
    },
    {
     "name": "stderr",
     "output_type": "stream",
     "text": [
      "  6%|▋         | 59/927 [07:55<2:26:04, 10.10s/it]"
     ]
    },
    {
     "name": "stdout",
     "output_type": "stream",
     "text": [
      "L1Loss модели на обучающей выборке 0.3031204342842102\n",
      "L1Loss модели на тестовой выборке 0.4379638135433197\n",
      "Loss with opt features: 0.0139\n"
     ]
    },
    {
     "name": "stderr",
     "output_type": "stream",
     "text": [
      "  6%|▋         | 60/927 [08:03<2:15:08,  9.35s/it]"
     ]
    },
    {
     "name": "stdout",
     "output_type": "stream",
     "text": [
      "L1Loss модели на обучающей выборке 1.0888726711273193\n",
      "L1Loss модели на тестовой выборке 1.7712610960006714\n",
      "Loss with opt features: 0.0172\n"
     ]
    },
    {
     "name": "stderr",
     "output_type": "stream",
     "text": [
      "  7%|▋         | 61/927 [08:08<1:56:51,  8.10s/it]"
     ]
    },
    {
     "name": "stdout",
     "output_type": "stream",
     "text": [
      "L1Loss модели на обучающей выборке 0.3113280236721039\n",
      "L1Loss модели на тестовой выборке 0.4394344985485077\n",
      "Loss with opt features: 7.4650\n"
     ]
    },
    {
     "name": "stderr",
     "output_type": "stream",
     "text": [
      "  7%|▋         | 62/927 [08:19<2:09:44,  9.00s/it]"
     ]
    },
    {
     "name": "stdout",
     "output_type": "stream",
     "text": [
      "L1Loss модели на обучающей выборке 0.5963863134384155\n",
      "L1Loss модели на тестовой выборке 0.7166957855224609\n"
     ]
    },
    {
     "name": "stderr",
     "output_type": "stream",
     "text": [
      "  7%|▋         | 63/927 [08:30<2:14:34,  9.35s/it]"
     ]
    },
    {
     "name": "stdout",
     "output_type": "stream",
     "text": [
      "Loss with opt features: 4.0842\n"
     ]
    },
    {
     "name": "stderr",
     "output_type": "stream",
     "text": [
      "  7%|▋         | 64/927 [08:42<2:27:30, 10.26s/it]"
     ]
    },
    {
     "name": "stdout",
     "output_type": "stream",
     "text": [
      "L1Loss модели на обучающей выборке 0.35711944103240967\n",
      "L1Loss модели на тестовой выборке 0.5014307498931885\n",
      "Loss with opt features: 1.2520\n",
      "L1Loss модели на обучающей выборке 0.980862557888031\n",
      "L1Loss модели на тестовой выборке 1.105966567993164\n",
      "Loss with opt features: 0.0080\n"
     ]
    },
    {
     "name": "stderr",
     "output_type": "stream",
     "text": [
      "  7%|▋         | 65/927 [08:47<2:05:59,  8.77s/it]"
     ]
    },
    {
     "name": "stdout",
     "output_type": "stream",
     "text": [
      "L1Loss модели на обучающей выборке 0.4413865804672241\n",
      "L1Loss модели на тестовой выборке 0.7191004157066345\n",
      "Loss with opt features: 0.4017\n"
     ]
    },
    {
     "name": "stderr",
     "output_type": "stream",
     "text": [
      "  7%|▋         | 66/927 [08:59<2:18:26,  9.65s/it]"
     ]
    },
    {
     "name": "stdout",
     "output_type": "stream",
     "text": [
      "L1Loss модели на обучающей выборке 0.27189111709594727\n",
      "L1Loss модели на тестовой выборке 0.759425699710846\n",
      "Loss with opt features: 0.0077\n"
     ]
    },
    {
     "name": "stderr",
     "output_type": "stream",
     "text": [
      "  7%|▋         | 67/927 [09:12<2:32:22, 10.63s/it]"
     ]
    },
    {
     "name": "stdout",
     "output_type": "stream",
     "text": [
      "L1Loss модели на обучающей выборке 8.051400833589733e+19\n",
      "L1Loss модели на тестовой выборке 7.529771406749545e+19\n",
      "Loss with opt features: 157400037318459392.0000\n"
     ]
    },
    {
     "name": "stderr",
     "output_type": "stream",
     "text": [
      "  7%|▋         | 68/927 [09:24<2:39:51, 11.17s/it]"
     ]
    },
    {
     "name": "stdout",
     "output_type": "stream",
     "text": [
      "L1Loss модели на обучающей выборке 1.0597307682037354\n",
      "L1Loss модели на тестовой выборке 1.465122103691101\n",
      "Loss with opt features: 0.0150\n"
     ]
    },
    {
     "name": "stderr",
     "output_type": "stream",
     "text": [
      "  7%|▋         | 69/927 [09:29<2:13:11,  9.31s/it]"
     ]
    },
    {
     "name": "stdout",
     "output_type": "stream",
     "text": [
      "L1Loss модели на обучающей выборке 0.6846692562103271\n",
      "L1Loss модели на тестовой выборке 0.984436571598053\n",
      "Loss with opt features: 0.5101\n"
     ]
    },
    {
     "name": "stderr",
     "output_type": "stream",
     "text": [
      "  8%|▊         | 71/927 [09:44<1:56:04,  8.14s/it]"
     ]
    },
    {
     "name": "stdout",
     "output_type": "stream",
     "text": [
      "L1Loss модели на обучающей выборке 3.5769948959350586\n",
      "L1Loss модели на тестовой выборке 3.768150806427002\n",
      "Loss with opt features: 0.0140\n"
     ]
    },
    {
     "name": "stderr",
     "output_type": "stream",
     "text": [
      "  8%|▊         | 72/927 [09:56<2:12:15,  9.28s/it]"
     ]
    },
    {
     "name": "stdout",
     "output_type": "stream",
     "text": [
      "L1Loss модели на обучающей выборке 0.41534334421157837\n",
      "L1Loss модели на тестовой выборке 0.6480766534805298\n",
      "Loss with opt features: 4.1739\n",
      "L1Loss модели на обучающей выборке 1.5309664011001587\n",
      "L1Loss модели на тестовой выборке 2.1307640075683594\n",
      "Loss with opt features: 10.6513\n"
     ]
    },
    {
     "name": "stderr",
     "output_type": "stream",
     "text": [
      "  8%|▊         | 73/927 [10:04<2:07:46,  8.98s/it]"
     ]
    },
    {
     "name": "stdout",
     "output_type": "stream",
     "text": [
      "L1Loss модели на обучающей выборке 0.5497208833694458\n",
      "L1Loss модели на тестовой выборке 0.7776880264282227\n",
      "Loss with opt features: 15.7304\n"
     ]
    },
    {
     "name": "stderr",
     "output_type": "stream",
     "text": [
      "  8%|▊         | 75/927 [10:23<2:09:05,  9.09s/it]"
     ]
    },
    {
     "name": "stdout",
     "output_type": "stream",
     "text": [
      "L1Loss модели на обучающей выборке 0.8113816380500793\n",
      "L1Loss модели на тестовой выборке 1.1298980712890625\n",
      "Loss with opt features: 2.3722\n"
     ]
    },
    {
     "name": "stderr",
     "output_type": "stream",
     "text": [
      "  8%|▊         | 76/927 [10:30<1:58:44,  8.37s/it]"
     ]
    },
    {
     "name": "stdout",
     "output_type": "stream",
     "text": [
      "L1Loss модели на обучающей выборке 1.8153800964355469\n",
      "L1Loss модели на тестовой выборке 2.6705915927886963\n",
      "Loss with opt features: 8.1275\n",
      "L1Loss модели на обучающей выборке 0.5287980437278748\n",
      "L1Loss модели на тестовой выборке 0.8197203278541565\n",
      "Loss with opt features: 0.0003\n"
     ]
    },
    {
     "name": "stderr",
     "output_type": "stream",
     "text": [
      "  8%|▊         | 77/927 [10:38<1:56:50,  8.25s/it]"
     ]
    },
    {
     "name": "stdout",
     "output_type": "stream",
     "text": [
      "L1Loss модели на обучающей выборке 0.49331194162368774\n",
      "L1Loss модели на тестовой выборке 0.7787973880767822\n",
      "Loss with opt features: 0.0536\n"
     ]
    },
    {
     "name": "stderr",
     "output_type": "stream",
     "text": [
      "  8%|▊         | 78/927 [10:48<2:02:41,  8.67s/it]"
     ]
    },
    {
     "name": "stdout",
     "output_type": "stream",
     "text": [
      "L1Loss модели на обучающей выборке 1.2939348220825195\n",
      "L1Loss модели на тестовой выборке 1.8648422956466675\n",
      "Loss with opt features: 1.9311\n"
     ]
    },
    {
     "name": "stderr",
     "output_type": "stream",
     "text": [
      "  9%|▊         | 79/927 [10:55<1:56:08,  8.22s/it]"
     ]
    },
    {
     "name": "stdout",
     "output_type": "stream",
     "text": [
      "L1Loss модели на обучающей выборке 0.5444127917289734\n",
      "L1Loss модели на тестовой выборке 0.614691436290741\n",
      "Loss with opt features: 0.7991\n"
     ]
    },
    {
     "name": "stderr",
     "output_type": "stream",
     "text": [
      "  9%|▊         | 80/927 [11:03<1:56:55,  8.28s/it]"
     ]
    },
    {
     "name": "stdout",
     "output_type": "stream",
     "text": [
      "L1Loss модели на обучающей выборке 0.37916436791419983\n",
      "L1Loss модели на тестовой выборке 0.6762363314628601\n"
     ]
    },
    {
     "name": "stderr",
     "output_type": "stream",
     "text": [
      "  9%|▊         | 81/927 [11:15<2:10:06,  9.23s/it]"
     ]
    },
    {
     "name": "stdout",
     "output_type": "stream",
     "text": [
      "Loss with opt features: 3.7259\n",
      "L1Loss модели на обучающей выборке 0.48374390602111816\n",
      "L1Loss модели на тестовой выборке 0.7858216762542725\n"
     ]
    },
    {
     "name": "stderr",
     "output_type": "stream",
     "text": [
      "  9%|▉         | 82/927 [11:25<2:14:23,  9.54s/it]"
     ]
    },
    {
     "name": "stdout",
     "output_type": "stream",
     "text": [
      "Loss with opt features: 6.8992\n",
      "L1Loss модели на обучающей выборке 0.5954540371894836\n",
      "L1Loss модели на тестовой выборке 0.6725583672523499\n",
      "Loss with opt features: 2.8999\n"
     ]
    },
    {
     "name": "stderr",
     "output_type": "stream",
     "text": [
      "  9%|▉         | 83/927 [11:35<2:14:54,  9.59s/it]"
     ]
    },
    {
     "name": "stdout",
     "output_type": "stream",
     "text": [
      "L1Loss модели на обучающей выборке 2.035867691040039\n",
      "L1Loss модели на тестовой выборке 2.374488353729248\n",
      "Loss with opt features: 0.0002\n"
     ]
    },
    {
     "name": "stderr",
     "output_type": "stream",
     "text": [
      "  9%|▉         | 84/927 [11:39<1:53:44,  8.10s/it]"
     ]
    },
    {
     "name": "stdout",
     "output_type": "stream",
     "text": [
      "L1Loss модели на обучающей выборке 0.7776909470558167\n",
      "L1Loss модели на тестовой выборке 1.3721684217453003\n"
     ]
    },
    {
     "name": "stderr",
     "output_type": "stream",
     "text": [
      "  9%|▉         | 85/927 [11:45<1:42:22,  7.30s/it]"
     ]
    },
    {
     "name": "stdout",
     "output_type": "stream",
     "text": [
      "Loss with opt features: 0.0182\n",
      "L1Loss модели на обучающей выборке 1.462446928024292\n",
      "L1Loss модели на тестовой выборке 1.515815258026123\n",
      "Loss with opt features: 0.0066\n"
     ]
    },
    {
     "name": "stderr",
     "output_type": "stream",
     "text": [
      "  9%|▉         | 86/927 [11:51<1:39:16,  7.08s/it]"
     ]
    },
    {
     "name": "stdout",
     "output_type": "stream",
     "text": [
      "L1Loss модели на обучающей выборке 0.5992199182510376\n",
      "L1Loss модели на тестовой выборке 0.8664000034332275\n"
     ]
    },
    {
     "name": "stderr",
     "output_type": "stream",
     "text": [
      "  9%|▉         | 87/927 [12:01<1:52:08,  8.01s/it]"
     ]
    },
    {
     "name": "stdout",
     "output_type": "stream",
     "text": [
      "Loss with opt features: 0.0765\n",
      "L1Loss модели на обучающей выборке 0.6001066565513611\n",
      "L1Loss модели на тестовой выборке 0.6702397465705872\n",
      "Loss with opt features: 0.0326\n"
     ]
    },
    {
     "name": "stderr",
     "output_type": "stream",
     "text": [
      "  9%|▉         | 88/927 [12:11<1:59:34,  8.55s/it]"
     ]
    },
    {
     "name": "stdout",
     "output_type": "stream",
     "text": [
      "L1Loss модели на обучающей выборке 0.5092511177062988\n",
      "L1Loss модели на тестовой выборке 0.8898820877075195\n"
     ]
    },
    {
     "name": "stderr",
     "output_type": "stream",
     "text": [
      " 10%|▉         | 89/927 [12:20<2:00:17,  8.61s/it]"
     ]
    },
    {
     "name": "stdout",
     "output_type": "stream",
     "text": [
      "Loss with opt features: 0.0113\n",
      "L1Loss модели на обучающей выборке 0.5506064891815186\n",
      "L1Loss модели на тестовой выборке 0.7140018343925476\n",
      "Loss with opt features: 0.9060\n"
     ]
    },
    {
     "name": "stderr",
     "output_type": "stream",
     "text": [
      " 10%|▉         | 90/927 [12:29<2:00:51,  8.66s/it]"
     ]
    },
    {
     "name": "stdout",
     "output_type": "stream",
     "text": [
      "L1Loss модели на обучающей выборке 0.4080544710159302\n",
      "L1Loss модели на тестовой выборке 0.9542604088783264\n",
      "Loss with opt features: 0.0572\n"
     ]
    },
    {
     "name": "stderr",
     "output_type": "stream",
     "text": [
      " 10%|▉         | 91/927 [12:40<2:11:30,  9.44s/it]"
     ]
    },
    {
     "name": "stdout",
     "output_type": "stream",
     "text": [
      "L1Loss модели на обучающей выборке 0.41762644052505493\n",
      "L1Loss модели на тестовой выборке 0.9452754855155945\n",
      "Loss with opt features: 0.0059\n"
     ]
    },
    {
     "name": "stderr",
     "output_type": "stream",
     "text": [
      " 10%|▉         | 92/927 [12:50<2:14:57,  9.70s/it]"
     ]
    },
    {
     "name": "stdout",
     "output_type": "stream",
     "text": [
      "L1Loss модели на обучающей выборке 0.475941926240921\n",
      "L1Loss модели на тестовой выборке 0.611642062664032\n",
      "Loss with opt features: 0.3251\n"
     ]
    },
    {
     "name": "stderr",
     "output_type": "stream",
     "text": [
      " 10%|█         | 93/927 [13:02<2:24:15, 10.38s/it]"
     ]
    },
    {
     "name": "stdout",
     "output_type": "stream",
     "text": [
      "L1Loss модели на обучающей выборке 0.8013234734535217\n",
      "L1Loss модели на тестовой выборке 1.1807835102081299\n"
     ]
    },
    {
     "name": "stderr",
     "output_type": "stream",
     "text": [
      " 10%|█         | 94/927 [13:09<2:11:05,  9.44s/it]"
     ]
    },
    {
     "name": "stdout",
     "output_type": "stream",
     "text": [
      "Loss with opt features: 1.9581\n",
      "L1Loss модели на обучающей выборке 1.0418192148208618\n",
      "L1Loss модели на тестовой выборке 1.2715696096420288\n",
      "Loss with opt features: 4.3613\n"
     ]
    },
    {
     "name": "stderr",
     "output_type": "stream",
     "text": [
      " 10%|█         | 95/927 [13:17<2:01:08,  8.74s/it]"
     ]
    },
    {
     "name": "stdout",
     "output_type": "stream",
     "text": [
      "L1Loss модели на обучающей выборке 0.6850862503051758\n",
      "L1Loss модели на тестовой выборке 0.8637110590934753\n",
      "Loss with opt features: 0.0148\n"
     ]
    },
    {
     "name": "stderr",
     "output_type": "stream",
     "text": [
      " 10%|█         | 96/927 [13:24<1:54:26,  8.26s/it]"
     ]
    },
    {
     "name": "stdout",
     "output_type": "stream",
     "text": [
      "L1Loss модели на обучающей выборке 0.45074406266212463\n",
      "L1Loss модели на тестовой выборке 0.6144014596939087\n",
      "Loss with opt features: 0.0130\n"
     ]
    },
    {
     "name": "stderr",
     "output_type": "stream",
     "text": [
      " 10%|█         | 97/927 [13:32<1:54:20,  8.27s/it]"
     ]
    },
    {
     "name": "stdout",
     "output_type": "stream",
     "text": [
      "L1Loss модели на обучающей выборке 0.9078428745269775\n",
      "L1Loss модели на тестовой выборке 1.5644793510437012\n",
      "Loss with opt features: 0.0929\n"
     ]
    },
    {
     "name": "stderr",
     "output_type": "stream",
     "text": [
      " 11%|█         | 98/927 [13:39<1:49:19,  7.91s/it]"
     ]
    },
    {
     "name": "stdout",
     "output_type": "stream",
     "text": [
      "L1Loss модели на обучающей выборке 0.5776677131652832\n",
      "L1Loss модели на тестовой выборке 0.9271450042724609\n"
     ]
    },
    {
     "name": "stderr",
     "output_type": "stream",
     "text": [
      " 11%|█         | 99/927 [13:49<1:55:35,  8.38s/it]"
     ]
    },
    {
     "name": "stdout",
     "output_type": "stream",
     "text": [
      "Loss with opt features: 4.6093\n",
      "L1Loss модели на обучающей выборке 0.28999990224838257\n",
      "L1Loss модели на тестовой выборке 0.7112290263175964\n"
     ]
    },
    {
     "name": "stderr",
     "output_type": "stream",
     "text": [
      " 11%|█         | 100/927 [14:01<2:13:33,  9.69s/it]"
     ]
    },
    {
     "name": "stdout",
     "output_type": "stream",
     "text": [
      "Loss with opt features: 7.7741\n",
      "L1Loss модели на обучающей выборке 0.5420297980308533\n",
      "L1Loss модели на тестовой выборке 0.7634554505348206\n",
      "Loss with opt features: 2.0835\n"
     ]
    },
    {
     "name": "stderr",
     "output_type": "stream",
     "text": [
      " 11%|█         | 101/927 [14:10<2:11:14,  9.53s/it]"
     ]
    },
    {
     "name": "stdout",
     "output_type": "stream",
     "text": [
      "L1Loss модели на обучающей выборке 0.3743630349636078\n",
      "L1Loss модели на тестовой выборке 0.61064213514328\n",
      "Loss with opt features: 8.6347\n"
     ]
    },
    {
     "name": "stderr",
     "output_type": "stream",
     "text": [
      " 11%|█         | 102/927 [14:23<2:21:41, 10.30s/it]"
     ]
    },
    {
     "name": "stdout",
     "output_type": "stream",
     "text": [
      "L1Loss модели на обучающей выборке 0.5047447681427002\n",
      "L1Loss модели на тестовой выборке 0.9044352173805237\n",
      "Loss with opt features: 18.8053\n"
     ]
    },
    {
     "name": "stderr",
     "output_type": "stream",
     "text": [
      " 11%|█         | 103/927 [14:35<2:31:28, 11.03s/it]"
     ]
    },
    {
     "name": "stdout",
     "output_type": "stream",
     "text": [
      "L1Loss модели на обучающей выборке 0.6787164807319641\n",
      "L1Loss модели на тестовой выборке 0.9948755502700806\n"
     ]
    },
    {
     "name": "stderr",
     "output_type": "stream",
     "text": [
      " 11%|█         | 104/927 [14:40<2:05:05,  9.12s/it]"
     ]
    },
    {
     "name": "stdout",
     "output_type": "stream",
     "text": [
      "Loss with opt features: 0.0071\n",
      "L1Loss модели на обучающей выборке 0.5055436491966248\n",
      "L1Loss модели на тестовой выборке 0.6242344379425049\n",
      "Loss with opt features: 2.3334\n"
     ]
    },
    {
     "name": "stderr",
     "output_type": "stream",
     "text": [
      " 11%|█▏        | 105/927 [14:49<2:03:32,  9.02s/it]"
     ]
    },
    {
     "name": "stdout",
     "output_type": "stream",
     "text": [
      "L1Loss модели на обучающей выборке 2.6115357875823975\n",
      "L1Loss модели на тестовой выборке 2.6962358951568604\n",
      "Loss with opt features: 4.6860\n"
     ]
    },
    {
     "name": "stderr",
     "output_type": "stream",
     "text": [
      " 11%|█▏        | 106/927 [14:54<1:46:46,  7.80s/it]"
     ]
    },
    {
     "name": "stdout",
     "output_type": "stream",
     "text": [
      "L1Loss модели на обучающей выборке 1.6721465587615967\n",
      "L1Loss модели на тестовой выборке 1.9769731760025024\n",
      "Loss with opt features: 8.0662\n"
     ]
    },
    {
     "name": "stderr",
     "output_type": "stream",
     "text": [
      " 12%|█▏        | 107/927 [15:02<1:47:23,  7.86s/it]"
     ]
    },
    {
     "name": "stdout",
     "output_type": "stream",
     "text": [
      "L1Loss модели на обучающей выборке 0.19611166417598724\n",
      "L1Loss модели на тестовой выборке 0.3385460674762726\n",
      "Loss with opt features: 0.0038\n"
     ]
    },
    {
     "name": "stderr",
     "output_type": "stream",
     "text": [
      " 12%|█▏        | 108/927 [15:14<2:06:22,  9.26s/it]"
     ]
    },
    {
     "name": "stdout",
     "output_type": "stream",
     "text": [
      "L1Loss модели на обучающей выборке 0.2614794075489044\n",
      "L1Loss модели на тестовой выборке 0.42170920968055725\n",
      "Loss with opt features: 0.0079\n"
     ]
    },
    {
     "name": "stderr",
     "output_type": "stream",
     "text": [
      " 12%|█▏        | 109/927 [15:25<2:12:03,  9.69s/it]"
     ]
    },
    {
     "name": "stdout",
     "output_type": "stream",
     "text": [
      "L1Loss модели на обучающей выборке 1.830174446105957\n",
      "L1Loss модели на тестовой выборке 1.6364402770996094\n",
      "Loss with opt features: 0.0018\n"
     ]
    },
    {
     "name": "stderr",
     "output_type": "stream",
     "text": [
      " 12%|█▏        | 110/927 [15:30<1:52:22,  8.25s/it]"
     ]
    },
    {
     "name": "stdout",
     "output_type": "stream",
     "text": [
      "L1Loss модели на обучающей выборке 0.13490110635757446\n",
      "L1Loss модели на тестовой выборке 0.17423616349697113\n",
      "Loss with opt features: 9.9605\n"
     ]
    },
    {
     "name": "stderr",
     "output_type": "stream",
     "text": [
      " 12%|█▏        | 111/927 [15:41<2:02:37,  9.02s/it]"
     ]
    },
    {
     "name": "stdout",
     "output_type": "stream",
     "text": [
      "L1Loss модели на обучающей выборке 0.7598369717597961\n",
      "L1Loss модели на тестовой выборке 1.090477466583252\n"
     ]
    },
    {
     "name": "stderr",
     "output_type": "stream",
     "text": [
      " 12%|█▏        | 112/927 [15:51<2:09:27,  9.53s/it]"
     ]
    },
    {
     "name": "stdout",
     "output_type": "stream",
     "text": [
      "Loss with opt features: 17.2243\n",
      "L1Loss модели на обучающей выборке 0.27937185764312744\n",
      "L1Loss модели на тестовой выборке 0.5036343336105347\n",
      "Loss with opt features: 0.0055\n"
     ]
    },
    {
     "name": "stderr",
     "output_type": "stream",
     "text": [
      " 12%|█▏        | 113/927 [16:01<2:11:50,  9.72s/it]"
     ]
    },
    {
     "name": "stdout",
     "output_type": "stream",
     "text": [
      "L1Loss модели на обучающей выборке 0.7700613141059875\n",
      "L1Loss модели на тестовой выборке 0.8962076902389526\n",
      "Loss with opt features: 0.0359\n"
     ]
    },
    {
     "name": "stderr",
     "output_type": "stream",
     "text": [
      " 12%|█▏        | 114/927 [16:09<2:02:38,  9.05s/it]"
     ]
    },
    {
     "name": "stdout",
     "output_type": "stream",
     "text": [
      "L1Loss модели на обучающей выборке 0.18691973388195038\n",
      "L1Loss модели на тестовой выборке 0.3661743104457855\n"
     ]
    },
    {
     "name": "stderr",
     "output_type": "stream",
     "text": [
      " 12%|█▏        | 115/927 [16:21<2:15:35, 10.02s/it]"
     ]
    },
    {
     "name": "stdout",
     "output_type": "stream",
     "text": [
      "Loss with opt features: 9.0711\n",
      "L1Loss модели на обучающей выборке 0.27598124742507935\n",
      "L1Loss модели на тестовой выборке 0.44136664271354675\n"
     ]
    },
    {
     "name": "stderr",
     "output_type": "stream",
     "text": [
      " 13%|█▎        | 116/927 [16:31<2:13:47,  9.90s/it]"
     ]
    },
    {
     "name": "stdout",
     "output_type": "stream",
     "text": [
      "Loss with opt features: 0.3259\n",
      "L1Loss модели на обучающей выборке 2.0428223609924316\n",
      "L1Loss модели на тестовой выборке 2.5345866680145264\n"
     ]
    },
    {
     "name": "stderr",
     "output_type": "stream",
     "text": [
      " 13%|█▎        | 117/927 [16:37<1:59:22,  8.84s/it]"
     ]
    },
    {
     "name": "stdout",
     "output_type": "stream",
     "text": [
      "Loss with opt features: 6.2939\n",
      "L1Loss модели на обучающей выборке 0.23897762596607208\n",
      "L1Loss модели на тестовой выборке 0.4145846962928772\n"
     ]
    },
    {
     "name": "stderr",
     "output_type": "stream",
     "text": [
      " 13%|█▎        | 118/927 [16:50<2:13:18,  9.89s/it]"
     ]
    },
    {
     "name": "stdout",
     "output_type": "stream",
     "text": [
      "Loss with opt features: 1.3011\n",
      "L1Loss модели на обучающей выборке 0.3440631628036499\n",
      "L1Loss модели на тестовой выборке 0.5779922604560852\n"
     ]
    },
    {
     "name": "stderr",
     "output_type": "stream",
     "text": [
      " 13%|█▎        | 119/927 [17:02<2:21:50, 10.53s/it]"
     ]
    },
    {
     "name": "stdout",
     "output_type": "stream",
     "text": [
      "Loss with opt features: 5.9105\n",
      "L1Loss модели на обучающей выборке 0.5896539092063904\n",
      "L1Loss модели на тестовой выборке 0.7561017274856567\n",
      "Loss with opt features: 4.5569\n"
     ]
    },
    {
     "name": "stderr",
     "output_type": "stream",
     "text": [
      " 13%|█▎        | 120/927 [17:10<2:15:03, 10.04s/it]"
     ]
    },
    {
     "name": "stdout",
     "output_type": "stream",
     "text": [
      "L1Loss модели на обучающей выборке 2.4110798835754395\n",
      "L1Loss модели на тестовой выборке 2.9752116203308105\n",
      "Loss with opt features: 0.0582\n"
     ]
    },
    {
     "name": "stderr",
     "output_type": "stream",
     "text": [
      " 13%|█▎        | 121/927 [17:17<2:01:00,  9.01s/it]"
     ]
    },
    {
     "name": "stdout",
     "output_type": "stream",
     "text": [
      "L1Loss модели на обучающей выборке 0.44900181889533997\n",
      "L1Loss модели на тестовой выборке 0.587165117263794\n",
      "Loss with opt features: 0.0104\n"
     ]
    },
    {
     "name": "stderr",
     "output_type": "stream",
     "text": [
      " 13%|█▎        | 123/927 [17:28<1:34:48,  7.07s/it]"
     ]
    },
    {
     "name": "stdout",
     "output_type": "stream",
     "text": [
      "L1Loss модели на обучающей выборке 1.1563470363616943\n",
      "L1Loss модели на тестовой выборке 1.3999199867248535\n",
      "Loss with opt features: 0.0255\n",
      "L1Loss модели на обучающей выборке 0.7462400197982788\n",
      "L1Loss модели на тестовой выборке 0.7564312815666199\n"
     ]
    },
    {
     "name": "stderr",
     "output_type": "stream",
     "text": [
      " 13%|█▎        | 124/927 [17:33<1:25:48,  6.41s/it]"
     ]
    },
    {
     "name": "stdout",
     "output_type": "stream",
     "text": [
      "Loss with opt features: 0.0172\n",
      "L1Loss модели на обучающей выборке 0.32516127824783325\n",
      "L1Loss модели на тестовой выборке 0.5208664536476135\n"
     ]
    },
    {
     "name": "stderr",
     "output_type": "stream",
     "text": [
      " 13%|█▎        | 125/927 [17:41<1:32:44,  6.94s/it]"
     ]
    },
    {
     "name": "stdout",
     "output_type": "stream",
     "text": [
      "Loss with opt features: 0.0002\n",
      "L1Loss модели на обучающей выборке 0.09068239480257034\n",
      "L1Loss модели на тестовой выборке 0.12644004821777344\n"
     ]
    },
    {
     "name": "stderr",
     "output_type": "stream",
     "text": [
      " 14%|█▎        | 126/927 [17:54<1:55:59,  8.69s/it]"
     ]
    },
    {
     "name": "stdout",
     "output_type": "stream",
     "text": [
      "Loss with opt features: 0.0032\n",
      "L1Loss модели на обучающей выборке 0.3377753794193268\n",
      "L1Loss модели на тестовой выборке 0.3684651553630829\n"
     ]
    },
    {
     "name": "stderr",
     "output_type": "stream",
     "text": [
      " 14%|█▎        | 127/927 [18:01<1:47:52,  8.09s/it]"
     ]
    },
    {
     "name": "stdout",
     "output_type": "stream",
     "text": [
      "Loss with opt features: 0.0038\n",
      "L1Loss модели на обучающей выборке 0.07793457806110382\n",
      "L1Loss модели на тестовой выборке 0.10820332169532776\n"
     ]
    },
    {
     "name": "stderr",
     "output_type": "stream",
     "text": [
      " 14%|█▍        | 128/927 [18:14<2:09:07,  9.70s/it]"
     ]
    },
    {
     "name": "stdout",
     "output_type": "stream",
     "text": [
      "Loss with opt features: 0.0022\n",
      "L1Loss модели на обучающей выборке 0.1964126080274582\n",
      "L1Loss модели на тестовой выборке 0.21665392816066742\n"
     ]
    },
    {
     "name": "stderr",
     "output_type": "stream",
     "text": [
      " 14%|█▍        | 129/927 [18:24<2:10:31,  9.81s/it]"
     ]
    },
    {
     "name": "stdout",
     "output_type": "stream",
     "text": [
      "Loss with opt features: 0.0033\n",
      "L1Loss модели на обучающей выборке 1.4858931303024292\n",
      "L1Loss модели на тестовой выборке 1.6564216613769531\n",
      "Loss with opt features: 0.0377\n"
     ]
    },
    {
     "name": "stderr",
     "output_type": "stream",
     "text": [
      " 14%|█▍        | 130/927 [18:28<1:48:14,  8.15s/it]"
     ]
    },
    {
     "name": "stdout",
     "output_type": "stream",
     "text": [
      "L1Loss модели на обучающей выборке 0.1499963253736496\n",
      "L1Loss модели на тестовой выборке 0.2160205990076065\n",
      "Loss with opt features: 0.0064\n"
     ]
    },
    {
     "name": "stderr",
     "output_type": "stream",
     "text": [
      " 14%|█▍        | 131/927 [18:36<1:48:05,  8.15s/it]"
     ]
    },
    {
     "name": "stdout",
     "output_type": "stream",
     "text": [
      "L1Loss модели на обучающей выборке 0.32661524415016174\n",
      "L1Loss модели на тестовой выборке 0.3873656690120697\n",
      "Loss with opt features: 0.0217\n"
     ]
    },
    {
     "name": "stderr",
     "output_type": "stream",
     "text": [
      " 14%|█▍        | 132/927 [18:44<1:45:41,  7.98s/it]"
     ]
    },
    {
     "name": "stdout",
     "output_type": "stream",
     "text": [
      "L1Loss модели на обучающей выборке 0.9129202961921692\n",
      "L1Loss модели на тестовой выборке 0.8919335007667542\n",
      "Loss with opt features: 0.0211\n"
     ]
    },
    {
     "name": "stderr",
     "output_type": "stream",
     "text": [
      " 14%|█▍        | 133/927 [18:49<1:34:54,  7.17s/it]"
     ]
    },
    {
     "name": "stdout",
     "output_type": "stream",
     "text": [
      "L1Loss модели на обучающей выборке 0.21867309510707855\n",
      "L1Loss модели на тестовой выборке 0.23490241169929504\n",
      "Loss with opt features: 0.0075\n"
     ]
    },
    {
     "name": "stderr",
     "output_type": "stream",
     "text": [
      " 14%|█▍        | 134/927 [18:58<1:40:21,  7.59s/it]"
     ]
    },
    {
     "name": "stdout",
     "output_type": "stream",
     "text": [
      "L1Loss модели на обучающей выборке 0.15140068531036377\n",
      "L1Loss модели на тестовой выборке 0.20523905754089355\n",
      "Loss with opt features: 0.0023\n"
     ]
    },
    {
     "name": "stderr",
     "output_type": "stream",
     "text": [
      " 15%|█▍        | 135/927 [19:08<1:48:59,  8.26s/it]"
     ]
    },
    {
     "name": "stdout",
     "output_type": "stream",
     "text": [
      "L1Loss модели на обучающей выборке 0.7255626320838928\n",
      "L1Loss модели на тестовой выборке 0.8986580967903137\n",
      "Loss with opt features: 0.0197\n"
     ]
    },
    {
     "name": "stderr",
     "output_type": "stream",
     "text": [
      " 15%|█▍        | 136/927 [19:13<1:38:35,  7.48s/it]"
     ]
    },
    {
     "name": "stdout",
     "output_type": "stream",
     "text": [
      "L1Loss модели на обучающей выборке 0.2330981194972992\n",
      "L1Loss модели на тестовой выборке 0.30255964398384094\n",
      "Loss with opt features: 0.0041\n"
     ]
    },
    {
     "name": "stderr",
     "output_type": "stream",
     "text": [
      " 15%|█▍        | 137/927 [19:21<1:39:52,  7.59s/it]"
     ]
    },
    {
     "name": "stdout",
     "output_type": "stream",
     "text": [
      "L1Loss модели на обучающей выборке 0.2814162075519562\n",
      "L1Loss модели на тестовой выборке 0.37999406456947327\n",
      "Loss with opt features: 0.0148\n"
     ]
    },
    {
     "name": "stderr",
     "output_type": "stream",
     "text": [
      " 15%|█▍        | 138/927 [19:31<1:48:30,  8.25s/it]"
     ]
    },
    {
     "name": "stdout",
     "output_type": "stream",
     "text": [
      "L1Loss модели на обучающей выборке 1.2199724912643433\n",
      "L1Loss модели на тестовой выборке 1.3338731527328491\n",
      "Loss with opt features: 0.0017\n"
     ]
    },
    {
     "name": "stderr",
     "output_type": "stream",
     "text": [
      " 15%|█▍        | 139/927 [19:35<1:32:16,  7.03s/it]"
     ]
    },
    {
     "name": "stdout",
     "output_type": "stream",
     "text": [
      "L1Loss модели на обучающей выборке 0.3290642201900482\n",
      "L1Loss модели на тестовой выборке 0.45552101731300354\n",
      "Loss with opt features: 0.0047\n"
     ]
    },
    {
     "name": "stderr",
     "output_type": "stream",
     "text": [
      " 15%|█▌        | 140/927 [19:41<1:27:04,  6.64s/it]"
     ]
    },
    {
     "name": "stdout",
     "output_type": "stream",
     "text": [
      "L1Loss модели на обучающей выборке 0.15327386558055878\n",
      "L1Loss модели на тестовой выборке 0.16767063736915588\n"
     ]
    },
    {
     "name": "stderr",
     "output_type": "stream",
     "text": [
      " 15%|█▌        | 141/927 [19:48<1:30:23,  6.90s/it]"
     ]
    },
    {
     "name": "stdout",
     "output_type": "stream",
     "text": [
      "Loss with opt features: 0.0052\n",
      "L1Loss модели на обучающей выборке 0.14548471570014954\n",
      "L1Loss модели на тестовой выборке 0.1822371631860733\n",
      "Loss with opt features: 0.0090\n"
     ]
    },
    {
     "name": "stderr",
     "output_type": "stream",
     "text": [
      " 15%|█▌        | 142/927 [19:59<1:45:08,  8.04s/it]"
     ]
    },
    {
     "name": "stdout",
     "output_type": "stream",
     "text": [
      "L1Loss модели на обучающей выборке 0.320429265499115\n",
      "L1Loss модели на тестовой выборке 0.3824896216392517\n"
     ]
    },
    {
     "name": "stderr",
     "output_type": "stream",
     "text": [
      " 15%|█▌        | 143/927 [20:06<1:38:50,  7.56s/it]"
     ]
    },
    {
     "name": "stdout",
     "output_type": "stream",
     "text": [
      "Loss with opt features: 0.0125\n",
      "L1Loss модели на обучающей выборке 0.7353702783584595\n",
      "L1Loss модели на тестовой выборке 1.389731526374817\n"
     ]
    },
    {
     "name": "stderr",
     "output_type": "stream",
     "text": [
      " 16%|█▌        | 144/927 [20:12<1:32:53,  7.12s/it]"
     ]
    },
    {
     "name": "stdout",
     "output_type": "stream",
     "text": [
      "Loss with opt features: 0.0145\n",
      "L1Loss модели на обучающей выборке 0.3510643541812897\n",
      "L1Loss модели на тестовой выборке 0.514886200428009\n"
     ]
    },
    {
     "name": "stderr",
     "output_type": "stream",
     "text": [
      " 16%|█▌        | 145/927 [20:18<1:31:12,  7.00s/it]"
     ]
    },
    {
     "name": "stdout",
     "output_type": "stream",
     "text": [
      "Loss with opt features: 0.0004\n",
      "L1Loss модели на обучающей выборке 1.2161253690719604\n",
      "L1Loss модели на тестовой выборке 1.2570960521697998\n",
      "Loss with opt features: 0.0015\n"
     ]
    },
    {
     "name": "stderr",
     "output_type": "stream",
     "text": [
      " 16%|█▌        | 146/927 [20:23<1:20:38,  6.20s/it]"
     ]
    },
    {
     "name": "stdout",
     "output_type": "stream",
     "text": [
      "L1Loss модели на обучающей выборке 0.31641650199890137\n",
      "L1Loss модели на тестовой выборке 0.47552961111068726\n",
      "Loss with opt features: 0.0149\n"
     ]
    },
    {
     "name": "stderr",
     "output_type": "stream",
     "text": [
      " 16%|█▌        | 147/927 [20:29<1:21:18,  6.25s/it]"
     ]
    },
    {
     "name": "stdout",
     "output_type": "stream",
     "text": [
      "L1Loss модели на обучающей выборке 0.6885376572608948\n",
      "L1Loss модели на тестовой выборке 1.137196660041809\n",
      "Loss with opt features: 0.0007\n"
     ]
    },
    {
     "name": "stderr",
     "output_type": "stream",
     "text": [
      " 16%|█▌        | 148/927 [20:34<1:15:16,  5.80s/it]"
     ]
    },
    {
     "name": "stdout",
     "output_type": "stream",
     "text": [
      "L1Loss модели на обучающей выборке 0.0653793066740036\n",
      "L1Loss модели на тестовой выборке 0.07466669380664825\n",
      "Loss with opt features: 0.0020\n"
     ]
    },
    {
     "name": "stderr",
     "output_type": "stream",
     "text": [
      " 16%|█▌        | 149/927 [20:44<1:33:36,  7.22s/it]"
     ]
    },
    {
     "name": "stdout",
     "output_type": "stream",
     "text": [
      "L1Loss модели на обучающей выборке 0.4162467420101166\n",
      "L1Loss модели на тестовой выборке 0.5123810768127441\n",
      "Loss with opt features: 0.0038\n"
     ]
    },
    {
     "name": "stderr",
     "output_type": "stream",
     "text": [
      " 16%|█▌        | 150/927 [20:50<1:26:26,  6.68s/it]"
     ]
    },
    {
     "name": "stdout",
     "output_type": "stream",
     "text": [
      "L1Loss модели на обучающей выборке 0.13345010578632355\n",
      "L1Loss модели на тестовой выборке 0.19999836385250092\n",
      "Loss with opt features: 0.0009\n"
     ]
    },
    {
     "name": "stderr",
     "output_type": "stream",
     "text": [
      " 16%|█▋        | 151/927 [20:58<1:32:24,  7.14s/it]"
     ]
    },
    {
     "name": "stdout",
     "output_type": "stream",
     "text": [
      "L1Loss модели на обучающей выборке 0.06378721445798874\n",
      "L1Loss модели на тестовой выборке 0.10855048149824142\n",
      "Loss with opt features: 0.0041\n"
     ]
    },
    {
     "name": "stderr",
     "output_type": "stream",
     "text": [
      " 16%|█▋        | 152/927 [21:07<1:38:26,  7.62s/it]"
     ]
    },
    {
     "name": "stdout",
     "output_type": "stream",
     "text": [
      "L1Loss модели на обучающей выборке 0.29100051522254944\n",
      "L1Loss модели на тестовой выборке 0.33854734897613525\n",
      "Loss with opt features: 0.0085\n"
     ]
    },
    {
     "name": "stderr",
     "output_type": "stream",
     "text": [
      " 17%|█▋        | 153/927 [21:14<1:38:37,  7.65s/it]"
     ]
    },
    {
     "name": "stdout",
     "output_type": "stream",
     "text": [
      "L1Loss модели на обучающей выборке 0.4399268627166748\n",
      "L1Loss модели на тестовой выборке 0.5636748671531677\n"
     ]
    },
    {
     "name": "stderr",
     "output_type": "stream",
     "text": [
      " 17%|█▋        | 154/927 [21:19<1:28:18,  6.85s/it]"
     ]
    },
    {
     "name": "stdout",
     "output_type": "stream",
     "text": [
      "Loss with opt features: 0.0183\n",
      "L1Loss модели на обучающей выборке 1.2730295658111572\n",
      "L1Loss модели на тестовой выборке 1.5716798305511475\n"
     ]
    },
    {
     "name": "stderr",
     "output_type": "stream",
     "text": [
      " 17%|█▋        | 155/927 [21:25<1:21:30,  6.33s/it]"
     ]
    },
    {
     "name": "stdout",
     "output_type": "stream",
     "text": [
      "Loss with opt features: 0.0199\n",
      "L1Loss модели на обучающей выборке 0.15827742218971252\n",
      "L1Loss модели на тестовой выборке 0.27200424671173096\n"
     ]
    },
    {
     "name": "stderr",
     "output_type": "stream",
     "text": [
      " 17%|█▋        | 156/927 [21:35<1:36:22,  7.50s/it]"
     ]
    },
    {
     "name": "stdout",
     "output_type": "stream",
     "text": [
      "Loss with opt features: 0.0154\n",
      "L1Loss модели на обучающей выборке 1.145154356956482\n",
      "L1Loss модели на тестовой выборке 1.4113796949386597\n"
     ]
    },
    {
     "name": "stderr",
     "output_type": "stream",
     "text": [
      " 17%|█▋        | 157/927 [21:39<1:24:42,  6.60s/it]"
     ]
    },
    {
     "name": "stdout",
     "output_type": "stream",
     "text": [
      "Loss with opt features: 0.0312\n",
      "L1Loss модели на обучающей выборке 0.6383087038993835\n",
      "L1Loss модели на тестовой выборке 0.6311423182487488\n",
      "Loss with opt features: 0.0052\n"
     ]
    },
    {
     "name": "stderr",
     "output_type": "stream",
     "text": [
      " 17%|█▋        | 158/927 [21:44<1:19:06,  6.17s/it]"
     ]
    },
    {
     "name": "stdout",
     "output_type": "stream",
     "text": [
      "L1Loss модели на обучающей выборке 1.3387271165847778\n",
      "L1Loss модели на тестовой выборке 1.397613763809204\n"
     ]
    },
    {
     "name": "stderr",
     "output_type": "stream",
     "text": [
      " 17%|█▋        | 159/927 [21:49<1:12:59,  5.70s/it]"
     ]
    },
    {
     "name": "stdout",
     "output_type": "stream",
     "text": [
      "Loss with opt features: 0.0236\n",
      "L1Loss модели на обучающей выборке 0.09373302757740021\n",
      "L1Loss модели на тестовой выборке 0.13130030035972595\n"
     ]
    },
    {
     "name": "stderr",
     "output_type": "stream",
     "text": [
      " 17%|█▋        | 160/927 [22:01<1:35:38,  7.48s/it]"
     ]
    },
    {
     "name": "stdout",
     "output_type": "stream",
     "text": [
      "Loss with opt features: 0.0004\n",
      "L1Loss модели на обучающей выборке 0.6369878649711609\n",
      "L1Loss модели на тестовой выборке 1.0191435813903809\n",
      "Loss with opt features: 0.0035\n"
     ]
    },
    {
     "name": "stderr",
     "output_type": "stream",
     "text": [
      " 17%|█▋        | 161/927 [22:06<1:27:39,  6.87s/it]"
     ]
    },
    {
     "name": "stdout",
     "output_type": "stream",
     "text": [
      "L1Loss модели на обучающей выборке 0.6170802116394043\n",
      "L1Loss модели на тестовой выборке 0.6285326480865479\n",
      "Loss with opt features: 0.0069\n"
     ]
    },
    {
     "name": "stderr",
     "output_type": "stream",
     "text": [
      " 17%|█▋        | 162/927 [22:11<1:19:21,  6.22s/it]"
     ]
    },
    {
     "name": "stdout",
     "output_type": "stream",
     "text": [
      "L1Loss модели на обучающей выборке 0.6938197016716003\n",
      "L1Loss модели на тестовой выборке 0.8553131222724915\n",
      "Loss with opt features: 0.0166\n"
     ]
    },
    {
     "name": "stderr",
     "output_type": "stream",
     "text": [
      " 18%|█▊        | 163/927 [22:17<1:18:04,  6.13s/it]"
     ]
    },
    {
     "name": "stdout",
     "output_type": "stream",
     "text": [
      "L1Loss модели на обучающей выборке 0.15337251126766205\n",
      "L1Loss модели на тестовой выборке 0.1998879760503769\n",
      "Loss with opt features: 0.0032\n"
     ]
    },
    {
     "name": "stderr",
     "output_type": "stream",
     "text": [
      " 18%|█▊        | 164/927 [22:27<1:33:23,  7.34s/it]"
     ]
    },
    {
     "name": "stdout",
     "output_type": "stream",
     "text": [
      "L1Loss модели на обучающей выборке 0.5873705148696899\n",
      "L1Loss модели на тестовой выборке 0.48543521761894226\n",
      "Loss with opt features: 0.0191\n"
     ]
    },
    {
     "name": "stderr",
     "output_type": "stream",
     "text": [
      " 18%|█▊        | 165/927 [22:33<1:26:50,  6.84s/it]"
     ]
    },
    {
     "name": "stdout",
     "output_type": "stream",
     "text": [
      "L1Loss модели на обучающей выборке 0.8409255146980286\n",
      "L1Loss модели на тестовой выборке 0.8939347863197327\n",
      "Loss with opt features: 0.0009\n"
     ]
    },
    {
     "name": "stderr",
     "output_type": "stream",
     "text": [
      " 18%|█▊        | 166/927 [22:38<1:22:59,  6.54s/it]"
     ]
    },
    {
     "name": "stdout",
     "output_type": "stream",
     "text": [
      "L1Loss модели на обучающей выборке 0.4296218454837799\n",
      "L1Loss модели на тестовой выборке 0.672092616558075\n"
     ]
    },
    {
     "name": "stderr",
     "output_type": "stream",
     "text": [
      " 18%|█▊        | 167/927 [22:46<1:24:56,  6.71s/it]"
     ]
    },
    {
     "name": "stdout",
     "output_type": "stream",
     "text": [
      "Loss with opt features: 0.0073\n",
      "L1Loss модели на обучающей выборке 0.1997479796409607\n",
      "L1Loss модели на тестовой выборке 0.2412019670009613\n",
      "Loss with opt features: 0.0121\n"
     ]
    },
    {
     "name": "stderr",
     "output_type": "stream",
     "text": [
      " 18%|█▊        | 168/927 [22:53<1:28:37,  7.01s/it]"
     ]
    },
    {
     "name": "stdout",
     "output_type": "stream",
     "text": [
      "L1Loss модели на обучающей выборке 0.16429713368415833\n",
      "L1Loss модели на тестовой выборке 0.23365922272205353\n",
      "Loss with opt features: 0.0139\n"
     ]
    },
    {
     "name": "stderr",
     "output_type": "stream",
     "text": [
      " 18%|█▊        | 169/927 [23:03<1:37:37,  7.73s/it]"
     ]
    },
    {
     "name": "stdout",
     "output_type": "stream",
     "text": [
      "L1Loss модели на обучающей выборке 0.004957100842148066\n",
      "L1Loss модели на тестовой выборке 0.008222674019634724\n"
     ]
    },
    {
     "name": "stderr",
     "output_type": "stream",
     "text": [
      " 18%|█▊        | 170/927 [23:16<1:58:19,  9.38s/it]"
     ]
    },
    {
     "name": "stdout",
     "output_type": "stream",
     "text": [
      "Loss with opt features: 0.0002\n",
      "L1Loss модели на обучающей выборке 0.1545957326889038\n",
      "L1Loss модели на тестовой выборке 0.2140527218580246\n"
     ]
    },
    {
     "name": "stderr",
     "output_type": "stream",
     "text": [
      " 18%|█▊        | 171/927 [23:25<1:58:12,  9.38s/it]"
     ]
    },
    {
     "name": "stdout",
     "output_type": "stream",
     "text": [
      "Loss with opt features: 0.0038\n",
      "L1Loss модели на обучающей выборке 0.22696061432361603\n",
      "L1Loss модели на тестовой выборке 0.397795706987381\n",
      "Loss with opt features: 0.0144\n"
     ]
    },
    {
     "name": "stderr",
     "output_type": "stream",
     "text": [
      " 19%|█▊        | 172/927 [23:33<1:52:33,  8.95s/it]"
     ]
    },
    {
     "name": "stdout",
     "output_type": "stream",
     "text": [
      "L1Loss модели на обучающей выборке 0.30711787939071655\n",
      "L1Loss модели на тестовой выборке 0.2834159731864929\n"
     ]
    },
    {
     "name": "stderr",
     "output_type": "stream",
     "text": [
      " 19%|█▊        | 173/927 [23:43<1:57:08,  9.32s/it]"
     ]
    },
    {
     "name": "stdout",
     "output_type": "stream",
     "text": [
      "Loss with opt features: 0.0002\n",
      "L1Loss модели на обучающей выборке 0.18232613801956177\n",
      "L1Loss модели на тестовой выборке 0.2425372302532196\n"
     ]
    },
    {
     "name": "stderr",
     "output_type": "stream",
     "text": [
      " 19%|█▉        | 174/927 [23:54<2:01:24,  9.67s/it]"
     ]
    },
    {
     "name": "stdout",
     "output_type": "stream",
     "text": [
      "Loss with opt features: 0.0093\n",
      "L1Loss модели на обучающей выборке 1.0031393766403198\n",
      "L1Loss модели на тестовой выборке 0.8969140648841858\n",
      "Loss with opt features: 0.0176\n"
     ]
    },
    {
     "name": "stderr",
     "output_type": "stream",
     "text": [
      " 19%|█▉        | 175/927 [23:58<1:40:34,  8.03s/it]"
     ]
    },
    {
     "name": "stdout",
     "output_type": "stream",
     "text": [
      "L1Loss модели на обучающей выборке 0.1783808022737503\n",
      "L1Loss модели на тестовой выборке 0.23272791504859924\n",
      "Loss with opt features: 0.0054\n"
     ]
    },
    {
     "name": "stderr",
     "output_type": "stream",
     "text": [
      " 19%|█▉        | 176/927 [24:07<1:42:44,  8.21s/it]"
     ]
    },
    {
     "name": "stdout",
     "output_type": "stream",
     "text": [
      "L1Loss модели на обучающей выборке 1.671501874923706\n",
      "L1Loss модели на тестовой выборке 1.7600924968719482\n",
      "Loss with opt features: 0.0074\n"
     ]
    },
    {
     "name": "stderr",
     "output_type": "stream",
     "text": [
      " 19%|█▉        | 177/927 [24:11<1:28:42,  7.10s/it]"
     ]
    },
    {
     "name": "stdout",
     "output_type": "stream",
     "text": [
      "L1Loss модели на обучающей выборке 0.34966734051704407\n",
      "L1Loss модели на тестовой выборке 0.5027322173118591\n",
      "Loss with opt features: 0.0127\n"
     ]
    },
    {
     "name": "stderr",
     "output_type": "stream",
     "text": [
      " 19%|█▉        | 178/927 [24:18<1:25:44,  6.87s/it]"
     ]
    },
    {
     "name": "stdout",
     "output_type": "stream",
     "text": [
      "L1Loss модели на обучающей выборке 0.1304684281349182\n",
      "L1Loss модели на тестовой выборке 0.12956343591213226\n",
      "Loss with opt features: 0.0002\n"
     ]
    },
    {
     "name": "stderr",
     "output_type": "stream",
     "text": [
      " 19%|█▉        | 179/927 [24:27<1:35:48,  7.69s/it]"
     ]
    },
    {
     "name": "stdout",
     "output_type": "stream",
     "text": [
      "L1Loss модели на обучающей выборке 0.641059160232544\n",
      "L1Loss модели на тестовой выборке 0.5971024632453918\n",
      "Loss with opt features: 0.0060\n"
     ]
    },
    {
     "name": "stderr",
     "output_type": "stream",
     "text": [
      " 19%|█▉        | 180/927 [24:34<1:30:45,  7.29s/it]"
     ]
    },
    {
     "name": "stdout",
     "output_type": "stream",
     "text": [
      "L1Loss модели на обучающей выборке 0.24377739429473877\n",
      "L1Loss модели на тестовой выборке 0.2527681887149811\n"
     ]
    },
    {
     "name": "stderr",
     "output_type": "stream",
     "text": [
      " 20%|█▉        | 181/927 [24:42<1:35:55,  7.72s/it]"
     ]
    },
    {
     "name": "stdout",
     "output_type": "stream",
     "text": [
      "Loss with opt features: 0.0167\n",
      "L1Loss модели на обучающей выборке 0.2577950656414032\n",
      "L1Loss модели на тестовой выборке 0.311844140291214\n",
      "Loss with opt features: 0.0070\n"
     ]
    },
    {
     "name": "stderr",
     "output_type": "stream",
     "text": [
      " 20%|█▉        | 182/927 [24:50<1:37:02,  7.82s/it]"
     ]
    },
    {
     "name": "stdout",
     "output_type": "stream",
     "text": [
      "L1Loss модели на обучающей выборке 0.27880311012268066\n",
      "L1Loss модели на тестовой выборке 0.3408343493938446\n",
      "Loss with opt features: 0.0056\n"
     ]
    },
    {
     "name": "stderr",
     "output_type": "stream",
     "text": [
      " 20%|█▉        | 183/927 [24:58<1:36:56,  7.82s/it]"
     ]
    },
    {
     "name": "stdout",
     "output_type": "stream",
     "text": [
      "L1Loss модели на обучающей выборке 0.5766264200210571\n",
      "L1Loss модели на тестовой выборке 0.6730387210845947\n"
     ]
    },
    {
     "name": "stderr",
     "output_type": "stream",
     "text": [
      " 20%|█▉        | 184/927 [25:04<1:28:19,  7.13s/it]"
     ]
    },
    {
     "name": "stdout",
     "output_type": "stream",
     "text": [
      "Loss with opt features: 0.0043\n",
      "L1Loss модели на обучающей выборке 0.9702996611595154\n",
      "L1Loss модели на тестовой выборке 0.9569985270500183\n",
      "Loss with opt features: 0.0077\n"
     ]
    },
    {
     "name": "stderr",
     "output_type": "stream",
     "text": [
      " 20%|█▉        | 185/927 [25:09<1:20:54,  6.54s/it]"
     ]
    },
    {
     "name": "stdout",
     "output_type": "stream",
     "text": [
      "L1Loss модели на обучающей выборке 0.04613876715302467\n",
      "L1Loss модели на тестовой выборке 0.09107775241136551\n",
      "Loss with opt features: 0.0002\n"
     ]
    },
    {
     "name": "stderr",
     "output_type": "stream",
     "text": [
      " 20%|██        | 186/927 [25:19<1:34:55,  7.69s/it]"
     ]
    },
    {
     "name": "stdout",
     "output_type": "stream",
     "text": [
      "L1Loss модели на обучающей выборке 0.6972923278808594\n",
      "L1Loss модели на тестовой выборке 0.7241422533988953\n",
      "Loss with opt features: 0.0310\n"
     ]
    },
    {
     "name": "stderr",
     "output_type": "stream",
     "text": [
      " 20%|██        | 187/927 [25:25<1:28:31,  7.18s/it]"
     ]
    },
    {
     "name": "stdout",
     "output_type": "stream",
     "text": [
      "L1Loss модели на обучающей выборке 0.09278097003698349\n",
      "L1Loss модели на тестовой выборке 0.12869161367416382\n",
      "Loss with opt features: 0.0034\n"
     ]
    },
    {
     "name": "stderr",
     "output_type": "stream",
     "text": [
      " 20%|██        | 188/927 [25:35<1:36:36,  7.84s/it]"
     ]
    },
    {
     "name": "stdout",
     "output_type": "stream",
     "text": [
      "L1Loss модели на обучающей выборке 0.4805243909358978\n",
      "L1Loss модели на тестовой выборке 0.7484300136566162\n",
      "Loss with opt features: 0.0001\n"
     ]
    },
    {
     "name": "stderr",
     "output_type": "stream",
     "text": [
      " 20%|██        | 189/927 [25:41<1:31:45,  7.46s/it]"
     ]
    },
    {
     "name": "stdout",
     "output_type": "stream",
     "text": [
      "L1Loss модели на обучающей выборке 1.6513872146606445\n",
      "L1Loss модели на тестовой выборке 2.2093558311462402\n",
      "Loss with opt features: 0.0099\n"
     ]
    },
    {
     "name": "stderr",
     "output_type": "stream",
     "text": [
      " 20%|██        | 190/927 [25:45<1:19:36,  6.48s/it]"
     ]
    },
    {
     "name": "stdout",
     "output_type": "stream",
     "text": [
      "L1Loss модели на обучающей выборке 0.4752049148082733\n",
      "L1Loss модели на тестовой выборке 0.5680220127105713\n"
     ]
    },
    {
     "name": "stderr",
     "output_type": "stream",
     "text": [
      " 21%|██        | 191/927 [25:56<1:35:14,  7.76s/it]"
     ]
    },
    {
     "name": "stdout",
     "output_type": "stream",
     "text": [
      "Loss with opt features: 0.0036\n",
      "L1Loss модели на обучающей выборке 0.11522015184164047\n",
      "L1Loss модели на тестовой выборке 0.1639491617679596\n"
     ]
    },
    {
     "name": "stderr",
     "output_type": "stream",
     "text": [
      " 21%|██        | 192/927 [26:09<1:52:42,  9.20s/it]"
     ]
    },
    {
     "name": "stdout",
     "output_type": "stream",
     "text": [
      "Loss with opt features: 0.0107\n",
      "L1Loss модели на обучающей выборке 0.01676020212471485\n",
      "L1Loss модели на тестовой выборке 0.0212878305464983\n"
     ]
    },
    {
     "name": "stderr",
     "output_type": "stream",
     "text": [
      " 21%|██        | 193/927 [26:24<2:13:25, 10.91s/it]"
     ]
    },
    {
     "name": "stdout",
     "output_type": "stream",
     "text": [
      "Loss with opt features: 0.0000\n",
      "L1Loss модели на обучающей выборке 0.39190611243247986\n",
      "L1Loss модели на тестовой выборке 0.5565099716186523\n",
      "Loss with opt features: 0.0144\n"
     ]
    },
    {
     "name": "stderr",
     "output_type": "stream",
     "text": [
      " 21%|██        | 194/927 [26:31<2:00:01,  9.82s/it]"
     ]
    },
    {
     "name": "stdout",
     "output_type": "stream",
     "text": [
      "L1Loss модели на обучающей выборке 0.3520260751247406\n",
      "L1Loss модели на тестовой выборке 0.4325656592845917\n",
      "Loss with opt features: 0.0185\n"
     ]
    },
    {
     "name": "stderr",
     "output_type": "stream",
     "text": [
      " 21%|██        | 195/927 [26:38<1:49:51,  9.00s/it]"
     ]
    },
    {
     "name": "stdout",
     "output_type": "stream",
     "text": [
      "L1Loss модели на обучающей выборке 0.13963061571121216\n",
      "L1Loss модели на тестовой выборке 0.24796529114246368\n",
      "Loss with opt features: 0.0050\n"
     ]
    },
    {
     "name": "stderr",
     "output_type": "stream",
     "text": [
      " 21%|██        | 196/927 [26:48<1:53:39,  9.33s/it]"
     ]
    },
    {
     "name": "stdout",
     "output_type": "stream",
     "text": [
      "L1Loss модели на обучающей выборке 0.16514381766319275\n",
      "L1Loss модели на тестовой выборке 0.20451726019382477\n"
     ]
    },
    {
     "name": "stderr",
     "output_type": "stream",
     "text": [
      " 21%|██▏       | 197/927 [26:56<1:48:48,  8.94s/it]"
     ]
    },
    {
     "name": "stdout",
     "output_type": "stream",
     "text": [
      "Loss with opt features: 0.0008\n",
      "L1Loss модели на обучающей выборке 0.15785834193229675\n",
      "L1Loss модели на тестовой выборке 0.20968227088451385\n",
      "Loss with opt features: 0.0061\n"
     ]
    },
    {
     "name": "stderr",
     "output_type": "stream",
     "text": [
      " 21%|██▏       | 198/927 [27:05<1:49:57,  9.05s/it]"
     ]
    },
    {
     "name": "stdout",
     "output_type": "stream",
     "text": [
      "L1Loss модели на обучающей выборке 2.6454663276672363\n",
      "L1Loss модели на тестовой выборке 2.3652608394622803\n",
      "Loss with opt features: 0.0036\n"
     ]
    },
    {
     "name": "stderr",
     "output_type": "stream",
     "text": [
      " 21%|██▏       | 199/927 [27:09<1:31:44,  7.56s/it]"
     ]
    },
    {
     "name": "stdout",
     "output_type": "stream",
     "text": [
      "L1Loss модели на обучающей выборке 0.18184134364128113\n",
      "L1Loss модели на тестовой выборке 0.2052903026342392\n"
     ]
    },
    {
     "name": "stderr",
     "output_type": "stream",
     "text": [
      " 22%|██▏       | 200/927 [27:19<1:40:07,  8.26s/it]"
     ]
    },
    {
     "name": "stdout",
     "output_type": "stream",
     "text": [
      "Loss with opt features: 0.0031\n",
      "L1Loss модели на обучающей выборке 1.4611785411834717\n",
      "L1Loss модели на тестовой выборке 1.581989049911499\n"
     ]
    },
    {
     "name": "stderr",
     "output_type": "stream",
     "text": [
      " 22%|██▏       | 201/927 [27:24<1:28:22,  7.30s/it]"
     ]
    },
    {
     "name": "stdout",
     "output_type": "stream",
     "text": [
      "Loss with opt features: 0.0101\n",
      "L1Loss модели на обучающей выборке 0.16211453080177307\n",
      "L1Loss модели на тестовой выборке 0.20970413088798523\n",
      "Loss with opt features: 0.0013\n"
     ]
    },
    {
     "name": "stderr",
     "output_type": "stream",
     "text": [
      " 22%|██▏       | 202/927 [27:34<1:37:26,  8.06s/it]"
     ]
    },
    {
     "name": "stdout",
     "output_type": "stream",
     "text": [
      "L1Loss модели на обучающей выборке 0.03678338602185249\n",
      "L1Loss модели на тестовой выборке 0.057579655200242996\n"
     ]
    },
    {
     "name": "stderr",
     "output_type": "stream",
     "text": [
      " 22%|██▏       | 203/927 [27:45<1:46:17,  8.81s/it]"
     ]
    },
    {
     "name": "stdout",
     "output_type": "stream",
     "text": [
      "Loss with opt features: 0.0012\n",
      "L1Loss модели на обучающей выборке 0.31840991973876953\n",
      "L1Loss модели на тестовой выборке 0.47180604934692383\n"
     ]
    },
    {
     "name": "stderr",
     "output_type": "stream",
     "text": [
      " 22%|██▏       | 204/927 [27:51<1:35:58,  7.96s/it]"
     ]
    },
    {
     "name": "stdout",
     "output_type": "stream",
     "text": [
      "Loss with opt features: 0.0046\n",
      "L1Loss модели на обучающей выборке 0.6607542634010315\n",
      "L1Loss модели на тестовой выборке 1.0024341344833374\n"
     ]
    },
    {
     "name": "stderr",
     "output_type": "stream",
     "text": [
      " 22%|██▏       | 205/927 [27:57<1:29:03,  7.40s/it]"
     ]
    },
    {
     "name": "stdout",
     "output_type": "stream",
     "text": [
      "Loss with opt features: 0.0216\n",
      "L1Loss модели на обучающей выборке 0.4013414978981018\n",
      "L1Loss модели на тестовой выборке 0.3996772766113281\n"
     ]
    },
    {
     "name": "stderr",
     "output_type": "stream",
     "text": [
      " 22%|██▏       | 206/927 [28:04<1:26:22,  7.19s/it]"
     ]
    },
    {
     "name": "stdout",
     "output_type": "stream",
     "text": [
      "Loss with opt features: 0.0045\n",
      "L1Loss модели на обучающей выборке 0.590910792350769\n",
      "L1Loss модели на тестовой выборке 0.58315110206604\n",
      "Loss with opt features: 0.0067\n"
     ]
    },
    {
     "name": "stderr",
     "output_type": "stream",
     "text": [
      " 22%|██▏       | 207/927 [28:10<1:22:45,  6.90s/it]"
     ]
    },
    {
     "name": "stdout",
     "output_type": "stream",
     "text": [
      "L1Loss модели на обучающей выборке 0.14875052869319916\n",
      "L1Loss модели на тестовой выборке 0.2059302031993866\n",
      "Loss with opt features: 0.0018\n"
     ]
    },
    {
     "name": "stderr",
     "output_type": "stream",
     "text": [
      " 22%|██▏       | 208/927 [28:19<1:31:55,  7.67s/it]"
     ]
    },
    {
     "name": "stdout",
     "output_type": "stream",
     "text": [
      "L1Loss модели на обучающей выборке 0.7688884139060974\n",
      "L1Loss модели на тестовой выборке 1.3156874179840088\n"
     ]
    },
    {
     "name": "stderr",
     "output_type": "stream",
     "text": [
      " 23%|██▎       | 209/927 [28:25<1:24:37,  7.07s/it]"
     ]
    },
    {
     "name": "stdout",
     "output_type": "stream",
     "text": [
      "Loss with opt features: 0.0133\n",
      "L1Loss модели на обучающей выборке 0.302812397480011\n",
      "L1Loss модели на тестовой выборке 0.3715466558933258\n"
     ]
    },
    {
     "name": "stderr",
     "output_type": "stream",
     "text": [
      " 23%|██▎       | 210/927 [28:32<1:22:49,  6.93s/it]"
     ]
    },
    {
     "name": "stdout",
     "output_type": "stream",
     "text": [
      "Loss with opt features: 0.0008\n",
      "L1Loss модели на обучающей выборке 0.5225892066955566\n",
      "L1Loss модели на тестовой выборке 0.4832915663719177\n",
      "Loss with opt features: 0.0000\n"
     ]
    },
    {
     "name": "stderr",
     "output_type": "stream",
     "text": [
      " 23%|██▎       | 211/927 [28:37<1:18:38,  6.59s/it]"
     ]
    },
    {
     "name": "stdout",
     "output_type": "stream",
     "text": [
      "L1Loss модели на обучающей выборке 0.2558906078338623\n",
      "L1Loss модели на тестовой выборке 0.4363940954208374\n"
     ]
    },
    {
     "name": "stderr",
     "output_type": "stream",
     "text": [
      " 23%|██▎       | 212/927 [28:46<1:26:25,  7.25s/it]"
     ]
    },
    {
     "name": "stdout",
     "output_type": "stream",
     "text": [
      "Loss with opt features: 0.0175\n",
      "L1Loss модели на обучающей выборке 0.1968543380498886\n",
      "L1Loss модели на тестовой выборке 0.2963617146015167\n",
      "Loss with opt features: 0.0124\n"
     ]
    },
    {
     "name": "stderr",
     "output_type": "stream",
     "text": [
      " 23%|██▎       | 213/927 [28:55<1:33:17,  7.84s/it]"
     ]
    },
    {
     "name": "stdout",
     "output_type": "stream",
     "text": [
      "L1Loss модели на обучающей выборке 0.4450644254684448\n",
      "L1Loss модели на тестовой выборке 0.725311815738678\n",
      "Loss with opt features: 0.0011\n"
     ]
    },
    {
     "name": "stderr",
     "output_type": "stream",
     "text": [
      " 23%|██▎       | 214/927 [29:03<1:31:53,  7.73s/it]"
     ]
    },
    {
     "name": "stdout",
     "output_type": "stream",
     "text": [
      "L1Loss модели на обучающей выборке 0.4484681785106659\n",
      "L1Loss модели на тестовой выборке 0.5732825994491577\n",
      "Loss with opt features: 0.0124\n"
     ]
    },
    {
     "name": "stderr",
     "output_type": "stream",
     "text": [
      " 23%|██▎       | 215/927 [29:08<1:21:56,  6.90s/it]"
     ]
    },
    {
     "name": "stdout",
     "output_type": "stream",
     "text": [
      "L1Loss модели на обучающей выборке 0.1943400800228119\n",
      "L1Loss модели на тестовой выборке 0.2027163952589035\n",
      "Loss with opt features: 0.0021\n"
     ]
    },
    {
     "name": "stderr",
     "output_type": "stream",
     "text": [
      " 23%|██▎       | 216/927 [29:16<1:26:28,  7.30s/it]"
     ]
    },
    {
     "name": "stdout",
     "output_type": "stream",
     "text": [
      "L1Loss модели на обучающей выборке 0.21483463048934937\n",
      "L1Loss модели на тестовой выборке 0.29340890049934387\n",
      "Loss with opt features: 0.0127\n"
     ]
    },
    {
     "name": "stderr",
     "output_type": "stream",
     "text": [
      " 23%|██▎       | 217/927 [29:24<1:30:35,  7.66s/it]"
     ]
    },
    {
     "name": "stdout",
     "output_type": "stream",
     "text": [
      "L1Loss модели на обучающей выборке 0.27872002124786377\n",
      "L1Loss модели на тестовой выборке 0.32782408595085144\n",
      "Loss with opt features: 0.0041\n"
     ]
    },
    {
     "name": "stderr",
     "output_type": "stream",
     "text": [
      " 24%|██▎       | 218/927 [29:32<1:28:30,  7.49s/it]"
     ]
    },
    {
     "name": "stdout",
     "output_type": "stream",
     "text": [
      "L1Loss модели на обучающей выборке 1.0601527690887451\n",
      "L1Loss модели на тестовой выборке 1.330719232559204\n",
      "Loss with opt features: 0.0375\n"
     ]
    },
    {
     "name": "stderr",
     "output_type": "stream",
     "text": [
      " 24%|██▎       | 219/927 [29:36<1:17:41,  6.58s/it]"
     ]
    },
    {
     "name": "stdout",
     "output_type": "stream",
     "text": [
      "L1Loss модели на обучающей выборке 0.6000726819038391\n",
      "L1Loss модели на тестовой выборке 0.6330741047859192\n"
     ]
    },
    {
     "name": "stderr",
     "output_type": "stream",
     "text": [
      " 24%|██▎       | 220/927 [29:42<1:16:04,  6.46s/it]"
     ]
    },
    {
     "name": "stdout",
     "output_type": "stream",
     "text": [
      "Loss with opt features: 0.0143\n",
      "L1Loss модели на обучающей выборке 1.4041733741760254\n",
      "L1Loss модели на тестовой выборке 1.6367098093032837\n",
      "Loss with opt features: 0.0000\n"
     ]
    },
    {
     "name": "stderr",
     "output_type": "stream",
     "text": [
      " 24%|██▍       | 221/927 [29:47<1:08:25,  5.82s/it]"
     ]
    },
    {
     "name": "stdout",
     "output_type": "stream",
     "text": [
      "L1Loss модели на обучающей выборке 0.007884839549660683\n",
      "L1Loss модели на тестовой выборке 0.009589112363755703\n",
      "Loss with opt features: 0.0004\n"
     ]
    },
    {
     "name": "stderr",
     "output_type": "stream",
     "text": [
      " 24%|██▍       | 222/927 [30:00<1:34:46,  8.07s/it]"
     ]
    },
    {
     "name": "stdout",
     "output_type": "stream",
     "text": [
      "L1Loss модели на обучающей выборке 1.2265197038650513\n",
      "L1Loss модели на тестовой выборке 0.8796845078468323\n",
      "Loss with opt features: 0.0042\n"
     ]
    },
    {
     "name": "stderr",
     "output_type": "stream",
     "text": [
      " 24%|██▍       | 223/927 [30:04<1:21:59,  6.99s/it]"
     ]
    },
    {
     "name": "stdout",
     "output_type": "stream",
     "text": [
      "L1Loss модели на обучающей выборке 0.43963295221328735\n",
      "L1Loss модели на тестовой выборке 0.5694432854652405\n",
      "Loss with opt features: 0.0159\n"
     ]
    },
    {
     "name": "stderr",
     "output_type": "stream",
     "text": [
      " 24%|██▍       | 224/927 [30:10<1:18:51,  6.73s/it]"
     ]
    },
    {
     "name": "stdout",
     "output_type": "stream",
     "text": [
      "L1Loss модели на обучающей выборке 0.33252236247062683\n",
      "L1Loss модели на тестовой выборке 0.4672284722328186\n"
     ]
    },
    {
     "name": "stderr",
     "output_type": "stream",
     "text": [
      " 24%|██▍       | 225/927 [30:17<1:16:39,  6.55s/it]"
     ]
    },
    {
     "name": "stdout",
     "output_type": "stream",
     "text": [
      "Loss with opt features: 0.0114\n",
      "L1Loss модели на обучающей выборке 0.6044251918792725\n",
      "L1Loss модели на тестовой выборке 0.7099582552909851\n"
     ]
    },
    {
     "name": "stderr",
     "output_type": "stream",
     "text": [
      " 24%|██▍       | 226/927 [30:22<1:13:18,  6.27s/it]"
     ]
    },
    {
     "name": "stdout",
     "output_type": "stream",
     "text": [
      "Loss with opt features: 0.0002\n",
      "L1Loss модели на обучающей выборке 0.1492125242948532\n",
      "L1Loss модели на тестовой выборке 0.22417746484279633\n",
      "Loss with opt features: 0.0036\n"
     ]
    },
    {
     "name": "stderr",
     "output_type": "stream",
     "text": [
      " 24%|██▍       | 227/927 [30:31<1:22:05,  7.04s/it]"
     ]
    },
    {
     "name": "stdout",
     "output_type": "stream",
     "text": [
      "L1Loss модели на обучающей выборке 1.388232946395874\n",
      "L1Loss модели на тестовой выборке 1.0553580522537231\n",
      "Loss with opt features: 0.0068\n"
     ]
    },
    {
     "name": "stderr",
     "output_type": "stream",
     "text": [
      " 25%|██▍       | 228/927 [30:35<1:12:03,  6.19s/it]"
     ]
    },
    {
     "name": "stdout",
     "output_type": "stream",
     "text": [
      "L1Loss модели на обучающей выборке 0.17918694019317627\n",
      "L1Loss модели на тестовой выборке 0.17538756132125854\n",
      "Loss with opt features: 0.0020\n"
     ]
    },
    {
     "name": "stderr",
     "output_type": "stream",
     "text": [
      " 25%|██▍       | 229/927 [30:43<1:19:02,  6.79s/it]"
     ]
    },
    {
     "name": "stdout",
     "output_type": "stream",
     "text": [
      "L1Loss модели на обучающей выборке 0.13979056477546692\n",
      "L1Loss модели на тестовой выборке 0.14785179495811462\n",
      "Loss with opt features: 0.0124\n"
     ]
    },
    {
     "name": "stderr",
     "output_type": "stream",
     "text": [
      " 25%|██▍       | 230/927 [30:53<1:28:48,  7.65s/it]"
     ]
    },
    {
     "name": "stdout",
     "output_type": "stream",
     "text": [
      "L1Loss модели на обучающей выборке 0.48627063632011414\n",
      "L1Loss модели на тестовой выборке 0.5106509923934937\n",
      "Loss with opt features: 0.0023\n"
     ]
    },
    {
     "name": "stderr",
     "output_type": "stream",
     "text": [
      " 25%|██▍       | 231/927 [31:00<1:25:41,  7.39s/it]"
     ]
    },
    {
     "name": "stdout",
     "output_type": "stream",
     "text": [
      "L1Loss модели на обучающей выборке 0.6082552671432495\n",
      "L1Loss модели на тестовой выборке 0.8204839825630188\n",
      "Loss with opt features: 0.0123\n"
     ]
    },
    {
     "name": "stderr",
     "output_type": "stream",
     "text": [
      " 25%|██▌       | 232/927 [31:06<1:20:33,  6.96s/it]"
     ]
    },
    {
     "name": "stdout",
     "output_type": "stream",
     "text": [
      "L1Loss модели на обучающей выборке 1.0866916179656982\n",
      "L1Loss модели на тестовой выборке 1.0437966585159302\n"
     ]
    },
    {
     "name": "stderr",
     "output_type": "stream",
     "text": [
      " 25%|██▌       | 233/927 [31:11<1:13:17,  6.34s/it]"
     ]
    },
    {
     "name": "stdout",
     "output_type": "stream",
     "text": [
      "Loss with opt features: 0.0166\n",
      "L1Loss модели на обучающей выборке 0.17735300958156586\n",
      "L1Loss модели на тестовой выборке 0.19915977120399475\n",
      "Loss with opt features: 0.0067\n"
     ]
    },
    {
     "name": "stderr",
     "output_type": "stream",
     "text": [
      " 25%|██▌       | 234/927 [31:20<1:23:57,  7.27s/it]"
     ]
    },
    {
     "name": "stdout",
     "output_type": "stream",
     "text": [
      "L1Loss модели на обучающей выборке 0.0219116248190403\n",
      "L1Loss модели на тестовой выборке 0.04447110369801521\n",
      "Loss with opt features: 0.0003\n"
     ]
    },
    {
     "name": "stderr",
     "output_type": "stream",
     "text": [
      " 25%|██▌       | 235/927 [31:33<1:42:39,  8.90s/it]"
     ]
    },
    {
     "name": "stdout",
     "output_type": "stream",
     "text": [
      "L1Loss модели на обучающей выборке 0.19816459715366364\n",
      "L1Loss модели на тестовой выборке 0.20533233880996704\n"
     ]
    },
    {
     "name": "stderr",
     "output_type": "stream",
     "text": [
      " 25%|██▌       | 236/927 [31:41<1:40:57,  8.77s/it]"
     ]
    },
    {
     "name": "stdout",
     "output_type": "stream",
     "text": [
      "Loss with opt features: 0.0066\n",
      "L1Loss модели на обучающей выборке 0.19212020933628082\n",
      "L1Loss модели на тестовой выборке 0.35035648941993713\n",
      "Loss with opt features: 0.0034\n"
     ]
    },
    {
     "name": "stderr",
     "output_type": "stream",
     "text": [
      " 26%|██▌       | 237/927 [31:51<1:44:20,  9.07s/it]"
     ]
    },
    {
     "name": "stdout",
     "output_type": "stream",
     "text": [
      "L1Loss модели на обучающей выборке 0.4070495069026947\n",
      "L1Loss модели на тестовой выборке 0.47461774945259094\n"
     ]
    },
    {
     "name": "stderr",
     "output_type": "stream",
     "text": [
      " 26%|██▌       | 238/927 [31:57<1:33:02,  8.10s/it]"
     ]
    },
    {
     "name": "stdout",
     "output_type": "stream",
     "text": [
      "Loss with opt features: 0.0154\n",
      "L1Loss модели на обучающей выборке 0.563198983669281\n",
      "L1Loss модели на тестовой выборке 0.813869297504425\n",
      "Loss with opt features: 0.0037\n"
     ]
    },
    {
     "name": "stderr",
     "output_type": "stream",
     "text": [
      " 26%|██▌       | 239/927 [32:03<1:25:06,  7.42s/it]"
     ]
    },
    {
     "name": "stdout",
     "output_type": "stream",
     "text": [
      "L1Loss модели на обучающей выборке 0.4248673617839813\n",
      "L1Loss модели на тестовой выборке 0.49102941155433655\n",
      "Loss with opt features: 0.0075\n"
     ]
    },
    {
     "name": "stderr",
     "output_type": "stream",
     "text": [
      " 26%|██▌       | 240/927 [32:08<1:17:40,  6.78s/it]"
     ]
    },
    {
     "name": "stdout",
     "output_type": "stream",
     "text": [
      "L1Loss модели на обучающей выборке 0.7437508702278137\n",
      "L1Loss модели на тестовой выборке 0.7336187958717346\n"
     ]
    },
    {
     "name": "stderr",
     "output_type": "stream",
     "text": [
      " 26%|██▌       | 241/927 [32:13<1:12:01,  6.30s/it]"
     ]
    },
    {
     "name": "stdout",
     "output_type": "stream",
     "text": [
      "Loss with opt features: 0.0134\n",
      "L1Loss модели на обучающей выборке 0.33150869607925415\n",
      "L1Loss модели на тестовой выборке 0.35654890537261963\n",
      "Loss with opt features: 0.0131\n"
     ]
    },
    {
     "name": "stderr",
     "output_type": "stream",
     "text": [
      " 26%|██▌       | 242/927 [32:20<1:14:48,  6.55s/it]"
     ]
    },
    {
     "name": "stdout",
     "output_type": "stream",
     "text": [
      "L1Loss модели на обучающей выборке 0.549943745136261\n",
      "L1Loss модели на тестовой выборке 0.5247817039489746\n"
     ]
    },
    {
     "name": "stderr",
     "output_type": "stream",
     "text": [
      " 26%|██▌       | 243/927 [32:26<1:11:35,  6.28s/it]"
     ]
    },
    {
     "name": "stdout",
     "output_type": "stream",
     "text": [
      "Loss with opt features: 0.0072\n",
      "L1Loss модели на обучающей выборке 0.28921473026275635\n",
      "L1Loss модели на тестовой выборке 0.43300989270210266\n"
     ]
    },
    {
     "name": "stderr",
     "output_type": "stream",
     "text": [
      " 26%|██▋       | 244/927 [32:33<1:13:23,  6.45s/it]"
     ]
    },
    {
     "name": "stdout",
     "output_type": "stream",
     "text": [
      "Loss with opt features: 0.0119\n",
      "L1Loss модели на обучающей выборке 0.3732569217681885\n",
      "L1Loss модели на тестовой выборке 0.5126913189888\n",
      "Loss with opt features: 0.0031\n"
     ]
    },
    {
     "name": "stderr",
     "output_type": "stream",
     "text": [
      " 26%|██▋       | 245/927 [32:39<1:12:27,  6.38s/it]"
     ]
    },
    {
     "name": "stdout",
     "output_type": "stream",
     "text": [
      "L1Loss модели на обучающей выборке 0.41935619711875916\n",
      "L1Loss модели на тестовой выборке 0.49425873160362244\n"
     ]
    },
    {
     "name": "stderr",
     "output_type": "stream",
     "text": [
      " 27%|██▋       | 246/927 [32:45<1:11:52,  6.33s/it]"
     ]
    },
    {
     "name": "stdout",
     "output_type": "stream",
     "text": [
      "Loss with opt features: 0.0002\n",
      "L1Loss модели на обучающей выборке 0.16147661209106445\n",
      "L1Loss модели на тестовой выборке 0.15835966169834137\n",
      "Loss with opt features: 0.0133\n"
     ]
    },
    {
     "name": "stderr",
     "output_type": "stream",
     "text": [
      " 27%|██▋       | 247/927 [32:54<1:18:44,  6.95s/it]"
     ]
    },
    {
     "name": "stdout",
     "output_type": "stream",
     "text": [
      "L1Loss модели на обучающей выборке 1.1382449865341187\n",
      "L1Loss модели на тестовой выборке 1.7026528120040894\n"
     ]
    },
    {
     "name": "stderr",
     "output_type": "stream",
     "text": [
      " 27%|██▋       | 248/927 [33:07<1:38:35,  8.71s/it]"
     ]
    },
    {
     "name": "stdout",
     "output_type": "stream",
     "text": [
      "Loss with opt features: 2.6016\n",
      "L1Loss модели на обучающей выборке 1.1751725673675537\n",
      "L1Loss модели на тестовой выборке 1.8663947582244873\n",
      "Loss with opt features: 0.0565\n"
     ]
    },
    {
     "name": "stderr",
     "output_type": "stream",
     "text": [
      " 27%|██▋       | 249/927 [33:11<1:25:41,  7.58s/it]"
     ]
    },
    {
     "name": "stdout",
     "output_type": "stream",
     "text": [
      "L1Loss модели на обучающей выборке 0.8478872776031494\n",
      "L1Loss модели на тестовой выборке 1.029096245765686\n",
      "Loss with opt features: 0.0223\n"
     ]
    },
    {
     "name": "stderr",
     "output_type": "stream",
     "text": [
      " 27%|██▋       | 250/927 [33:16<1:15:08,  6.66s/it]"
     ]
    },
    {
     "name": "stdout",
     "output_type": "stream",
     "text": [
      "L1Loss модели на обучающей выборке 1.4094109535217285\n",
      "L1Loss модели на тестовой выборке 1.4195504188537598\n",
      "Loss with opt features: 0.0293\n"
     ]
    },
    {
     "name": "stderr",
     "output_type": "stream",
     "text": [
      " 27%|██▋       | 251/927 [33:20<1:07:11,  5.96s/it]"
     ]
    },
    {
     "name": "stdout",
     "output_type": "stream",
     "text": [
      "L1Loss модели на обучающей выборке 0.1628558337688446\n",
      "L1Loss модели на тестовой выборке 0.2103131115436554\n"
     ]
    },
    {
     "name": "stderr",
     "output_type": "stream",
     "text": [
      " 27%|██▋       | 252/927 [33:29<1:15:30,  6.71s/it]"
     ]
    },
    {
     "name": "stdout",
     "output_type": "stream",
     "text": [
      "Loss with opt features: 0.0063\n",
      "L1Loss модели на обучающей выборке 0.25397199392318726\n",
      "L1Loss модели на тестовой выборке 0.19930744171142578\n"
     ]
    },
    {
     "name": "stderr",
     "output_type": "stream",
     "text": [
      " 27%|██▋       | 253/927 [33:39<1:27:23,  7.78s/it]"
     ]
    },
    {
     "name": "stdout",
     "output_type": "stream",
     "text": [
      "Loss with opt features: 0.0001\n",
      "L1Loss модели на обучающей выборке 0.23437972366809845\n",
      "L1Loss модели на тестовой выборке 0.2988583743572235\n"
     ]
    },
    {
     "name": "stderr",
     "output_type": "stream",
     "text": [
      " 27%|██▋       | 254/927 [33:48<1:32:38,  8.26s/it]"
     ]
    },
    {
     "name": "stdout",
     "output_type": "stream",
     "text": [
      "Loss with opt features: 0.0103\n",
      "L1Loss модели на обучающей выборке 0.15051406621932983\n",
      "L1Loss модели на тестовой выборке 0.1732337772846222\n",
      "Loss with opt features: 0.0066\n"
     ]
    },
    {
     "name": "stderr",
     "output_type": "stream",
     "text": [
      " 28%|██▊       | 255/927 [33:58<1:36:22,  8.61s/it]"
     ]
    },
    {
     "name": "stdout",
     "output_type": "stream",
     "text": [
      "L1Loss модели на обучающей выборке 0.8360192775726318\n",
      "L1Loss модели на тестовой выборке 1.1335450410842896\n",
      "Loss with opt features: 0.0136\n"
     ]
    },
    {
     "name": "stderr",
     "output_type": "stream",
     "text": [
      " 28%|██▊       | 256/927 [34:02<1:22:45,  7.40s/it]"
     ]
    },
    {
     "name": "stdout",
     "output_type": "stream",
     "text": [
      "L1Loss модели на обучающей выборке 0.29057949781417847\n",
      "L1Loss модели на тестовой выборке 0.2686120271682739\n",
      "Loss with opt features: 0.0281\n"
     ]
    },
    {
     "name": "stderr",
     "output_type": "stream",
     "text": [
      " 28%|██▊       | 257/927 [34:11<1:25:21,  7.64s/it]"
     ]
    },
    {
     "name": "stdout",
     "output_type": "stream",
     "text": [
      "L1Loss модели на обучающей выборке 0.4395543932914734\n",
      "L1Loss модели на тестовой выборке 0.5696076154708862\n",
      "Loss with opt features: 0.0034\n"
     ]
    },
    {
     "name": "stderr",
     "output_type": "stream",
     "text": [
      " 28%|██▊       | 258/927 [34:16<1:18:04,  7.00s/it]"
     ]
    },
    {
     "name": "stdout",
     "output_type": "stream",
     "text": [
      "L1Loss модели на обучающей выборке 0.20847690105438232\n",
      "L1Loss модели на тестовой выборке 0.2421191781759262\n",
      "Loss with opt features: 0.0178\n"
     ]
    },
    {
     "name": "stderr",
     "output_type": "stream",
     "text": [
      " 28%|██▊       | 259/927 [34:25<1:23:35,  7.51s/it]"
     ]
    },
    {
     "name": "stdout",
     "output_type": "stream",
     "text": [
      "L1Loss модели на обучающей выборке 0.26859164237976074\n",
      "L1Loss модели на тестовой выборке 0.3749812841415405\n"
     ]
    },
    {
     "name": "stderr",
     "output_type": "stream",
     "text": [
      " 28%|██▊       | 260/927 [34:32<1:22:26,  7.42s/it]"
     ]
    },
    {
     "name": "stdout",
     "output_type": "stream",
     "text": [
      "Loss with opt features: 0.0139\n",
      "L1Loss модели на обучающей выборке 0.15430863201618195\n",
      "L1Loss модели на тестовой выборке 0.17144078016281128\n"
     ]
    },
    {
     "name": "stderr",
     "output_type": "stream",
     "text": [
      " 28%|██▊       | 261/927 [34:40<1:23:18,  7.51s/it]"
     ]
    },
    {
     "name": "stdout",
     "output_type": "stream",
     "text": [
      "Loss with opt features: 0.0108\n",
      "L1Loss модели на обучающей выборке 0.7886567115783691\n",
      "L1Loss модели на тестовой выборке 1.051997423171997\n",
      "Loss with opt features: 0.0649\n"
     ]
    },
    {
     "name": "stderr",
     "output_type": "stream",
     "text": [
      " 28%|██▊       | 262/927 [34:49<1:28:01,  7.94s/it]"
     ]
    },
    {
     "name": "stdout",
     "output_type": "stream",
     "text": [
      "L1Loss модели на обучающей выборке 2.2236979007720947\n",
      "L1Loss модели на тестовой выборке 2.433941602706909\n",
      "Loss with opt features: 0.0227\n"
     ]
    },
    {
     "name": "stderr",
     "output_type": "stream",
     "text": [
      " 28%|██▊       | 263/927 [34:58<1:31:04,  8.23s/it]"
     ]
    },
    {
     "name": "stdout",
     "output_type": "stream",
     "text": [
      "L1Loss модели на обучающей выборке 0.5974391102790833\n",
      "L1Loss модели на тестовой выборке 0.9661052823066711\n",
      "Loss with opt features: 0.0307\n"
     ]
    },
    {
     "name": "stderr",
     "output_type": "stream",
     "text": [
      " 28%|██▊       | 264/927 [35:08<1:37:40,  8.84s/it]"
     ]
    },
    {
     "name": "stdout",
     "output_type": "stream",
     "text": [
      "L1Loss модели на обучающей выборке 0.6381632089614868\n",
      "L1Loss модели на тестовой выборке 1.2736750841140747\n",
      "Loss with opt features: 0.0096\n"
     ]
    },
    {
     "name": "stderr",
     "output_type": "stream",
     "text": [
      " 29%|██▊       | 265/927 [35:16<1:33:43,  8.49s/it]"
     ]
    },
    {
     "name": "stdout",
     "output_type": "stream",
     "text": [
      "L1Loss модели на обучающей выборке 1.8913358449935913\n",
      "L1Loss модели на тестовой выборке 2.649001359939575\n",
      "Loss with opt features: 0.0413\n"
     ]
    },
    {
     "name": "stderr",
     "output_type": "stream",
     "text": [
      " 29%|██▊       | 266/927 [35:25<1:37:50,  8.88s/it]"
     ]
    },
    {
     "name": "stdout",
     "output_type": "stream",
     "text": [
      "L1Loss модели на обучающей выборке 0.572204053401947\n",
      "L1Loss модели на тестовой выборке 0.7282755374908447\n",
      "Loss with opt features: 1.6730\n"
     ]
    },
    {
     "name": "stderr",
     "output_type": "stream",
     "text": [
      " 29%|██▉       | 267/927 [35:35<1:39:04,  9.01s/it]"
     ]
    },
    {
     "name": "stdout",
     "output_type": "stream",
     "text": [
      "L1Loss модели на обучающей выборке 0.36375653743743896\n",
      "L1Loss модели на тестовой выборке 0.38677167892456055\n",
      "Loss with opt features: 2.8892\n"
     ]
    },
    {
     "name": "stderr",
     "output_type": "stream",
     "text": [
      " 29%|██▉       | 268/927 [35:44<1:38:26,  8.96s/it]"
     ]
    },
    {
     "name": "stdout",
     "output_type": "stream",
     "text": [
      "L1Loss модели на обучающей выборке 1.0334055423736572\n",
      "L1Loss модели на тестовой выборке 1.4873746633529663\n"
     ]
    },
    {
     "name": "stderr",
     "output_type": "stream",
     "text": [
      " 29%|██▉       | 269/927 [35:55<1:45:34,  9.63s/it]"
     ]
    },
    {
     "name": "stdout",
     "output_type": "stream",
     "text": [
      "Loss with opt features: 8.9877\n",
      "L1Loss модели на обучающей выборке 0.5703069567680359\n",
      "L1Loss модели на тестовой выборке 1.175011157989502\n"
     ]
    },
    {
     "name": "stderr",
     "output_type": "stream",
     "text": [
      " 29%|██▉       | 270/927 [36:05<1:49:05,  9.96s/it]"
     ]
    },
    {
     "name": "stdout",
     "output_type": "stream",
     "text": [
      "Loss with opt features: 2.0091\n",
      "L1Loss модели на обучающей выборке 2.141587257385254\n",
      "L1Loss модели на тестовой выборке 1.6989333629608154\n"
     ]
    },
    {
     "name": "stderr",
     "output_type": "stream",
     "text": [
      " 29%|██▉       | 271/927 [36:14<1:45:56,  9.69s/it]"
     ]
    },
    {
     "name": "stdout",
     "output_type": "stream",
     "text": [
      "Loss with opt features: 0.0930\n",
      "L1Loss модели на обучающей выборке 0.47243577241897583\n",
      "L1Loss модели на тестовой выборке 0.7331873774528503\n"
     ]
    },
    {
     "name": "stderr",
     "output_type": "stream",
     "text": [
      " 29%|██▉       | 272/927 [36:25<1:47:13,  9.82s/it]"
     ]
    },
    {
     "name": "stdout",
     "output_type": "stream",
     "text": [
      "Loss with opt features: 1.0153\n",
      "L1Loss модели на обучающей выборке 4.063471794128418\n",
      "L1Loss модели на тестовой выборке 4.100320816040039\n",
      "Loss with opt features: 0.0103\n"
     ]
    },
    {
     "name": "stderr",
     "output_type": "stream",
     "text": [
      " 29%|██▉       | 273/927 [36:29<1:28:24,  8.11s/it]"
     ]
    },
    {
     "name": "stdout",
     "output_type": "stream",
     "text": [
      "L1Loss модели на обучающей выборке 0.9825019836425781\n",
      "L1Loss модели на тестовой выборке 1.4270403385162354\n"
     ]
    },
    {
     "name": "stderr",
     "output_type": "stream",
     "text": [
      " 30%|██▉       | 274/927 [36:37<1:28:19,  8.12s/it]"
     ]
    },
    {
     "name": "stdout",
     "output_type": "stream",
     "text": [
      "Loss with opt features: 1.3663\n",
      "L1Loss модели на обучающей выборке 0.8436086177825928\n",
      "L1Loss модели на тестовой выборке 1.2903790473937988\n"
     ]
    },
    {
     "name": "stderr",
     "output_type": "stream",
     "text": [
      " 30%|██▉       | 275/927 [36:45<1:29:02,  8.19s/it]"
     ]
    },
    {
     "name": "stdout",
     "output_type": "stream",
     "text": [
      "Loss with opt features: 6.7336\n",
      "L1Loss модели на обучающей выборке 628.2529907226562\n",
      "L1Loss модели на тестовой выборке 860.8162841796875\n",
      "Loss with opt features: 5.1829\n"
     ]
    },
    {
     "name": "stderr",
     "output_type": "stream",
     "text": [
      " 30%|██▉       | 276/927 [36:58<1:44:07,  9.60s/it]"
     ]
    },
    {
     "name": "stdout",
     "output_type": "stream",
     "text": [
      "L1Loss модели на обучающей выборке 0.3983094394207001\n",
      "L1Loss модели на тестовой выборке 0.650404155254364\n",
      "Loss with opt features: 3.2756\n"
     ]
    },
    {
     "name": "stderr",
     "output_type": "stream",
     "text": [
      " 30%|██▉       | 277/927 [37:09<1:49:20, 10.09s/it]"
     ]
    },
    {
     "name": "stdout",
     "output_type": "stream",
     "text": [
      "L1Loss модели на обучающей выборке 1.951966643333435\n",
      "L1Loss модели на тестовой выборке 3.042527914047241\n"
     ]
    },
    {
     "name": "stderr",
     "output_type": "stream",
     "text": [
      " 30%|██▉       | 278/927 [37:15<1:33:32,  8.65s/it]"
     ]
    },
    {
     "name": "stdout",
     "output_type": "stream",
     "text": [
      "Loss with opt features: 2.6722\n",
      "L1Loss модели на обучающей выборке 0.32487019896507263\n",
      "L1Loss модели на тестовой выборке 0.7386254072189331\n"
     ]
    },
    {
     "name": "stderr",
     "output_type": "stream",
     "text": [
      " 30%|███       | 279/927 [37:26<1:42:33,  9.50s/it]"
     ]
    },
    {
     "name": "stdout",
     "output_type": "stream",
     "text": [
      "Loss with opt features: 0.0050\n",
      "L1Loss модели на обучающей выборке 1.3468717336654663\n",
      "L1Loss модели на тестовой выборке 1.133436679840088\n"
     ]
    },
    {
     "name": "stderr",
     "output_type": "stream",
     "text": [
      " 30%|███       | 280/927 [37:37<1:45:18,  9.77s/it]"
     ]
    },
    {
     "name": "stdout",
     "output_type": "stream",
     "text": [
      "Loss with opt features: 0.0197\n",
      "L1Loss модели на обучающей выборке 1.7125701904296875\n",
      "L1Loss модели на тестовой выборке 2.689478635787964\n"
     ]
    },
    {
     "name": "stderr",
     "output_type": "stream",
     "text": [
      " 30%|███       | 281/927 [37:50<1:55:44, 10.75s/it]"
     ]
    },
    {
     "name": "stdout",
     "output_type": "stream",
     "text": [
      "Loss with opt features: 0.0098\n",
      "L1Loss модели на обучающей выборке 0.8271040916442871\n",
      "L1Loss модели на тестовой выборке 1.8049919605255127\n"
     ]
    },
    {
     "name": "stderr",
     "output_type": "stream",
     "text": [
      " 30%|███       | 282/927 [38:01<1:56:19, 10.82s/it]"
     ]
    },
    {
     "name": "stdout",
     "output_type": "stream",
     "text": [
      "Loss with opt features: 0.0431\n",
      "L1Loss модели на обучающей выборке 0.6789121031761169\n",
      "L1Loss модели на тестовой выборке 0.7986345291137695\n"
     ]
    },
    {
     "name": "stderr",
     "output_type": "stream",
     "text": [
      " 31%|███       | 283/927 [38:11<1:56:34, 10.86s/it]"
     ]
    },
    {
     "name": "stdout",
     "output_type": "stream",
     "text": [
      "Loss with opt features: 1.6026\n",
      "L1Loss модели на обучающей выборке 0.40858814120292664\n",
      "L1Loss модели на тестовой выборке 0.46567824482917786\n"
     ]
    },
    {
     "name": "stderr",
     "output_type": "stream",
     "text": [
      " 31%|███       | 284/927 [38:25<2:04:05, 11.58s/it]"
     ]
    },
    {
     "name": "stdout",
     "output_type": "stream",
     "text": [
      "Loss with opt features: 1.2260\n",
      "L1Loss модели на обучающей выборке 1.2578506469726562\n",
      "L1Loss модели на тестовой выборке 1.418522596359253\n"
     ]
    },
    {
     "name": "stderr",
     "output_type": "stream",
     "text": [
      " 31%|███       | 285/927 [38:33<1:53:06, 10.57s/it]"
     ]
    },
    {
     "name": "stdout",
     "output_type": "stream",
     "text": [
      "Loss with opt features: 1.6461\n",
      "L1Loss модели на обучающей выборке 0.7972558736801147\n",
      "L1Loss модели на тестовой выборке 1.0824493169784546\n",
      "Loss with opt features: 0.0371\n"
     ]
    },
    {
     "name": "stderr",
     "output_type": "stream",
     "text": [
      " 31%|███       | 286/927 [38:44<1:54:48, 10.75s/it]"
     ]
    },
    {
     "name": "stdout",
     "output_type": "stream",
     "text": [
      "L1Loss модели на обучающей выборке 0.42994746565818787\n",
      "L1Loss модели на тестовой выборке 0.4307802617549896\n",
      "Loss with opt features: 5.5752\n"
     ]
    },
    {
     "name": "stderr",
     "output_type": "stream",
     "text": [
      " 31%|███       | 287/927 [38:57<2:00:28, 11.29s/it]"
     ]
    },
    {
     "name": "stdout",
     "output_type": "stream",
     "text": [
      "L1Loss модели на обучающей выборке 1.5160188674926758\n",
      "L1Loss модели на тестовой выборке 1.5079978704452515\n"
     ]
    },
    {
     "name": "stderr",
     "output_type": "stream",
     "text": [
      " 31%|███       | 288/927 [39:11<2:09:19, 12.14s/it]"
     ]
    },
    {
     "name": "stdout",
     "output_type": "stream",
     "text": [
      "Loss with opt features: 3.3339\n",
      "L1Loss модели на обучающей выборке 1.7031461000442505\n",
      "L1Loss модели на тестовой выборке 2.6049835681915283\n"
     ]
    },
    {
     "name": "stderr",
     "output_type": "stream",
     "text": [
      " 31%|███       | 289/927 [39:18<1:54:17, 10.75s/it]"
     ]
    },
    {
     "name": "stdout",
     "output_type": "stream",
     "text": [
      "Loss with opt features: 0.0014\n",
      "L1Loss модели на обучающей выборке 1.763383388519287\n",
      "L1Loss модели на тестовой выборке 2.989163637161255\n"
     ]
    },
    {
     "name": "stderr",
     "output_type": "stream",
     "text": [
      " 31%|███▏      | 290/927 [39:27<1:46:38, 10.05s/it]"
     ]
    },
    {
     "name": "stdout",
     "output_type": "stream",
     "text": [
      "Loss with opt features: 0.0151\n",
      "L1Loss модели на обучающей выборке 5.109333515167236\n",
      "L1Loss модели на тестовой выборке 3.851962089538574\n"
     ]
    },
    {
     "name": "stderr",
     "output_type": "stream",
     "text": [
      " 31%|███▏      | 291/927 [39:33<1:36:04,  9.06s/it]"
     ]
    },
    {
     "name": "stdout",
     "output_type": "stream",
     "text": [
      "Loss with opt features: 0.0339\n",
      "L1Loss модели на обучающей выборке 0.6296404004096985\n",
      "L1Loss модели на тестовой выборке 1.096126914024353\n"
     ]
    },
    {
     "name": "stderr",
     "output_type": "stream",
     "text": [
      " 31%|███▏      | 292/927 [39:44<1:42:00,  9.64s/it]"
     ]
    },
    {
     "name": "stdout",
     "output_type": "stream",
     "text": [
      "Loss with opt features: 0.1471\n",
      "L1Loss модели на обучающей выборке 4.168534278869629\n",
      "L1Loss модели на тестовой выборке 6.776427745819092\n"
     ]
    },
    {
     "name": "stderr",
     "output_type": "stream",
     "text": [
      " 32%|███▏      | 293/927 [39:55<1:45:11,  9.96s/it]"
     ]
    },
    {
     "name": "stdout",
     "output_type": "stream",
     "text": [
      "Loss with opt features: 0.0072\n",
      "L1Loss модели на обучающей выборке 0.7243494391441345\n",
      "L1Loss модели на тестовой выборке 1.2966588735580444\n"
     ]
    },
    {
     "name": "stderr",
     "output_type": "stream",
     "text": [
      " 32%|███▏      | 294/927 [40:07<1:51:22, 10.56s/it]"
     ]
    },
    {
     "name": "stdout",
     "output_type": "stream",
     "text": [
      "Loss with opt features: 6.8959\n",
      "L1Loss модели на обучающей выборке 2.1402978897094727\n",
      "L1Loss модели на тестовой выборке 2.962620258331299\n"
     ]
    },
    {
     "name": "stderr",
     "output_type": "stream",
     "text": [
      " 32%|███▏      | 295/927 [40:18<1:51:21, 10.57s/it]"
     ]
    },
    {
     "name": "stdout",
     "output_type": "stream",
     "text": [
      "Loss with opt features: 0.0408\n",
      "L1Loss модели на обучающей выборке 2.5082836151123047\n",
      "L1Loss модели на тестовой выборке 3.3369944095611572\n"
     ]
    },
    {
     "name": "stderr",
     "output_type": "stream",
     "text": [
      " 32%|███▏      | 296/927 [40:28<1:48:54, 10.36s/it]"
     ]
    },
    {
     "name": "stdout",
     "output_type": "stream",
     "text": [
      "Loss with opt features: 0.0024\n",
      "L1Loss модели на обучающей выборке 1.465498924255371\n",
      "L1Loss модели на тестовой выборке 2.627553701400757\n"
     ]
    },
    {
     "name": "stderr",
     "output_type": "stream",
     "text": [
      " 32%|███▏      | 297/927 [40:40<1:54:24, 10.90s/it]"
     ]
    },
    {
     "name": "stdout",
     "output_type": "stream",
     "text": [
      "Loss with opt features: 0.0232\n",
      "L1Loss модели на обучающей выборке 0.28535792231559753\n",
      "L1Loss модели на тестовой выборке 0.5760101675987244\n"
     ]
    },
    {
     "name": "stderr",
     "output_type": "stream",
     "text": [
      " 32%|███▏      | 298/927 [40:55<2:07:58, 12.21s/it]"
     ]
    },
    {
     "name": "stdout",
     "output_type": "stream",
     "text": [
      "Loss with opt features: 3.3892\n",
      "L1Loss модели на обучающей выборке 0.7970876693725586\n",
      "L1Loss модели на тестовой выборке 1.0864386558532715\n",
      "Loss with opt features: 0.0014\n"
     ]
    },
    {
     "name": "stderr",
     "output_type": "stream",
     "text": [
      " 32%|███▏      | 299/927 [41:03<1:54:02, 10.90s/it]"
     ]
    },
    {
     "name": "stdout",
     "output_type": "stream",
     "text": [
      "L1Loss модели на обучающей выборке 2.5232536792755127\n",
      "L1Loss модели на тестовой выборке 3.560696840286255\n"
     ]
    },
    {
     "name": "stderr",
     "output_type": "stream",
     "text": [
      " 32%|███▏      | 300/927 [41:09<1:40:27,  9.61s/it]"
     ]
    },
    {
     "name": "stdout",
     "output_type": "stream",
     "text": [
      "Loss with opt features: 0.0517\n",
      "L1Loss модели на обучающей выборке 0.1469646692276001\n",
      "L1Loss модели на тестовой выборке 0.3035860061645508\n",
      "Loss with opt features: 8.0618\n"
     ]
    },
    {
     "name": "stderr",
     "output_type": "stream",
     "text": [
      " 32%|███▏      | 301/927 [41:22<1:50:15, 10.57s/it]"
     ]
    },
    {
     "name": "stdout",
     "output_type": "stream",
     "text": [
      "L1Loss модели на обучающей выборке 1.8405438661575317\n",
      "L1Loss модели на тестовой выборке 2.6432297229766846\n"
     ]
    },
    {
     "name": "stderr",
     "output_type": "stream",
     "text": [
      " 33%|███▎      | 302/927 [41:28<1:36:00,  9.22s/it]"
     ]
    },
    {
     "name": "stdout",
     "output_type": "stream",
     "text": [
      "Loss with opt features: 0.0211\n",
      "L1Loss модели на обучающей выборке 0.46595290303230286\n",
      "L1Loss модели на тестовой выборке 0.8145552277565002\n"
     ]
    },
    {
     "name": "stderr",
     "output_type": "stream",
     "text": [
      " 33%|███▎      | 303/927 [41:41<1:46:36, 10.25s/it]"
     ]
    },
    {
     "name": "stdout",
     "output_type": "stream",
     "text": [
      "Loss with opt features: 0.0232\n",
      "L1Loss модели на обучающей выборке 0.6502951383590698\n",
      "L1Loss модели на тестовой выборке 1.0796114206314087\n"
     ]
    },
    {
     "name": "stderr",
     "output_type": "stream",
     "text": [
      " 33%|███▎      | 304/927 [41:53<1:51:40, 10.75s/it]"
     ]
    },
    {
     "name": "stdout",
     "output_type": "stream",
     "text": [
      "Loss with opt features: 3.1493\n",
      "L1Loss модели на обучающей выборке 0.09228566288948059\n",
      "L1Loss модели на тестовой выборке 0.15423722565174103\n",
      "Loss with opt features: 6.7659\n"
     ]
    },
    {
     "name": "stderr",
     "output_type": "stream",
     "text": [
      " 33%|███▎      | 305/927 [42:06<1:58:40, 11.45s/it]"
     ]
    },
    {
     "name": "stdout",
     "output_type": "stream",
     "text": [
      "L1Loss модели на обучающей выборке 0.5784909725189209\n",
      "L1Loss модели на тестовой выборке 0.7591552734375\n"
     ]
    },
    {
     "name": "stderr",
     "output_type": "stream",
     "text": [
      " 33%|███▎      | 306/927 [42:14<1:47:47, 10.41s/it]"
     ]
    },
    {
     "name": "stdout",
     "output_type": "stream",
     "text": [
      "Loss with opt features: 2.0645\n",
      "L1Loss модели на обучающей выборке 0.3392580449581146\n",
      "L1Loss модели на тестовой выборке 0.47433531284332275\n"
     ]
    },
    {
     "name": "stderr",
     "output_type": "stream",
     "text": [
      " 33%|███▎      | 307/927 [42:25<1:50:36, 10.70s/it]"
     ]
    },
    {
     "name": "stdout",
     "output_type": "stream",
     "text": [
      "Loss with opt features: 0.0278\n",
      "L1Loss модели на обучающей выборке 0.01659390516579151\n",
      "L1Loss модели на тестовой выборке 0.027942784130573273\n",
      "Loss with opt features: 4.7210\n"
     ]
    },
    {
     "name": "stderr",
     "output_type": "stream",
     "text": [
      " 33%|███▎      | 308/927 [42:37<1:53:59, 11.05s/it]"
     ]
    },
    {
     "name": "stdout",
     "output_type": "stream",
     "text": [
      "L1Loss модели на обучающей выборке 3.366981267929077\n",
      "L1Loss модели на тестовой выборке 3.033924102783203\n"
     ]
    },
    {
     "name": "stderr",
     "output_type": "stream",
     "text": [
      " 33%|███▎      | 309/927 [42:41<1:31:47,  8.91s/it]"
     ]
    },
    {
     "name": "stdout",
     "output_type": "stream",
     "text": [
      "Loss with opt features: 0.0085\n",
      "L1Loss модели на обучающей выборке 2.396240472793579\n",
      "L1Loss модели на тестовой выборке 1.6979478597640991\n",
      "Loss with opt features: 0.0196\n"
     ]
    },
    {
     "name": "stderr",
     "output_type": "stream",
     "text": [
      " 33%|███▎      | 310/927 [42:53<1:40:40,  9.79s/it]"
     ]
    },
    {
     "name": "stdout",
     "output_type": "stream",
     "text": [
      "L1Loss модели на обучающей выборке 0.2327384352684021\n",
      "L1Loss модели на тестовой выборке 0.3004961609840393\n",
      "Loss with opt features: 3.7184\n"
     ]
    },
    {
     "name": "stderr",
     "output_type": "stream",
     "text": [
      " 34%|███▎      | 311/927 [43:02<1:39:26,  9.69s/it]"
     ]
    },
    {
     "name": "stdout",
     "output_type": "stream",
     "text": [
      "L1Loss модели на обучающей выборке 3.326955795288086\n",
      "L1Loss модели на тестовой выборке 4.479569911956787\n",
      "Loss with opt features: 0.9766\n"
     ]
    },
    {
     "name": "stderr",
     "output_type": "stream",
     "text": [
      " 34%|███▎      | 312/927 [43:09<1:28:17,  8.61s/it]"
     ]
    },
    {
     "name": "stdout",
     "output_type": "stream",
     "text": [
      "L1Loss модели на обучающей выборке 3.3616061210632324\n",
      "L1Loss модели на тестовой выборке 3.13623309135437\n"
     ]
    },
    {
     "name": "stderr",
     "output_type": "stream",
     "text": [
      " 34%|███▍      | 313/927 [43:13<1:15:02,  7.33s/it]"
     ]
    },
    {
     "name": "stdout",
     "output_type": "stream",
     "text": [
      "Loss with opt features: 0.0266\n",
      "L1Loss модели на обучающей выборке 1.8576101064682007\n",
      "L1Loss модели на тестовой выборке 2.285999059677124\n",
      "Loss with opt features: 0.2312\n"
     ]
    },
    {
     "name": "stderr",
     "output_type": "stream",
     "text": [
      " 34%|███▍      | 314/927 [43:24<1:27:09,  8.53s/it]"
     ]
    },
    {
     "name": "stdout",
     "output_type": "stream",
     "text": [
      "L1Loss модели на обучающей выборке 2.116964340209961\n",
      "L1Loss модели на тестовой выборке 2.0627472400665283\n",
      "Loss with opt features: 0.0181\n"
     ]
    },
    {
     "name": "stderr",
     "output_type": "stream",
     "text": [
      " 34%|███▍      | 315/927 [43:29<1:14:42,  7.32s/it]"
     ]
    },
    {
     "name": "stdout",
     "output_type": "stream",
     "text": [
      "L1Loss модели на обучающей выборке 3.293069362640381\n",
      "L1Loss модели на тестовой выборке 4.494555950164795\n"
     ]
    },
    {
     "name": "stderr",
     "output_type": "stream",
     "text": [
      " 34%|███▍      | 316/927 [43:37<1:18:18,  7.69s/it]"
     ]
    },
    {
     "name": "stdout",
     "output_type": "stream",
     "text": [
      "Loss with opt features: 0.1105\n",
      "L1Loss модели на обучающей выборке 6.5061516761779785\n",
      "L1Loss модели на тестовой выборке 9.637750625610352\n",
      "Loss with opt features: 0.0852\n"
     ]
    },
    {
     "name": "stderr",
     "output_type": "stream",
     "text": [
      " 34%|███▍      | 317/927 [43:46<1:21:32,  8.02s/it]"
     ]
    },
    {
     "name": "stdout",
     "output_type": "stream",
     "text": [
      "L1Loss модели на обучающей выборке 2.085660934448242\n",
      "L1Loss модели на тестовой выборке 2.159764051437378\n"
     ]
    },
    {
     "name": "stderr",
     "output_type": "stream",
     "text": [
      " 34%|███▍      | 318/927 [43:51<1:10:55,  6.99s/it]"
     ]
    },
    {
     "name": "stdout",
     "output_type": "stream",
     "text": [
      "Loss with opt features: 0.0270\n",
      "L1Loss модели на обучающей выборке 1.6546937227249146\n",
      "L1Loss модели на тестовой выборке 1.9467332363128662\n",
      "Loss with opt features: 0.0220\n"
     ]
    },
    {
     "name": "stderr",
     "output_type": "stream",
     "text": [
      " 34%|███▍      | 319/927 [43:55<1:04:09,  6.33s/it]"
     ]
    },
    {
     "name": "stdout",
     "output_type": "stream",
     "text": [
      "L1Loss модели на обучающей выборке 0.06372273713350296\n",
      "L1Loss модели на тестовой выборке 0.0891856998205185\n"
     ]
    },
    {
     "name": "stderr",
     "output_type": "stream",
     "text": [
      " 35%|███▍      | 320/927 [44:10<1:27:38,  8.66s/it]"
     ]
    },
    {
     "name": "stdout",
     "output_type": "stream",
     "text": [
      "Loss with opt features: 4.6696\n",
      "L1Loss модели на обучающей выборке 1.5821599960327148\n",
      "L1Loss модели на тестовой выборке 1.7010197639465332\n"
     ]
    },
    {
     "name": "stderr",
     "output_type": "stream",
     "text": [
      " 35%|███▍      | 321/927 [44:15<1:17:39,  7.69s/it]"
     ]
    },
    {
     "name": "stdout",
     "output_type": "stream",
     "text": [
      "Loss with opt features: 0.0147\n",
      "L1Loss модели на обучающей выборке 0.5542128086090088\n",
      "L1Loss модели на тестовой выборке 0.9466150999069214\n",
      "Loss with opt features: 0.1689\n"
     ]
    },
    {
     "name": "stderr",
     "output_type": "stream",
     "text": [
      " 35%|███▍      | 322/927 [44:29<1:36:46,  9.60s/it]"
     ]
    },
    {
     "name": "stdout",
     "output_type": "stream",
     "text": [
      "L1Loss модели на обучающей выборке 6.282296657562256\n",
      "L1Loss модели на тестовой выборке 8.97215747833252\n",
      "Loss with opt features: 0.0166\n"
     ]
    },
    {
     "name": "stderr",
     "output_type": "stream",
     "text": [
      " 35%|███▍      | 323/927 [44:38<1:35:16,  9.46s/it]"
     ]
    },
    {
     "name": "stdout",
     "output_type": "stream",
     "text": [
      "L1Loss модели на обучающей выборке 3.0853514671325684\n",
      "L1Loss модели на тестовой выборке 4.517456531524658\n"
     ]
    },
    {
     "name": "stderr",
     "output_type": "stream",
     "text": [
      " 35%|███▍      | 324/927 [44:44<1:24:26,  8.40s/it]"
     ]
    },
    {
     "name": "stdout",
     "output_type": "stream",
     "text": [
      "Loss with opt features: 0.0165\n",
      "L1Loss модели на обучающей выборке 1.6661471128463745\n",
      "L1Loss модели на тестовой выборке 1.4870208501815796\n"
     ]
    },
    {
     "name": "stderr",
     "output_type": "stream",
     "text": [
      " 35%|███▌      | 325/927 [44:49<1:14:41,  7.45s/it]"
     ]
    },
    {
     "name": "stdout",
     "output_type": "stream",
     "text": [
      "Loss with opt features: 0.0155\n",
      "L1Loss модели на обучающей выборке 0.6650189161300659\n",
      "L1Loss модели на тестовой выборке 1.0176937580108643\n"
     ]
    },
    {
     "name": "stderr",
     "output_type": "stream",
     "text": [
      " 35%|███▌      | 326/927 [44:55<1:09:15,  6.91s/it]"
     ]
    },
    {
     "name": "stdout",
     "output_type": "stream",
     "text": [
      "Loss with opt features: 0.6796\n",
      "L1Loss модели на обучающей выборке 3.9960694313049316\n",
      "L1Loss модели на тестовой выборке 3.507974863052368\n"
     ]
    },
    {
     "name": "stderr",
     "output_type": "stream",
     "text": [
      " 35%|███▌      | 327/927 [45:00<1:04:47,  6.48s/it]"
     ]
    },
    {
     "name": "stdout",
     "output_type": "stream",
     "text": [
      "Loss with opt features: 0.0065\n",
      "L1Loss модели на обучающей выборке 0.8120424747467041\n",
      "L1Loss модели на тестовой выборке 1.409726619720459\n"
     ]
    },
    {
     "name": "stderr",
     "output_type": "stream",
     "text": [
      " 35%|███▌      | 328/927 [45:14<1:27:00,  8.72s/it]"
     ]
    },
    {
     "name": "stdout",
     "output_type": "stream",
     "text": [
      "Loss with opt features: 0.0291\n",
      "L1Loss модели на обучающей выборке 3.0297415256500244\n",
      "L1Loss модели на тестовой выборке 3.6167304515838623\n"
     ]
    },
    {
     "name": "stderr",
     "output_type": "stream",
     "text": [
      " 35%|███▌      | 329/927 [45:22<1:22:28,  8.28s/it]"
     ]
    },
    {
     "name": "stdout",
     "output_type": "stream",
     "text": [
      "Loss with opt features: 0.0033\n",
      "L1Loss модели на обучающей выборке 0.7411786913871765\n",
      "L1Loss модели на тестовой выборке 1.182725429534912\n"
     ]
    },
    {
     "name": "stderr",
     "output_type": "stream",
     "text": [
      " 36%|███▌      | 330/927 [45:29<1:18:52,  7.93s/it]"
     ]
    },
    {
     "name": "stdout",
     "output_type": "stream",
     "text": [
      "Loss with opt features: 0.7386\n",
      "L1Loss модели на обучающей выборке 0.5476158857345581\n",
      "L1Loss модели на тестовой выборке 0.6815198659896851\n"
     ]
    },
    {
     "name": "stderr",
     "output_type": "stream",
     "text": [
      " 36%|███▌      | 331/927 [45:41<1:30:22,  9.10s/it]"
     ]
    },
    {
     "name": "stdout",
     "output_type": "stream",
     "text": [
      "Loss with opt features: 1.8808\n",
      "L1Loss модели на обучающей выборке 0.12522593140602112\n",
      "L1Loss модели на тестовой выборке 0.22053787112236023\n"
     ]
    },
    {
     "name": "stderr",
     "output_type": "stream",
     "text": [
      " 36%|███▌      | 332/927 [45:56<1:50:20, 11.13s/it]"
     ]
    },
    {
     "name": "stdout",
     "output_type": "stream",
     "text": [
      "Loss with opt features: 4.8002\n",
      "L1Loss модели на обучающей выборке 2.7869784832000732\n",
      "L1Loss модели на тестовой выборке 3.8252007961273193\n"
     ]
    },
    {
     "name": "stderr",
     "output_type": "stream",
     "text": [
      " 36%|███▌      | 333/927 [46:05<1:41:26, 10.25s/it]"
     ]
    },
    {
     "name": "stdout",
     "output_type": "stream",
     "text": [
      "Loss with opt features: 0.0016\n",
      "L1Loss модели на обучающей выборке 3.5644192695617676\n",
      "L1Loss модели на тестовой выборке 3.5432043075561523\n"
     ]
    },
    {
     "name": "stderr",
     "output_type": "stream",
     "text": [
      " 36%|███▌      | 334/927 [46:11<1:28:34,  8.96s/it]"
     ]
    },
    {
     "name": "stdout",
     "output_type": "stream",
     "text": [
      "Loss with opt features: 0.0001\n",
      "L1Loss модели на обучающей выборке 1.3513596057891846\n",
      "L1Loss модели на тестовой выборке 2.500173807144165\n"
     ]
    },
    {
     "name": "stderr",
     "output_type": "stream",
     "text": [
      " 36%|███▌      | 335/927 [46:23<1:38:29,  9.98s/it]"
     ]
    },
    {
     "name": "stdout",
     "output_type": "stream",
     "text": [
      "Loss with opt features: 0.0696\n",
      "L1Loss модели на обучающей выборке 2.0700323581695557\n",
      "L1Loss модели на тестовой выборке 3.2845876216888428\n"
     ]
    },
    {
     "name": "stderr",
     "output_type": "stream",
     "text": [
      " 36%|███▌      | 336/927 [46:34<1:40:11, 10.17s/it]"
     ]
    },
    {
     "name": "stdout",
     "output_type": "stream",
     "text": [
      "Loss with opt features: 3.8007\n",
      "L1Loss модели на обучающей выборке 2.8770084381103516\n",
      "L1Loss модели на тестовой выборке 3.205397605895996\n"
     ]
    },
    {
     "name": "stderr",
     "output_type": "stream",
     "text": [
      " 36%|███▋      | 337/927 [46:39<1:26:59,  8.85s/it]"
     ]
    },
    {
     "name": "stdout",
     "output_type": "stream",
     "text": [
      "Loss with opt features: 0.0173\n",
      "L1Loss модели на обучающей выборке 2.162193536758423\n",
      "L1Loss модели на тестовой выборке 3.459233522415161\n"
     ]
    },
    {
     "name": "stderr",
     "output_type": "stream",
     "text": [
      " 36%|███▋      | 338/927 [46:53<1:41:20, 10.32s/it]"
     ]
    },
    {
     "name": "stdout",
     "output_type": "stream",
     "text": [
      "Loss with opt features: 0.0544\n",
      "L1Loss модели на обучающей выборке 1.4772387742996216\n",
      "L1Loss модели на тестовой выборке 2.0749704837799072\n"
     ]
    },
    {
     "name": "stderr",
     "output_type": "stream",
     "text": [
      " 37%|███▋      | 339/927 [47:00<1:31:55,  9.38s/it]"
     ]
    },
    {
     "name": "stdout",
     "output_type": "stream",
     "text": [
      "Loss with opt features: 0.0377\n",
      "L1Loss модели на обучающей выборке 1.015058159828186\n",
      "L1Loss модели на тестовой выборке 1.6371256113052368\n"
     ]
    },
    {
     "name": "stderr",
     "output_type": "stream",
     "text": [
      " 37%|███▋      | 340/927 [47:08<1:28:20,  9.03s/it]"
     ]
    },
    {
     "name": "stdout",
     "output_type": "stream",
     "text": [
      "Loss with opt features: 0.0128\n",
      "L1Loss модели на обучающей выборке 2.9495019912719727\n",
      "L1Loss модели на тестовой выборке 3.322507381439209\n"
     ]
    },
    {
     "name": "stderr",
     "output_type": "stream",
     "text": [
      " 37%|███▋      | 341/927 [47:14<1:18:33,  8.04s/it]"
     ]
    },
    {
     "name": "stdout",
     "output_type": "stream",
     "text": [
      "Loss with opt features: 0.0122\n",
      "L1Loss модели на обучающей выборке 1.931928277015686\n",
      "L1Loss модели на тестовой выборке 1.7742503881454468\n"
     ]
    },
    {
     "name": "stderr",
     "output_type": "stream",
     "text": [
      " 37%|███▋      | 342/927 [47:24<1:23:17,  8.54s/it]"
     ]
    },
    {
     "name": "stdout",
     "output_type": "stream",
     "text": [
      "Loss with opt features: 0.0030\n",
      "L1Loss модели на обучающей выборке 1.13111412525177\n",
      "L1Loss модели на тестовой выборке 1.4859532117843628\n"
     ]
    },
    {
     "name": "stderr",
     "output_type": "stream",
     "text": [
      " 37%|███▋      | 343/927 [47:34<1:27:27,  8.99s/it]"
     ]
    },
    {
     "name": "stdout",
     "output_type": "stream",
     "text": [
      "Loss with opt features: 0.0077\n",
      "L1Loss модели на обучающей выборке 2.8194284439086914\n",
      "L1Loss модели на тестовой выборке 2.449097156524658\n"
     ]
    },
    {
     "name": "stderr",
     "output_type": "stream",
     "text": [
      " 37%|███▋      | 344/927 [47:40<1:17:54,  8.02s/it]"
     ]
    },
    {
     "name": "stdout",
     "output_type": "stream",
     "text": [
      "Loss with opt features: 0.0089\n",
      "L1Loss модели на обучающей выборке 2.1512644290924072\n",
      "L1Loss модели на тестовой выборке 3.226905584335327\n"
     ]
    },
    {
     "name": "stderr",
     "output_type": "stream",
     "text": [
      " 37%|███▋      | 345/927 [47:48<1:18:23,  8.08s/it]"
     ]
    },
    {
     "name": "stdout",
     "output_type": "stream",
     "text": [
      "Loss with opt features: 4.2048\n",
      "L1Loss модели на обучающей выборке 0.30272531509399414\n",
      "L1Loss модели на тестовой выборке 0.37515321373939514\n"
     ]
    },
    {
     "name": "stderr",
     "output_type": "stream",
     "text": [
      " 37%|███▋      | 346/927 [48:03<1:38:11, 10.14s/it]"
     ]
    },
    {
     "name": "stdout",
     "output_type": "stream",
     "text": [
      "Loss with opt features: 1.3716\n",
      "L1Loss модели на обучающей выборке 1.672088623046875\n",
      "L1Loss модели на тестовой выборке 2.1879966259002686\n"
     ]
    },
    {
     "name": "stderr",
     "output_type": "stream",
     "text": [
      " 37%|███▋      | 347/927 [48:12<1:34:20,  9.76s/it]"
     ]
    },
    {
     "name": "stdout",
     "output_type": "stream",
     "text": [
      "Loss with opt features: 0.0212\n",
      "L1Loss модели на обучающей выборке 2.493318796157837\n",
      "L1Loss модели на тестовой выборке 3.0434908866882324\n"
     ]
    },
    {
     "name": "stderr",
     "output_type": "stream",
     "text": [
      " 38%|███▊      | 348/927 [48:23<1:38:28, 10.20s/it]"
     ]
    },
    {
     "name": "stdout",
     "output_type": "stream",
     "text": [
      "Loss with opt features: 0.0072\n",
      "L1Loss модели на обучающей выборке 0.4000685513019562\n",
      "L1Loss модели на тестовой выборке 0.4784548878669739\n"
     ]
    },
    {
     "name": "stderr",
     "output_type": "stream",
     "text": [
      " 38%|███▊      | 349/927 [48:35<1:43:45, 10.77s/it]"
     ]
    },
    {
     "name": "stdout",
     "output_type": "stream",
     "text": [
      "Loss with opt features: 3.3380\n",
      "L1Loss модели на обучающей выборке 0.2895347774028778\n",
      "L1Loss модели на тестовой выборке 0.5325070023536682\n"
     ]
    },
    {
     "name": "stderr",
     "output_type": "stream",
     "text": [
      " 38%|███▊      | 350/927 [48:45<1:41:11, 10.52s/it]"
     ]
    },
    {
     "name": "stdout",
     "output_type": "stream",
     "text": [
      "Loss with opt features: 4.8420\n",
      "L1Loss модели на обучающей выборке 1.332033395767212\n",
      "L1Loss модели на тестовой выборке 1.964658260345459\n"
     ]
    },
    {
     "name": "stderr",
     "output_type": "stream",
     "text": [
      " 38%|███▊      | 351/927 [48:51<1:27:38,  9.13s/it]"
     ]
    },
    {
     "name": "stdout",
     "output_type": "stream",
     "text": [
      "Loss with opt features: 1.5772\n",
      "L1Loss модели на обучающей выборке 0.38571402430534363\n",
      "L1Loss модели на тестовой выборке 0.5544443726539612\n"
     ]
    },
    {
     "name": "stderr",
     "output_type": "stream",
     "text": [
      " 38%|███▊      | 352/927 [49:01<1:29:33,  9.35s/it]"
     ]
    },
    {
     "name": "stdout",
     "output_type": "stream",
     "text": [
      "Loss with opt features: 3.8447\n",
      "L1Loss модели на обучающей выборке 0.11933833360671997\n",
      "L1Loss модели на тестовой выборке 0.16260647773742676\n"
     ]
    },
    {
     "name": "stderr",
     "output_type": "stream",
     "text": [
      " 38%|███▊      | 353/927 [49:15<1:42:44, 10.74s/it]"
     ]
    },
    {
     "name": "stdout",
     "output_type": "stream",
     "text": [
      "Loss with opt features: 5.8489\n",
      "L1Loss модели на обучающей выборке 0.2952554225921631\n",
      "L1Loss модели на тестовой выборке 0.5342046618461609\n"
     ]
    },
    {
     "name": "stderr",
     "output_type": "stream",
     "text": [
      " 38%|███▊      | 354/927 [49:28<1:49:35, 11.47s/it]"
     ]
    },
    {
     "name": "stdout",
     "output_type": "stream",
     "text": [
      "Loss with opt features: 4.0658\n",
      "L1Loss модели на обучающей выборке 2.5450611114501953\n",
      "L1Loss модели на тестовой выборке 3.673146963119507\n"
     ]
    },
    {
     "name": "stderr",
     "output_type": "stream",
     "text": [
      " 38%|███▊      | 355/927 [49:36<1:40:02, 10.49s/it]"
     ]
    },
    {
     "name": "stdout",
     "output_type": "stream",
     "text": [
      "Loss with opt features: 4.6254\n",
      "L1Loss модели на обучающей выборке 0.73945552110672\n",
      "L1Loss модели на тестовой выборке 1.405094027519226\n"
     ]
    },
    {
     "name": "stderr",
     "output_type": "stream",
     "text": [
      " 38%|███▊      | 356/927 [49:50<1:50:20, 11.59s/it]"
     ]
    },
    {
     "name": "stdout",
     "output_type": "stream",
     "text": [
      "Loss with opt features: 0.8557\n",
      "L1Loss модели на обучающей выборке 0.6532033681869507\n",
      "L1Loss модели на тестовой выборке 1.0535998344421387\n"
     ]
    },
    {
     "name": "stderr",
     "output_type": "stream",
     "text": [
      " 39%|███▊      | 357/927 [50:02<1:51:52, 11.78s/it]"
     ]
    },
    {
     "name": "stdout",
     "output_type": "stream",
     "text": [
      "Loss with opt features: 4.1087\n",
      "L1Loss модели на обучающей выборке 1.0396718978881836\n",
      "L1Loss модели на тестовой выборке 1.8767262697219849\n"
     ]
    },
    {
     "name": "stderr",
     "output_type": "stream",
     "text": [
      " 39%|███▊      | 358/927 [50:15<1:53:21, 11.95s/it]"
     ]
    },
    {
     "name": "stdout",
     "output_type": "stream",
     "text": [
      "Loss with opt features: 0.0039\n",
      "L1Loss модели на обучающей выборке 0.5384610295295715\n",
      "L1Loss модели на тестовой выборке 0.6310194730758667\n"
     ]
    },
    {
     "name": "stderr",
     "output_type": "stream",
     "text": [
      " 39%|███▊      | 359/927 [50:23<1:41:44, 10.75s/it]"
     ]
    },
    {
     "name": "stdout",
     "output_type": "stream",
     "text": [
      "Loss with opt features: 0.0265\n",
      "L1Loss модели на обучающей выборке 1.4341599941253662\n",
      "L1Loss модели на тестовой выборке 1.3948290348052979\n"
     ]
    },
    {
     "name": "stderr",
     "output_type": "stream",
     "text": [
      " 39%|███▉      | 360/927 [50:30<1:31:00,  9.63s/it]"
     ]
    },
    {
     "name": "stdout",
     "output_type": "stream",
     "text": [
      "Loss with opt features: 3.0632\n",
      "L1Loss модели на обучающей выборке 0.7934356927871704\n",
      "L1Loss модели на тестовой выборке 0.9744323492050171\n"
     ]
    },
    {
     "name": "stderr",
     "output_type": "stream",
     "text": [
      " 39%|███▉      | 361/927 [50:38<1:26:17,  9.15s/it]"
     ]
    },
    {
     "name": "stdout",
     "output_type": "stream",
     "text": [
      "Loss with opt features: 0.2023\n",
      "L1Loss модели на обучающей выборке 0.844346284866333\n",
      "L1Loss модели на тестовой выборке 1.138391375541687\n"
     ]
    },
    {
     "name": "stderr",
     "output_type": "stream",
     "text": [
      " 39%|███▉      | 362/927 [50:48<1:28:07,  9.36s/it]"
     ]
    },
    {
     "name": "stdout",
     "output_type": "stream",
     "text": [
      "Loss with opt features: 4.8691\n",
      "L1Loss модели на обучающей выборке 0.6972054243087769\n",
      "L1Loss модели на тестовой выборке 0.6670358180999756\n"
     ]
    },
    {
     "name": "stderr",
     "output_type": "stream",
     "text": [
      " 39%|███▉      | 363/927 [50:55<1:21:40,  8.69s/it]"
     ]
    },
    {
     "name": "stdout",
     "output_type": "stream",
     "text": [
      "Loss with opt features: 0.0075\n",
      "L1Loss модели на обучающей выборке 1.3361496925354004\n",
      "L1Loss модели на тестовой выборке 1.6151378154754639\n"
     ]
    },
    {
     "name": "stderr",
     "output_type": "stream",
     "text": [
      " 39%|███▉      | 364/927 [51:01<1:14:20,  7.92s/it]"
     ]
    },
    {
     "name": "stdout",
     "output_type": "stream",
     "text": [
      "Loss with opt features: 0.0173\n",
      "L1Loss модели на обучающей выборке 3.3781840801239014\n",
      "L1Loss модели на тестовой выборке 4.306758403778076\n"
     ]
    },
    {
     "name": "stderr",
     "output_type": "stream",
     "text": [
      " 39%|███▉      | 365/927 [51:12<1:24:04,  8.98s/it]"
     ]
    },
    {
     "name": "stdout",
     "output_type": "stream",
     "text": [
      "Loss with opt features: 0.0278\n",
      "L1Loss модели на обучающей выборке 0.6168949007987976\n",
      "L1Loss модели на тестовой выборке 0.7914631962776184\n"
     ]
    },
    {
     "name": "stderr",
     "output_type": "stream",
     "text": [
      " 39%|███▉      | 366/927 [51:22<1:26:59,  9.30s/it]"
     ]
    },
    {
     "name": "stdout",
     "output_type": "stream",
     "text": [
      "Loss with opt features: 2.1837\n",
      "L1Loss модели на обучающей выборке 0.3857126235961914\n",
      "L1Loss модели на тестовой выборке 0.6274921894073486\n"
     ]
    },
    {
     "name": "stderr",
     "output_type": "stream",
     "text": [
      " 40%|███▉      | 367/927 [51:31<1:26:01,  9.22s/it]"
     ]
    },
    {
     "name": "stdout",
     "output_type": "stream",
     "text": [
      "Loss with opt features: 0.1834\n",
      "L1Loss модели на обучающей выборке 1.5816901922225952\n",
      "L1Loss модели на тестовой выборке 2.150571584701538\n"
     ]
    },
    {
     "name": "stderr",
     "output_type": "stream",
     "text": [
      " 40%|███▉      | 368/927 [51:39<1:20:05,  8.60s/it]"
     ]
    },
    {
     "name": "stdout",
     "output_type": "stream",
     "text": [
      "Loss with opt features: 0.0226\n",
      "L1Loss модели на обучающей выборке 0.4899803698062897\n",
      "L1Loss модели на тестовой выборке 0.6940317153930664\n"
     ]
    },
    {
     "name": "stderr",
     "output_type": "stream",
     "text": [
      " 40%|███▉      | 369/927 [51:49<1:25:45,  9.22s/it]"
     ]
    },
    {
     "name": "stdout",
     "output_type": "stream",
     "text": [
      "Loss with opt features: 0.6484\n",
      "L1Loss модели на обучающей выборке 2.2987327575683594\n",
      "L1Loss модели на тестовой выборке 2.878070592880249\n"
     ]
    },
    {
     "name": "stderr",
     "output_type": "stream",
     "text": [
      " 40%|███▉      | 370/927 [51:58<1:22:51,  8.93s/it]"
     ]
    },
    {
     "name": "stdout",
     "output_type": "stream",
     "text": [
      "Loss with opt features: 0.0066\n",
      "L1Loss модели на обучающей выборке 2.344589948654175\n",
      "L1Loss модели на тестовой выборке 2.3426709175109863\n"
     ]
    },
    {
     "name": "stderr",
     "output_type": "stream",
     "text": [
      " 40%|████      | 371/927 [52:04<1:16:22,  8.24s/it]"
     ]
    },
    {
     "name": "stdout",
     "output_type": "stream",
     "text": [
      "Loss with opt features: 0.0017\n",
      "L1Loss модели на обучающей выборке 0.03534305840730667\n",
      "L1Loss модели на тестовой выборке 0.042134322226047516\n"
     ]
    },
    {
     "name": "stderr",
     "output_type": "stream",
     "text": [
      " 40%|████      | 372/927 [52:19<1:33:11, 10.07s/it]"
     ]
    },
    {
     "name": "stdout",
     "output_type": "stream",
     "text": [
      "Loss with opt features: 0.0010\n",
      "L1Loss модели на обучающей выборке 1.231405258178711\n",
      "L1Loss модели на тестовой выборке 1.3285435438156128\n"
     ]
    },
    {
     "name": "stderr",
     "output_type": "stream",
     "text": [
      " 40%|████      | 373/927 [52:25<1:22:19,  8.92s/it]"
     ]
    },
    {
     "name": "stdout",
     "output_type": "stream",
     "text": [
      "Loss with opt features: 0.0046\n",
      "L1Loss модели на обучающей выборке 0.6464328765869141\n",
      "L1Loss модели на тестовой выборке 0.6757097840309143\n"
     ]
    },
    {
     "name": "stderr",
     "output_type": "stream",
     "text": [
      " 40%|████      | 374/927 [52:32<1:16:38,  8.31s/it]"
     ]
    },
    {
     "name": "stdout",
     "output_type": "stream",
     "text": [
      "Loss with opt features: 0.0191\n",
      "L1Loss модели на обучающей выборке 0.18664227426052094\n",
      "L1Loss модели на тестовой выборке 0.26948118209838867\n"
     ]
    },
    {
     "name": "stderr",
     "output_type": "stream",
     "text": [
      " 40%|████      | 375/927 [52:44<1:26:29,  9.40s/it]"
     ]
    },
    {
     "name": "stdout",
     "output_type": "stream",
     "text": [
      "Loss with opt features: 0.0001\n",
      "L1Loss модели на обучающей выборке 0.8229719400405884\n",
      "L1Loss модели на тестовой выборке 0.8351882696151733\n"
     ]
    },
    {
     "name": "stderr",
     "output_type": "stream",
     "text": [
      " 41%|████      | 376/927 [52:50<1:18:23,  8.54s/it]"
     ]
    },
    {
     "name": "stdout",
     "output_type": "stream",
     "text": [
      "Loss with opt features: 0.0001\n",
      "L1Loss модели на обучающей выборке 1.206375002861023\n",
      "L1Loss модели на тестовой выборке 1.3920167684555054\n"
     ]
    },
    {
     "name": "stderr",
     "output_type": "stream",
     "text": [
      " 41%|████      | 377/927 [52:56<1:09:50,  7.62s/it]"
     ]
    },
    {
     "name": "stdout",
     "output_type": "stream",
     "text": [
      "Loss with opt features: 0.0180\n",
      "L1Loss модели на обучающей выборке 0.6019062995910645\n",
      "L1Loss модели на тестовой выборке 0.5616797804832458\n"
     ]
    },
    {
     "name": "stderr",
     "output_type": "stream",
     "text": [
      " 41%|████      | 378/927 [53:12<1:32:59, 10.16s/it]"
     ]
    },
    {
     "name": "stdout",
     "output_type": "stream",
     "text": [
      "Loss with opt features: 0.0006\n",
      "L1Loss модели на обучающей выборке 0.3463948667049408\n",
      "L1Loss модели на тестовой выборке 0.4025486409664154\n"
     ]
    },
    {
     "name": "stderr",
     "output_type": "stream",
     "text": [
      " 41%|████      | 379/927 [53:34<2:05:11, 13.71s/it]"
     ]
    },
    {
     "name": "stdout",
     "output_type": "stream",
     "text": [
      "Loss with opt features: 0.0083\n",
      "L1Loss модели на обучающей выборке 0.30875861644744873\n",
      "L1Loss модели на тестовой выборке 0.39594000577926636\n"
     ]
    },
    {
     "name": "stderr",
     "output_type": "stream",
     "text": [
      " 41%|████      | 380/927 [53:52<2:18:35, 15.20s/it]"
     ]
    },
    {
     "name": "stdout",
     "output_type": "stream",
     "text": [
      "Loss with opt features: 0.0035\n",
      "L1Loss модели на обучающей выборке 0.784041702747345\n",
      "L1Loss модели на тестовой выборке 0.7973170876502991\n"
     ]
    },
    {
     "name": "stderr",
     "output_type": "stream",
     "text": [
      " 41%|████      | 381/927 [53:59<1:54:13, 12.55s/it]"
     ]
    },
    {
     "name": "stdout",
     "output_type": "stream",
     "text": [
      "Loss with opt features: 0.0098\n",
      "L1Loss модели на обучающей выборке 0.07417173683643341\n",
      "L1Loss модели на тестовой выборке 0.11434732377529144\n"
     ]
    },
    {
     "name": "stderr",
     "output_type": "stream",
     "text": [
      " 41%|████      | 382/927 [54:12<1:57:12, 12.90s/it]"
     ]
    },
    {
     "name": "stdout",
     "output_type": "stream",
     "text": [
      "Loss with opt features: 0.0005\n",
      "L1Loss модели на обучающей выборке 0.06959309428930283\n",
      "L1Loss модели на тестовой выборке 0.07637809962034225\n"
     ]
    },
    {
     "name": "stderr",
     "output_type": "stream",
     "text": [
      " 41%|████▏     | 383/927 [54:27<2:01:24, 13.39s/it]"
     ]
    },
    {
     "name": "stdout",
     "output_type": "stream",
     "text": [
      "Loss with opt features: 0.0001\n",
      "L1Loss модели на обучающей выборке 0.24267631769180298\n",
      "L1Loss модели на тестовой выборке 0.3354424834251404\n"
     ]
    },
    {
     "name": "stderr",
     "output_type": "stream",
     "text": [
      " 41%|████▏     | 384/927 [54:37<1:53:08, 12.50s/it]"
     ]
    },
    {
     "name": "stdout",
     "output_type": "stream",
     "text": [
      "Loss with opt features: 0.0088\n",
      "L1Loss модели на обучающей выборке 1.0339890718460083\n",
      "L1Loss модели на тестовой выборке 1.1469779014587402\n"
     ]
    },
    {
     "name": "stderr",
     "output_type": "stream",
     "text": [
      " 42%|████▏     | 385/927 [54:43<1:35:33, 10.58s/it]"
     ]
    },
    {
     "name": "stdout",
     "output_type": "stream",
     "text": [
      "Loss with opt features: 0.0007\n",
      "L1Loss модели на обучающей выборке 0.06026516109704971\n",
      "L1Loss модели на тестовой выборке 0.09659881889820099\n"
     ]
    },
    {
     "name": "stderr",
     "output_type": "stream",
     "text": [
      " 42%|████▏     | 386/927 [55:00<1:50:08, 12.22s/it]"
     ]
    },
    {
     "name": "stdout",
     "output_type": "stream",
     "text": [
      "Loss with opt features: 0.0028\n",
      "L1Loss модели на обучающей выборке 0.5405882596969604\n",
      "L1Loss модели на тестовой выборке 0.6426523327827454\n"
     ]
    },
    {
     "name": "stderr",
     "output_type": "stream",
     "text": [
      " 42%|████▏     | 387/927 [55:07<1:37:39, 10.85s/it]"
     ]
    },
    {
     "name": "stdout",
     "output_type": "stream",
     "text": [
      "Loss with opt features: 0.0066\n",
      "L1Loss модели на обучающей выборке 0.3016374707221985\n",
      "L1Loss модели на тестовой выборке 0.3525004982948303\n"
     ]
    },
    {
     "name": "stderr",
     "output_type": "stream",
     "text": [
      " 42%|████▏     | 388/927 [55:19<1:39:30, 11.08s/it]"
     ]
    },
    {
     "name": "stdout",
     "output_type": "stream",
     "text": [
      "Loss with opt features: 0.0039\n",
      "L1Loss модели на обучающей выборке 0.6795883774757385\n",
      "L1Loss модели на тестовой выборке 0.827852189540863\n"
     ]
    },
    {
     "name": "stderr",
     "output_type": "stream",
     "text": [
      " 42%|████▏     | 389/927 [55:27<1:31:49, 10.24s/it]"
     ]
    },
    {
     "name": "stdout",
     "output_type": "stream",
     "text": [
      "Loss with opt features: 0.0060\n",
      "L1Loss модели на обучающей выборке 0.38588982820510864\n",
      "L1Loss модели на тестовой выборке 0.582360029220581\n"
     ]
    },
    {
     "name": "stderr",
     "output_type": "stream",
     "text": [
      " 42%|████▏     | 390/927 [55:37<1:30:05, 10.07s/it]"
     ]
    },
    {
     "name": "stdout",
     "output_type": "stream",
     "text": [
      "Loss with opt features: 0.0137\n",
      "L1Loss модели на обучающей выборке 0.7444483041763306\n",
      "L1Loss модели на тестовой выборке 1.0403707027435303\n"
     ]
    },
    {
     "name": "stderr",
     "output_type": "stream",
     "text": [
      " 42%|████▏     | 391/927 [55:43<1:19:50,  8.94s/it]"
     ]
    },
    {
     "name": "stdout",
     "output_type": "stream",
     "text": [
      "Loss with opt features: 0.0022\n",
      "L1Loss модели на обучающей выборке 0.16946767270565033\n",
      "L1Loss модели на тестовой выборке 0.2778570055961609\n"
     ]
    },
    {
     "name": "stderr",
     "output_type": "stream",
     "text": [
      " 42%|████▏     | 392/927 [55:56<1:31:41, 10.28s/it]"
     ]
    },
    {
     "name": "stdout",
     "output_type": "stream",
     "text": [
      "Loss with opt features: 0.0076\n",
      "L1Loss модели на обучающей выборке 1.7096956968307495\n",
      "L1Loss модели на тестовой выборке 1.5241072177886963\n"
     ]
    },
    {
     "name": "stderr",
     "output_type": "stream",
     "text": [
      " 42%|████▏     | 393/927 [56:02<1:18:26,  8.81s/it]"
     ]
    },
    {
     "name": "stdout",
     "output_type": "stream",
     "text": [
      "Loss with opt features: 0.0191\n",
      "L1Loss модели на обучающей выборке 0.37041446566581726\n",
      "L1Loss модели на тестовой выборке 0.4949382543563843\n"
     ]
    },
    {
     "name": "stderr",
     "output_type": "stream",
     "text": [
      " 43%|████▎     | 394/927 [56:10<1:15:30,  8.50s/it]"
     ]
    },
    {
     "name": "stdout",
     "output_type": "stream",
     "text": [
      "Loss with opt features: 0.0014\n",
      "L1Loss модели на обучающей выборке 0.40007278323173523\n",
      "L1Loss модели на тестовой выборке 0.6275404095649719\n"
     ]
    },
    {
     "name": "stderr",
     "output_type": "stream",
     "text": [
      " 43%|████▎     | 395/927 [56:17<1:12:02,  8.13s/it]"
     ]
    },
    {
     "name": "stdout",
     "output_type": "stream",
     "text": [
      "Loss with opt features: 0.0167\n",
      "L1Loss модели на обучающей выборке 0.41349586844444275\n",
      "L1Loss модели на тестовой выборке 0.5729228258132935\n"
     ]
    },
    {
     "name": "stderr",
     "output_type": "stream",
     "text": [
      " 43%|████▎     | 396/927 [56:27<1:16:49,  8.68s/it]"
     ]
    },
    {
     "name": "stdout",
     "output_type": "stream",
     "text": [
      "Loss with opt features: 0.0004\n",
      "L1Loss модели на обучающей выборке 0.06544598191976547\n",
      "L1Loss модели на тестовой выборке 0.11044103652238846\n"
     ]
    },
    {
     "name": "stderr",
     "output_type": "stream",
     "text": [
      " 43%|████▎     | 397/927 [56:41<1:31:16, 10.33s/it]"
     ]
    },
    {
     "name": "stdout",
     "output_type": "stream",
     "text": [
      "Loss with opt features: 0.0013\n",
      "L1Loss модели на обучающей выборке 0.1341637372970581\n",
      "L1Loss модели на тестовой выборке 0.24410726130008698\n"
     ]
    },
    {
     "name": "stderr",
     "output_type": "stream",
     "text": [
      " 43%|████▎     | 398/927 [56:55<1:39:36, 11.30s/it]"
     ]
    },
    {
     "name": "stdout",
     "output_type": "stream",
     "text": [
      "Loss with opt features: 0.0026\n",
      "L1Loss модели на обучающей выборке 0.6470959782600403\n",
      "L1Loss модели на тестовой выборке 0.78413325548172\n"
     ]
    },
    {
     "name": "stderr",
     "output_type": "stream",
     "text": [
      " 43%|████▎     | 399/927 [57:02<1:27:57,  9.99s/it]"
     ]
    },
    {
     "name": "stdout",
     "output_type": "stream",
     "text": [
      "Loss with opt features: 0.0032\n",
      "L1Loss модели на обучающей выборке 0.7798472046852112\n",
      "L1Loss модели на тестовой выборке 0.9025968909263611\n"
     ]
    },
    {
     "name": "stderr",
     "output_type": "stream",
     "text": [
      " 43%|████▎     | 400/927 [57:08<1:17:24,  8.81s/it]"
     ]
    },
    {
     "name": "stdout",
     "output_type": "stream",
     "text": [
      "Loss with opt features: 0.0056\n",
      "L1Loss модели на обучающей выборке 0.26951995491981506\n",
      "L1Loss модели на тестовой выборке 0.31162089109420776\n"
     ]
    },
    {
     "name": "stderr",
     "output_type": "stream",
     "text": [
      " 43%|████▎     | 401/927 [57:16<1:15:43,  8.64s/it]"
     ]
    },
    {
     "name": "stdout",
     "output_type": "stream",
     "text": [
      "Loss with opt features: 0.0078\n",
      "L1Loss модели на обучающей выборке 1.2790805101394653\n",
      "L1Loss модели на тестовой выборке 1.5910650491714478\n"
     ]
    },
    {
     "name": "stderr",
     "output_type": "stream",
     "text": [
      " 43%|████▎     | 402/927 [57:22<1:09:52,  7.99s/it]"
     ]
    },
    {
     "name": "stdout",
     "output_type": "stream",
     "text": [
      "Loss with opt features: 0.0088\n",
      "L1Loss модели на обучающей выборке 0.4655276834964752\n",
      "L1Loss модели на тестовой выборке 0.40004873275756836\n"
     ]
    },
    {
     "name": "stderr",
     "output_type": "stream",
     "text": [
      " 43%|████▎     | 403/927 [57:31<1:11:20,  8.17s/it]"
     ]
    },
    {
     "name": "stdout",
     "output_type": "stream",
     "text": [
      "Loss with opt features: 0.0174\n",
      "L1Loss модели на обучающей выборке 0.936391294002533\n",
      "L1Loss модели на тестовой выборке 0.9714261889457703\n"
     ]
    },
    {
     "name": "stderr",
     "output_type": "stream",
     "text": [
      " 44%|████▎     | 404/927 [57:37<1:06:36,  7.64s/it]"
     ]
    },
    {
     "name": "stdout",
     "output_type": "stream",
     "text": [
      "Loss with opt features: 0.0150\n",
      "L1Loss модели на обучающей выборке 0.15889951586723328\n",
      "L1Loss модели на тестовой выборке 0.19707170128822327\n"
     ]
    },
    {
     "name": "stderr",
     "output_type": "stream",
     "text": [
      " 44%|████▎     | 405/927 [57:54<1:29:12, 10.25s/it]"
     ]
    },
    {
     "name": "stdout",
     "output_type": "stream",
     "text": [
      "Loss with opt features: 0.0004\n",
      "L1Loss модели на обучающей выборке 0.6639248132705688\n",
      "L1Loss модели на тестовой выборке 0.8348886370658875\n"
     ]
    },
    {
     "name": "stderr",
     "output_type": "stream",
     "text": [
      " 44%|████▍     | 406/927 [58:01<1:21:58,  9.44s/it]"
     ]
    },
    {
     "name": "stdout",
     "output_type": "stream",
     "text": [
      "Loss with opt features: 0.0006\n",
      "L1Loss модели на обучающей выборке 1.1849281787872314\n",
      "L1Loss модели на тестовой выборке 1.43482506275177\n"
     ]
    },
    {
     "name": "stderr",
     "output_type": "stream",
     "text": [
      " 44%|████▍     | 407/927 [58:07<1:12:34,  8.37s/it]"
     ]
    },
    {
     "name": "stdout",
     "output_type": "stream",
     "text": [
      "Loss with opt features: 0.0214\n",
      "L1Loss модели на обучающей выборке 0.20118939876556396\n",
      "L1Loss модели на тестовой выборке 0.23181097209453583\n"
     ]
    },
    {
     "name": "stderr",
     "output_type": "stream",
     "text": [
      " 44%|████▍     | 408/927 [58:17<1:16:09,  8.80s/it]"
     ]
    },
    {
     "name": "stdout",
     "output_type": "stream",
     "text": [
      "Loss with opt features: 0.0078\n",
      "L1Loss модели на обучающей выборке 0.742271900177002\n",
      "L1Loss модели на тестовой выборке 1.1491557359695435\n"
     ]
    },
    {
     "name": "stderr",
     "output_type": "stream",
     "text": [
      " 44%|████▍     | 409/927 [58:23<1:08:36,  7.95s/it]"
     ]
    },
    {
     "name": "stdout",
     "output_type": "stream",
     "text": [
      "Loss with opt features: 0.0016\n",
      "L1Loss модели на обучающей выборке 0.029475677758455276\n",
      "L1Loss модели на тестовой выборке 0.05283227935433388\n"
     ]
    },
    {
     "name": "stderr",
     "output_type": "stream",
     "text": [
      " 44%|████▍     | 410/927 [58:39<1:29:34, 10.40s/it]"
     ]
    },
    {
     "name": "stdout",
     "output_type": "stream",
     "text": [
      "Loss with opt features: 0.0013\n",
      "L1Loss модели на обучающей выборке 0.23400580883026123\n",
      "L1Loss модели на тестовой выборке 0.2876134216785431\n"
     ]
    },
    {
     "name": "stderr",
     "output_type": "stream",
     "text": [
      " 44%|████▍     | 411/927 [58:49<1:27:38, 10.19s/it]"
     ]
    },
    {
     "name": "stdout",
     "output_type": "stream",
     "text": [
      "Loss with opt features: 0.0038\n",
      "L1Loss модели на обучающей выборке 0.20235702395439148\n",
      "L1Loss модели на тестовой выборке 0.22573618590831757\n"
     ]
    },
    {
     "name": "stderr",
     "output_type": "stream",
     "text": [
      " 44%|████▍     | 412/927 [59:01<1:32:15, 10.75s/it]"
     ]
    },
    {
     "name": "stdout",
     "output_type": "stream",
     "text": [
      "Loss with opt features: 0.0033\n",
      "L1Loss модели на обучающей выборке 0.7368385195732117\n",
      "L1Loss модели на тестовой выборке 1.148728847503662\n"
     ]
    },
    {
     "name": "stderr",
     "output_type": "stream",
     "text": [
      " 45%|████▍     | 413/927 [59:07<1:21:24,  9.50s/it]"
     ]
    },
    {
     "name": "stdout",
     "output_type": "stream",
     "text": [
      "Loss with opt features: 0.0248\n",
      "L1Loss модели на обучающей выборке 0.16789886355400085\n",
      "L1Loss модели на тестовой выборке 0.20379260182380676\n"
     ]
    },
    {
     "name": "stderr",
     "output_type": "stream",
     "text": [
      " 45%|████▍     | 414/927 [59:22<1:33:53, 10.98s/it]"
     ]
    },
    {
     "name": "stdout",
     "output_type": "stream",
     "text": [
      "Loss with opt features: 0.0038\n",
      "L1Loss модели на обучающей выборке 0.046507444232702255\n",
      "L1Loss модели на тестовой выборке 0.06757422536611557\n"
     ]
    },
    {
     "name": "stderr",
     "output_type": "stream",
     "text": [
      " 45%|████▍     | 415/927 [59:34<1:38:12, 11.51s/it]"
     ]
    },
    {
     "name": "stdout",
     "output_type": "stream",
     "text": [
      "Loss with opt features: 0.0006\n",
      "L1Loss модели на обучающей выборке 1.5773321390151978\n",
      "L1Loss модели на тестовой выборке 1.5324569940567017\n"
     ]
    },
    {
     "name": "stderr",
     "output_type": "stream",
     "text": [
      " 45%|████▍     | 416/927 [59:40<1:22:44,  9.72s/it]"
     ]
    },
    {
     "name": "stdout",
     "output_type": "stream",
     "text": [
      "Loss with opt features: 0.0583\n",
      "L1Loss модели на обучающей выборке 0.3360176980495453\n",
      "L1Loss модели на тестовой выборке 0.44845765829086304\n"
     ]
    },
    {
     "name": "stderr",
     "output_type": "stream",
     "text": [
      " 45%|████▍     | 417/927 [59:49<1:21:04,  9.54s/it]"
     ]
    },
    {
     "name": "stdout",
     "output_type": "stream",
     "text": [
      "Loss with opt features: 0.0119\n",
      "L1Loss модели на обучающей выборке 0.1802031248807907\n",
      "L1Loss модели на тестовой выборке 0.195993110537529\n"
     ]
    },
    {
     "name": "stderr",
     "output_type": "stream",
     "text": [
      " 45%|████▌     | 418/927 [1:00:01<1:26:58, 10.25s/it]"
     ]
    },
    {
     "name": "stdout",
     "output_type": "stream",
     "text": [
      "Loss with opt features: 0.0035\n",
      "L1Loss модели на обучающей выборке 0.17328260838985443\n",
      "L1Loss модели на тестовой выборке 0.24570734798908234\n"
     ]
    },
    {
     "name": "stderr",
     "output_type": "stream",
     "text": [
      " 45%|████▌     | 419/927 [1:00:13<1:32:20, 10.91s/it]"
     ]
    },
    {
     "name": "stdout",
     "output_type": "stream",
     "text": [
      "Loss with opt features: 0.0081\n",
      "L1Loss модели на обучающей выборке 0.3228966295719147\n",
      "L1Loss модели на тестовой выборке 0.4009553790092468\n"
     ]
    },
    {
     "name": "stderr",
     "output_type": "stream",
     "text": [
      " 45%|████▌     | 420/927 [1:00:22<1:27:21, 10.34s/it]"
     ]
    },
    {
     "name": "stdout",
     "output_type": "stream",
     "text": [
      "Loss with opt features: 0.0235\n",
      "L1Loss модели на обучающей выборке 0.3999235928058624\n",
      "L1Loss модели на тестовой выборке 0.43194273114204407\n",
      "Loss with opt features: 0.0028\n"
     ]
    },
    {
     "name": "stderr",
     "output_type": "stream",
     "text": [
      " 45%|████▌     | 421/927 [1:00:32<1:24:41, 10.04s/it]"
     ]
    },
    {
     "name": "stdout",
     "output_type": "stream",
     "text": [
      "L1Loss модели на обучающей выборке 0.03384330868721008\n",
      "L1Loss модели на тестовой выборке 0.0675373524427414\n",
      "Loss with opt features: 0.0009\n"
     ]
    },
    {
     "name": "stderr",
     "output_type": "stream",
     "text": [
      " 46%|████▌     | 422/927 [1:00:45<1:31:45, 10.90s/it]"
     ]
    },
    {
     "name": "stdout",
     "output_type": "stream",
     "text": [
      "L1Loss модели на обучающей выборке 0.14362448453903198\n",
      "L1Loss модели на тестовой выборке 0.2280033379793167\n",
      "Loss with opt features: 0.0000\n"
     ]
    },
    {
     "name": "stderr",
     "output_type": "stream",
     "text": [
      " 46%|████▌     | 423/927 [1:00:56<1:32:44, 11.04s/it]"
     ]
    },
    {
     "name": "stdout",
     "output_type": "stream",
     "text": [
      "L1Loss модели на обучающей выборке 0.5764262676239014\n",
      "L1Loss модели на тестовой выборке 0.6777742505073547\n",
      "Loss with opt features: 0.0104\n"
     ]
    },
    {
     "name": "stderr",
     "output_type": "stream",
     "text": [
      " 46%|████▌     | 424/927 [1:01:02<1:19:18,  9.46s/it]"
     ]
    },
    {
     "name": "stdout",
     "output_type": "stream",
     "text": [
      "L1Loss модели на обучающей выборке 0.04099155217409134\n",
      "L1Loss модели на тестовой выборке 0.05926921218633652\n",
      "Loss with opt features: 0.0027\n"
     ]
    },
    {
     "name": "stderr",
     "output_type": "stream",
     "text": [
      " 46%|████▌     | 425/927 [1:01:15<1:27:21, 10.44s/it]"
     ]
    },
    {
     "name": "stdout",
     "output_type": "stream",
     "text": [
      "L1Loss модели на обучающей выборке 0.012124145403504372\n",
      "L1Loss модели на тестовой выборке 0.02147359400987625\n",
      "Loss with opt features: 0.0005\n"
     ]
    },
    {
     "name": "stderr",
     "output_type": "stream",
     "text": [
      " 46%|████▌     | 426/927 [1:01:27<1:32:10, 11.04s/it]"
     ]
    },
    {
     "name": "stdout",
     "output_type": "stream",
     "text": [
      "L1Loss модели на обучающей выборке 0.28938984870910645\n",
      "L1Loss модели на тестовой выборке 0.31591957807540894\n",
      "Loss with opt features: 0.0066\n"
     ]
    },
    {
     "name": "stderr",
     "output_type": "stream",
     "text": [
      " 46%|████▌     | 427/927 [1:01:33<1:19:04,  9.49s/it]"
     ]
    },
    {
     "name": "stdout",
     "output_type": "stream",
     "text": [
      "L1Loss модели на обучающей выборке 0.12135225534439087\n",
      "L1Loss модели на тестовой выборке 0.15579988062381744\n"
     ]
    },
    {
     "name": "stderr",
     "output_type": "stream",
     "text": [
      " 46%|████▌     | 428/927 [1:01:41<1:14:19,  8.94s/it]"
     ]
    },
    {
     "name": "stdout",
     "output_type": "stream",
     "text": [
      "Loss with opt features: 0.0069\n",
      "L1Loss модели на обучающей выборке 0.7234638333320618\n",
      "L1Loss модели на тестовой выборке 1.300071358680725\n",
      "Loss with opt features: 0.0019\n"
     ]
    },
    {
     "name": "stderr",
     "output_type": "stream",
     "text": [
      " 46%|████▋     | 429/927 [1:01:46<1:05:09,  7.85s/it]"
     ]
    },
    {
     "name": "stdout",
     "output_type": "stream",
     "text": [
      "L1Loss модели на обучающей выборке 0.1294042319059372\n",
      "L1Loss модели на тестовой выборке 0.14191268384456635\n",
      "Loss with opt features: 0.0175\n"
     ]
    },
    {
     "name": "stderr",
     "output_type": "stream",
     "text": [
      " 46%|████▋     | 430/927 [1:01:56<1:10:57,  8.57s/it]"
     ]
    },
    {
     "name": "stdout",
     "output_type": "stream",
     "text": [
      "L1Loss модели на обучающей выборке 1.3820856809616089\n",
      "L1Loss модели на тестовой выборке 1.448457956314087\n",
      "Loss with opt features: 0.0160\n"
     ]
    },
    {
     "name": "stderr",
     "output_type": "stream",
     "text": [
      " 46%|████▋     | 431/927 [1:02:00<1:00:16,  7.29s/it]"
     ]
    },
    {
     "name": "stdout",
     "output_type": "stream",
     "text": [
      "L1Loss модели на обучающей выборке 0.1890525221824646\n",
      "L1Loss модели на тестовой выборке 0.294794499874115\n"
     ]
    },
    {
     "name": "stderr",
     "output_type": "stream",
     "text": [
      " 47%|████▋     | 432/927 [1:02:08<1:01:54,  7.50s/it]"
     ]
    },
    {
     "name": "stdout",
     "output_type": "stream",
     "text": [
      "Loss with opt features: 0.0078\n",
      "L1Loss модели на обучающей выборке 0.1409035325050354\n",
      "L1Loss модели на тестовой выборке 0.22605830430984497\n",
      "Loss with opt features: 0.0268\n"
     ]
    },
    {
     "name": "stderr",
     "output_type": "stream",
     "text": [
      " 47%|████▋     | 433/927 [1:02:17<1:04:50,  7.88s/it]"
     ]
    },
    {
     "name": "stdout",
     "output_type": "stream",
     "text": [
      "L1Loss модели на обучающей выборке 1.2569921016693115\n",
      "L1Loss модели на тестовой выборке 1.375378966331482\n"
     ]
    },
    {
     "name": "stderr",
     "output_type": "stream",
     "text": [
      " 47%|████▋     | 434/927 [1:02:22<56:41,  6.90s/it]  "
     ]
    },
    {
     "name": "stdout",
     "output_type": "stream",
     "text": [
      "Loss with opt features: 0.0086\n",
      "L1Loss модели на обучающей выборке 1.5254467725753784\n",
      "L1Loss модели на тестовой выборке 1.645317792892456\n",
      "Loss with opt features: 0.0002\n"
     ]
    },
    {
     "name": "stderr",
     "output_type": "stream",
     "text": [
      " 47%|████▋     | 435/927 [1:02:27<51:09,  6.24s/it]"
     ]
    },
    {
     "name": "stdout",
     "output_type": "stream",
     "text": [
      "L1Loss модели на обучающей выборке 0.32364341616630554\n",
      "L1Loss модели на тестовой выборке 0.4183368980884552\n",
      "Loss with opt features: 0.0165\n"
     ]
    },
    {
     "name": "stderr",
     "output_type": "stream",
     "text": [
      " 47%|████▋     | 436/927 [1:02:34<53:57,  6.59s/it]"
     ]
    },
    {
     "name": "stdout",
     "output_type": "stream",
     "text": [
      "L1Loss модели на обучающей выборке 0.6940869092941284\n",
      "L1Loss модели на тестовой выборке 0.8402674198150635\n",
      "Loss with opt features: 0.0057\n"
     ]
    },
    {
     "name": "stderr",
     "output_type": "stream",
     "text": [
      " 47%|████▋     | 437/927 [1:02:39<49:30,  6.06s/it]"
     ]
    },
    {
     "name": "stdout",
     "output_type": "stream",
     "text": [
      "L1Loss модели на обучающей выборке 0.3714519143104553\n",
      "L1Loss модели на тестовой выборке 0.3600051999092102\n",
      "Loss with opt features: 0.0024\n"
     ]
    },
    {
     "name": "stderr",
     "output_type": "stream",
     "text": [
      " 47%|████▋     | 438/927 [1:02:45<50:17,  6.17s/it]"
     ]
    },
    {
     "name": "stdout",
     "output_type": "stream",
     "text": [
      "L1Loss модели на обучающей выборке 1.041059970855713\n",
      "L1Loss модели на тестовой выборке 1.175046682357788\n"
     ]
    },
    {
     "name": "stderr",
     "output_type": "stream",
     "text": [
      " 47%|████▋     | 439/927 [1:02:51<48:16,  5.94s/it]"
     ]
    },
    {
     "name": "stdout",
     "output_type": "stream",
     "text": [
      "Loss with opt features: 0.0007\n",
      "L1Loss модели на обучающей выборке 0.4027215540409088\n",
      "L1Loss модели на тестовой выборке 0.5411310195922852\n"
     ]
    },
    {
     "name": "stderr",
     "output_type": "stream",
     "text": [
      " 47%|████▋     | 440/927 [1:03:00<57:01,  7.02s/it]"
     ]
    },
    {
     "name": "stdout",
     "output_type": "stream",
     "text": [
      "Loss with opt features: 0.0054\n",
      "L1Loss модели на обучающей выборке 0.5093131065368652\n",
      "L1Loss модели на тестовой выборке 0.8827398419380188\n",
      "Loss with opt features: 0.0160\n"
     ]
    },
    {
     "name": "stderr",
     "output_type": "stream",
     "text": [
      " 48%|████▊     | 441/927 [1:03:07<57:09,  7.06s/it]"
     ]
    },
    {
     "name": "stdout",
     "output_type": "stream",
     "text": [
      "L1Loss модели на обучающей выборке 0.3564159870147705\n",
      "L1Loss модели на тестовой выборке 0.5097867250442505\n",
      "Loss with opt features: 0.0006\n"
     ]
    },
    {
     "name": "stderr",
     "output_type": "stream",
     "text": [
      " 48%|████▊     | 442/927 [1:03:15<57:37,  7.13s/it]"
     ]
    },
    {
     "name": "stdout",
     "output_type": "stream",
     "text": [
      "L1Loss модели на обучающей выборке 0.3939261734485626\n",
      "L1Loss модели на тестовой выборке 0.4567166566848755\n",
      "Loss with opt features: 0.0025\n"
     ]
    },
    {
     "name": "stderr",
     "output_type": "stream",
     "text": [
      " 48%|████▊     | 443/927 [1:03:21<54:56,  6.81s/it]"
     ]
    },
    {
     "name": "stdout",
     "output_type": "stream",
     "text": [
      "L1Loss модели на обучающей выборке 1.265649676322937\n",
      "L1Loss модели на тестовой выборке 1.1769053936004639\n",
      "Loss with opt features: 0.0142\n"
     ]
    },
    {
     "name": "stderr",
     "output_type": "stream",
     "text": [
      " 48%|████▊     | 444/927 [1:03:25<49:48,  6.19s/it]"
     ]
    },
    {
     "name": "stdout",
     "output_type": "stream",
     "text": [
      "L1Loss модели на обучающей выборке 0.1290469616651535\n",
      "L1Loss модели на тестовой выборке 0.1509617120027542\n",
      "Loss with opt features: 0.0006\n"
     ]
    },
    {
     "name": "stderr",
     "output_type": "stream",
     "text": [
      " 48%|████▊     | 445/927 [1:03:35<57:54,  7.21s/it]"
     ]
    },
    {
     "name": "stdout",
     "output_type": "stream",
     "text": [
      "L1Loss модели на обучающей выборке 0.9776260256767273\n",
      "L1Loss модели на тестовой выборке 1.1781891584396362\n"
     ]
    },
    {
     "name": "stderr",
     "output_type": "stream",
     "text": [
      " 48%|████▊     | 446/927 [1:03:40<51:30,  6.42s/it]"
     ]
    },
    {
     "name": "stdout",
     "output_type": "stream",
     "text": [
      "Loss with opt features: 0.0012\n",
      "L1Loss модели на обучающей выборке 0.46850037574768066\n",
      "L1Loss модели на тестовой выборке 0.619239091873169\n"
     ]
    },
    {
     "name": "stderr",
     "output_type": "stream",
     "text": [
      " 48%|████▊     | 447/927 [1:03:45<48:28,  6.06s/it]"
     ]
    },
    {
     "name": "stdout",
     "output_type": "stream",
     "text": [
      "Loss with opt features: 0.0031\n",
      "L1Loss модели на обучающей выборке 0.21176151931285858\n",
      "L1Loss модели на тестовой выборке 0.4230886399745941\n",
      "Loss with opt features: 0.0019\n"
     ]
    },
    {
     "name": "stderr",
     "output_type": "stream",
     "text": [
      " 48%|████▊     | 448/927 [1:03:53<54:36,  6.84s/it]"
     ]
    },
    {
     "name": "stdout",
     "output_type": "stream",
     "text": [
      "L1Loss модели на обучающей выборке 0.7082075476646423\n",
      "L1Loss модели на тестовой выборке 0.7899726629257202\n",
      "Loss with opt features: 0.0486\n"
     ]
    },
    {
     "name": "stderr",
     "output_type": "stream",
     "text": [
      " 48%|████▊     | 449/927 [1:03:59<50:54,  6.39s/it]"
     ]
    },
    {
     "name": "stdout",
     "output_type": "stream",
     "text": [
      "L1Loss модели на обучающей выборке 0.1457781344652176\n",
      "L1Loss модели на тестовой выборке 0.16567476093769073\n",
      "Loss with opt features: 0.0091\n"
     ]
    },
    {
     "name": "stderr",
     "output_type": "stream",
     "text": [
      " 49%|████▊     | 450/927 [1:04:08<57:45,  7.27s/it]"
     ]
    },
    {
     "name": "stdout",
     "output_type": "stream",
     "text": [
      "L1Loss модели на обучающей выборке 1.0133626461029053\n",
      "L1Loss модели на тестовой выборке 0.9463235139846802\n",
      "Loss with opt features: 0.0096\n"
     ]
    },
    {
     "name": "stderr",
     "output_type": "stream",
     "text": [
      " 49%|████▊     | 451/927 [1:04:12<50:53,  6.41s/it]"
     ]
    },
    {
     "name": "stdout",
     "output_type": "stream",
     "text": [
      "L1Loss модели на обучающей выборке 1.1442664861679077\n",
      "L1Loss модели на тестовой выборке 1.125967025756836\n",
      "Loss with opt features: 0.0064\n"
     ]
    },
    {
     "name": "stderr",
     "output_type": "stream",
     "text": [
      " 49%|████▉     | 452/927 [1:04:18<47:51,  6.04s/it]"
     ]
    },
    {
     "name": "stdout",
     "output_type": "stream",
     "text": [
      "L1Loss модели на обучающей выборке 0.47523757815361023\n",
      "L1Loss модели на тестовой выборке 0.6277561783790588\n",
      "Loss with opt features: 0.0074\n"
     ]
    },
    {
     "name": "stderr",
     "output_type": "stream",
     "text": [
      " 49%|████▉     | 453/927 [1:04:24<48:29,  6.14s/it]"
     ]
    },
    {
     "name": "stdout",
     "output_type": "stream",
     "text": [
      "L1Loss модели на обучающей выборке 0.2770395874977112\n",
      "L1Loss модели на тестовой выборке 0.4640691578388214\n",
      "Loss with opt features: 0.0122\n"
     ]
    },
    {
     "name": "stderr",
     "output_type": "stream",
     "text": [
      " 49%|████▉     | 454/927 [1:04:31<50:41,  6.43s/it]"
     ]
    },
    {
     "name": "stdout",
     "output_type": "stream",
     "text": [
      "L1Loss модели на обучающей выборке 0.3477165997028351\n",
      "L1Loss модели на тестовой выборке 0.42874547839164734\n"
     ]
    },
    {
     "name": "stderr",
     "output_type": "stream",
     "text": [
      " 49%|████▉     | 455/927 [1:04:38<52:20,  6.65s/it]"
     ]
    },
    {
     "name": "stdout",
     "output_type": "stream",
     "text": [
      "Loss with opt features: 0.0064\n",
      "L1Loss модели на обучающей выборке 0.2964896857738495\n",
      "L1Loss модели на тестовой выборке 0.34848231077194214\n",
      "Loss with opt features: 0.0128\n"
     ]
    },
    {
     "name": "stderr",
     "output_type": "stream",
     "text": [
      " 49%|████▉     | 456/927 [1:04:46<54:25,  6.93s/it]"
     ]
    },
    {
     "name": "stdout",
     "output_type": "stream",
     "text": [
      "L1Loss модели на обучающей выборке 0.7931151390075684\n",
      "L1Loss модели на тестовой выборке 0.7938202619552612\n",
      "Loss with opt features: 0.0064\n"
     ]
    },
    {
     "name": "stderr",
     "output_type": "stream",
     "text": [
      " 49%|████▉     | 457/927 [1:04:51<49:03,  6.26s/it]"
     ]
    },
    {
     "name": "stdout",
     "output_type": "stream",
     "text": [
      "L1Loss модели на обучающей выборке 0.13301989436149597\n",
      "L1Loss модели на тестовой выборке 0.15712642669677734\n"
     ]
    },
    {
     "name": "stderr",
     "output_type": "stream",
     "text": [
      " 49%|████▉     | 458/927 [1:05:00<55:59,  7.16s/it]"
     ]
    },
    {
     "name": "stdout",
     "output_type": "stream",
     "text": [
      "Loss with opt features: 0.0001\n",
      "L1Loss модели на обучающей выборке 0.24755461513996124\n",
      "L1Loss модели на тестовой выборке 0.26643913984298706\n",
      "Loss with opt features: 0.0055\n"
     ]
    },
    {
     "name": "stderr",
     "output_type": "stream",
     "text": [
      " 50%|████▉     | 459/927 [1:05:07<55:29,  7.11s/it]"
     ]
    },
    {
     "name": "stdout",
     "output_type": "stream",
     "text": [
      "L1Loss модели на обучающей выборке 0.2275722473859787\n",
      "L1Loss модели на тестовой выборке 0.28958016633987427\n",
      "Loss with opt features: 0.0072\n"
     ]
    },
    {
     "name": "stderr",
     "output_type": "stream",
     "text": [
      " 50%|████▉     | 460/927 [1:05:15<56:58,  7.32s/it]"
     ]
    },
    {
     "name": "stdout",
     "output_type": "stream",
     "text": [
      "L1Loss модели на обучающей выборке 0.028293894603848457\n",
      "L1Loss модели на тестовой выборке 0.13783583045005798\n",
      "Loss with opt features: 0.0006\n"
     ]
    },
    {
     "name": "stderr",
     "output_type": "stream",
     "text": [
      " 50%|████▉     | 461/927 [1:05:27<1:07:56,  8.75s/it]"
     ]
    },
    {
     "name": "stdout",
     "output_type": "stream",
     "text": [
      "L1Loss модели на обучающей выборке 0.07554753124713898\n",
      "L1Loss модели на тестовой выборке 0.12541456520557404\n"
     ]
    },
    {
     "name": "stderr",
     "output_type": "stream",
     "text": [
      " 50%|████▉     | 462/927 [1:05:36<1:10:00,  9.03s/it]"
     ]
    },
    {
     "name": "stdout",
     "output_type": "stream",
     "text": [
      "Loss with opt features: 0.0051\n",
      "L1Loss модели на обучающей выборке 0.2551564574241638\n",
      "L1Loss модели на тестовой выборке 0.27206167578697205\n"
     ]
    },
    {
     "name": "stderr",
     "output_type": "stream",
     "text": [
      " 50%|████▉     | 463/927 [1:05:45<1:08:26,  8.85s/it]"
     ]
    },
    {
     "name": "stdout",
     "output_type": "stream",
     "text": [
      "Loss with opt features: 0.0110\n",
      "L1Loss модели на обучающей выборке 0.773767352104187\n",
      "L1Loss модели на тестовой выборке 0.8996426463127136\n"
     ]
    },
    {
     "name": "stderr",
     "output_type": "stream",
     "text": [
      " 50%|█████     | 464/927 [1:05:50<59:39,  7.73s/it]  "
     ]
    },
    {
     "name": "stdout",
     "output_type": "stream",
     "text": [
      "Loss with opt features: 0.0204\n",
      "L1Loss модели на обучающей выборке 0.016271349042654037\n",
      "L1Loss модели на тестовой выборке 0.034903451800346375\n",
      "Loss with opt features: 0.0004\n"
     ]
    },
    {
     "name": "stderr",
     "output_type": "stream",
     "text": [
      " 50%|█████     | 465/927 [1:06:01<1:07:12,  8.73s/it]"
     ]
    },
    {
     "name": "stdout",
     "output_type": "stream",
     "text": [
      "L1Loss модели на обучающей выборке 0.4031844139099121\n",
      "L1Loss модели на тестовой выборке 0.4159545600414276\n",
      "Loss with opt features: 0.0083\n"
     ]
    },
    {
     "name": "stderr",
     "output_type": "stream",
     "text": [
      " 50%|█████     | 466/927 [1:06:07<1:01:13,  7.97s/it]"
     ]
    },
    {
     "name": "stdout",
     "output_type": "stream",
     "text": [
      "L1Loss модели на обучающей выборке 0.5733795762062073\n",
      "L1Loss модели на тестовой выборке 0.7080392837524414\n",
      "Loss with opt features: 0.0038\n"
     ]
    },
    {
     "name": "stderr",
     "output_type": "stream",
     "text": [
      " 50%|█████     | 467/927 [1:06:13<56:25,  7.36s/it]  "
     ]
    },
    {
     "name": "stdout",
     "output_type": "stream",
     "text": [
      "L1Loss модели на обучающей выборке 0.3405740261077881\n",
      "L1Loss модели на тестовой выборке 0.4761757254600525\n"
     ]
    },
    {
     "name": "stderr",
     "output_type": "stream",
     "text": [
      " 50%|█████     | 468/927 [1:06:21<57:20,  7.50s/it]"
     ]
    },
    {
     "name": "stdout",
     "output_type": "stream",
     "text": [
      "Loss with opt features: 0.0019\n",
      "L1Loss модели на обучающей выборке 0.8020150065422058\n",
      "L1Loss модели на тестовой выборке 1.1364294290542603\n",
      "Loss with opt features: 0.0007\n"
     ]
    },
    {
     "name": "stderr",
     "output_type": "stream",
     "text": [
      " 51%|█████     | 469/927 [1:06:26<51:57,  6.81s/it]"
     ]
    },
    {
     "name": "stdout",
     "output_type": "stream",
     "text": [
      "L1Loss модели на обучающей выборке 0.1899404078722\n",
      "L1Loss модели на тестовой выборке 0.18439842760562897\n",
      "Loss with opt features: 0.0086\n"
     ]
    },
    {
     "name": "stderr",
     "output_type": "stream",
     "text": [
      " 51%|█████     | 470/927 [1:06:34<55:03,  7.23s/it]"
     ]
    },
    {
     "name": "stdout",
     "output_type": "stream",
     "text": [
      "L1Loss модели на обучающей выборке 0.15956467390060425\n",
      "L1Loss модели на тестовой выборке 0.2497217208147049\n"
     ]
    },
    {
     "name": "stderr",
     "output_type": "stream",
     "text": [
      " 51%|█████     | 471/927 [1:06:45<1:02:43,  8.25s/it]"
     ]
    },
    {
     "name": "stdout",
     "output_type": "stream",
     "text": [
      "Loss with opt features: 0.0013\n",
      "L1Loss модели на обучающей выборке 0.9416390657424927\n",
      "L1Loss модели на тестовой выборке 1.1245406866073608\n",
      "Loss with opt features: 0.0036\n"
     ]
    },
    {
     "name": "stderr",
     "output_type": "stream",
     "text": [
      " 51%|█████     | 472/927 [1:06:49<53:51,  7.10s/it]  "
     ]
    },
    {
     "name": "stdout",
     "output_type": "stream",
     "text": [
      "L1Loss модели на обучающей выборке 0.6377874612808228\n",
      "L1Loss модели на тестовой выборке 0.7107663750648499\n"
     ]
    },
    {
     "name": "stderr",
     "output_type": "stream",
     "text": [
      " 51%|█████     | 473/927 [1:06:54<47:08,  6.23s/it]"
     ]
    },
    {
     "name": "stdout",
     "output_type": "stream",
     "text": [
      "Loss with opt features: 0.0053\n",
      "L1Loss модели на обучающей выборке 0.26205921173095703\n",
      "L1Loss модели на тестовой выборке 0.36022377014160156\n",
      "Loss with opt features: 0.0047\n"
     ]
    },
    {
     "name": "stderr",
     "output_type": "stream",
     "text": [
      " 51%|█████     | 474/927 [1:07:01<50:16,  6.66s/it]"
     ]
    },
    {
     "name": "stdout",
     "output_type": "stream",
     "text": [
      "L1Loss модели на обучающей выборке 0.4459441900253296\n",
      "L1Loss модели на тестовой выборке 0.4360135495662689\n",
      "Loss with opt features: 0.0144\n"
     ]
    },
    {
     "name": "stderr",
     "output_type": "stream",
     "text": [
      " 51%|█████     | 475/927 [1:07:07<48:33,  6.45s/it]"
     ]
    },
    {
     "name": "stdout",
     "output_type": "stream",
     "text": [
      "L1Loss модели на обучающей выборке 0.5744656920433044\n",
      "L1Loss модели на тестовой выборке 0.5398751497268677\n"
     ]
    },
    {
     "name": "stderr",
     "output_type": "stream",
     "text": [
      " 51%|█████▏    | 476/927 [1:07:13<47:21,  6.30s/it]"
     ]
    },
    {
     "name": "stdout",
     "output_type": "stream",
     "text": [
      "Loss with opt features: 0.0126\n",
      "L1Loss модели на обучающей выборке 1.3478082418441772\n",
      "L1Loss модели на тестовой выборке 0.9572350382804871\n",
      "Loss with opt features: 0.0110\n"
     ]
    },
    {
     "name": "stderr",
     "output_type": "stream",
     "text": [
      " 51%|█████▏    | 477/927 [1:07:18<42:49,  5.71s/it]"
     ]
    },
    {
     "name": "stdout",
     "output_type": "stream",
     "text": [
      "L1Loss модели на обучающей выборке 0.036462850868701935\n",
      "L1Loss модели на тестовой выборке 0.05621902272105217\n"
     ]
    },
    {
     "name": "stderr",
     "output_type": "stream",
     "text": [
      " 52%|█████▏    | 478/927 [1:07:30<56:48,  7.59s/it]"
     ]
    },
    {
     "name": "stdout",
     "output_type": "stream",
     "text": [
      "Loss with opt features: 0.0038\n",
      "L1Loss модели на обучающей выборке 0.15900151431560516\n",
      "L1Loss модели на тестовой выборке 0.17166514694690704\n",
      "Loss with opt features: 0.0066\n"
     ]
    },
    {
     "name": "stderr",
     "output_type": "stream",
     "text": [
      " 52%|█████▏    | 479/927 [1:07:39<1:01:58,  8.30s/it]"
     ]
    },
    {
     "name": "stdout",
     "output_type": "stream",
     "text": [
      "L1Loss модели на обучающей выборке 0.37569114565849304\n",
      "L1Loss модели на тестовой выборке 0.4257749915122986\n",
      "Loss with opt features: 0.0063\n"
     ]
    },
    {
     "name": "stderr",
     "output_type": "stream",
     "text": [
      " 52%|█████▏    | 480/927 [1:07:46<56:52,  7.64s/it]  "
     ]
    },
    {
     "name": "stdout",
     "output_type": "stream",
     "text": [
      "L1Loss модели на обучающей выборке 0.17673872411251068\n",
      "L1Loss модели на тестовой выборке 0.1991710364818573\n",
      "Loss with opt features: 0.0031\n"
     ]
    },
    {
     "name": "stderr",
     "output_type": "stream",
     "text": [
      " 52%|█████▏    | 481/927 [1:07:57<1:05:12,  8.77s/it]"
     ]
    },
    {
     "name": "stdout",
     "output_type": "stream",
     "text": [
      "L1Loss модели на обучающей выборке 0.321828156709671\n",
      "L1Loss модели на тестовой выборке 0.5610806345939636\n",
      "Loss with opt features: 0.0002\n"
     ]
    },
    {
     "name": "stderr",
     "output_type": "stream",
     "text": [
      " 52%|█████▏    | 482/927 [1:08:04<1:01:09,  8.25s/it]"
     ]
    },
    {
     "name": "stdout",
     "output_type": "stream",
     "text": [
      "L1Loss модели на обучающей выборке 0.5645759701728821\n",
      "L1Loss модели на тестовой выборке 0.440708726644516\n"
     ]
    },
    {
     "name": "stderr",
     "output_type": "stream",
     "text": [
      " 52%|█████▏    | 483/927 [1:08:09<53:40,  7.25s/it]  "
     ]
    },
    {
     "name": "stdout",
     "output_type": "stream",
     "text": [
      "Loss with opt features: 0.0013\n",
      "L1Loss модели на обучающей выборке 0.6705269813537598\n",
      "L1Loss модели на тестовой выборке 0.6917561888694763\n",
      "Loss with opt features: 0.0146\n"
     ]
    },
    {
     "name": "stderr",
     "output_type": "stream",
     "text": [
      " 52%|█████▏    | 484/927 [1:08:15<51:18,  6.95s/it]"
     ]
    },
    {
     "name": "stdout",
     "output_type": "stream",
     "text": [
      "L1Loss модели на обучающей выборке 0.2557976245880127\n",
      "L1Loss модели на тестовой выборке 0.4326556324958801\n",
      "Loss with opt features: 0.0103\n"
     ]
    },
    {
     "name": "stderr",
     "output_type": "stream",
     "text": [
      " 52%|█████▏    | 485/927 [1:08:24<54:53,  7.45s/it]"
     ]
    },
    {
     "name": "stdout",
     "output_type": "stream",
     "text": [
      "L1Loss модели на обучающей выборке 1.30451238155365\n",
      "L1Loss модели на тестовой выборке 1.6326031684875488\n"
     ]
    },
    {
     "name": "stderr",
     "output_type": "stream",
     "text": [
      " 52%|█████▏    | 486/927 [1:08:28<48:22,  6.58s/it]"
     ]
    },
    {
     "name": "stdout",
     "output_type": "stream",
     "text": [
      "Loss with opt features: 0.0053\n",
      "L1Loss модели на обучающей выборке 1.2472374439239502\n",
      "L1Loss модели на тестовой выборке 2.144805908203125\n",
      "Loss with opt features: 0.0097\n"
     ]
    },
    {
     "name": "stderr",
     "output_type": "stream",
     "text": [
      " 53%|█████▎    | 487/927 [1:08:33<44:51,  6.12s/it]"
     ]
    },
    {
     "name": "stdout",
     "output_type": "stream",
     "text": [
      "L1Loss модели на обучающей выборке 0.8283074498176575\n",
      "L1Loss модели на тестовой выборке 1.046151041984558\n"
     ]
    },
    {
     "name": "stderr",
     "output_type": "stream",
     "text": [
      " 53%|█████▎    | 488/927 [1:08:38<42:08,  5.76s/it]"
     ]
    },
    {
     "name": "stdout",
     "output_type": "stream",
     "text": [
      "Loss with opt features: 0.0052\n",
      "L1Loss модели на обучающей выборке 0.1974065750837326\n",
      "L1Loss модели на тестовой выборке 0.34927958250045776\n",
      "Loss with opt features: 0.0107\n"
     ]
    },
    {
     "name": "stderr",
     "output_type": "stream",
     "text": [
      " 53%|█████▎    | 489/927 [1:08:46<46:53,  6.42s/it]"
     ]
    },
    {
     "name": "stdout",
     "output_type": "stream",
     "text": [
      "L1Loss модели на обучающей выборке 0.7449907660484314\n",
      "L1Loss модели на тестовой выборке 0.8021087646484375\n"
     ]
    },
    {
     "name": "stderr",
     "output_type": "stream",
     "text": [
      " 53%|█████▎    | 490/927 [1:08:52<44:48,  6.15s/it]"
     ]
    },
    {
     "name": "stdout",
     "output_type": "stream",
     "text": [
      "Loss with opt features: 0.0132\n",
      "L1Loss модели на обучающей выборке 0.7602280974388123\n",
      "L1Loss модели на тестовой выборке 0.9206773638725281\n",
      "Loss with opt features: 0.0157\n"
     ]
    },
    {
     "name": "stderr",
     "output_type": "stream",
     "text": [
      " 53%|█████▎    | 491/927 [1:08:57<42:26,  5.84s/it]"
     ]
    },
    {
     "name": "stdout",
     "output_type": "stream",
     "text": [
      "L1Loss модели на обучающей выборке 0.023147329688072205\n",
      "L1Loss модели на тестовой выборке 0.025824183598160744\n",
      "Loss with opt features: 0.0000\n"
     ]
    },
    {
     "name": "stderr",
     "output_type": "stream",
     "text": [
      " 53%|█████▎    | 492/927 [1:09:09<55:30,  7.66s/it]"
     ]
    },
    {
     "name": "stdout",
     "output_type": "stream",
     "text": [
      "L1Loss модели на обучающей выборке 0.2207031399011612\n",
      "L1Loss модели на тестовой выборке 0.2622295916080475\n",
      "Loss with opt features: 0.0097\n"
     ]
    },
    {
     "name": "stderr",
     "output_type": "stream",
     "text": [
      " 53%|█████▎    | 493/927 [1:09:17<55:38,  7.69s/it]"
     ]
    },
    {
     "name": "stdout",
     "output_type": "stream",
     "text": [
      "L1Loss модели на обучающей выборке 0.592195987701416\n",
      "L1Loss модели на тестовой выборке 0.6219547390937805\n",
      "Loss with opt features: 0.0141\n"
     ]
    },
    {
     "name": "stderr",
     "output_type": "stream",
     "text": [
      " 53%|█████▎    | 494/927 [1:09:23<51:42,  7.16s/it]"
     ]
    },
    {
     "name": "stdout",
     "output_type": "stream",
     "text": [
      "L1Loss модели на обучающей выборке 0.2590489387512207\n",
      "L1Loss модели на тестовой выборке 0.27560895681381226\n",
      "Loss with opt features: 0.0030\n"
     ]
    },
    {
     "name": "stderr",
     "output_type": "stream",
     "text": [
      " 53%|█████▎    | 495/927 [1:09:29<51:04,  7.09s/it]"
     ]
    },
    {
     "name": "stdout",
     "output_type": "stream",
     "text": [
      "L1Loss модели на обучающей выборке 0.90840083360672\n",
      "L1Loss модели на тестовой выборке 0.8080468773841858\n",
      "Loss with opt features: 0.0126\n"
     ]
    },
    {
     "name": "stderr",
     "output_type": "stream",
     "text": [
      " 54%|█████▎    | 496/927 [1:09:34<45:31,  6.34s/it]"
     ]
    },
    {
     "name": "stdout",
     "output_type": "stream",
     "text": [
      "L1Loss модели на обучающей выборке 0.12835732102394104\n",
      "L1Loss модели на тестовой выборке 0.17412184178829193\n",
      "Loss with opt features: 0.0038\n"
     ]
    },
    {
     "name": "stderr",
     "output_type": "stream",
     "text": [
      " 54%|█████▎    | 497/927 [1:09:43<51:17,  7.16s/it]"
     ]
    },
    {
     "name": "stdout",
     "output_type": "stream",
     "text": [
      "L1Loss модели на обучающей выборке 0.20135800540447235\n",
      "L1Loss модели на тестовой выборке 0.23418401181697845\n",
      "Loss with opt features: 0.0073\n"
     ]
    },
    {
     "name": "stderr",
     "output_type": "stream",
     "text": [
      " 54%|█████▎    | 498/927 [1:09:51<53:25,  7.47s/it]"
     ]
    },
    {
     "name": "stdout",
     "output_type": "stream",
     "text": [
      "L1Loss модели на обучающей выборке 0.18223752081394196\n",
      "L1Loss модели на тестовой выборке 0.25699368119239807\n"
     ]
    },
    {
     "name": "stderr",
     "output_type": "stream",
     "text": [
      " 54%|█████▍    | 499/927 [1:10:01<58:16,  8.17s/it]"
     ]
    },
    {
     "name": "stdout",
     "output_type": "stream",
     "text": [
      "Loss with opt features: 0.0078\n",
      "L1Loss модели на обучающей выборке 0.5305110812187195\n",
      "L1Loss модели на тестовой выборке 1.0012218952178955\n",
      "Loss with opt features: 0.0118\n"
     ]
    },
    {
     "name": "stderr",
     "output_type": "stream",
     "text": [
      " 54%|█████▍    | 500/927 [1:10:07<53:08,  7.47s/it]"
     ]
    },
    {
     "name": "stdout",
     "output_type": "stream",
     "text": [
      "L1Loss модели на обучающей выборке 0.05810217559337616\n",
      "L1Loss модели на тестовой выборке 0.08856572210788727\n",
      "Loss with opt features: 0.0019\n"
     ]
    },
    {
     "name": "stderr",
     "output_type": "stream",
     "text": [
      " 54%|█████▍    | 501/927 [1:10:18<1:01:01,  8.59s/it]"
     ]
    },
    {
     "name": "stdout",
     "output_type": "stream",
     "text": [
      "L1Loss модели на обучающей выборке 0.13563060760498047\n",
      "L1Loss модели на тестовой выборке 0.21147677302360535\n",
      "Loss with opt features: 0.0043\n"
     ]
    },
    {
     "name": "stderr",
     "output_type": "stream",
     "text": [
      " 54%|█████▍    | 502/927 [1:10:28<1:02:31,  8.83s/it]"
     ]
    },
    {
     "name": "stdout",
     "output_type": "stream",
     "text": [
      "L1Loss модели на обучающей выборке 0.18579348921775818\n",
      "L1Loss модели на тестовой выборке 0.18977898359298706\n",
      "Loss with opt features: 0.0034\n"
     ]
    },
    {
     "name": "stderr",
     "output_type": "stream",
     "text": [
      " 54%|█████▍    | 503/927 [1:10:36<1:02:35,  8.86s/it]"
     ]
    },
    {
     "name": "stdout",
     "output_type": "stream",
     "text": [
      "L1Loss модели на обучающей выборке 0.21771866083145142\n",
      "L1Loss модели на тестовой выборке 0.3413625955581665\n",
      "Loss with opt features: 0.0008\n"
     ]
    },
    {
     "name": "stderr",
     "output_type": "stream",
     "text": [
      " 54%|█████▍    | 504/927 [1:10:47<1:05:17,  9.26s/it]"
     ]
    },
    {
     "name": "stdout",
     "output_type": "stream",
     "text": [
      "L1Loss модели на обучающей выборке 0.3020249605178833\n",
      "L1Loss модели на тестовой выборке 0.4675220251083374\n",
      "Loss with opt features: 0.0124\n"
     ]
    },
    {
     "name": "stderr",
     "output_type": "stream",
     "text": [
      " 54%|█████▍    | 505/927 [1:10:53<58:15,  8.28s/it]  "
     ]
    },
    {
     "name": "stdout",
     "output_type": "stream",
     "text": [
      "L1Loss модели на обучающей выборке 0.30757883191108704\n",
      "L1Loss модели на тестовой выборке 0.44384101033210754\n"
     ]
    },
    {
     "name": "stderr",
     "output_type": "stream",
     "text": [
      " 55%|█████▍    | 506/927 [1:11:00<56:09,  8.00s/it]"
     ]
    },
    {
     "name": "stdout",
     "output_type": "stream",
     "text": [
      "Loss with opt features: 0.0127\n",
      "L1Loss модели на обучающей выборке 0.09908550977706909\n",
      "L1Loss модели на тестовой выборке 0.13360218703746796\n",
      "Loss with opt features: 0.0005\n"
     ]
    },
    {
     "name": "stderr",
     "output_type": "stream",
     "text": [
      " 55%|█████▍    | 507/927 [1:11:10<1:00:43,  8.67s/it]"
     ]
    },
    {
     "name": "stdout",
     "output_type": "stream",
     "text": [
      "L1Loss модели на обучающей выборке 0.21785594522953033\n",
      "L1Loss модели на тестовой выборке 0.27987295389175415\n"
     ]
    },
    {
     "name": "stderr",
     "output_type": "stream",
     "text": [
      " 55%|█████▍    | 508/927 [1:11:19<1:00:26,  8.66s/it]"
     ]
    },
    {
     "name": "stdout",
     "output_type": "stream",
     "text": [
      "Loss with opt features: 0.0085\n",
      "L1Loss модели на обучающей выборке 0.22882382571697235\n",
      "L1Loss модели на тестовой выборке 0.30440324544906616\n"
     ]
    },
    {
     "name": "stderr",
     "output_type": "stream",
     "text": [
      " 55%|█████▍    | 509/927 [1:11:27<1:00:13,  8.65s/it]"
     ]
    },
    {
     "name": "stdout",
     "output_type": "stream",
     "text": [
      "Loss with opt features: 0.0142\n",
      "L1Loss модели на обучающей выборке 0.2823861837387085\n",
      "L1Loss модели на тестовой выборке 0.4315703809261322\n"
     ]
    },
    {
     "name": "stderr",
     "output_type": "stream",
     "text": [
      " 55%|█████▌    | 510/927 [1:11:35<57:12,  8.23s/it]  "
     ]
    },
    {
     "name": "stdout",
     "output_type": "stream",
     "text": [
      "Loss with opt features: 0.0033\n",
      "L1Loss модели на обучающей выборке 0.6948923468589783\n",
      "L1Loss модели на тестовой выборке 0.7335644364356995\n",
      "Loss with opt features: 0.0006\n"
     ]
    },
    {
     "name": "stderr",
     "output_type": "stream",
     "text": [
      " 55%|█████▌    | 511/927 [1:11:39<49:46,  7.18s/it]"
     ]
    },
    {
     "name": "stdout",
     "output_type": "stream",
     "text": [
      "L1Loss модели на обучающей выборке 0.5775781273841858\n",
      "L1Loss модели на тестовой выборке 0.6579841375350952\n"
     ]
    },
    {
     "name": "stderr",
     "output_type": "stream",
     "text": [
      " 55%|█████▌    | 512/927 [1:11:47<49:59,  7.23s/it]"
     ]
    },
    {
     "name": "stdout",
     "output_type": "stream",
     "text": [
      "Loss with opt features: 0.0059\n",
      "L1Loss модели на обучающей выборке 0.10868167877197266\n",
      "L1Loss модели на тестовой выборке 0.18505044281482697\n",
      "Loss with opt features: 0.0176\n"
     ]
    },
    {
     "name": "stderr",
     "output_type": "stream",
     "text": [
      " 55%|█████▌    | 513/927 [1:12:00<1:01:11,  8.87s/it]"
     ]
    },
    {
     "name": "stdout",
     "output_type": "stream",
     "text": [
      "L1Loss модели на обучающей выборке 0.23815783858299255\n",
      "L1Loss модели на тестовой выборке 0.3707076907157898\n",
      "Loss with opt features: 0.0142\n"
     ]
    },
    {
     "name": "stderr",
     "output_type": "stream",
     "text": [
      " 55%|█████▌    | 514/927 [1:12:08<59:53,  8.70s/it]  "
     ]
    },
    {
     "name": "stdout",
     "output_type": "stream",
     "text": [
      "L1Loss модели на обучающей выборке 0.5348039269447327\n",
      "L1Loss модели на тестовой выборке 0.6508721113204956\n"
     ]
    },
    {
     "name": "stderr",
     "output_type": "stream",
     "text": [
      " 56%|█████▌    | 515/927 [1:12:14<54:18,  7.91s/it]"
     ]
    },
    {
     "name": "stdout",
     "output_type": "stream",
     "text": [
      "Loss with opt features: 0.0091\n",
      "L1Loss модели на обучающей выборке 0.9146623015403748\n",
      "L1Loss модели на тестовой выборке 1.1356762647628784\n"
     ]
    },
    {
     "name": "stderr",
     "output_type": "stream",
     "text": [
      " 56%|█████▌    | 516/927 [1:12:19<48:52,  7.13s/it]"
     ]
    },
    {
     "name": "stdout",
     "output_type": "stream",
     "text": [
      "Loss with opt features: 0.0225\n",
      "L1Loss модели на обучающей выборке 0.24961785972118378\n",
      "L1Loss модели на тестовой выборке 0.2636251151561737\n"
     ]
    },
    {
     "name": "stderr",
     "output_type": "stream",
     "text": [
      " 56%|█████▌    | 517/927 [1:12:28<51:11,  7.49s/it]"
     ]
    },
    {
     "name": "stdout",
     "output_type": "stream",
     "text": [
      "Loss with opt features: 0.0024\n",
      "L1Loss модели на обучающей выборке 0.15464717149734497\n",
      "L1Loss модели на тестовой выборке 0.12691034376621246\n"
     ]
    },
    {
     "name": "stderr",
     "output_type": "stream",
     "text": [
      " 56%|█████▌    | 518/927 [1:12:37<55:16,  8.11s/it]"
     ]
    },
    {
     "name": "stdout",
     "output_type": "stream",
     "text": [
      "Loss with opt features: 0.0001\n",
      "L1Loss модели на обучающей выборке 1.9442187547683716\n",
      "L1Loss модели на тестовой выборке 3.099980592727661\n",
      "Loss with opt features: 0.0125\n"
     ]
    },
    {
     "name": "stderr",
     "output_type": "stream",
     "text": [
      " 56%|█████▌    | 519/927 [1:12:44<52:43,  7.75s/it]"
     ]
    },
    {
     "name": "stdout",
     "output_type": "stream",
     "text": [
      "L1Loss модели на обучающей выборке 0.21213117241859436\n",
      "L1Loss модели на тестовой выборке 0.21359199285507202\n"
     ]
    },
    {
     "name": "stderr",
     "output_type": "stream",
     "text": [
      " 56%|█████▌    | 520/927 [1:12:54<57:02,  8.41s/it]"
     ]
    },
    {
     "name": "stdout",
     "output_type": "stream",
     "text": [
      "Loss with opt features: 0.0088\n",
      "L1Loss модели на обучающей выборке 1.6513882875442505\n",
      "L1Loss модели на тестовой выборке 2.2422945499420166\n",
      "Loss with opt features: 0.0066\n"
     ]
    },
    {
     "name": "stderr",
     "output_type": "stream",
     "text": [
      " 56%|█████▌    | 521/927 [1:12:59<50:37,  7.48s/it]"
     ]
    },
    {
     "name": "stdout",
     "output_type": "stream",
     "text": [
      "L1Loss модели на обучающей выборке 1.5433337688446045\n",
      "L1Loss модели на тестовой выборке 1.3253719806671143\n"
     ]
    },
    {
     "name": "stderr",
     "output_type": "stream",
     "text": [
      " 56%|█████▋    | 522/927 [1:13:04<45:28,  6.74s/it]"
     ]
    },
    {
     "name": "stdout",
     "output_type": "stream",
     "text": [
      "Loss with opt features: 0.0214\n",
      "L1Loss модели на обучающей выборке 0.11152995377779007\n",
      "L1Loss модели на тестовой выборке 0.1678524613380432\n",
      "Loss with opt features: 0.0012\n"
     ]
    },
    {
     "name": "stderr",
     "output_type": "stream",
     "text": [
      " 56%|█████▋    | 523/927 [1:13:17<56:45,  8.43s/it]"
     ]
    },
    {
     "name": "stdout",
     "output_type": "stream",
     "text": [
      "L1Loss модели на обучающей выборке 0.19914890825748444\n",
      "L1Loss модели на тестовой выборке 0.38148272037506104\n",
      "Loss with opt features: 0.0051\n"
     ]
    },
    {
     "name": "stderr",
     "output_type": "stream",
     "text": [
      " 57%|█████▋    | 524/927 [1:13:26<58:10,  8.66s/it]"
     ]
    },
    {
     "name": "stdout",
     "output_type": "stream",
     "text": [
      "L1Loss модели на обучающей выборке 0.3906284272670746\n",
      "L1Loss модели на тестовой выборке 0.45235124230384827\n",
      "Loss with opt features: 0.0203\n"
     ]
    },
    {
     "name": "stderr",
     "output_type": "stream",
     "text": [
      " 57%|█████▋    | 525/927 [1:13:33<54:00,  8.06s/it]"
     ]
    },
    {
     "name": "stdout",
     "output_type": "stream",
     "text": [
      "L1Loss модели на обучающей выборке 1.161250352859497\n",
      "L1Loss модели на тестовой выборке 1.5621700286865234\n",
      "Loss with opt features: 0.0144\n"
     ]
    },
    {
     "name": "stderr",
     "output_type": "stream",
     "text": [
      " 57%|█████▋    | 526/927 [1:13:38<48:00,  7.18s/it]"
     ]
    },
    {
     "name": "stdout",
     "output_type": "stream",
     "text": [
      "L1Loss модели на обучающей выборке 0.9973631501197815\n",
      "L1Loss модели на тестовой выборке 1.1153843402862549\n"
     ]
    },
    {
     "name": "stderr",
     "output_type": "stream",
     "text": [
      " 57%|█████▋    | 527/927 [1:13:45<47:22,  7.11s/it]"
     ]
    },
    {
     "name": "stdout",
     "output_type": "stream",
     "text": [
      "Loss with opt features: 0.1525\n",
      "L1Loss модели на обучающей выборке 0.12423019111156464\n",
      "L1Loss модели на тестовой выборке 0.16125072538852692\n"
     ]
    },
    {
     "name": "stderr",
     "output_type": "stream",
     "text": [
      " 57%|█████▋    | 528/927 [1:13:55<54:50,  8.25s/it]"
     ]
    },
    {
     "name": "stdout",
     "output_type": "stream",
     "text": [
      "Loss with opt features: 0.0028\n",
      "L1Loss модели на обучающей выборке 0.9773005247116089\n",
      "L1Loss модели на тестовой выборке 1.0445576906204224\n",
      "Loss with opt features: 0.0026\n"
     ]
    },
    {
     "name": "stderr",
     "output_type": "stream",
     "text": [
      " 57%|█████▋    | 529/927 [1:14:00<47:12,  7.12s/it]"
     ]
    },
    {
     "name": "stdout",
     "output_type": "stream",
     "text": [
      "L1Loss модели на обучающей выборке 0.6366775035858154\n",
      "L1Loss модели на тестовой выборке 0.8056627511978149\n",
      "Loss with opt features: 0.0115\n"
     ]
    },
    {
     "name": "stderr",
     "output_type": "stream",
     "text": [
      " 57%|█████▋    | 530/927 [1:14:06<44:14,  6.69s/it]"
     ]
    },
    {
     "name": "stdout",
     "output_type": "stream",
     "text": [
      "L1Loss модели на обучающей выборке 1.1941299438476562\n",
      "L1Loss модели на тестовой выборке 1.1375744342803955\n"
     ]
    },
    {
     "name": "stderr",
     "output_type": "stream",
     "text": [
      " 57%|█████▋    | 531/927 [1:14:11<41:25,  6.28s/it]"
     ]
    },
    {
     "name": "stdout",
     "output_type": "stream",
     "text": [
      "Loss with opt features: 0.0161\n",
      "L1Loss модели на обучающей выборке 0.4593440890312195\n",
      "L1Loss модели на тестовой выборке 0.45466676354408264\n"
     ]
    },
    {
     "name": "stderr",
     "output_type": "stream",
     "text": [
      " 57%|█████▋    | 532/927 [1:14:18<42:32,  6.46s/it]"
     ]
    },
    {
     "name": "stdout",
     "output_type": "stream",
     "text": [
      "Loss with opt features: 0.0025\n",
      "L1Loss модели на обучающей выборке 0.9044101238250732\n",
      "L1Loss модели на тестовой выборке 1.125537395477295\n",
      "Loss with opt features: 0.0093\n"
     ]
    },
    {
     "name": "stderr",
     "output_type": "stream",
     "text": [
      " 57%|█████▋    | 533/927 [1:14:23<40:31,  6.17s/it]"
     ]
    },
    {
     "name": "stdout",
     "output_type": "stream",
     "text": [
      "L1Loss модели на обучающей выборке 0.2327859252691269\n",
      "L1Loss модели на тестовой выборке 0.3080291748046875\n",
      "Loss with opt features: 0.0053\n"
     ]
    },
    {
     "name": "stderr",
     "output_type": "stream",
     "text": [
      " 58%|█████▊    | 534/927 [1:14:32<44:42,  6.83s/it]"
     ]
    },
    {
     "name": "stdout",
     "output_type": "stream",
     "text": [
      "L1Loss модели на обучающей выборке 0.005914044566452503\n",
      "L1Loss модели на тестовой выборке 0.004149672109633684\n",
      "Loss with opt features: 0.1453\n"
     ]
    },
    {
     "name": "stderr",
     "output_type": "stream",
     "text": [
      " 58%|█████▊    | 535/927 [1:14:45<56:42,  8.68s/it]"
     ]
    },
    {
     "name": "stdout",
     "output_type": "stream",
     "text": [
      "L1Loss модели на обучающей выборке 0.19360053539276123\n",
      "L1Loss модели на тестовой выборке 0.2467297911643982\n",
      "Loss with opt features: 0.0037\n"
     ]
    },
    {
     "name": "stderr",
     "output_type": "stream",
     "text": [
      " 58%|█████▊    | 536/927 [1:14:54<58:02,  8.91s/it]"
     ]
    },
    {
     "name": "stdout",
     "output_type": "stream",
     "text": [
      "L1Loss модели на обучающей выборке 1.2222318649291992\n",
      "L1Loss модели на тестовой выборке 1.4954192638397217\n",
      "Loss with opt features: 0.0199\n"
     ]
    },
    {
     "name": "stderr",
     "output_type": "stream",
     "text": [
      " 58%|█████▊    | 537/927 [1:14:59<50:44,  7.81s/it]"
     ]
    },
    {
     "name": "stdout",
     "output_type": "stream",
     "text": [
      "L1Loss модели на обучающей выборке 0.1421629935503006\n",
      "L1Loss модели на тестовой выборке 0.21005529165267944\n",
      "Loss with opt features: 0.0027\n"
     ]
    },
    {
     "name": "stderr",
     "output_type": "stream",
     "text": [
      " 58%|█████▊    | 538/927 [1:15:08<53:04,  8.19s/it]"
     ]
    },
    {
     "name": "stdout",
     "output_type": "stream",
     "text": [
      "L1Loss модели на обучающей выборке 0.4642041027545929\n",
      "L1Loss модели на тестовой выборке 0.6650977730751038\n"
     ]
    },
    {
     "name": "stderr",
     "output_type": "stream",
     "text": [
      " 58%|█████▊    | 539/927 [1:15:15<49:53,  7.72s/it]"
     ]
    },
    {
     "name": "stdout",
     "output_type": "stream",
     "text": [
      "Loss with opt features: 0.0036\n",
      "L1Loss модели на обучающей выборке 2.0175986289978027\n",
      "L1Loss модели на тестовой выборке 1.7871286869049072\n",
      "Loss with opt features: 0.0013\n"
     ]
    },
    {
     "name": "stderr",
     "output_type": "stream",
     "text": [
      " 58%|█████▊    | 540/927 [1:15:19<42:45,  6.63s/it]"
     ]
    },
    {
     "name": "stdout",
     "output_type": "stream",
     "text": [
      "L1Loss модели на обучающей выборке 1.5404248237609863\n",
      "L1Loss модели на тестовой выборке 1.5451972484588623\n",
      "Loss with opt features: 0.0056\n"
     ]
    },
    {
     "name": "stderr",
     "output_type": "stream",
     "text": [
      " 58%|█████▊    | 541/927 [1:15:24<38:35,  6.00s/it]"
     ]
    },
    {
     "name": "stdout",
     "output_type": "stream",
     "text": [
      "L1Loss модели на обучающей выборке 0.569622814655304\n",
      "L1Loss модели на тестовой выборке 0.5377511978149414\n"
     ]
    },
    {
     "name": "stderr",
     "output_type": "stream",
     "text": [
      " 58%|█████▊    | 542/927 [1:15:29<37:00,  5.77s/it]"
     ]
    },
    {
     "name": "stdout",
     "output_type": "stream",
     "text": [
      "Loss with opt features: 0.0038\n",
      "L1Loss модели на обучающей выборке 1.2475568056106567\n",
      "L1Loss модели на тестовой выборке 1.705522894859314\n"
     ]
    },
    {
     "name": "stderr",
     "output_type": "stream",
     "text": [
      " 59%|█████▊    | 543/927 [1:15:33<33:45,  5.27s/it]"
     ]
    },
    {
     "name": "stdout",
     "output_type": "stream",
     "text": [
      "Loss with opt features: 0.0056\n",
      "L1Loss модели на обучающей выборке 0.2710067629814148\n",
      "L1Loss модели на тестовой выборке 0.33338692784309387\n",
      "Loss with opt features: 0.0135\n"
     ]
    },
    {
     "name": "stderr",
     "output_type": "stream",
     "text": [
      " 59%|█████▊    | 544/927 [1:15:42<41:13,  6.46s/it]"
     ]
    },
    {
     "name": "stdout",
     "output_type": "stream",
     "text": [
      "L1Loss модели на обучающей выборке 0.577573299407959\n",
      "L1Loss модели на тестовой выборке 0.6901261806488037\n"
     ]
    },
    {
     "name": "stderr",
     "output_type": "stream",
     "text": [
      " 59%|█████▉    | 545/927 [1:15:50<43:24,  6.82s/it]"
     ]
    },
    {
     "name": "stdout",
     "output_type": "stream",
     "text": [
      "Loss with opt features: 1.6043\n",
      "L1Loss модели на обучающей выборке 0.8741963505744934\n",
      "L1Loss модели на тестовой выборке 0.92552250623703\n"
     ]
    },
    {
     "name": "stderr",
     "output_type": "stream",
     "text": [
      " 59%|█████▉    | 546/927 [1:15:55<39:50,  6.28s/it]"
     ]
    },
    {
     "name": "stdout",
     "output_type": "stream",
     "text": [
      "Loss with opt features: 0.0002\n",
      "L1Loss модели на обучающей выборке 1.1422311067581177\n",
      "L1Loss модели на тестовой выборке 1.056994080543518\n",
      "Loss with opt features: 0.0053\n"
     ]
    },
    {
     "name": "stderr",
     "output_type": "stream",
     "text": [
      " 59%|█████▉    | 547/927 [1:16:00<37:15,  5.88s/it]"
     ]
    },
    {
     "name": "stdout",
     "output_type": "stream",
     "text": [
      "L1Loss модели на обучающей выборке 0.42200446128845215\n",
      "L1Loss модели на тестовой выборке 0.6221274733543396\n",
      "Loss with opt features: 0.0150\n"
     ]
    },
    {
     "name": "stderr",
     "output_type": "stream",
     "text": [
      " 59%|█████▉    | 548/927 [1:16:07<38:40,  6.12s/it]"
     ]
    },
    {
     "name": "stdout",
     "output_type": "stream",
     "text": [
      "L1Loss модели на обучающей выборке 0.06497721374034882\n",
      "L1Loss модели на тестовой выборке 0.08124528080224991\n",
      "Loss with opt features: 0.0017\n"
     ]
    },
    {
     "name": "stderr",
     "output_type": "stream",
     "text": [
      " 59%|█████▉    | 549/927 [1:16:19<50:00,  7.94s/it]"
     ]
    },
    {
     "name": "stdout",
     "output_type": "stream",
     "text": [
      "L1Loss модели на обучающей выборке 0.22129936516284943\n",
      "L1Loss модели на тестовой выборке 0.31953346729278564\n",
      "Loss with opt features: 0.0006\n"
     ]
    },
    {
     "name": "stderr",
     "output_type": "stream",
     "text": [
      " 59%|█████▉    | 550/927 [1:16:27<50:28,  8.03s/it]"
     ]
    },
    {
     "name": "stdout",
     "output_type": "stream",
     "text": [
      "L1Loss модели на обучающей выборке 1.511425256729126\n",
      "L1Loss модели на тестовой выборке 1.2892963886260986\n",
      "Loss with opt features: 0.0035\n"
     ]
    },
    {
     "name": "stderr",
     "output_type": "stream",
     "text": [
      " 59%|█████▉    | 551/927 [1:16:31<43:11,  6.89s/it]"
     ]
    },
    {
     "name": "stdout",
     "output_type": "stream",
     "text": [
      "L1Loss модели на обучающей выборке 0.4533065855503082\n",
      "L1Loss модели на тестовой выборке 0.5224940776824951\n",
      "Loss with opt features: 0.0058\n"
     ]
    },
    {
     "name": "stderr",
     "output_type": "stream",
     "text": [
      " 60%|█████▉    | 552/927 [1:16:38<42:37,  6.82s/it]"
     ]
    },
    {
     "name": "stdout",
     "output_type": "stream",
     "text": [
      "L1Loss модели на обучающей выборке 0.3865357041358948\n",
      "L1Loss модели на тестовой выборке 0.5326454043388367\n",
      "Loss with opt features: 0.0223\n"
     ]
    },
    {
     "name": "stderr",
     "output_type": "stream",
     "text": [
      " 60%|█████▉    | 553/927 [1:16:45<42:18,  6.79s/it]"
     ]
    },
    {
     "name": "stdout",
     "output_type": "stream",
     "text": [
      "L1Loss модели на обучающей выборке 0.9861621856689453\n",
      "L1Loss модели на тестовой выборке 0.8982574343681335\n",
      "Loss with opt features: 0.0043\n"
     ]
    },
    {
     "name": "stderr",
     "output_type": "stream",
     "text": [
      " 60%|█████▉    | 554/927 [1:16:54<47:07,  7.58s/it]"
     ]
    },
    {
     "name": "stdout",
     "output_type": "stream",
     "text": [
      "L1Loss модели на обучающей выборке 0.10945481061935425\n",
      "L1Loss модели на тестовой выборке 0.18941377103328705\n",
      "Loss with opt features: 0.7322\n"
     ]
    },
    {
     "name": "stderr",
     "output_type": "stream",
     "text": [
      " 60%|█████▉    | 555/927 [1:17:05<54:04,  8.72s/it]"
     ]
    },
    {
     "name": "stdout",
     "output_type": "stream",
     "text": [
      "L1Loss модели на обучающей выборке 0.18990278244018555\n",
      "L1Loss модели на тестовой выборке 0.2806910574436188\n",
      "Loss with opt features: 0.0000\n"
     ]
    },
    {
     "name": "stderr",
     "output_type": "stream",
     "text": [
      " 60%|█████▉    | 556/927 [1:17:18<1:01:56, 10.02s/it]"
     ]
    },
    {
     "name": "stdout",
     "output_type": "stream",
     "text": [
      "L1Loss модели на обучающей выборке 0.7667078971862793\n",
      "L1Loss модели на тестовой выборке 0.6161801218986511\n"
     ]
    },
    {
     "name": "stderr",
     "output_type": "stream",
     "text": [
      " 60%|██████    | 557/927 [1:17:24<53:54,  8.74s/it]  "
     ]
    },
    {
     "name": "stdout",
     "output_type": "stream",
     "text": [
      "Loss with opt features: 0.0099\n",
      "L1Loss модели на обучающей выборке 0.2512543797492981\n",
      "L1Loss модели на тестовой выборке 0.25094443559646606\n",
      "Loss with opt features: 0.0016\n"
     ]
    },
    {
     "name": "stderr",
     "output_type": "stream",
     "text": [
      " 60%|██████    | 558/927 [1:17:31<50:36,  8.23s/it]"
     ]
    },
    {
     "name": "stdout",
     "output_type": "stream",
     "text": [
      "L1Loss модели на обучающей выборке 0.31137460470199585\n",
      "L1Loss модели на тестовой выборке 0.3890552818775177\n"
     ]
    },
    {
     "name": "stderr",
     "output_type": "stream",
     "text": [
      " 60%|██████    | 559/927 [1:17:39<49:14,  8.03s/it]"
     ]
    },
    {
     "name": "stdout",
     "output_type": "stream",
     "text": [
      "Loss with opt features: 0.0028\n",
      "L1Loss модели на обучающей выборке 0.8988773822784424\n",
      "L1Loss модели на тестовой выборке 0.8550469875335693\n",
      "Loss with opt features: 0.0224\n"
     ]
    },
    {
     "name": "stderr",
     "output_type": "stream",
     "text": [
      " 60%|██████    | 560/927 [1:17:43<42:47,  6.99s/it]"
     ]
    },
    {
     "name": "stdout",
     "output_type": "stream",
     "text": [
      "L1Loss модели на обучающей выборке 0.490156352519989\n",
      "L1Loss модели на тестовой выборке 0.7049469351768494\n",
      "Loss with opt features: 0.0003\n"
     ]
    },
    {
     "name": "stderr",
     "output_type": "stream",
     "text": [
      " 61%|██████    | 561/927 [1:17:49<39:53,  6.54s/it]"
     ]
    },
    {
     "name": "stdout",
     "output_type": "stream",
     "text": [
      "L1Loss модели на обучающей выборке 0.46296149492263794\n",
      "L1Loss модели на тестовой выборке 0.5710257887840271\n",
      "Loss with opt features: 0.0204\n"
     ]
    },
    {
     "name": "stderr",
     "output_type": "stream",
     "text": [
      " 61%|██████    | 562/927 [1:17:57<43:14,  7.11s/it]"
     ]
    },
    {
     "name": "stdout",
     "output_type": "stream",
     "text": [
      "L1Loss модели на обучающей выборке 0.5704855918884277\n",
      "L1Loss модели на тестовой выборке 0.5581902265548706\n"
     ]
    },
    {
     "name": "stderr",
     "output_type": "stream",
     "text": [
      " 61%|██████    | 563/927 [1:18:04<42:05,  6.94s/it]"
     ]
    },
    {
     "name": "stdout",
     "output_type": "stream",
     "text": [
      "Loss with opt features: 0.0017\n",
      "L1Loss модели на обучающей выборке 0.1667107343673706\n",
      "L1Loss модели на тестовой выборке 0.2688935399055481\n"
     ]
    },
    {
     "name": "stderr",
     "output_type": "stream",
     "text": [
      " 61%|██████    | 564/927 [1:18:13<46:03,  7.61s/it]"
     ]
    },
    {
     "name": "stdout",
     "output_type": "stream",
     "text": [
      "Loss with opt features: 0.0001\n",
      "L1Loss модели на обучающей выборке 1.4613676071166992\n",
      "L1Loss модели на тестовой выборке 1.4897211790084839\n",
      "Loss with opt features: 0.0503\n"
     ]
    },
    {
     "name": "stderr",
     "output_type": "stream",
     "text": [
      " 61%|██████    | 565/927 [1:18:17<39:52,  6.61s/it]"
     ]
    },
    {
     "name": "stdout",
     "output_type": "stream",
     "text": [
      "L1Loss модели на обучающей выборке 0.17725582420825958\n",
      "L1Loss модели на тестовой выборке 0.24119342863559723\n"
     ]
    },
    {
     "name": "stderr",
     "output_type": "stream",
     "text": [
      " 61%|██████    | 566/927 [1:18:27<46:05,  7.66s/it]"
     ]
    },
    {
     "name": "stdout",
     "output_type": "stream",
     "text": [
      "Loss with opt features: 0.0073\n",
      "L1Loss модели на обучающей выборке 0.03192242234945297\n",
      "L1Loss модели на тестовой выборке 0.0467456579208374\n"
     ]
    },
    {
     "name": "stderr",
     "output_type": "stream",
     "text": [
      " 61%|██████    | 567/927 [1:18:40<54:15,  9.04s/it]"
     ]
    },
    {
     "name": "stdout",
     "output_type": "stream",
     "text": [
      "Loss with opt features: 0.1033\n",
      "L1Loss модели на обучающей выборке 0.03250313550233841\n",
      "L1Loss модели на тестовой выборке 0.044307123869657516\n",
      "Loss with opt features: 0.3168\n"
     ]
    },
    {
     "name": "stderr",
     "output_type": "stream",
     "text": [
      " 61%|██████▏   | 568/927 [1:18:52<1:00:28, 10.11s/it]"
     ]
    },
    {
     "name": "stdout",
     "output_type": "stream",
     "text": [
      "L1Loss модели на обучающей выборке 0.14822378754615784\n",
      "L1Loss модели на тестовой выборке 0.15604396164417267\n",
      "Loss with opt features: 0.0033\n"
     ]
    },
    {
     "name": "stderr",
     "output_type": "stream",
     "text": [
      " 61%|██████▏   | 569/927 [1:19:03<1:01:09, 10.25s/it]"
     ]
    },
    {
     "name": "stdout",
     "output_type": "stream",
     "text": [
      "L1Loss модели на обучающей выборке 0.6121931076049805\n",
      "L1Loss модели на тестовой выборке 0.7642654180526733\n"
     ]
    },
    {
     "name": "stderr",
     "output_type": "stream",
     "text": [
      " 61%|██████▏   | 570/927 [1:19:08<50:56,  8.56s/it]  "
     ]
    },
    {
     "name": "stdout",
     "output_type": "stream",
     "text": [
      "Loss with opt features: 0.0038\n",
      "L1Loss модели на обучающей выборке 0.23741775751113892\n",
      "L1Loss модели на тестовой выборке 0.38640689849853516\n",
      "Loss with opt features: 0.0001\n"
     ]
    },
    {
     "name": "stderr",
     "output_type": "stream",
     "text": [
      " 62%|██████▏   | 571/927 [1:19:16<51:19,  8.65s/it]"
     ]
    },
    {
     "name": "stdout",
     "output_type": "stream",
     "text": [
      "L1Loss модели на обучающей выборке 0.030528226867318153\n",
      "L1Loss модели на тестовой выборке 0.046837665140628815\n"
     ]
    },
    {
     "name": "stderr",
     "output_type": "stream",
     "text": [
      " 62%|██████▏   | 572/927 [1:19:27<54:58,  9.29s/it]"
     ]
    },
    {
     "name": "stdout",
     "output_type": "stream",
     "text": [
      "Loss with opt features: 3.0380\n",
      "L1Loss модели на обучающей выборке 0.7008089423179626\n",
      "L1Loss модели на тестовой выборке 1.1354858875274658\n",
      "Loss with opt features: 0.2824\n"
     ]
    },
    {
     "name": "stderr",
     "output_type": "stream",
     "text": [
      " 62%|██████▏   | 573/927 [1:19:33<49:29,  8.39s/it]"
     ]
    },
    {
     "name": "stdout",
     "output_type": "stream",
     "text": [
      "L1Loss модели на обучающей выборке 0.5518893599510193\n",
      "L1Loss модели на тестовой выборке 0.5810588002204895\n",
      "Loss with opt features: 0.0036\n"
     ]
    },
    {
     "name": "stderr",
     "output_type": "stream",
     "text": [
      " 62%|██████▏   | 574/927 [1:19:39<45:14,  7.69s/it]"
     ]
    },
    {
     "name": "stdout",
     "output_type": "stream",
     "text": [
      "L1Loss модели на обучающей выборке 0.27630820870399475\n",
      "L1Loss модели на тестовой выборке 0.3925327658653259\n"
     ]
    },
    {
     "name": "stderr",
     "output_type": "stream",
     "text": [
      " 62%|██████▏   | 575/927 [1:19:48<46:22,  7.90s/it]"
     ]
    },
    {
     "name": "stdout",
     "output_type": "stream",
     "text": [
      "Loss with opt features: 0.0092\n",
      "L1Loss модели на обучающей выборке 0.13923752307891846\n",
      "L1Loss модели на тестовой выборке 0.1417846828699112\n"
     ]
    },
    {
     "name": "stderr",
     "output_type": "stream",
     "text": [
      " 62%|██████▏   | 576/927 [1:19:57<49:11,  8.41s/it]"
     ]
    },
    {
     "name": "stdout",
     "output_type": "stream",
     "text": [
      "Loss with opt features: 0.0027\n",
      "L1Loss модели на обучающей выборке 0.03191658481955528\n",
      "L1Loss модели на тестовой выборке 0.03152818977832794\n",
      "Loss with opt features: 0.0030\n"
     ]
    },
    {
     "name": "stderr",
     "output_type": "stream",
     "text": [
      " 62%|██████▏   | 577/927 [1:20:07<51:17,  8.79s/it]"
     ]
    },
    {
     "name": "stdout",
     "output_type": "stream",
     "text": [
      "L1Loss модели на обучающей выборке 0.17808718979358673\n",
      "L1Loss модели на тестовой выборке 0.22570273280143738\n",
      "Loss with opt features: 0.0132\n"
     ]
    },
    {
     "name": "stderr",
     "output_type": "stream",
     "text": [
      " 62%|██████▏   | 578/927 [1:20:14<47:19,  8.14s/it]"
     ]
    },
    {
     "name": "stdout",
     "output_type": "stream",
     "text": [
      "L1Loss модели на обучающей выборке 1.2796584367752075\n",
      "L1Loss модели на тестовой выборке 1.4939898252487183\n"
     ]
    },
    {
     "name": "stderr",
     "output_type": "stream",
     "text": [
      " 62%|██████▏   | 579/927 [1:20:18<40:42,  7.02s/it]"
     ]
    },
    {
     "name": "stdout",
     "output_type": "stream",
     "text": [
      "Loss with opt features: 0.0105\n",
      "L1Loss модели на обучающей выборке 0.43250036239624023\n",
      "L1Loss модели на тестовой выборке 0.5305181741714478\n"
     ]
    },
    {
     "name": "stderr",
     "output_type": "stream",
     "text": [
      " 63%|██████▎   | 580/927 [1:20:24<38:31,  6.66s/it]"
     ]
    },
    {
     "name": "stdout",
     "output_type": "stream",
     "text": [
      "Loss with opt features: 0.0205\n",
      "L1Loss модели на обучающей выборке 0.07260078191757202\n",
      "L1Loss модели на тестовой выборке 0.07558941841125488\n",
      "Loss with opt features: 0.0001\n"
     ]
    },
    {
     "name": "stderr",
     "output_type": "stream",
     "text": [
      " 63%|██████▎   | 581/927 [1:20:36<47:21,  8.21s/it]"
     ]
    },
    {
     "name": "stdout",
     "output_type": "stream",
     "text": [
      "L1Loss модели на обучающей выборке 0.14914754033088684\n",
      "L1Loss модели на тестовой выборке 0.16448193788528442\n"
     ]
    },
    {
     "name": "stderr",
     "output_type": "stream",
     "text": [
      " 63%|██████▎   | 582/927 [1:20:47<51:59,  9.04s/it]"
     ]
    },
    {
     "name": "stdout",
     "output_type": "stream",
     "text": [
      "Loss with opt features: 0.0153\n",
      "L1Loss модели на обучающей выборке 0.18921227753162384\n",
      "L1Loss модели на тестовой выборке 0.25710761547088623\n"
     ]
    },
    {
     "name": "stderr",
     "output_type": "stream",
     "text": [
      " 63%|██████▎   | 583/927 [1:20:56<51:38,  9.01s/it]"
     ]
    },
    {
     "name": "stdout",
     "output_type": "stream",
     "text": [
      "Loss with opt features: 0.0069\n",
      "L1Loss модели на обучающей выборке 0.008502398617565632\n",
      "L1Loss модели на тестовой выборке 0.012451503425836563\n"
     ]
    },
    {
     "name": "stderr",
     "output_type": "stream",
     "text": [
      " 63%|██████▎   | 584/927 [1:21:09<59:01, 10.33s/it]"
     ]
    },
    {
     "name": "stdout",
     "output_type": "stream",
     "text": [
      "Loss with opt features: 0.0120\n",
      "L1Loss модели на обучающей выборке 0.10544457286596298\n",
      "L1Loss модели на тестовой выборке 0.17602644860744476\n",
      "Loss with opt features: 0.0065\n"
     ]
    },
    {
     "name": "stderr",
     "output_type": "stream",
     "text": [
      " 63%|██████▎   | 585/927 [1:21:21<1:01:07, 10.72s/it]"
     ]
    },
    {
     "name": "stdout",
     "output_type": "stream",
     "text": [
      "L1Loss модели на обучающей выборке 1.386898159980774\n",
      "L1Loss модели на тестовой выборке 1.6074203252792358\n"
     ]
    },
    {
     "name": "stderr",
     "output_type": "stream",
     "text": [
      " 63%|██████▎   | 586/927 [1:21:26<51:17,  9.02s/it]  "
     ]
    },
    {
     "name": "stdout",
     "output_type": "stream",
     "text": [
      "Loss with opt features: 0.0041\n",
      "L1Loss модели на обучающей выборке 0.9123156666755676\n",
      "L1Loss модели на тестовой выборке 0.9388057589530945\n"
     ]
    },
    {
     "name": "stderr",
     "output_type": "stream",
     "text": [
      " 63%|██████▎   | 587/927 [1:21:31<44:03,  7.77s/it]"
     ]
    },
    {
     "name": "stdout",
     "output_type": "stream",
     "text": [
      "Loss with opt features: 0.0090\n",
      "L1Loss модели на обучающей выборке 0.11056823283433914\n",
      "L1Loss модели на тестовой выборке 0.12452869862318039\n",
      "Loss with opt features: 0.0001\n"
     ]
    },
    {
     "name": "stderr",
     "output_type": "stream",
     "text": [
      " 63%|██████▎   | 588/927 [1:21:40<46:26,  8.22s/it]"
     ]
    },
    {
     "name": "stdout",
     "output_type": "stream",
     "text": [
      "L1Loss модели на обучающей выборке 0.15878742933273315\n",
      "L1Loss модели на тестовой выборке 0.18659286201000214\n"
     ]
    },
    {
     "name": "stderr",
     "output_type": "stream",
     "text": [
      " 64%|██████▎   | 589/927 [1:21:50<49:21,  8.76s/it]"
     ]
    },
    {
     "name": "stdout",
     "output_type": "stream",
     "text": [
      "Loss with opt features: 0.0020\n",
      "L1Loss модели на обучающей выборке 0.6703782677650452\n",
      "L1Loss модели на тестовой выборке 0.6874850392341614\n"
     ]
    },
    {
     "name": "stderr",
     "output_type": "stream",
     "text": [
      " 64%|██████▎   | 590/927 [1:21:56<43:59,  7.83s/it]"
     ]
    },
    {
     "name": "stdout",
     "output_type": "stream",
     "text": [
      "Loss with opt features: 0.0108\n",
      "L1Loss модели на обучающей выборке 0.8978290557861328\n",
      "L1Loss модели на тестовой выборке 1.0754626989364624\n"
     ]
    },
    {
     "name": "stderr",
     "output_type": "stream",
     "text": [
      " 64%|██████▍   | 591/927 [1:22:01<39:26,  7.04s/it]"
     ]
    },
    {
     "name": "stdout",
     "output_type": "stream",
     "text": [
      "Loss with opt features: 0.0092\n",
      "L1Loss модели на обучающей выборке 0.22597560286521912\n",
      "L1Loss модели на тестовой выборке 0.27630752325057983\n",
      "Loss with opt features: 0.0000\n"
     ]
    },
    {
     "name": "stderr",
     "output_type": "stream",
     "text": [
      " 64%|██████▍   | 592/927 [1:22:10<42:39,  7.64s/it]"
     ]
    },
    {
     "name": "stdout",
     "output_type": "stream",
     "text": [
      "L1Loss модели на обучающей выборке 0.26562759280204773\n",
      "L1Loss модели на тестовой выборке 0.39919430017471313\n"
     ]
    },
    {
     "name": "stderr",
     "output_type": "stream",
     "text": [
      " 64%|██████▍   | 593/927 [1:22:18<42:58,  7.72s/it]"
     ]
    },
    {
     "name": "stdout",
     "output_type": "stream",
     "text": [
      "Loss with opt features: 0.0084\n",
      "L1Loss модели на обучающей выборке 0.8459042906761169\n",
      "L1Loss модели на тестовой выборке 0.9499269127845764\n"
     ]
    },
    {
     "name": "stderr",
     "output_type": "stream",
     "text": [
      " 64%|██████▍   | 594/927 [1:22:24<40:24,  7.28s/it]"
     ]
    },
    {
     "name": "stdout",
     "output_type": "stream",
     "text": [
      "Loss with opt features: 0.0279\n",
      "L1Loss модели на обучающей выборке 0.4940425753593445\n",
      "L1Loss модели на тестовой выборке 0.5217450261116028\n"
     ]
    },
    {
     "name": "stderr",
     "output_type": "stream",
     "text": [
      " 64%|██████▍   | 595/927 [1:22:31<39:01,  7.05s/it]"
     ]
    },
    {
     "name": "stdout",
     "output_type": "stream",
     "text": [
      "Loss with opt features: 0.0104\n",
      "L1Loss модели на обучающей выборке 0.09294786304235458\n",
      "L1Loss модели на тестовой выборке 0.13060778379440308\n",
      "Loss with opt features: 0.0010\n"
     ]
    },
    {
     "name": "stderr",
     "output_type": "stream",
     "text": [
      " 64%|██████▍   | 596/927 [1:22:41<45:05,  8.17s/it]"
     ]
    },
    {
     "name": "stdout",
     "output_type": "stream",
     "text": [
      "L1Loss модели на обучающей выборке 0.26712891459465027\n",
      "L1Loss модели на тестовой выборке 0.43394434452056885\n"
     ]
    },
    {
     "name": "stderr",
     "output_type": "stream",
     "text": [
      " 64%|██████▍   | 597/927 [1:22:49<43:47,  7.96s/it]"
     ]
    },
    {
     "name": "stdout",
     "output_type": "stream",
     "text": [
      "Loss with opt features: 0.0059\n",
      "L1Loss модели на обучающей выборке 0.4856680631637573\n",
      "L1Loss модели на тестовой выборке 0.4521183967590332\n"
     ]
    },
    {
     "name": "stderr",
     "output_type": "stream",
     "text": [
      " 65%|██████▍   | 598/927 [1:22:56<42:03,  7.67s/it]"
     ]
    },
    {
     "name": "stdout",
     "output_type": "stream",
     "text": [
      "Loss with opt features: 0.0044\n",
      "L1Loss модели на обучающей выборке 0.16702362895011902\n",
      "L1Loss модели на тестовой выборке 0.1627659946680069\n"
     ]
    },
    {
     "name": "stderr",
     "output_type": "stream",
     "text": [
      " 65%|██████▍   | 599/927 [1:23:05<44:38,  8.16s/it]"
     ]
    },
    {
     "name": "stdout",
     "output_type": "stream",
     "text": [
      "Loss with opt features: 0.0068\n",
      "L1Loss модели на обучающей выборке 1.0527501106262207\n",
      "L1Loss модели на тестовой выборке 1.3536076545715332\n"
     ]
    },
    {
     "name": "stderr",
     "output_type": "stream",
     "text": [
      " 65%|██████▍   | 600/927 [1:23:11<40:20,  7.40s/it]"
     ]
    },
    {
     "name": "stdout",
     "output_type": "stream",
     "text": [
      "Loss with opt features: 0.0048\n",
      "L1Loss модели на обучающей выборке 0.8073447346687317\n",
      "L1Loss модели на тестовой выборке 0.9197922945022583\n"
     ]
    },
    {
     "name": "stderr",
     "output_type": "stream",
     "text": [
      " 65%|██████▍   | 601/927 [1:23:16<36:34,  6.73s/it]"
     ]
    },
    {
     "name": "stdout",
     "output_type": "stream",
     "text": [
      "Loss with opt features: 0.0069\n",
      "L1Loss модели на обучающей выборке 0.9536049962043762\n",
      "L1Loss модели на тестовой выборке 1.140345811843872\n",
      "Loss with opt features: 0.0092\n"
     ]
    },
    {
     "name": "stderr",
     "output_type": "stream",
     "text": [
      " 65%|██████▍   | 602/927 [1:23:22<34:54,  6.44s/it]"
     ]
    },
    {
     "name": "stdout",
     "output_type": "stream",
     "text": [
      "L1Loss модели на обучающей выборке 0.30503636598587036\n",
      "L1Loss модели на тестовой выборке 0.42560771107673645\n"
     ]
    },
    {
     "name": "stderr",
     "output_type": "stream",
     "text": [
      " 65%|██████▌   | 603/927 [1:23:31<38:48,  7.19s/it]"
     ]
    },
    {
     "name": "stdout",
     "output_type": "stream",
     "text": [
      "Loss with opt features: 0.0226\n",
      "L1Loss модели на обучающей выборке 0.5529698729515076\n",
      "L1Loss модели на тестовой выборке 0.5703008770942688\n"
     ]
    },
    {
     "name": "stderr",
     "output_type": "stream",
     "text": [
      " 65%|██████▌   | 604/927 [1:23:36<35:21,  6.57s/it]"
     ]
    },
    {
     "name": "stdout",
     "output_type": "stream",
     "text": [
      "Loss with opt features: 0.0028\n",
      "L1Loss модели на обучающей выборке 0.760416567325592\n",
      "L1Loss модели на тестовой выборке 0.8101739883422852\n",
      "Loss with opt features: 0.0066\n"
     ]
    },
    {
     "name": "stderr",
     "output_type": "stream",
     "text": [
      " 65%|██████▌   | 605/927 [1:23:41<32:36,  6.08s/it]"
     ]
    },
    {
     "name": "stdout",
     "output_type": "stream",
     "text": [
      "L1Loss модели на обучающей выборке 0.3861050605773926\n",
      "L1Loss модели на тестовой выборке 0.5954427719116211\n",
      "Loss with opt features: 0.0091\n"
     ]
    },
    {
     "name": "stderr",
     "output_type": "stream",
     "text": [
      " 65%|██████▌   | 606/927 [1:23:48<33:42,  6.30s/it]"
     ]
    },
    {
     "name": "stdout",
     "output_type": "stream",
     "text": [
      "L1Loss модели на обучающей выборке 0.8727601170539856\n",
      "L1Loss модели на тестовой выборке 1.3087832927703857\n",
      "Loss with opt features: 0.0033\n"
     ]
    },
    {
     "name": "stderr",
     "output_type": "stream",
     "text": [
      " 65%|██████▌   | 607/927 [1:23:53<31:46,  5.96s/it]"
     ]
    },
    {
     "name": "stdout",
     "output_type": "stream",
     "text": [
      "L1Loss модели на обучающей выборке 0.5261504650115967\n",
      "L1Loss модели на тестовой выборке 0.9829556941986084\n",
      "Loss with opt features: 0.0156\n"
     ]
    },
    {
     "name": "stderr",
     "output_type": "stream",
     "text": [
      " 66%|██████▌   | 608/927 [1:23:58<30:36,  5.76s/it]"
     ]
    },
    {
     "name": "stdout",
     "output_type": "stream",
     "text": [
      "L1Loss модели на обучающей выборке 0.9609544277191162\n",
      "L1Loss модели на тестовой выборке 1.097066879272461\n"
     ]
    },
    {
     "name": "stderr",
     "output_type": "stream",
     "text": [
      " 66%|██████▌   | 609/927 [1:24:03<28:41,  5.41s/it]"
     ]
    },
    {
     "name": "stdout",
     "output_type": "stream",
     "text": [
      "Loss with opt features: 0.0098\n",
      "L1Loss модели на обучающей выборке 0.15356014668941498\n",
      "L1Loss модели на тестовой выборке 0.2585434913635254\n"
     ]
    },
    {
     "name": "stderr",
     "output_type": "stream",
     "text": [
      " 66%|██████▌   | 610/927 [1:24:12<35:04,  6.64s/it]"
     ]
    },
    {
     "name": "stdout",
     "output_type": "stream",
     "text": [
      "Loss with opt features: 0.0085\n",
      "L1Loss модели на обучающей выборке 1.1429065465927124\n",
      "L1Loss модели на тестовой выборке 1.5195002555847168\n",
      "Loss with opt features: 0.0201\n"
     ]
    },
    {
     "name": "stderr",
     "output_type": "stream",
     "text": [
      " 66%|██████▌   | 611/927 [1:24:17<33:02,  6.27s/it]"
     ]
    },
    {
     "name": "stdout",
     "output_type": "stream",
     "text": [
      "L1Loss модели на обучающей выборке 0.252480149269104\n",
      "L1Loss модели на тестовой выборке 0.4823879599571228\n"
     ]
    },
    {
     "name": "stderr",
     "output_type": "stream",
     "text": [
      " 66%|██████▌   | 612/927 [1:24:25<34:36,  6.59s/it]"
     ]
    },
    {
     "name": "stdout",
     "output_type": "stream",
     "text": [
      "Loss with opt features: 0.0193\n",
      "L1Loss модели на обучающей выборке 0.18782301247119904\n",
      "L1Loss модели на тестовой выборке 0.26780426502227783\n",
      "Loss with opt features: 0.0099\n"
     ]
    },
    {
     "name": "stderr",
     "output_type": "stream",
     "text": [
      " 66%|██████▌   | 613/927 [1:24:34<39:04,  7.47s/it]"
     ]
    },
    {
     "name": "stdout",
     "output_type": "stream",
     "text": [
      "L1Loss модели на обучающей выборке 0.11029419302940369\n",
      "L1Loss модели на тестовой выборке 0.19247451424598694\n",
      "Loss with opt features: 0.0027\n"
     ]
    },
    {
     "name": "stderr",
     "output_type": "stream",
     "text": [
      " 66%|██████▌   | 614/927 [1:24:45<43:44,  8.38s/it]"
     ]
    },
    {
     "name": "stdout",
     "output_type": "stream",
     "text": [
      "L1Loss модели на обучающей выборке 0.42634454369544983\n",
      "L1Loss модели на тестовой выборке 0.6179908514022827\n"
     ]
    },
    {
     "name": "stderr",
     "output_type": "stream",
     "text": [
      " 66%|██████▋   | 615/927 [1:24:54<44:09,  8.49s/it]"
     ]
    },
    {
     "name": "stdout",
     "output_type": "stream",
     "text": [
      "Loss with opt features: 7.8663\n",
      "L1Loss модели на обучающей выборке 0.2557578384876251\n",
      "L1Loss модели на тестовой выборке 0.32139840722084045\n",
      "Loss with opt features: 0.0044\n"
     ]
    },
    {
     "name": "stderr",
     "output_type": "stream",
     "text": [
      " 66%|██████▋   | 616/927 [1:25:00<40:34,  7.83s/it]"
     ]
    },
    {
     "name": "stdout",
     "output_type": "stream",
     "text": [
      "L1Loss модели на обучающей выборке 0.28246116638183594\n",
      "L1Loss модели на тестовой выборке 0.40188875794410706\n",
      "Loss with opt features: 0.0092\n"
     ]
    },
    {
     "name": "stderr",
     "output_type": "stream",
     "text": [
      " 67%|██████▋   | 617/927 [1:25:08<41:02,  7.94s/it]"
     ]
    },
    {
     "name": "stdout",
     "output_type": "stream",
     "text": [
      "L1Loss модели на обучающей выборке 0.40078383684158325\n",
      "L1Loss модели на тестовой выборке 0.7860925197601318\n"
     ]
    },
    {
     "name": "stderr",
     "output_type": "stream",
     "text": [
      " 67%|██████▋   | 618/927 [1:25:16<40:33,  7.88s/it]"
     ]
    },
    {
     "name": "stdout",
     "output_type": "stream",
     "text": [
      "Loss with opt features: 0.7754\n",
      "L1Loss модели на обучающей выборке 0.770346462726593\n",
      "L1Loss модели на тестовой выборке 0.7461078763008118\n"
     ]
    },
    {
     "name": "stderr",
     "output_type": "stream",
     "text": [
      " 67%|██████▋   | 619/927 [1:25:21<36:02,  7.02s/it]"
     ]
    },
    {
     "name": "stdout",
     "output_type": "stream",
     "text": [
      "Loss with opt features: 0.0105\n",
      "L1Loss модели на обучающей выборке 0.9411488771438599\n",
      "L1Loss модели на тестовой выборке 0.7812188863754272\n",
      "Loss with opt features: 0.0223\n"
     ]
    },
    {
     "name": "stderr",
     "output_type": "stream",
     "text": [
      " 67%|██████▋   | 620/927 [1:25:27<34:57,  6.83s/it]"
     ]
    },
    {
     "name": "stdout",
     "output_type": "stream",
     "text": [
      "L1Loss модели на обучающей выборке 0.5326075553894043\n",
      "L1Loss модели на тестовой выборке 0.6135398149490356\n"
     ]
    },
    {
     "name": "stderr",
     "output_type": "stream",
     "text": [
      " 67%|██████▋   | 621/927 [1:25:34<34:16,  6.72s/it]"
     ]
    },
    {
     "name": "stdout",
     "output_type": "stream",
     "text": [
      "Loss with opt features: 0.0024\n",
      "L1Loss модели на обучающей выборке 0.47754034399986267\n",
      "L1Loss модели на тестовой выборке 0.6954783201217651\n"
     ]
    },
    {
     "name": "stderr",
     "output_type": "stream",
     "text": [
      " 67%|██████▋   | 622/927 [1:25:41<34:39,  6.82s/it]"
     ]
    },
    {
     "name": "stdout",
     "output_type": "stream",
     "text": [
      "Loss with opt features: 0.3709\n",
      "L1Loss модели на обучающей выборке 1.4173810482025146\n",
      "L1Loss модели на тестовой выборке 1.6362861394882202\n",
      "Loss with opt features: 0.0185\n"
     ]
    },
    {
     "name": "stderr",
     "output_type": "stream",
     "text": [
      " 67%|██████▋   | 623/927 [1:25:46<31:41,  6.26s/it]"
     ]
    },
    {
     "name": "stdout",
     "output_type": "stream",
     "text": [
      "L1Loss модели на обучающей выборке 0.9373001456260681\n",
      "L1Loss модели на тестовой выборке 0.756494402885437\n",
      "Loss with opt features: 0.0106\n"
     ]
    },
    {
     "name": "stderr",
     "output_type": "stream",
     "text": [
      " 67%|██████▋   | 624/927 [1:25:50<29:11,  5.78s/it]"
     ]
    },
    {
     "name": "stdout",
     "output_type": "stream",
     "text": [
      "L1Loss модели на обучающей выборке 0.23735736310482025\n",
      "L1Loss модели на тестовой выборке 0.26602473855018616\n",
      "Loss with opt features: 0.0062\n"
     ]
    },
    {
     "name": "stderr",
     "output_type": "stream",
     "text": [
      " 67%|██████▋   | 625/927 [1:26:03<39:08,  7.78s/it]"
     ]
    },
    {
     "name": "stdout",
     "output_type": "stream",
     "text": [
      "L1Loss модели на обучающей выборке 0.5532593727111816\n",
      "L1Loss модели на тестовой выборке 0.6588999032974243\n"
     ]
    },
    {
     "name": "stderr",
     "output_type": "stream",
     "text": [
      " 68%|██████▊   | 626/927 [1:26:09<36:06,  7.20s/it]"
     ]
    },
    {
     "name": "stdout",
     "output_type": "stream",
     "text": [
      "Loss with opt features: 0.0006\n",
      "L1Loss модели на обучающей выборке 0.7334714531898499\n",
      "L1Loss модели на тестовой выборке 0.8675796389579773\n",
      "Loss with opt features: 0.0029\n"
     ]
    },
    {
     "name": "stderr",
     "output_type": "stream",
     "text": [
      " 68%|██████▊   | 627/927 [1:26:14<33:57,  6.79s/it]"
     ]
    },
    {
     "name": "stdout",
     "output_type": "stream",
     "text": [
      "L1Loss модели на обучающей выборке 0.3623095452785492\n",
      "L1Loss модели на тестовой выборке 0.588760256767273\n",
      "Loss with opt features: 0.0194\n"
     ]
    },
    {
     "name": "stderr",
     "output_type": "stream",
     "text": [
      " 68%|██████▊   | 628/927 [1:26:23<36:01,  7.23s/it]"
     ]
    },
    {
     "name": "stdout",
     "output_type": "stream",
     "text": [
      "L1Loss модели на обучающей выборке 1.32375967502594\n",
      "L1Loss модели на тестовой выборке 1.319320559501648\n"
     ]
    },
    {
     "name": "stderr",
     "output_type": "stream",
     "text": [
      " 68%|██████▊   | 629/927 [1:26:27<31:58,  6.44s/it]"
     ]
    },
    {
     "name": "stdout",
     "output_type": "stream",
     "text": [
      "Loss with opt features: 0.0063\n",
      "L1Loss модели на обучающей выборке 1.5278654098510742\n",
      "L1Loss модели на тестовой выборке 1.4750597476959229\n"
     ]
    },
    {
     "name": "stderr",
     "output_type": "stream",
     "text": [
      " 68%|██████▊   | 630/927 [1:26:32<29:13,  5.90s/it]"
     ]
    },
    {
     "name": "stdout",
     "output_type": "stream",
     "text": [
      "Loss with opt features: 0.0145\n",
      "L1Loss модели на обучающей выборке 0.4187829792499542\n",
      "L1Loss модели на тестовой выборке 0.405469685792923\n"
     ]
    },
    {
     "name": "stderr",
     "output_type": "stream",
     "text": [
      " 68%|██████▊   | 631/927 [1:26:40<32:56,  6.68s/it]"
     ]
    },
    {
     "name": "stdout",
     "output_type": "stream",
     "text": [
      "Loss with opt features: 0.0184\n",
      "L1Loss модели на обучающей выборке 0.6399150490760803\n",
      "L1Loss модели на тестовой выборке 0.949155867099762\n",
      "Loss with opt features: 0.0175\n"
     ]
    },
    {
     "name": "stderr",
     "output_type": "stream",
     "text": [
      " 68%|██████▊   | 632/927 [1:26:46<31:28,  6.40s/it]"
     ]
    },
    {
     "name": "stdout",
     "output_type": "stream",
     "text": [
      "L1Loss модели на обучающей выборке 0.7271504402160645\n",
      "L1Loss модели на тестовой выборке 0.8760574460029602\n"
     ]
    },
    {
     "name": "stderr",
     "output_type": "stream",
     "text": [
      " 68%|██████▊   | 633/927 [1:26:52<30:46,  6.28s/it]"
     ]
    },
    {
     "name": "stdout",
     "output_type": "stream",
     "text": [
      "Loss with opt features: 0.0023\n",
      "L1Loss модели на обучающей выборке 1.0819737911224365\n",
      "L1Loss модели на тестовой выборке 1.1882892847061157\n"
     ]
    },
    {
     "name": "stderr",
     "output_type": "stream",
     "text": [
      " 68%|██████▊   | 634/927 [1:26:57<27:57,  5.73s/it]"
     ]
    },
    {
     "name": "stdout",
     "output_type": "stream",
     "text": [
      "Loss with opt features: 0.0069\n",
      "L1Loss модели на обучающей выборке 0.46887320280075073\n",
      "L1Loss модели на тестовой выборке 0.7632477879524231\n",
      "Loss with opt features: 0.0091\n"
     ]
    },
    {
     "name": "stderr",
     "output_type": "stream",
     "text": [
      " 69%|██████▊   | 635/927 [1:27:02<28:00,  5.76s/it]"
     ]
    },
    {
     "name": "stdout",
     "output_type": "stream",
     "text": [
      "L1Loss модели на обучающей выборке 0.8473911285400391\n",
      "L1Loss модели на тестовой выборке 1.236573338508606\n"
     ]
    },
    {
     "name": "stderr",
     "output_type": "stream",
     "text": [
      " 69%|██████▊   | 636/927 [1:27:09<28:18,  5.84s/it]"
     ]
    },
    {
     "name": "stdout",
     "output_type": "stream",
     "text": [
      "Loss with opt features: 0.0073\n",
      "L1Loss модели на обучающей выборке 0.35895392298698425\n",
      "L1Loss модели на тестовой выборке 0.4871709644794464\n",
      "Loss with opt features: 0.0088\n"
     ]
    },
    {
     "name": "stderr",
     "output_type": "stream",
     "text": [
      " 69%|██████▊   | 637/927 [1:27:16<30:23,  6.29s/it]"
     ]
    },
    {
     "name": "stdout",
     "output_type": "stream",
     "text": [
      "L1Loss модели на обучающей выборке 1.422616958618164\n",
      "L1Loss модели на тестовой выборке 1.6926463842391968\n"
     ]
    },
    {
     "name": "stderr",
     "output_type": "stream",
     "text": [
      " 69%|██████▉   | 638/927 [1:27:20<27:19,  5.67s/it]"
     ]
    },
    {
     "name": "stdout",
     "output_type": "stream",
     "text": [
      "Loss with opt features: 0.0118\n",
      "L1Loss модели на обучающей выборке 1.0551371574401855\n",
      "L1Loss модели на тестовой выборке 1.2109380960464478\n"
     ]
    },
    {
     "name": "stderr",
     "output_type": "stream",
     "text": [
      " 69%|██████▉   | 639/927 [1:27:25<26:31,  5.52s/it]"
     ]
    },
    {
     "name": "stdout",
     "output_type": "stream",
     "text": [
      "Loss with opt features: 0.0154\n",
      "L1Loss модели на обучающей выборке 1.173475742340088\n",
      "L1Loss модели на тестовой выборке 1.1282422542572021\n"
     ]
    },
    {
     "name": "stderr",
     "output_type": "stream",
     "text": [
      " 69%|██████▉   | 640/927 [1:27:30<25:21,  5.30s/it]"
     ]
    },
    {
     "name": "stdout",
     "output_type": "stream",
     "text": [
      "Loss with opt features: 0.0288\n",
      "L1Loss модели на обучающей выборке 1.4940710067749023\n",
      "L1Loss модели на тестовой выборке 1.7136876583099365\n"
     ]
    },
    {
     "name": "stderr",
     "output_type": "stream",
     "text": [
      " 69%|██████▉   | 641/927 [1:27:35<24:50,  5.21s/it]"
     ]
    },
    {
     "name": "stdout",
     "output_type": "stream",
     "text": [
      "Loss with opt features: 0.0102\n",
      "L1Loss модели на обучающей выборке 1.4426450729370117\n",
      "L1Loss модели на тестовой выборке 1.800490140914917\n",
      "Loss with opt features: 0.0233\n"
     ]
    },
    {
     "name": "stderr",
     "output_type": "stream",
     "text": [
      " 69%|██████▉   | 642/927 [1:27:40<23:44,  5.00s/it]"
     ]
    },
    {
     "name": "stdout",
     "output_type": "stream",
     "text": [
      "L1Loss модели на обучающей выборке 1.4317854642868042\n",
      "L1Loss модели на тестовой выборке 1.4278420209884644\n"
     ]
    },
    {
     "name": "stderr",
     "output_type": "stream",
     "text": [
      " 69%|██████▉   | 643/927 [1:27:44<22:24,  4.73s/it]"
     ]
    },
    {
     "name": "stdout",
     "output_type": "stream",
     "text": [
      "Loss with opt features: 0.0143\n",
      "L1Loss модели на обучающей выборке 0.40129467844963074\n",
      "L1Loss модели на тестовой выборке 0.6114695072174072\n"
     ]
    },
    {
     "name": "stderr",
     "output_type": "stream",
     "text": [
      " 69%|██████▉   | 644/927 [1:27:51<26:40,  5.66s/it]"
     ]
    },
    {
     "name": "stdout",
     "output_type": "stream",
     "text": [
      "Loss with opt features: 0.0123\n",
      "L1Loss модели на обучающей выборке 1.690788984298706\n",
      "L1Loss модели на тестовой выборке 2.1301283836364746\n"
     ]
    },
    {
     "name": "stderr",
     "output_type": "stream",
     "text": [
      " 70%|██████▉   | 645/927 [1:27:56<25:07,  5.35s/it]"
     ]
    },
    {
     "name": "stdout",
     "output_type": "stream",
     "text": [
      "Loss with opt features: 0.0338\n",
      "L1Loss модели на обучающей выборке 0.34305471181869507\n",
      "L1Loss модели на тестовой выборке 0.4599531292915344\n"
     ]
    },
    {
     "name": "stderr",
     "output_type": "stream",
     "text": [
      " 70%|██████▉   | 646/927 [1:28:05<30:31,  6.52s/it]"
     ]
    },
    {
     "name": "stdout",
     "output_type": "stream",
     "text": [
      "Loss with opt features: 0.0014\n",
      "L1Loss модели на обучающей выборке 0.5905537009239197\n",
      "L1Loss модели на тестовой выборке 0.801426887512207\n",
      "Loss with opt features: 0.0156\n"
     ]
    },
    {
     "name": "stderr",
     "output_type": "stream",
     "text": [
      " 70%|██████▉   | 647/927 [1:28:12<29:59,  6.43s/it]"
     ]
    },
    {
     "name": "stdout",
     "output_type": "stream",
     "text": [
      "L1Loss модели на обучающей выборке 1.153943657875061\n",
      "L1Loss модели на тестовой выборке 1.7145271301269531\n"
     ]
    },
    {
     "name": "stderr",
     "output_type": "stream",
     "text": [
      " 70%|██████▉   | 648/927 [1:28:16<27:10,  5.85s/it]"
     ]
    },
    {
     "name": "stdout",
     "output_type": "stream",
     "text": [
      "Loss with opt features: 0.0210\n",
      "L1Loss модели на обучающей выборке 0.5109171867370605\n",
      "L1Loss модели на тестовой выборке 0.7768164277076721\n"
     ]
    },
    {
     "name": "stderr",
     "output_type": "stream",
     "text": [
      " 70%|███████   | 649/927 [1:28:21<26:09,  5.65s/it]"
     ]
    },
    {
     "name": "stdout",
     "output_type": "stream",
     "text": [
      "Loss with opt features: 0.0104\n",
      "L1Loss модели на обучающей выборке 1.2642242908477783\n",
      "L1Loss модели на тестовой выборке 1.3155667781829834\n",
      "Loss with opt features: 0.0037\n"
     ]
    },
    {
     "name": "stderr",
     "output_type": "stream",
     "text": [
      " 70%|███████   | 650/927 [1:28:26<24:26,  5.29s/it]"
     ]
    },
    {
     "name": "stdout",
     "output_type": "stream",
     "text": [
      "L1Loss модели на обучающей выборке 1.2359638214111328\n",
      "L1Loss модели на тестовой выборке 0.9343739748001099\n"
     ]
    },
    {
     "name": "stderr",
     "output_type": "stream",
     "text": [
      " 70%|███████   | 651/927 [1:28:31<24:00,  5.22s/it]"
     ]
    },
    {
     "name": "stdout",
     "output_type": "stream",
     "text": [
      "Loss with opt features: 0.0145\n",
      "L1Loss модели на обучающей выборке 0.30084601044654846\n",
      "L1Loss модели на тестовой выборке 0.5108510851860046\n",
      "Loss with opt features: 0.0044\n"
     ]
    },
    {
     "name": "stderr",
     "output_type": "stream",
     "text": [
      " 70%|███████   | 652/927 [1:28:37<24:54,  5.43s/it]"
     ]
    },
    {
     "name": "stdout",
     "output_type": "stream",
     "text": [
      "L1Loss модели на обучающей выборке 0.31807464361190796\n",
      "L1Loss модели на тестовой выборке 0.41914623975753784\n",
      "Loss with opt features: 0.0069\n"
     ]
    },
    {
     "name": "stderr",
     "output_type": "stream",
     "text": [
      " 70%|███████   | 653/927 [1:28:44<27:34,  6.04s/it]"
     ]
    },
    {
     "name": "stdout",
     "output_type": "stream",
     "text": [
      "L1Loss модели на обучающей выборке 0.8442066311836243\n",
      "L1Loss модели на тестовой выборке 0.9839450120925903\n"
     ]
    },
    {
     "name": "stderr",
     "output_type": "stream",
     "text": [
      " 71%|███████   | 654/927 [1:28:49<25:57,  5.71s/it]"
     ]
    },
    {
     "name": "stdout",
     "output_type": "stream",
     "text": [
      "Loss with opt features: 0.0031\n",
      "L1Loss модели на обучающей выборке 1.099645733833313\n",
      "L1Loss модели на тестовой выборке 1.2074623107910156\n"
     ]
    },
    {
     "name": "stderr",
     "output_type": "stream",
     "text": [
      " 71%|███████   | 655/927 [1:28:54<24:49,  5.47s/it]"
     ]
    },
    {
     "name": "stdout",
     "output_type": "stream",
     "text": [
      "Loss with opt features: 0.0017\n",
      "L1Loss модели на обучающей выборке 2.5073423385620117\n",
      "L1Loss модели на тестовой выборке 3.3190369606018066\n"
     ]
    },
    {
     "name": "stderr",
     "output_type": "stream",
     "text": [
      " 71%|███████   | 656/927 [1:29:00<25:17,  5.60s/it]"
     ]
    },
    {
     "name": "stdout",
     "output_type": "stream",
     "text": [
      "Loss with opt features: 0.0037\n",
      "L1Loss модели на обучающей выборке 0.7107130885124207\n",
      "L1Loss модели на тестовой выборке 0.5452708005905151\n"
     ]
    },
    {
     "name": "stderr",
     "output_type": "stream",
     "text": [
      " 71%|███████   | 657/927 [1:29:05<24:27,  5.44s/it]"
     ]
    },
    {
     "name": "stdout",
     "output_type": "stream",
     "text": [
      "Loss with opt features: 0.0229\n",
      "L1Loss модели на обучающей выборке 1.52357017993927\n",
      "L1Loss модели на тестовой выборке 1.2838749885559082\n",
      "Loss with opt features: 0.0016\n"
     ]
    },
    {
     "name": "stderr",
     "output_type": "stream",
     "text": [
      " 71%|███████   | 658/927 [1:29:10<23:21,  5.21s/it]"
     ]
    },
    {
     "name": "stdout",
     "output_type": "stream",
     "text": [
      "L1Loss модели на обучающей выборке 0.48045769333839417\n",
      "L1Loss модели на тестовой выборке 0.730137288570404\n",
      "Loss with opt features: 0.0074\n"
     ]
    },
    {
     "name": "stderr",
     "output_type": "stream",
     "text": [
      " 71%|███████   | 659/927 [1:29:21<31:27,  7.04s/it]"
     ]
    },
    {
     "name": "stdout",
     "output_type": "stream",
     "text": [
      "L1Loss модели на обучающей выборке 0.657285213470459\n",
      "L1Loss модели на тестовой выборке 0.9459146857261658\n"
     ]
    },
    {
     "name": "stderr",
     "output_type": "stream",
     "text": [
      " 71%|███████   | 660/927 [1:29:29<32:20,  7.27s/it]"
     ]
    },
    {
     "name": "stdout",
     "output_type": "stream",
     "text": [
      "Loss with opt features: 0.0098\n",
      "L1Loss модели на обучающей выборке 0.6835532188415527\n",
      "L1Loss модели на тестовой выборке 0.979246199131012\n"
     ]
    },
    {
     "name": "stderr",
     "output_type": "stream",
     "text": [
      " 71%|███████▏  | 661/927 [1:29:37<33:02,  7.45s/it]"
     ]
    },
    {
     "name": "stdout",
     "output_type": "stream",
     "text": [
      "Loss with opt features: 0.0119\n",
      "L1Loss модели на обучающей выборке 0.26595205068588257\n",
      "L1Loss модели на тестовой выборке 0.6227301359176636\n",
      "Loss with opt features: 0.0008\n"
     ]
    },
    {
     "name": "stderr",
     "output_type": "stream",
     "text": [
      " 71%|███████▏  | 662/927 [1:29:46<35:52,  8.12s/it]"
     ]
    },
    {
     "name": "stdout",
     "output_type": "stream",
     "text": [
      "L1Loss модели на обучающей выборке 1.8375446796417236\n",
      "L1Loss модели на тестовой выборке 2.0666606426239014\n"
     ]
    },
    {
     "name": "stderr",
     "output_type": "stream",
     "text": [
      " 72%|███████▏  | 663/927 [1:29:51<30:48,  7.00s/it]"
     ]
    },
    {
     "name": "stdout",
     "output_type": "stream",
     "text": [
      "Loss with opt features: 0.0210\n",
      "L1Loss модели на обучающей выборке 0.31628063321113586\n",
      "L1Loss модели на тестовой выборке 0.48166555166244507\n"
     ]
    },
    {
     "name": "stderr",
     "output_type": "stream",
     "text": [
      " 72%|███████▏  | 664/927 [1:30:04<38:45,  8.84s/it]"
     ]
    },
    {
     "name": "stdout",
     "output_type": "stream",
     "text": [
      "Loss with opt features: 0.0156\n",
      "L1Loss модели на обучающей выборке 0.30754151940345764\n",
      "L1Loss модели на тестовой выборке 0.4651709496974945\n",
      "Loss with opt features: 0.0182\n"
     ]
    },
    {
     "name": "stderr",
     "output_type": "stream",
     "text": [
      " 72%|███████▏  | 665/927 [1:30:15<41:16,  9.45s/it]"
     ]
    },
    {
     "name": "stdout",
     "output_type": "stream",
     "text": [
      "L1Loss модели на обучающей выборке 0.8927950859069824\n",
      "L1Loss модели на тестовой выборке 1.1513081789016724\n"
     ]
    },
    {
     "name": "stderr",
     "output_type": "stream",
     "text": [
      " 72%|███████▏  | 666/927 [1:30:21<37:04,  8.52s/it]"
     ]
    },
    {
     "name": "stdout",
     "output_type": "stream",
     "text": [
      "Loss with opt features: 0.0304\n",
      "L1Loss модели на обучающей выборке 0.6595990657806396\n",
      "L1Loss модели на тестовой выборке 0.8141770958900452\n"
     ]
    },
    {
     "name": "stderr",
     "output_type": "stream",
     "text": [
      " 72%|███████▏  | 667/927 [1:30:28<34:52,  8.05s/it]"
     ]
    },
    {
     "name": "stdout",
     "output_type": "stream",
     "text": [
      "Loss with opt features: 0.0174\n",
      "L1Loss модели на обучающей выборке 0.4126358926296234\n",
      "L1Loss модели на тестовой выборке 0.7526980042457581\n"
     ]
    },
    {
     "name": "stderr",
     "output_type": "stream",
     "text": [
      " 72%|███████▏  | 668/927 [1:30:37<36:36,  8.48s/it]"
     ]
    },
    {
     "name": "stdout",
     "output_type": "stream",
     "text": [
      "Loss with opt features: 0.0017\n",
      "L1Loss модели на обучающей выборке 1.8220150470733643\n",
      "L1Loss модели на тестовой выборке 2.2180838584899902\n"
     ]
    },
    {
     "name": "stderr",
     "output_type": "stream",
     "text": [
      " 72%|███████▏  | 669/927 [1:30:43<32:33,  7.57s/it]"
     ]
    },
    {
     "name": "stdout",
     "output_type": "stream",
     "text": [
      "Loss with opt features: 0.0120\n",
      "L1Loss модели на обучающей выборке 0.38840529322624207\n",
      "L1Loss модели на тестовой выборке 0.6442856192588806\n"
     ]
    },
    {
     "name": "stderr",
     "output_type": "stream",
     "text": [
      " 72%|███████▏  | 670/927 [1:30:51<33:15,  7.77s/it]"
     ]
    },
    {
     "name": "stdout",
     "output_type": "stream",
     "text": [
      "Loss with opt features: 0.0087\n",
      "L1Loss модели на обучающей выборке 0.1852944940328598\n",
      "L1Loss модели на тестовой выборке 0.45436039566993713\n",
      "Loss with opt features: 0.0146\n"
     ]
    },
    {
     "name": "stderr",
     "output_type": "stream",
     "text": [
      " 72%|███████▏  | 671/927 [1:31:02<37:25,  8.77s/it]"
     ]
    },
    {
     "name": "stdout",
     "output_type": "stream",
     "text": [
      "L1Loss модели на обучающей выборке 0.26589176058769226\n",
      "L1Loss модели на тестовой выборке 0.4347805380821228\n"
     ]
    },
    {
     "name": "stderr",
     "output_type": "stream",
     "text": [
      " 72%|███████▏  | 672/927 [1:31:12<38:25,  9.04s/it]"
     ]
    },
    {
     "name": "stdout",
     "output_type": "stream",
     "text": [
      "Loss with opt features: 1.7306\n",
      "L1Loss модели на обучающей выборке 1.3326553106307983\n",
      "L1Loss модели на тестовой выборке 1.487451195716858\n",
      "Loss with opt features: 0.0005\n"
     ]
    },
    {
     "name": "stderr",
     "output_type": "stream",
     "text": [
      " 73%|███████▎  | 673/927 [1:31:16<32:30,  7.68s/it]"
     ]
    },
    {
     "name": "stdout",
     "output_type": "stream",
     "text": [
      "L1Loss модели на обучающей выборке 0.9800001978874207\n",
      "L1Loss модели на тестовой выборке 1.3670058250427246\n"
     ]
    },
    {
     "name": "stderr",
     "output_type": "stream",
     "text": [
      " 73%|███████▎  | 674/927 [1:31:21<28:30,  6.76s/it]"
     ]
    },
    {
     "name": "stdout",
     "output_type": "stream",
     "text": [
      "Loss with opt features: 0.0032\n",
      "L1Loss модели на обучающей выборке 0.22882041335105896\n",
      "L1Loss модели на тестовой выборке 0.29188278317451477\n"
     ]
    },
    {
     "name": "stderr",
     "output_type": "stream",
     "text": [
      " 73%|███████▎  | 675/927 [1:31:32<34:12,  8.14s/it]"
     ]
    },
    {
     "name": "stdout",
     "output_type": "stream",
     "text": [
      "Loss with opt features: 0.0037\n",
      "L1Loss модели на обучающей выборке 0.5933107733726501\n",
      "L1Loss модели на тестовой выборке 0.5679759383201599\n"
     ]
    },
    {
     "name": "stderr",
     "output_type": "stream",
     "text": [
      " 73%|███████▎  | 676/927 [1:31:39<32:11,  7.70s/it]"
     ]
    },
    {
     "name": "stdout",
     "output_type": "stream",
     "text": [
      "Loss with opt features: 3.0880\n",
      "L1Loss модели на обучающей выборке 0.5162490010261536\n",
      "L1Loss модели на тестовой выборке 0.7322098612785339\n"
     ]
    },
    {
     "name": "stderr",
     "output_type": "stream",
     "text": [
      " 73%|███████▎  | 677/927 [1:31:46<31:02,  7.45s/it]"
     ]
    },
    {
     "name": "stdout",
     "output_type": "stream",
     "text": [
      "Loss with opt features: 0.0110\n",
      "L1Loss модели на обучающей выборке 0.7190616130828857\n",
      "L1Loss модели на тестовой выборке 0.9759647846221924\n",
      "Loss with opt features: 0.0140\n"
     ]
    },
    {
     "name": "stderr",
     "output_type": "stream",
     "text": [
      " 73%|███████▎  | 678/927 [1:31:51<28:10,  6.79s/it]"
     ]
    },
    {
     "name": "stdout",
     "output_type": "stream",
     "text": [
      "L1Loss модели на обучающей выборке 0.40080636739730835\n",
      "L1Loss модели на тестовой выборке 0.4586649239063263\n"
     ]
    },
    {
     "name": "stderr",
     "output_type": "stream",
     "text": [
      " 73%|███████▎  | 679/927 [1:31:59<29:04,  7.03s/it]"
     ]
    },
    {
     "name": "stdout",
     "output_type": "stream",
     "text": [
      "Loss with opt features: 0.0038\n",
      "L1Loss модели на обучающей выборке 0.21954898536205292\n",
      "L1Loss модели на тестовой выборке 0.28526920080184937\n"
     ]
    },
    {
     "name": "stderr",
     "output_type": "stream",
     "text": [
      " 73%|███████▎  | 680/927 [1:32:07<30:06,  7.31s/it]"
     ]
    },
    {
     "name": "stdout",
     "output_type": "stream",
     "text": [
      "Loss with opt features: 0.0115\n",
      "L1Loss модели на обучающей выборке 0.24846233427524567\n",
      "L1Loss модели на тестовой выборке 0.3033248484134674\n",
      "Loss with opt features: 0.0110\n"
     ]
    },
    {
     "name": "stderr",
     "output_type": "stream",
     "text": [
      " 73%|███████▎  | 681/927 [1:32:15<31:22,  7.65s/it]"
     ]
    },
    {
     "name": "stdout",
     "output_type": "stream",
     "text": [
      "L1Loss модели на обучающей выборке 0.225641667842865\n",
      "L1Loss модели на тестовой выборке 0.2710389792919159\n"
     ]
    },
    {
     "name": "stderr",
     "output_type": "stream",
     "text": [
      " 74%|███████▎  | 682/927 [1:32:23<31:27,  7.70s/it]"
     ]
    },
    {
     "name": "stdout",
     "output_type": "stream",
     "text": [
      "Loss with opt features: 0.0029\n",
      "L1Loss модели на обучающей выборке 0.3168138563632965\n",
      "L1Loss модели на тестовой выборке 0.4665834605693817\n"
     ]
    },
    {
     "name": "stderr",
     "output_type": "stream",
     "text": [
      " 74%|███████▎  | 683/927 [1:32:31<31:12,  7.67s/it]"
     ]
    },
    {
     "name": "stdout",
     "output_type": "stream",
     "text": [
      "Loss with opt features: 0.0027\n",
      "L1Loss модели на обучающей выборке 0.17087505757808685\n",
      "L1Loss модели на тестовой выборке 0.21219651401042938\n"
     ]
    },
    {
     "name": "stderr",
     "output_type": "stream",
     "text": [
      " 74%|███████▍  | 684/927 [1:32:38<31:11,  7.70s/it]"
     ]
    },
    {
     "name": "stdout",
     "output_type": "stream",
     "text": [
      "Loss with opt features: 0.0047\n",
      "L1Loss модели на обучающей выборке 0.19033068418502808\n",
      "L1Loss модели на тестовой выборке 0.31128278374671936\n"
     ]
    },
    {
     "name": "stderr",
     "output_type": "stream",
     "text": [
      " 74%|███████▍  | 685/927 [1:32:48<33:51,  8.40s/it]"
     ]
    },
    {
     "name": "stdout",
     "output_type": "stream",
     "text": [
      "Loss with opt features: 0.0024\n",
      "L1Loss модели на обучающей выборке 0.5433388352394104\n",
      "L1Loss модели на тестовой выборке 0.5348787307739258\n"
     ]
    },
    {
     "name": "stderr",
     "output_type": "stream",
     "text": [
      " 74%|███████▍  | 686/927 [1:32:54<30:21,  7.56s/it]"
     ]
    },
    {
     "name": "stdout",
     "output_type": "stream",
     "text": [
      "Loss with opt features: 0.0054\n",
      "L1Loss модели на обучающей выборке 0.013634578324854374\n",
      "L1Loss модели на тестовой выборке 0.024706227704882622\n"
     ]
    },
    {
     "name": "stderr",
     "output_type": "stream",
     "text": [
      " 74%|███████▍  | 687/927 [1:33:07<37:02,  9.26s/it]"
     ]
    },
    {
     "name": "stdout",
     "output_type": "stream",
     "text": [
      "Loss with opt features: 0.0004\n",
      "L1Loss модели на обучающей выборке 0.20111030340194702\n",
      "L1Loss модели на тестовой выборке 0.1792367398738861\n",
      "Loss with opt features: 0.0044\n"
     ]
    },
    {
     "name": "stderr",
     "output_type": "stream",
     "text": [
      " 74%|███████▍  | 688/927 [1:33:16<35:55,  9.02s/it]"
     ]
    },
    {
     "name": "stdout",
     "output_type": "stream",
     "text": [
      "L1Loss модели на обучающей выборке 0.14639513194561005\n",
      "L1Loss модели на тестовой выборке 0.21023815870285034\n",
      "Loss with opt features: 0.0028\n"
     ]
    },
    {
     "name": "stderr",
     "output_type": "stream",
     "text": [
      " 74%|███████▍  | 689/927 [1:33:28<39:11,  9.88s/it]"
     ]
    },
    {
     "name": "stdout",
     "output_type": "stream",
     "text": [
      "L1Loss модели на обучающей выборке 1.4184796810150146\n",
      "L1Loss модели на тестовой выборке 1.2315982580184937\n"
     ]
    },
    {
     "name": "stderr",
     "output_type": "stream",
     "text": [
      " 74%|███████▍  | 690/927 [1:33:32<32:45,  8.29s/it]"
     ]
    },
    {
     "name": "stdout",
     "output_type": "stream",
     "text": [
      "Loss with opt features: 0.0004\n",
      "L1Loss модели на обучающей выборке 0.3332580029964447\n",
      "L1Loss модели на тестовой выборке 0.3831667900085449\n"
     ]
    },
    {
     "name": "stderr",
     "output_type": "stream",
     "text": [
      " 75%|███████▍  | 691/927 [1:33:39<30:40,  7.80s/it]"
     ]
    },
    {
     "name": "stdout",
     "output_type": "stream",
     "text": [
      "Loss with opt features: 0.0105\n",
      "L1Loss модели на обучающей выборке 1.4972403049468994\n",
      "L1Loss модели на тестовой выборке 1.5012351274490356\n"
     ]
    },
    {
     "name": "stderr",
     "output_type": "stream",
     "text": [
      " 75%|███████▍  | 692/927 [1:33:44<26:53,  6.87s/it]"
     ]
    },
    {
     "name": "stdout",
     "output_type": "stream",
     "text": [
      "Loss with opt features: 0.0073\n",
      "L1Loss модели на обучающей выборке 0.2350982129573822\n",
      "L1Loss модели на тестовой выборке 0.34786728024482727\n"
     ]
    },
    {
     "name": "stderr",
     "output_type": "stream",
     "text": [
      " 75%|███████▍  | 693/927 [1:33:53<30:15,  7.76s/it]"
     ]
    },
    {
     "name": "stdout",
     "output_type": "stream",
     "text": [
      "Loss with opt features: 0.0027\n",
      "L1Loss модели на обучающей выборке 1.4539611339569092\n",
      "L1Loss модели на тестовой выборке 1.6502785682678223\n",
      "Loss with opt features: 0.0281\n"
     ]
    },
    {
     "name": "stderr",
     "output_type": "stream",
     "text": [
      " 75%|███████▍  | 694/927 [1:33:58<26:27,  6.81s/it]"
     ]
    },
    {
     "name": "stdout",
     "output_type": "stream",
     "text": [
      "L1Loss модели на обучающей выборке 1.062861680984497\n",
      "L1Loss модели на тестовой выборке 1.1223243474960327\n",
      "Loss with opt features: 0.0125\n"
     ]
    },
    {
     "name": "stderr",
     "output_type": "stream",
     "text": [
      " 75%|███████▍  | 695/927 [1:34:02<23:17,  6.03s/it]"
     ]
    },
    {
     "name": "stdout",
     "output_type": "stream",
     "text": [
      "L1Loss модели на обучающей выборке 0.7962917685508728\n",
      "L1Loss модели на тестовой выборке 0.8386267423629761\n",
      "Loss with opt features: 0.0025\n"
     ]
    },
    {
     "name": "stderr",
     "output_type": "stream",
     "text": [
      " 75%|███████▌  | 696/927 [1:34:07<22:09,  5.75s/it]"
     ]
    },
    {
     "name": "stdout",
     "output_type": "stream",
     "text": [
      "L1Loss модели на обучающей выборке 0.4636021554470062\n",
      "L1Loss модели на тестовой выборке 0.5280912518501282\n"
     ]
    },
    {
     "name": "stderr",
     "output_type": "stream",
     "text": [
      " 75%|███████▌  | 697/927 [1:34:14<23:30,  6.13s/it]"
     ]
    },
    {
     "name": "stdout",
     "output_type": "stream",
     "text": [
      "Loss with opt features: 0.0066\n",
      "L1Loss модели на обучающей выборке 0.5619688630104065\n",
      "L1Loss модели на тестовой выборке 0.6433431506156921\n"
     ]
    },
    {
     "name": "stderr",
     "output_type": "stream",
     "text": [
      " 75%|███████▌  | 698/927 [1:34:22<24:37,  6.45s/it]"
     ]
    },
    {
     "name": "stdout",
     "output_type": "stream",
     "text": [
      "Loss with opt features: 0.0049\n",
      "L1Loss модели на обучающей выборке 1.0984808206558228\n",
      "L1Loss модели на тестовой выборке 1.2836791276931763\n"
     ]
    },
    {
     "name": "stderr",
     "output_type": "stream",
     "text": [
      " 75%|███████▌  | 699/927 [1:34:26<22:46,  5.99s/it]"
     ]
    },
    {
     "name": "stdout",
     "output_type": "stream",
     "text": [
      "Loss with opt features: 0.0149\n",
      "L1Loss модели на обучающей выборке 1.1588889360427856\n",
      "L1Loss модели на тестовой выборке 0.8489684462547302\n",
      "Loss with opt features: 0.0273\n"
     ]
    },
    {
     "name": "stderr",
     "output_type": "stream",
     "text": [
      " 76%|███████▌  | 700/927 [1:34:31<21:12,  5.61s/it]"
     ]
    },
    {
     "name": "stdout",
     "output_type": "stream",
     "text": [
      "L1Loss модели на обучающей выборке 0.3025616705417633\n",
      "L1Loss модели на тестовой выборке 0.46656036376953125\n",
      "Loss with opt features: 0.0154\n"
     ]
    },
    {
     "name": "stderr",
     "output_type": "stream",
     "text": [
      " 76%|███████▌  | 701/927 [1:34:38<22:09,  5.88s/it]"
     ]
    },
    {
     "name": "stdout",
     "output_type": "stream",
     "text": [
      "L1Loss модели на обучающей выборке 0.5642656087875366\n",
      "L1Loss модели на тестовой выборке 0.7642136812210083\n",
      "Loss with opt features: 0.0098\n"
     ]
    },
    {
     "name": "stderr",
     "output_type": "stream",
     "text": [
      " 76%|███████▌  | 702/927 [1:34:44<22:16,  5.94s/it]"
     ]
    },
    {
     "name": "stdout",
     "output_type": "stream",
     "text": [
      "L1Loss модели на обучающей выборке 1.039986252784729\n",
      "L1Loss модели на тестовой выборке 1.0321511030197144\n"
     ]
    },
    {
     "name": "stderr",
     "output_type": "stream",
     "text": [
      " 76%|███████▌  | 703/927 [1:34:48<20:49,  5.58s/it]"
     ]
    },
    {
     "name": "stdout",
     "output_type": "stream",
     "text": [
      "Loss with opt features: 0.0014\n",
      "L1Loss модели на обучающей выборке 0.49663257598876953\n",
      "L1Loss модели на тестовой выборке 0.6934078335762024\n",
      "Loss with opt features: 0.0015\n"
     ]
    },
    {
     "name": "stderr",
     "output_type": "stream",
     "text": [
      " 76%|███████▌  | 704/927 [1:34:55<22:19,  6.01s/it]"
     ]
    },
    {
     "name": "stdout",
     "output_type": "stream",
     "text": [
      "L1Loss модели на обучающей выборке 1.3390932083129883\n",
      "L1Loss модели на тестовой выборке 1.104732871055603\n"
     ]
    },
    {
     "name": "stderr",
     "output_type": "stream",
     "text": [
      " 76%|███████▌  | 705/927 [1:35:00<20:33,  5.56s/it]"
     ]
    },
    {
     "name": "stdout",
     "output_type": "stream",
     "text": [
      "Loss with opt features: 0.0131\n",
      "L1Loss модели на обучающей выборке 0.7099796533584595\n",
      "L1Loss модели на тестовой выборке 0.6240512728691101\n"
     ]
    },
    {
     "name": "stderr",
     "output_type": "stream",
     "text": [
      " 76%|███████▌  | 706/927 [1:35:06<20:38,  5.61s/it]"
     ]
    },
    {
     "name": "stdout",
     "output_type": "stream",
     "text": [
      "Loss with opt features: 0.0039\n",
      "L1Loss модели на обучающей выборке 1.310226321220398\n",
      "L1Loss модели на тестовой выборке 1.4682018756866455\n",
      "Loss with opt features: 0.0345\n"
     ]
    },
    {
     "name": "stderr",
     "output_type": "stream",
     "text": [
      " 76%|███████▋  | 707/927 [1:35:10<19:26,  5.30s/it]"
     ]
    },
    {
     "name": "stdout",
     "output_type": "stream",
     "text": [
      "L1Loss модели на обучающей выборке 0.34320297837257385\n",
      "L1Loss модели на тестовой выборке 0.4515799283981323\n"
     ]
    },
    {
     "name": "stderr",
     "output_type": "stream",
     "text": [
      " 76%|███████▋  | 708/927 [1:35:17<21:22,  5.86s/it]"
     ]
    },
    {
     "name": "stdout",
     "output_type": "stream",
     "text": [
      "Loss with opt features: 0.0118\n",
      "L1Loss модели на обучающей выборке 0.8124948740005493\n",
      "L1Loss модели на тестовой выборке 1.1312060356140137\n",
      "Loss with opt features: 0.0118\n"
     ]
    },
    {
     "name": "stderr",
     "output_type": "stream",
     "text": [
      " 76%|███████▋  | 709/927 [1:35:22<20:06,  5.53s/it]"
     ]
    },
    {
     "name": "stdout",
     "output_type": "stream",
     "text": [
      "L1Loss модели на обучающей выборке 0.4558219611644745\n",
      "L1Loss модели на тестовой выборке 0.613972544670105\n"
     ]
    },
    {
     "name": "stderr",
     "output_type": "stream",
     "text": [
      " 77%|███████▋  | 710/927 [1:35:28<20:23,  5.64s/it]"
     ]
    },
    {
     "name": "stdout",
     "output_type": "stream",
     "text": [
      "Loss with opt features: 0.0080\n",
      "L1Loss модели на обучающей выборке 0.9899863004684448\n",
      "L1Loss модели на тестовой выборке 1.1322592496871948\n",
      "Loss with opt features: 0.0224\n"
     ]
    },
    {
     "name": "stderr",
     "output_type": "stream",
     "text": [
      " 77%|███████▋  | 711/927 [1:35:33<19:47,  5.50s/it]"
     ]
    },
    {
     "name": "stdout",
     "output_type": "stream",
     "text": [
      "L1Loss модели на обучающей выборке 1.4699496030807495\n",
      "L1Loss модели на тестовой выборке 1.0611035823822021\n"
     ]
    },
    {
     "name": "stderr",
     "output_type": "stream",
     "text": [
      " 77%|███████▋  | 712/927 [1:35:38<18:23,  5.13s/it]"
     ]
    },
    {
     "name": "stdout",
     "output_type": "stream",
     "text": [
      "Loss with opt features: 0.0002\n",
      "L1Loss модели на обучающей выборке 1.1475509405136108\n",
      "L1Loss модели на тестовой выборке 0.8726040720939636\n",
      "Loss with opt features: 0.0226\n"
     ]
    },
    {
     "name": "stderr",
     "output_type": "stream",
     "text": [
      " 77%|███████▋  | 713/927 [1:35:42<17:44,  4.97s/it]"
     ]
    },
    {
     "name": "stdout",
     "output_type": "stream",
     "text": [
      "L1Loss модели на обучающей выборке 0.3818148970603943\n",
      "L1Loss модели на тестовой выборке 0.6113531589508057\n",
      "Loss with opt features: 0.0070\n"
     ]
    },
    {
     "name": "stderr",
     "output_type": "stream",
     "text": [
      " 77%|███████▋  | 714/927 [1:35:49<19:16,  5.43s/it]"
     ]
    },
    {
     "name": "stdout",
     "output_type": "stream",
     "text": [
      "L1Loss модели на обучающей выборке 0.5336613059043884\n",
      "L1Loss модели на тестовой выборке 0.4061196446418762\n"
     ]
    },
    {
     "name": "stderr",
     "output_type": "stream",
     "text": [
      " 77%|███████▋  | 715/927 [1:35:54<19:22,  5.48s/it]"
     ]
    },
    {
     "name": "stdout",
     "output_type": "stream",
     "text": [
      "Loss with opt features: 0.0130\n",
      "L1Loss модели на обучающей выборке 0.10051252692937851\n",
      "L1Loss модели на тестовой выборке 0.14679674804210663\n",
      "Loss with opt features: 0.0018\n"
     ]
    },
    {
     "name": "stderr",
     "output_type": "stream",
     "text": [
      " 77%|███████▋  | 716/927 [1:36:05<24:28,  6.96s/it]"
     ]
    },
    {
     "name": "stdout",
     "output_type": "stream",
     "text": [
      "L1Loss модели на обучающей выборке 0.18546496331691742\n",
      "L1Loss модели на тестовой выборке 0.2119164615869522\n"
     ]
    },
    {
     "name": "stderr",
     "output_type": "stream",
     "text": [
      " 77%|███████▋  | 717/927 [1:36:14<26:25,  7.55s/it]"
     ]
    },
    {
     "name": "stdout",
     "output_type": "stream",
     "text": [
      "Loss with opt features: 0.0034\n",
      "L1Loss модели на обучающей выборке 1.3892656564712524\n",
      "L1Loss модели на тестовой выборке 1.3790861368179321\n"
     ]
    },
    {
     "name": "stderr",
     "output_type": "stream",
     "text": [
      " 77%|███████▋  | 718/927 [1:36:19<23:39,  6.79s/it]"
     ]
    },
    {
     "name": "stdout",
     "output_type": "stream",
     "text": [
      "Loss with opt features: 0.0096\n",
      "L1Loss модели на обучающей выборке 0.9408692717552185\n",
      "L1Loss модели на тестовой выборке 1.3076114654541016\n"
     ]
    },
    {
     "name": "stderr",
     "output_type": "stream",
     "text": [
      " 78%|███████▊  | 719/927 [1:36:24<21:42,  6.26s/it]"
     ]
    },
    {
     "name": "stdout",
     "output_type": "stream",
     "text": [
      "Loss with opt features: 0.0089\n",
      "L1Loss модели на обучающей выборке 0.40756916999816895\n",
      "L1Loss модели на тестовой выборке 0.4924415051937103\n",
      "Loss with opt features: 0.0057\n"
     ]
    },
    {
     "name": "stderr",
     "output_type": "stream",
     "text": [
      " 78%|███████▊  | 720/927 [1:36:30<21:35,  6.26s/it]"
     ]
    },
    {
     "name": "stdout",
     "output_type": "stream",
     "text": [
      "L1Loss модели на обучающей выборке 1.3730953931808472\n",
      "L1Loss модели на тестовой выборке 1.5174238681793213\n",
      "Loss with opt features: 0.0008\n"
     ]
    },
    {
     "name": "stderr",
     "output_type": "stream",
     "text": [
      " 78%|███████▊  | 721/927 [1:36:35<20:07,  5.86s/it]"
     ]
    },
    {
     "name": "stdout",
     "output_type": "stream",
     "text": [
      "L1Loss модели на обучающей выборке 0.17225277423858643\n",
      "L1Loss модели на тестовой выборке 0.20257559418678284\n"
     ]
    },
    {
     "name": "stderr",
     "output_type": "stream",
     "text": [
      " 78%|███████▊  | 722/927 [1:36:45<24:25,  7.15s/it]"
     ]
    },
    {
     "name": "stdout",
     "output_type": "stream",
     "text": [
      "Loss with opt features: 0.0056\n",
      "L1Loss модели на обучающей выборке 1.0641393661499023\n",
      "L1Loss модели на тестовой выборке 0.9081843495368958\n"
     ]
    },
    {
     "name": "stderr",
     "output_type": "stream",
     "text": [
      " 78%|███████▊  | 723/927 [1:36:50<21:39,  6.37s/it]"
     ]
    },
    {
     "name": "stdout",
     "output_type": "stream",
     "text": [
      "Loss with opt features: 0.0125\n",
      "L1Loss модели на обучающей выборке 0.2640005946159363\n",
      "L1Loss модели на тестовой выборке 0.29688578844070435\n",
      "Loss with opt features: 0.0008\n"
     ]
    },
    {
     "name": "stderr",
     "output_type": "stream",
     "text": [
      " 78%|███████▊  | 724/927 [1:36:57<22:40,  6.70s/it]"
     ]
    },
    {
     "name": "stdout",
     "output_type": "stream",
     "text": [
      "L1Loss модели на обучающей выборке 0.6594142913818359\n",
      "L1Loss модели на тестовой выборке 0.7122129797935486\n",
      "Loss with opt features: 0.0028\n"
     ]
    },
    {
     "name": "stderr",
     "output_type": "stream",
     "text": [
      " 78%|███████▊  | 725/927 [1:37:03<21:39,  6.43s/it]"
     ]
    },
    {
     "name": "stdout",
     "output_type": "stream",
     "text": [
      "L1Loss модели на обучающей выборке 0.9072326421737671\n",
      "L1Loss модели на тестовой выборке 1.035818338394165\n"
     ]
    },
    {
     "name": "stderr",
     "output_type": "stream",
     "text": [
      " 78%|███████▊  | 726/927 [1:37:08<20:08,  6.01s/it]"
     ]
    },
    {
     "name": "stdout",
     "output_type": "stream",
     "text": [
      "Loss with opt features: 0.0198\n",
      "L1Loss модели на обучающей выборке 0.25624316930770874\n",
      "L1Loss модели на тестовой выборке 0.3182561993598938\n",
      "Loss with opt features: 0.0032\n"
     ]
    },
    {
     "name": "stderr",
     "output_type": "stream",
     "text": [
      " 78%|███████▊  | 727/927 [1:37:14<19:41,  5.91s/it]"
     ]
    },
    {
     "name": "stdout",
     "output_type": "stream",
     "text": [
      "L1Loss модели на обучающей выборке 0.8751564621925354\n",
      "L1Loss модели на тестовой выборке 1.0224632024765015\n"
     ]
    },
    {
     "name": "stderr",
     "output_type": "stream",
     "text": [
      " 79%|███████▊  | 728/927 [1:37:19<19:17,  5.81s/it]"
     ]
    },
    {
     "name": "stdout",
     "output_type": "stream",
     "text": [
      "Loss with opt features: 0.0139\n",
      "L1Loss модели на обучающей выборке 0.3112487196922302\n",
      "L1Loss модели на тестовой выборке 0.3395687937736511\n"
     ]
    },
    {
     "name": "stderr",
     "output_type": "stream",
     "text": [
      " 79%|███████▊  | 729/927 [1:37:27<21:36,  6.55s/it]"
     ]
    },
    {
     "name": "stdout",
     "output_type": "stream",
     "text": [
      "Loss with opt features: 0.0021\n",
      "L1Loss модели на обучающей выборке 0.45979246497154236\n",
      "L1Loss модели на тестовой выборке 0.7740951776504517\n",
      "Loss with opt features: 0.0144\n"
     ]
    },
    {
     "name": "stderr",
     "output_type": "stream",
     "text": [
      " 79%|███████▊  | 730/927 [1:37:35<22:42,  6.92s/it]"
     ]
    },
    {
     "name": "stdout",
     "output_type": "stream",
     "text": [
      "L1Loss модели на обучающей выборке 1.4090203046798706\n",
      "L1Loss модели на тестовой выборке 1.3488432168960571\n"
     ]
    },
    {
     "name": "stderr",
     "output_type": "stream",
     "text": [
      " 79%|███████▉  | 731/927 [1:37:40<20:20,  6.23s/it]"
     ]
    },
    {
     "name": "stdout",
     "output_type": "stream",
     "text": [
      "Loss with opt features: 0.0270\n",
      "L1Loss модели на обучающей выборке 0.41043993830680847\n",
      "L1Loss модели на тестовой выборке 0.5117754340171814\n"
     ]
    },
    {
     "name": "stderr",
     "output_type": "stream",
     "text": [
      " 79%|███████▉  | 732/927 [1:37:46<20:12,  6.22s/it]"
     ]
    },
    {
     "name": "stdout",
     "output_type": "stream",
     "text": [
      "Loss with opt features: 0.0196\n",
      "L1Loss модели на обучающей выборке 0.01597093790769577\n",
      "L1Loss модели на тестовой выборке 0.01711672730743885\n",
      "Loss with opt features: 0.0010\n"
     ]
    },
    {
     "name": "stderr",
     "output_type": "stream",
     "text": [
      " 79%|███████▉  | 733/927 [1:37:58<25:25,  7.86s/it]"
     ]
    },
    {
     "name": "stdout",
     "output_type": "stream",
     "text": [
      "L1Loss модели на обучающей выборке 0.28391170501708984\n",
      "L1Loss модели на тестовой выборке 0.5793726444244385\n",
      "Loss with opt features: 0.0155\n"
     ]
    },
    {
     "name": "stderr",
     "output_type": "stream",
     "text": [
      " 79%|███████▉  | 734/927 [1:38:06<25:19,  7.87s/it]"
     ]
    },
    {
     "name": "stdout",
     "output_type": "stream",
     "text": [
      "L1Loss модели на обучающей выборке 0.5285563468933105\n",
      "L1Loss модели на тестовой выборке 0.7687279582023621\n",
      "Loss with opt features: 0.0071\n"
     ]
    },
    {
     "name": "stderr",
     "output_type": "stream",
     "text": [
      " 79%|███████▉  | 735/927 [1:38:11<23:11,  7.25s/it]"
     ]
    },
    {
     "name": "stdout",
     "output_type": "stream",
     "text": [
      "L1Loss модели на обучающей выборке 0.3479706346988678\n",
      "L1Loss модели на тестовой выборке 0.4382461905479431\n"
     ]
    },
    {
     "name": "stderr",
     "output_type": "stream",
     "text": [
      " 79%|███████▉  | 736/927 [1:38:18<22:06,  6.95s/it]"
     ]
    },
    {
     "name": "stdout",
     "output_type": "stream",
     "text": [
      "Loss with opt features: 0.0049\n",
      "L1Loss модели на обучающей выборке 0.49322059750556946\n",
      "L1Loss модели на тестовой выборке 0.5302587747573853\n"
     ]
    },
    {
     "name": "stderr",
     "output_type": "stream",
     "text": [
      " 80%|███████▉  | 737/927 [1:38:24<21:43,  6.86s/it]"
     ]
    },
    {
     "name": "stdout",
     "output_type": "stream",
     "text": [
      "Loss with opt features: 0.0031\n",
      "L1Loss модели на обучающей выборке 0.28137874603271484\n",
      "L1Loss модели на тестовой выборке 0.3546895384788513\n",
      "Loss with opt features: 0.0042\n"
     ]
    },
    {
     "name": "stderr",
     "output_type": "stream",
     "text": [
      " 80%|███████▉  | 738/927 [1:38:33<22:58,  7.30s/it]"
     ]
    },
    {
     "name": "stdout",
     "output_type": "stream",
     "text": [
      "L1Loss модели на обучающей выборке 0.02753586694598198\n",
      "L1Loss модели на тестовой выборке 0.03379710763692856\n"
     ]
    },
    {
     "name": "stderr",
     "output_type": "stream",
     "text": [
      " 80%|███████▉  | 739/927 [1:38:45<27:16,  8.71s/it]"
     ]
    },
    {
     "name": "stdout",
     "output_type": "stream",
     "text": [
      "Loss with opt features: 0.0014\n",
      "L1Loss модели на обучающей выборке 0.702080249786377\n",
      "L1Loss модели на тестовой выборке 0.7616440057754517\n",
      "Loss with opt features: 0.0018\n"
     ]
    },
    {
     "name": "stderr",
     "output_type": "stream",
     "text": [
      " 80%|███████▉  | 740/927 [1:38:49<23:22,  7.50s/it]"
     ]
    },
    {
     "name": "stdout",
     "output_type": "stream",
     "text": [
      "L1Loss модели на обучающей выборке 0.26397374272346497\n",
      "L1Loss модели на тестовой выборке 0.3835230767726898\n",
      "Loss with opt features: 0.0123\n"
     ]
    },
    {
     "name": "stderr",
     "output_type": "stream",
     "text": [
      " 80%|███████▉  | 741/927 [1:38:55<21:25,  6.91s/it]"
     ]
    },
    {
     "name": "stdout",
     "output_type": "stream",
     "text": [
      "L1Loss модели на обучающей выборке 0.12279176712036133\n",
      "L1Loss модели на тестовой выборке 0.1463642716407776\n"
     ]
    },
    {
     "name": "stderr",
     "output_type": "stream",
     "text": [
      " 80%|████████  | 742/927 [1:39:05<24:13,  7.86s/it]"
     ]
    },
    {
     "name": "stdout",
     "output_type": "stream",
     "text": [
      "Loss with opt features: 0.0092\n",
      "L1Loss модели на обучающей выборке 0.5919060707092285\n",
      "L1Loss модели на тестовой выборке 0.696201741695404\n",
      "Loss with opt features: 0.0175\n"
     ]
    },
    {
     "name": "stderr",
     "output_type": "stream",
     "text": [
      " 80%|████████  | 743/927 [1:39:11<22:43,  7.41s/it]"
     ]
    },
    {
     "name": "stdout",
     "output_type": "stream",
     "text": [
      "L1Loss модели на обучающей выборке 0.49722543358802795\n",
      "L1Loss модели на тестовой выборке 0.7386859059333801\n"
     ]
    },
    {
     "name": "stderr",
     "output_type": "stream",
     "text": [
      " 80%|████████  | 744/927 [1:39:18<21:34,  7.07s/it]"
     ]
    },
    {
     "name": "stdout",
     "output_type": "stream",
     "text": [
      "Loss with opt features: 0.0030\n",
      "L1Loss модели на обучающей выборке 0.6304900050163269\n",
      "L1Loss модели на тестовой выборке 0.6484506130218506\n"
     ]
    },
    {
     "name": "stderr",
     "output_type": "stream",
     "text": [
      " 80%|████████  | 745/927 [1:39:23<20:04,  6.62s/it]"
     ]
    },
    {
     "name": "stdout",
     "output_type": "stream",
     "text": [
      "Loss with opt features: 0.0144\n",
      "L1Loss модели на обучающей выборке 0.1609986424446106\n",
      "L1Loss модели на тестовой выборке 0.16528433561325073\n",
      "Loss with opt features: 0.0002\n"
     ]
    },
    {
     "name": "stderr",
     "output_type": "stream",
     "text": [
      " 80%|████████  | 746/927 [1:39:32<22:02,  7.31s/it]"
     ]
    },
    {
     "name": "stdout",
     "output_type": "stream",
     "text": [
      "L1Loss модели на обучающей выборке 0.01435660757124424\n",
      "L1Loss модели на тестовой выборке 0.020610686391592026\n"
     ]
    },
    {
     "name": "stderr",
     "output_type": "stream",
     "text": [
      " 81%|████████  | 747/927 [1:39:45<27:23,  9.13s/it]"
     ]
    },
    {
     "name": "stdout",
     "output_type": "stream",
     "text": [
      "Loss with opt features: 0.0005\n",
      "L1Loss модели на обучающей выборке 0.6272942423820496\n",
      "L1Loss модели на тестовой выборке 0.6735942363739014\n"
     ]
    },
    {
     "name": "stderr",
     "output_type": "stream",
     "text": [
      " 81%|████████  | 748/927 [1:39:51<24:30,  8.22s/it]"
     ]
    },
    {
     "name": "stdout",
     "output_type": "stream",
     "text": [
      "Loss with opt features: 0.0161\n",
      "L1Loss модели на обучающей выборке 0.8341549038887024\n",
      "L1Loss модели на тестовой выборке 0.876577615737915\n"
     ]
    },
    {
     "name": "stderr",
     "output_type": "stream",
     "text": [
      " 81%|████████  | 749/927 [1:39:56<21:10,  7.14s/it]"
     ]
    },
    {
     "name": "stdout",
     "output_type": "stream",
     "text": [
      "Loss with opt features: 0.0149\n",
      "L1Loss модели на обучающей выборке 0.1797630488872528\n",
      "L1Loss модели на тестовой выборке 0.20617073774337769\n"
     ]
    },
    {
     "name": "stderr",
     "output_type": "stream",
     "text": [
      " 81%|████████  | 750/927 [1:40:06<23:39,  8.02s/it]"
     ]
    },
    {
     "name": "stdout",
     "output_type": "stream",
     "text": [
      "Loss with opt features: 0.0001\n",
      "L1Loss модели на обучающей выборке 0.1075635552406311\n",
      "L1Loss модели на тестовой выборке 0.15360721945762634\n",
      "Loss with opt features: 0.0097\n"
     ]
    },
    {
     "name": "stderr",
     "output_type": "stream",
     "text": [
      " 81%|████████  | 751/927 [1:40:16<25:33,  8.71s/it]"
     ]
    },
    {
     "name": "stdout",
     "output_type": "stream",
     "text": [
      "L1Loss модели на обучающей выборке 1.0429065227508545\n",
      "L1Loss модели на тестовой выборке 0.9384843111038208\n",
      "Loss with opt features: 0.0031\n"
     ]
    },
    {
     "name": "stderr",
     "output_type": "stream",
     "text": [
      " 81%|████████  | 752/927 [1:40:22<22:14,  7.63s/it]"
     ]
    },
    {
     "name": "stdout",
     "output_type": "stream",
     "text": [
      "L1Loss модели на обучающей выборке 1.1195833683013916\n",
      "L1Loss модели на тестовой выборке 1.1952372789382935\n"
     ]
    },
    {
     "name": "stderr",
     "output_type": "stream",
     "text": [
      " 81%|████████  | 753/927 [1:40:26<19:39,  6.78s/it]"
     ]
    },
    {
     "name": "stdout",
     "output_type": "stream",
     "text": [
      "Loss with opt features: 0.0071\n",
      "L1Loss модели на обучающей выборке 0.23491786420345306\n",
      "L1Loss модели на тестовой выборке 0.26680654287338257\n"
     ]
    },
    {
     "name": "stderr",
     "output_type": "stream",
     "text": [
      " 81%|████████▏ | 754/927 [1:40:34<20:03,  6.96s/it]"
     ]
    },
    {
     "name": "stdout",
     "output_type": "stream",
     "text": [
      "Loss with opt features: 0.0034\n",
      "L1Loss модели на обучающей выборке 0.09298962354660034\n",
      "L1Loss модели на тестовой выборке 0.15817971527576447\n",
      "Loss with opt features: 0.0076\n"
     ]
    },
    {
     "name": "stderr",
     "output_type": "stream",
     "text": [
      " 81%|████████▏ | 755/927 [1:40:44<23:03,  8.05s/it]"
     ]
    },
    {
     "name": "stdout",
     "output_type": "stream",
     "text": [
      "L1Loss модели на обучающей выборке 0.1131322905421257\n",
      "L1Loss модели на тестовой выборке 0.17636488378047943\n",
      "Loss with opt features: 0.0045\n"
     ]
    },
    {
     "name": "stderr",
     "output_type": "stream",
     "text": [
      " 82%|████████▏ | 756/927 [1:40:55<24:58,  8.77s/it]"
     ]
    },
    {
     "name": "stdout",
     "output_type": "stream",
     "text": [
      "L1Loss модели на обучающей выборке 1.593922734260559\n",
      "L1Loss модели на тестовой выборке 1.7728443145751953\n",
      "Loss with opt features: 0.0104\n"
     ]
    },
    {
     "name": "stderr",
     "output_type": "stream",
     "text": [
      " 82%|████████▏ | 757/927 [1:40:59<21:05,  7.45s/it]"
     ]
    },
    {
     "name": "stdout",
     "output_type": "stream",
     "text": [
      "L1Loss модели на обучающей выборке 0.8503113985061646\n",
      "L1Loss модели на тестовой выборке 1.1429592370986938\n",
      "Loss with opt features: 0.0125\n"
     ]
    },
    {
     "name": "stderr",
     "output_type": "stream",
     "text": [
      " 82%|████████▏ | 758/927 [1:41:04<19:02,  6.76s/it]"
     ]
    },
    {
     "name": "stdout",
     "output_type": "stream",
     "text": [
      "L1Loss модели на обучающей выборке 0.13406780362129211\n",
      "L1Loss модели на тестовой выборке 0.19043698906898499\n"
     ]
    },
    {
     "name": "stderr",
     "output_type": "stream",
     "text": [
      " 82%|████████▏ | 759/927 [1:41:15<22:32,  8.05s/it]"
     ]
    },
    {
     "name": "stdout",
     "output_type": "stream",
     "text": [
      "Loss with opt features: 0.0008\n",
      "L1Loss модели на обучающей выборке 0.15219834446907043\n",
      "L1Loss модели на тестовой выборке 0.2040933221578598\n",
      "Loss with opt features: 0.0033\n"
     ]
    },
    {
     "name": "stderr",
     "output_type": "stream",
     "text": [
      " 82%|████████▏ | 760/927 [1:41:26<24:16,  8.72s/it]"
     ]
    },
    {
     "name": "stdout",
     "output_type": "stream",
     "text": [
      "L1Loss модели на обучающей выборке 0.7472306489944458\n",
      "L1Loss модели на тестовой выборке 0.8904052972793579\n",
      "Loss with opt features: 0.0253\n"
     ]
    },
    {
     "name": "stderr",
     "output_type": "stream",
     "text": [
      " 82%|████████▏ | 761/927 [1:41:31<20:55,  7.57s/it]"
     ]
    },
    {
     "name": "stdout",
     "output_type": "stream",
     "text": [
      "L1Loss модели на обучающей выборке 0.13187627494335175\n",
      "L1Loss модели на тестовой выборке 0.16684255003929138\n",
      "Loss with opt features: 0.0073\n"
     ]
    },
    {
     "name": "stderr",
     "output_type": "stream",
     "text": [
      " 82%|████████▏ | 762/927 [1:41:40<22:08,  8.05s/it]"
     ]
    },
    {
     "name": "stdout",
     "output_type": "stream",
     "text": [
      "L1Loss модели на обучающей выборке 0.9170472621917725\n",
      "L1Loss модели на тестовой выборке 0.8416401147842407\n",
      "Loss with opt features: 0.0095\n"
     ]
    },
    {
     "name": "stderr",
     "output_type": "stream",
     "text": [
      " 82%|████████▏ | 763/927 [1:41:45<19:50,  7.26s/it]"
     ]
    },
    {
     "name": "stdout",
     "output_type": "stream",
     "text": [
      "L1Loss модели на обучающей выборке 0.06991690397262573\n",
      "L1Loss модели на тестовой выборке 0.10188057273626328\n",
      "Loss with opt features: 0.0001\n"
     ]
    },
    {
     "name": "stderr",
     "output_type": "stream",
     "text": [
      " 82%|████████▏ | 764/927 [1:41:56<22:26,  8.26s/it]"
     ]
    },
    {
     "name": "stdout",
     "output_type": "stream",
     "text": [
      "L1Loss модели на обучающей выборке 0.18502527475357056\n",
      "L1Loss модели на тестовой выборке 0.28295814990997314\n"
     ]
    },
    {
     "name": "stderr",
     "output_type": "stream",
     "text": [
      " 83%|████████▎ | 765/927 [1:42:02<20:45,  7.69s/it]"
     ]
    },
    {
     "name": "stdout",
     "output_type": "stream",
     "text": [
      "Loss with opt features: 0.0035\n",
      "L1Loss модели на обучающей выборке 0.6538543701171875\n",
      "L1Loss модели на тестовой выборке 0.6600128412246704\n"
     ]
    },
    {
     "name": "stderr",
     "output_type": "stream",
     "text": [
      " 83%|████████▎ | 766/927 [1:42:08<18:52,  7.03s/it]"
     ]
    },
    {
     "name": "stdout",
     "output_type": "stream",
     "text": [
      "Loss with opt features: 0.0059\n",
      "L1Loss модели на обучающей выборке 1.1638317108154297\n",
      "L1Loss модели на тестовой выборке 1.4170069694519043\n"
     ]
    },
    {
     "name": "stderr",
     "output_type": "stream",
     "text": [
      " 83%|████████▎ | 767/927 [1:42:12<16:38,  6.24s/it]"
     ]
    },
    {
     "name": "stdout",
     "output_type": "stream",
     "text": [
      "Loss with opt features: 0.0243\n",
      "L1Loss модели на обучающей выборке 0.23139233887195587\n",
      "L1Loss модели на тестовой выборке 0.2367141991853714\n"
     ]
    },
    {
     "name": "stderr",
     "output_type": "stream",
     "text": [
      " 83%|████████▎ | 768/927 [1:42:21<18:39,  7.04s/it]"
     ]
    },
    {
     "name": "stdout",
     "output_type": "stream",
     "text": [
      "Loss with opt features: 0.0032\n",
      "L1Loss модели на обучающей выборке 0.273161381483078\n",
      "L1Loss модели на тестовой выборке 0.3354301452636719\n"
     ]
    },
    {
     "name": "stderr",
     "output_type": "stream",
     "text": [
      " 83%|████████▎ | 769/927 [1:42:26<17:11,  6.53s/it]"
     ]
    },
    {
     "name": "stdout",
     "output_type": "stream",
     "text": [
      "Loss with opt features: 0.0053\n",
      "L1Loss модели на обучающей выборке 0.3827669024467468\n",
      "L1Loss модели на тестовой выборке 0.4265446960926056\n",
      "Loss with opt features: 0.0301\n"
     ]
    },
    {
     "name": "stderr",
     "output_type": "stream",
     "text": [
      " 83%|████████▎ | 770/927 [1:42:33<17:29,  6.68s/it]"
     ]
    },
    {
     "name": "stdout",
     "output_type": "stream",
     "text": [
      "L1Loss модели на обучающей выборке 0.1313716620206833\n",
      "L1Loss модели на тестовой выборке 0.19736219942569733\n",
      "Loss with opt features: 0.0003\n"
     ]
    },
    {
     "name": "stderr",
     "output_type": "stream",
     "text": [
      " 83%|████████▎ | 771/927 [1:42:45<20:59,  8.07s/it]"
     ]
    },
    {
     "name": "stdout",
     "output_type": "stream",
     "text": [
      "L1Loss модели на обучающей выборке 0.14280135929584503\n",
      "L1Loss модели на тестовой выборке 0.19675301015377045\n"
     ]
    },
    {
     "name": "stderr",
     "output_type": "stream",
     "text": [
      " 83%|████████▎ | 772/927 [1:42:55<22:45,  8.81s/it]"
     ]
    },
    {
     "name": "stdout",
     "output_type": "stream",
     "text": [
      "Loss with opt features: 0.0049\n",
      "L1Loss модели на обучающей выборке 0.5965557098388672\n",
      "L1Loss модели на тестовой выборке 0.6084640622138977\n",
      "Loss with opt features: 0.0102\n"
     ]
    },
    {
     "name": "stderr",
     "output_type": "stream",
     "text": [
      " 83%|████████▎ | 773/927 [1:43:00<19:59,  7.79s/it]"
     ]
    },
    {
     "name": "stdout",
     "output_type": "stream",
     "text": [
      "L1Loss модели на обучающей выборке 0.3252725601196289\n",
      "L1Loss модели на тестовой выборке 0.35827258229255676\n"
     ]
    },
    {
     "name": "stderr",
     "output_type": "stream",
     "text": [
      " 83%|████████▎ | 774/927 [1:43:08<19:16,  7.56s/it]"
     ]
    },
    {
     "name": "stdout",
     "output_type": "stream",
     "text": [
      "Loss with opt features: 0.0210\n",
      "L1Loss модели на обучающей выборке 0.10199848562479019\n",
      "L1Loss модели на тестовой выборке 0.11626005172729492\n",
      "Loss with opt features: 0.0039\n"
     ]
    },
    {
     "name": "stderr",
     "output_type": "stream",
     "text": [
      " 84%|████████▎ | 775/927 [1:43:19<22:04,  8.72s/it]"
     ]
    },
    {
     "name": "stdout",
     "output_type": "stream",
     "text": [
      "L1Loss модели на обучающей выборке 0.10178010165691376\n",
      "L1Loss модели на тестовой выборке 0.14459072053432465\n"
     ]
    },
    {
     "name": "stderr",
     "output_type": "stream",
     "text": [
      " 84%|████████▎ | 776/927 [1:43:29<23:06,  9.18s/it]"
     ]
    },
    {
     "name": "stdout",
     "output_type": "stream",
     "text": [
      "Loss with opt features: 0.0040\n",
      "L1Loss модели на обучающей выборке 0.2904016971588135\n",
      "L1Loss модели на тестовой выборке 0.36045944690704346\n",
      "Loss with opt features: 0.0071\n"
     ]
    },
    {
     "name": "stderr",
     "output_type": "stream",
     "text": [
      " 84%|████████▍ | 777/927 [1:43:37<21:36,  8.65s/it]"
     ]
    },
    {
     "name": "stdout",
     "output_type": "stream",
     "text": [
      "L1Loss модели на обучающей выборке 0.8260828852653503\n",
      "L1Loss модели на тестовой выборке 1.1707069873809814\n"
     ]
    },
    {
     "name": "stderr",
     "output_type": "stream",
     "text": [
      " 84%|████████▍ | 778/927 [1:43:42<18:49,  7.58s/it]"
     ]
    },
    {
     "name": "stdout",
     "output_type": "stream",
     "text": [
      "Loss with opt features: 0.0100\n",
      "L1Loss модели на обучающей выборке 0.7752957940101624\n",
      "L1Loss модели на тестовой выборке 0.8240448236465454\n",
      "Loss with opt features: 0.0117\n"
     ]
    },
    {
     "name": "stderr",
     "output_type": "stream",
     "text": [
      " 84%|████████▍ | 779/927 [1:43:46<16:38,  6.75s/it]"
     ]
    },
    {
     "name": "stdout",
     "output_type": "stream",
     "text": [
      "L1Loss модели на обучающей выборке 0.2373596429824829\n",
      "L1Loss модели на тестовой выборке 0.19829852879047394\n",
      "Loss with opt features: 0.0001\n"
     ]
    },
    {
     "name": "stderr",
     "output_type": "stream",
     "text": [
      " 84%|████████▍ | 780/927 [1:43:54<16:54,  6.90s/it]"
     ]
    },
    {
     "name": "stdout",
     "output_type": "stream",
     "text": [
      "L1Loss модели на обучающей выборке 0.5497540235519409\n",
      "L1Loss модели на тестовой выборке 0.5632655620574951\n"
     ]
    },
    {
     "name": "stderr",
     "output_type": "stream",
     "text": [
      " 84%|████████▍ | 781/927 [1:44:00<16:00,  6.58s/it]"
     ]
    },
    {
     "name": "stdout",
     "output_type": "stream",
     "text": [
      "Loss with opt features: 0.0030\n",
      "L1Loss модели на обучающей выборке 0.25012680888175964\n",
      "L1Loss модели на тестовой выборке 0.25423482060432434\n"
     ]
    },
    {
     "name": "stderr",
     "output_type": "stream",
     "text": [
      " 84%|████████▍ | 782/927 [1:44:07<16:23,  6.78s/it]"
     ]
    },
    {
     "name": "stdout",
     "output_type": "stream",
     "text": [
      "Loss with opt features: 0.0095\n",
      "L1Loss модели на обучающей выборке 0.31605398654937744\n",
      "L1Loss модели на тестовой выборке 0.4688602685928345\n"
     ]
    },
    {
     "name": "stderr",
     "output_type": "stream",
     "text": [
      " 84%|████████▍ | 783/927 [1:44:15<17:15,  7.19s/it]"
     ]
    },
    {
     "name": "stdout",
     "output_type": "stream",
     "text": [
      "Loss with opt features: 0.0205\n",
      "L1Loss модели на обучающей выборке 0.6837055087089539\n",
      "L1Loss модели на тестовой выборке 0.7399232387542725\n"
     ]
    },
    {
     "name": "stderr",
     "output_type": "stream",
     "text": [
      " 85%|████████▍ | 784/927 [1:44:20<15:36,  6.55s/it]"
     ]
    },
    {
     "name": "stdout",
     "output_type": "stream",
     "text": [
      "Loss with opt features: 0.0117\n",
      "L1Loss модели на обучающей выборке 0.6201963424682617\n",
      "L1Loss модели на тестовой выборке 0.8355692028999329\n",
      "Loss with opt features: 0.0092\n"
     ]
    },
    {
     "name": "stderr",
     "output_type": "stream",
     "text": [
      " 85%|████████▍ | 785/927 [1:44:25<14:14,  6.02s/it]"
     ]
    },
    {
     "name": "stdout",
     "output_type": "stream",
     "text": [
      "L1Loss модели на обучающей выборке 0.13337908685207367\n",
      "L1Loss модели на тестовой выборке 0.16140985488891602\n"
     ]
    },
    {
     "name": "stderr",
     "output_type": "stream",
     "text": [
      " 85%|████████▍ | 786/927 [1:44:33<15:39,  6.67s/it]"
     ]
    },
    {
     "name": "stdout",
     "output_type": "stream",
     "text": [
      "Loss with opt features: 0.0034\n",
      "L1Loss модели на обучающей выборке 0.8630332946777344\n",
      "L1Loss модели на тестовой выборке 0.8449854254722595\n",
      "Loss with opt features: 0.0190\n"
     ]
    },
    {
     "name": "stderr",
     "output_type": "stream",
     "text": [
      " 85%|████████▍ | 787/927 [1:44:38<14:43,  6.31s/it]"
     ]
    },
    {
     "name": "stdout",
     "output_type": "stream",
     "text": [
      "L1Loss модели на обучающей выборке 0.1421535611152649\n",
      "L1Loss модели на тестовой выборке 0.24514223635196686\n"
     ]
    },
    {
     "name": "stderr",
     "output_type": "stream",
     "text": [
      " 85%|████████▌ | 788/927 [1:44:48<16:41,  7.21s/it]"
     ]
    },
    {
     "name": "stdout",
     "output_type": "stream",
     "text": [
      "Loss with opt features: 0.0057\n",
      "L1Loss модели на обучающей выборке 0.17175893485546112\n",
      "L1Loss модели на тестовой выборке 0.2497578114271164\n"
     ]
    },
    {
     "name": "stderr",
     "output_type": "stream",
     "text": [
      " 85%|████████▌ | 789/927 [1:44:57<17:44,  7.71s/it]"
     ]
    },
    {
     "name": "stdout",
     "output_type": "stream",
     "text": [
      "Loss with opt features: 0.0059\n",
      "L1Loss модели на обучающей выборке 1.0720654726028442\n",
      "L1Loss модели на тестовой выборке 1.0681908130645752\n"
     ]
    },
    {
     "name": "stderr",
     "output_type": "stream",
     "text": [
      " 85%|████████▌ | 790/927 [1:45:02<15:59,  7.01s/it]"
     ]
    },
    {
     "name": "stdout",
     "output_type": "stream",
     "text": [
      "Loss with opt features: 0.0138\n",
      "L1Loss модели на обучающей выборке 0.5114818811416626\n",
      "L1Loss модели на тестовой выборке 0.5057699084281921\n",
      "Loss with opt features: 0.0008\n"
     ]
    },
    {
     "name": "stderr",
     "output_type": "stream",
     "text": [
      " 85%|████████▌ | 791/927 [1:45:07<14:39,  6.46s/it]"
     ]
    },
    {
     "name": "stdout",
     "output_type": "stream",
     "text": [
      "L1Loss модели на обучающей выборке 0.1996431052684784\n",
      "L1Loss модели на тестовой выборке 0.3657034635543823\n"
     ]
    },
    {
     "name": "stderr",
     "output_type": "stream",
     "text": [
      " 85%|████████▌ | 792/927 [1:45:16<16:14,  7.22s/it]"
     ]
    },
    {
     "name": "stdout",
     "output_type": "stream",
     "text": [
      "Loss with opt features: 0.0065\n",
      "L1Loss модели на обучающей выборке 1.6444910764694214\n",
      "L1Loss модели на тестовой выборке 1.7233872413635254\n"
     ]
    },
    {
     "name": "stderr",
     "output_type": "stream",
     "text": [
      " 86%|████████▌ | 793/927 [1:45:21<14:27,  6.47s/it]"
     ]
    },
    {
     "name": "stdout",
     "output_type": "stream",
     "text": [
      "Loss with opt features: 0.0194\n",
      "L1Loss модели на обучающей выборке 0.1995801031589508\n",
      "L1Loss модели на тестовой выборке 0.2901074290275574\n",
      "Loss with opt features: 0.0088\n"
     ]
    },
    {
     "name": "stderr",
     "output_type": "stream",
     "text": [
      " 86%|████████▌ | 794/927 [1:45:29<15:41,  7.08s/it]"
     ]
    },
    {
     "name": "stdout",
     "output_type": "stream",
     "text": [
      "L1Loss модели на обучающей выборке 0.929169774055481\n",
      "L1Loss модели на тестовой выборке 1.3414288759231567\n",
      "Loss with opt features: 0.0037\n"
     ]
    },
    {
     "name": "stderr",
     "output_type": "stream",
     "text": [
      " 86%|████████▌ | 795/927 [1:45:34<14:14,  6.47s/it]"
     ]
    },
    {
     "name": "stdout",
     "output_type": "stream",
     "text": [
      "L1Loss модели на обучающей выборке 0.038412485271692276\n",
      "L1Loss модели на тестовой выборке 0.04411669075489044\n",
      "Loss with opt features: 0.0011\n"
     ]
    },
    {
     "name": "stderr",
     "output_type": "stream",
     "text": [
      " 86%|████████▌ | 796/927 [1:45:45<17:03,  7.82s/it]"
     ]
    },
    {
     "name": "stdout",
     "output_type": "stream",
     "text": [
      "L1Loss модели на обучающей выборке 0.3933756351470947\n",
      "L1Loss модели на тестовой выборке 0.5619853734970093\n"
     ]
    },
    {
     "name": "stderr",
     "output_type": "stream",
     "text": [
      " 86%|████████▌ | 797/927 [1:45:51<15:37,  7.21s/it]"
     ]
    },
    {
     "name": "stdout",
     "output_type": "stream",
     "text": [
      "Loss with opt features: 0.0014\n",
      "L1Loss модели на обучающей выборке 0.5085940361022949\n",
      "L1Loss модели на тестовой выборке 0.6105204820632935\n",
      "Loss with opt features: 0.0049\n"
     ]
    },
    {
     "name": "stderr",
     "output_type": "stream",
     "text": [
      " 86%|████████▌ | 798/927 [1:45:58<15:04,  7.01s/it]"
     ]
    },
    {
     "name": "stdout",
     "output_type": "stream",
     "text": [
      "L1Loss модели на обучающей выборке 0.7386661767959595\n",
      "L1Loss модели на тестовой выборке 0.931422770023346\n",
      "Loss with opt features: 0.0233\n"
     ]
    },
    {
     "name": "stderr",
     "output_type": "stream",
     "text": [
      " 86%|████████▌ | 799/927 [1:46:04<14:22,  6.74s/it]"
     ]
    },
    {
     "name": "stdout",
     "output_type": "stream",
     "text": [
      "L1Loss модели на обучающей выборке 0.3819820284843445\n",
      "L1Loss модели на тестовой выборке 0.5989579558372498\n"
     ]
    },
    {
     "name": "stderr",
     "output_type": "stream",
     "text": [
      " 86%|████████▋ | 800/927 [1:46:09<13:21,  6.31s/it]"
     ]
    },
    {
     "name": "stdout",
     "output_type": "stream",
     "text": [
      "Loss with opt features: 0.0179\n",
      "L1Loss модели на обучающей выборке 0.009871741756796837\n",
      "L1Loss модели на тестовой выборке 0.01595650613307953\n",
      "Loss with opt features: 0.0004\n"
     ]
    },
    {
     "name": "stderr",
     "output_type": "stream",
     "text": [
      " 86%|████████▋ | 801/927 [1:46:21<16:28,  7.85s/it]"
     ]
    },
    {
     "name": "stdout",
     "output_type": "stream",
     "text": [
      "L1Loss модели на обучающей выборке 0.052645452320575714\n",
      "L1Loss модели на тестовой выборке 0.08884025365114212\n",
      "Loss with opt features: 0.0058\n"
     ]
    },
    {
     "name": "stderr",
     "output_type": "stream",
     "text": [
      " 87%|████████▋ | 802/927 [1:46:31<17:58,  8.63s/it]"
     ]
    },
    {
     "name": "stdout",
     "output_type": "stream",
     "text": [
      "L1Loss модели на обучающей выборке 1.145038366317749\n",
      "L1Loss модели на тестовой выборке 1.013207197189331\n"
     ]
    },
    {
     "name": "stderr",
     "output_type": "stream",
     "text": [
      " 87%|████████▋ | 803/927 [1:46:36<15:15,  7.38s/it]"
     ]
    },
    {
     "name": "stdout",
     "output_type": "stream",
     "text": [
      "Loss with opt features: 0.0020\n",
      "L1Loss модели на обучающей выборке 0.6975160241127014\n",
      "L1Loss модели на тестовой выборке 0.8342731595039368\n"
     ]
    },
    {
     "name": "stderr",
     "output_type": "stream",
     "text": [
      " 87%|████████▋ | 804/927 [1:46:42<14:30,  7.08s/it]"
     ]
    },
    {
     "name": "stdout",
     "output_type": "stream",
     "text": [
      "Loss with opt features: 3.2438\n",
      "L1Loss модели на обучающей выборке 0.2168809473514557\n",
      "L1Loss модели на тестовой выборке 0.29763829708099365\n",
      "Loss with opt features: 0.0303\n"
     ]
    },
    {
     "name": "stderr",
     "output_type": "stream",
     "text": [
      " 87%|████████▋ | 805/927 [1:46:48<14:02,  6.90s/it]"
     ]
    },
    {
     "name": "stdout",
     "output_type": "stream",
     "text": [
      "L1Loss модели на обучающей выборке 1.1881284713745117\n",
      "L1Loss модели на тестовой выборке 0.7672125101089478\n",
      "Loss with opt features: 0.0292\n"
     ]
    },
    {
     "name": "stderr",
     "output_type": "stream",
     "text": [
      " 87%|████████▋ | 806/927 [1:46:53<12:43,  6.31s/it]"
     ]
    },
    {
     "name": "stdout",
     "output_type": "stream",
     "text": [
      "L1Loss модели на обучающей выборке 1.052899718284607\n",
      "L1Loss модели на тестовой выборке 1.1880074739456177\n"
     ]
    },
    {
     "name": "stderr",
     "output_type": "stream",
     "text": [
      " 87%|████████▋ | 807/927 [1:46:58<11:30,  5.75s/it]"
     ]
    },
    {
     "name": "stdout",
     "output_type": "stream",
     "text": [
      "Loss with opt features: 0.0217\n",
      "L1Loss модели на обучающей выборке 1.216618537902832\n",
      "L1Loss модели на тестовой выборке 1.372078537940979\n"
     ]
    },
    {
     "name": "stderr",
     "output_type": "stream",
     "text": [
      " 87%|████████▋ | 808/927 [1:47:03<10:55,  5.51s/it]"
     ]
    },
    {
     "name": "stdout",
     "output_type": "stream",
     "text": [
      "Loss with opt features: 0.0152\n",
      "L1Loss модели на обучающей выборке 0.9665343165397644\n",
      "L1Loss модели на тестовой выборке 0.7639699578285217\n",
      "Loss with opt features: 0.0177\n"
     ]
    },
    {
     "name": "stderr",
     "output_type": "stream",
     "text": [
      " 87%|████████▋ | 809/927 [1:47:07<10:13,  5.20s/it]"
     ]
    },
    {
     "name": "stdout",
     "output_type": "stream",
     "text": [
      "L1Loss модели на обучающей выборке 0.17462460696697235\n",
      "L1Loss модели на тестовой выборке 0.2376379668712616\n"
     ]
    },
    {
     "name": "stderr",
     "output_type": "stream",
     "text": [
      " 87%|████████▋ | 810/927 [1:47:17<12:55,  6.63s/it]"
     ]
    },
    {
     "name": "stdout",
     "output_type": "stream",
     "text": [
      "Loss with opt features: 0.0058\n",
      "L1Loss модели на обучающей выборке 0.8047967553138733\n",
      "L1Loss модели на тестовой выборке 0.8645626902580261\n",
      "Loss with opt features: 0.0051\n"
     ]
    },
    {
     "name": "stderr",
     "output_type": "stream",
     "text": [
      " 87%|████████▋ | 811/927 [1:47:22<11:49,  6.11s/it]"
     ]
    },
    {
     "name": "stdout",
     "output_type": "stream",
     "text": [
      "L1Loss модели на обучающей выборке 0.2274761199951172\n",
      "L1Loss модели на тестовой выборке 0.2700848877429962\n",
      "Loss with opt features: 0.0048\n"
     ]
    },
    {
     "name": "stderr",
     "output_type": "stream",
     "text": [
      " 88%|████████▊ | 812/927 [1:47:31<13:26,  7.01s/it]"
     ]
    },
    {
     "name": "stdout",
     "output_type": "stream",
     "text": [
      "L1Loss модели на обучающей выборке 0.029166659340262413\n",
      "L1Loss модели на тестовой выборке 0.03123157098889351\n",
      "Loss with opt features: 0.0005\n"
     ]
    },
    {
     "name": "stderr",
     "output_type": "stream",
     "text": [
      " 88%|████████▊ | 813/927 [1:47:43<16:05,  8.47s/it]"
     ]
    },
    {
     "name": "stdout",
     "output_type": "stream",
     "text": [
      "L1Loss модели на обучающей выборке 1.8120678663253784\n",
      "L1Loss модели на тестовой выборке 2.5208663940429688\n",
      "Loss with opt features: 0.0063\n"
     ]
    },
    {
     "name": "stderr",
     "output_type": "stream",
     "text": [
      " 88%|████████▊ | 814/927 [1:47:47<13:31,  7.18s/it]"
     ]
    },
    {
     "name": "stdout",
     "output_type": "stream",
     "text": [
      "L1Loss модели на обучающей выборке 0.1411007195711136\n",
      "L1Loss модели на тестовой выборке 0.16553014516830444\n"
     ]
    },
    {
     "name": "stderr",
     "output_type": "stream",
     "text": [
      " 88%|████████▊ | 815/927 [1:47:58<15:25,  8.26s/it]"
     ]
    },
    {
     "name": "stdout",
     "output_type": "stream",
     "text": [
      "Loss with opt features: 0.0071\n",
      "L1Loss модели на обучающей выборке 0.47490328550338745\n",
      "L1Loss модели на тестовой выборке 0.560836911201477\n"
     ]
    },
    {
     "name": "stderr",
     "output_type": "stream",
     "text": [
      " 88%|████████▊ | 816/927 [1:48:04<13:53,  7.51s/it]"
     ]
    },
    {
     "name": "stdout",
     "output_type": "stream",
     "text": [
      "Loss with opt features: 0.0071\n",
      "L1Loss модели на обучающей выборке 1.152154803276062\n",
      "L1Loss модели на тестовой выборке 1.1974024772644043\n"
     ]
    },
    {
     "name": "stderr",
     "output_type": "stream",
     "text": [
      " 88%|████████▊ | 817/927 [1:48:08<12:03,  6.58s/it]"
     ]
    },
    {
     "name": "stdout",
     "output_type": "stream",
     "text": [
      "Loss with opt features: 0.0150\n",
      "L1Loss модели на обучающей выборке 5.786842346191406\n",
      "L1Loss модели на тестовой выборке 5.764026165008545\n"
     ]
    },
    {
     "name": "stderr",
     "output_type": "stream",
     "text": [
      " 88%|████████▊ | 818/927 [1:48:18<13:40,  7.53s/it]"
     ]
    },
    {
     "name": "stdout",
     "output_type": "stream",
     "text": [
      "Loss with opt features: 0.0019\n",
      "L1Loss модели на обучающей выборке 0.6998782157897949\n",
      "L1Loss модели на тестовой выборке 0.8665486574172974\n",
      "Loss with opt features: 0.4556\n"
     ]
    },
    {
     "name": "stderr",
     "output_type": "stream",
     "text": [
      " 88%|████████▊ | 819/927 [1:48:27<14:16,  7.93s/it]"
     ]
    },
    {
     "name": "stdout",
     "output_type": "stream",
     "text": [
      "L1Loss модели на обучающей выборке 0.3135698139667511\n",
      "L1Loss модели на тестовой выборке 0.32968366146087646\n"
     ]
    },
    {
     "name": "stderr",
     "output_type": "stream",
     "text": [
      " 88%|████████▊ | 820/927 [1:48:35<14:24,  8.08s/it]"
     ]
    },
    {
     "name": "stdout",
     "output_type": "stream",
     "text": [
      "Loss with opt features: 0.0000\n",
      "L1Loss модели на обучающей выборке 0.09697756171226501\n",
      "L1Loss модели на тестовой выборке 0.08011903613805771\n",
      "Loss with opt features: 0.5016\n"
     ]
    },
    {
     "name": "stderr",
     "output_type": "stream",
     "text": [
      " 89%|████████▊ | 821/927 [1:48:44<14:51,  8.41s/it]"
     ]
    },
    {
     "name": "stdout",
     "output_type": "stream",
     "text": [
      "L1Loss модели на обучающей выборке 1.059968113899231\n",
      "L1Loss модели на тестовой выборке 0.9431332349777222\n",
      "Loss with opt features: 0.0277\n"
     ]
    },
    {
     "name": "stderr",
     "output_type": "stream",
     "text": [
      " 89%|████████▊ | 822/927 [1:48:49<12:52,  7.36s/it]"
     ]
    },
    {
     "name": "stdout",
     "output_type": "stream",
     "text": [
      "L1Loss модели на обучающей выборке 0.4999947249889374\n",
      "L1Loss модели на тестовой выборке 0.3789253830909729\n",
      "Loss with opt features: 0.0029\n"
     ]
    },
    {
     "name": "stderr",
     "output_type": "stream",
     "text": [
      " 89%|████████▉ | 823/927 [1:48:57<13:07,  7.57s/it]"
     ]
    },
    {
     "name": "stdout",
     "output_type": "stream",
     "text": [
      "L1Loss модели на обучающей выборке 0.18440748751163483\n",
      "L1Loss модели на тестовой выборке 0.27309563755989075\n",
      "Loss with opt features: 0.5890\n"
     ]
    },
    {
     "name": "stderr",
     "output_type": "stream",
     "text": [
      " 89%|████████▉ | 824/927 [1:49:06<13:28,  7.85s/it]"
     ]
    },
    {
     "name": "stdout",
     "output_type": "stream",
     "text": [
      "L1Loss модели на обучающей выборке 7.970480442047119\n",
      "L1Loss модели на тестовой выборке 12.565740585327148\n",
      "Loss with opt features: 0.1492\n"
     ]
    },
    {
     "name": "stderr",
     "output_type": "stream",
     "text": [
      " 89%|████████▉ | 825/927 [1:49:15<13:57,  8.21s/it]"
     ]
    },
    {
     "name": "stdout",
     "output_type": "stream",
     "text": [
      "L1Loss модели на обучающей выборке 0.5337154865264893\n",
      "L1Loss модели на тестовой выборке 0.6487022638320923\n"
     ]
    },
    {
     "name": "stderr",
     "output_type": "stream",
     "text": [
      " 89%|████████▉ | 826/927 [1:49:23<13:30,  8.03s/it]"
     ]
    },
    {
     "name": "stdout",
     "output_type": "stream",
     "text": [
      "Loss with opt features: 0.0067\n",
      "L1Loss модели на обучающей выборке 0.8408763408660889\n",
      "L1Loss модели на тестовой выборке 0.9494374394416809\n",
      "Loss with opt features: 0.0137\n"
     ]
    },
    {
     "name": "stderr",
     "output_type": "stream",
     "text": [
      " 89%|████████▉ | 827/927 [1:49:29<12:43,  7.64s/it]"
     ]
    },
    {
     "name": "stdout",
     "output_type": "stream",
     "text": [
      "L1Loss модели на обучающей выборке 4.724315166473389\n",
      "L1Loss модели на тестовой выборке 8.198870658874512\n"
     ]
    },
    {
     "name": "stderr",
     "output_type": "stream",
     "text": [
      " 89%|████████▉ | 828/927 [1:49:40<13:58,  8.47s/it]"
     ]
    },
    {
     "name": "stdout",
     "output_type": "stream",
     "text": [
      "Loss with opt features: 0.0419\n",
      "L1Loss модели на обучающей выборке 3.388563871383667\n",
      "L1Loss модели на тестовой выборке 2.4623167514801025\n",
      "Loss with opt features: 0.0181\n"
     ]
    },
    {
     "name": "stderr",
     "output_type": "stream",
     "text": [
      " 89%|████████▉ | 829/927 [1:49:45<12:04,  7.39s/it]"
     ]
    },
    {
     "name": "stdout",
     "output_type": "stream",
     "text": [
      "L1Loss модели на обучающей выборке 0.9627726078033447\n",
      "L1Loss модели на тестовой выборке 1.3835386037826538\n"
     ]
    },
    {
     "name": "stderr",
     "output_type": "stream",
     "text": [
      " 90%|████████▉ | 830/927 [1:49:50<10:49,  6.69s/it]"
     ]
    },
    {
     "name": "stdout",
     "output_type": "stream",
     "text": [
      "Loss with opt features: 0.0133\n",
      "L1Loss модели на обучающей выборке 0.5682061910629272\n",
      "L1Loss модели на тестовой выборке 0.6320777535438538\n",
      "Loss with opt features: 0.0126\n"
     ]
    },
    {
     "name": "stderr",
     "output_type": "stream",
     "text": [
      " 90%|████████▉ | 831/927 [1:49:56<10:36,  6.63s/it]"
     ]
    },
    {
     "name": "stdout",
     "output_type": "stream",
     "text": [
      "L1Loss модели на обучающей выборке 0.49377715587615967\n",
      "L1Loss модели на тестовой выборке 0.5392923951148987\n",
      "Loss with opt features: 0.0001\n"
     ]
    },
    {
     "name": "stderr",
     "output_type": "stream",
     "text": [
      " 90%|████████▉ | 832/927 [1:50:04<10:54,  6.89s/it]"
     ]
    },
    {
     "name": "stdout",
     "output_type": "stream",
     "text": [
      "L1Loss модели на обучающей выборке 3.2134509086608887\n",
      "L1Loss модели на тестовой выборке 3.92935848236084\n",
      "Loss with opt features: 0.1129\n"
     ]
    },
    {
     "name": "stderr",
     "output_type": "stream",
     "text": [
      " 90%|████████▉ | 833/927 [1:50:11<11:14,  7.18s/it]"
     ]
    },
    {
     "name": "stdout",
     "output_type": "stream",
     "text": [
      "L1Loss модели на обучающей выборке 2.884169101715088\n",
      "L1Loss модели на тестовой выборке 3.9551262855529785\n"
     ]
    },
    {
     "name": "stderr",
     "output_type": "stream",
     "text": [
      " 90%|████████▉ | 834/927 [1:50:18<10:47,  6.97s/it]"
     ]
    },
    {
     "name": "stdout",
     "output_type": "stream",
     "text": [
      "Loss with opt features: 0.0207\n",
      "L1Loss модели на обучающей выборке 1.5061588287353516\n",
      "L1Loss модели на тестовой выборке 1.2346839904785156\n",
      "Loss with opt features: 0.0032\n"
     ]
    },
    {
     "name": "stderr",
     "output_type": "stream",
     "text": [
      " 90%|█████████ | 835/927 [1:50:23<09:35,  6.26s/it]"
     ]
    },
    {
     "name": "stdout",
     "output_type": "stream",
     "text": [
      "L1Loss модели на обучающей выборке 1.0030286312103271\n",
      "L1Loss модели на тестовой выборке 1.0568565130233765\n"
     ]
    },
    {
     "name": "stderr",
     "output_type": "stream",
     "text": [
      " 90%|█████████ | 836/927 [1:50:28<08:56,  5.90s/it]"
     ]
    },
    {
     "name": "stdout",
     "output_type": "stream",
     "text": [
      "Loss with opt features: 0.0207\n",
      "L1Loss модели на обучающей выборке 0.39084070920944214\n",
      "L1Loss модели на тестовой выборке 0.3705936372280121\n",
      "Loss with opt features: 0.1621\n"
     ]
    },
    {
     "name": "stderr",
     "output_type": "stream",
     "text": [
      " 90%|█████████ | 837/927 [1:50:35<09:38,  6.43s/it]"
     ]
    },
    {
     "name": "stdout",
     "output_type": "stream",
     "text": [
      "L1Loss модели на обучающей выборке 6.7276177406311035\n",
      "L1Loss модели на тестовой выборке 9.28955364227295\n"
     ]
    },
    {
     "name": "stderr",
     "output_type": "stream",
     "text": [
      " 90%|█████████ | 838/927 [1:50:43<10:05,  6.80s/it]"
     ]
    },
    {
     "name": "stdout",
     "output_type": "stream",
     "text": [
      "Loss with opt features: 0.3413\n",
      "L1Loss модели на обучающей выборке 1.5930756330490112\n",
      "L1Loss модели на тестовой выборке 1.7550010681152344\n"
     ]
    },
    {
     "name": "stderr",
     "output_type": "stream",
     "text": [
      " 91%|█████████ | 839/927 [1:50:50<09:58,  6.80s/it]"
     ]
    },
    {
     "name": "stdout",
     "output_type": "stream",
     "text": [
      "Loss with opt features: 5.4369\n",
      "L1Loss модели на обучающей выборке 0.5076371431350708\n",
      "L1Loss модели на тестовой выборке 0.6534115672111511\n"
     ]
    },
    {
     "name": "stderr",
     "output_type": "stream",
     "text": [
      " 91%|█████████ | 840/927 [1:50:58<10:42,  7.38s/it]"
     ]
    },
    {
     "name": "stdout",
     "output_type": "stream",
     "text": [
      "Loss with opt features: 0.0224\n",
      "L1Loss модели на обучающей выборке 0.30344483256340027\n",
      "L1Loss модели на тестовой выборке 0.4122396409511566\n"
     ]
    },
    {
     "name": "stderr",
     "output_type": "stream",
     "text": [
      " 91%|█████████ | 841/927 [1:51:06<10:44,  7.49s/it]"
     ]
    },
    {
     "name": "stdout",
     "output_type": "stream",
     "text": [
      "Loss with opt features: 0.0032\n",
      "L1Loss модели на обучающей выборке 1.7335662841796875\n",
      "L1Loss модели на тестовой выборке 1.8005359172821045\n",
      "Loss with opt features: 1.7739\n"
     ]
    },
    {
     "name": "stderr",
     "output_type": "stream",
     "text": [
      " 91%|█████████ | 842/927 [1:51:13<10:11,  7.19s/it]"
     ]
    },
    {
     "name": "stdout",
     "output_type": "stream",
     "text": [
      "L1Loss модели на обучающей выборке 4.125099002826611e+32\n",
      "L1Loss модели на тестовой выборке 4.051840806151801e+32\n"
     ]
    },
    {
     "name": "stderr",
     "output_type": "stream",
     "text": [
      " 91%|█████████ | 843/927 [1:51:24<11:46,  8.41s/it]"
     ]
    },
    {
     "name": "stdout",
     "output_type": "stream",
     "text": [
      "Loss with opt features: 367291161554543088015065930006528.0000\n",
      "L1Loss модели на обучающей выборке 0.7714058756828308\n",
      "L1Loss модели на тестовой выборке 1.1364834308624268\n",
      "Loss with opt features: 0.0003\n"
     ]
    },
    {
     "name": "stderr",
     "output_type": "stream",
     "text": [
      " 91%|█████████ | 844/927 [1:51:30<10:40,  7.71s/it]"
     ]
    },
    {
     "name": "stdout",
     "output_type": "stream",
     "text": [
      "L1Loss модели на обучающей выборке 5.450435638427734\n",
      "L1Loss модели на тестовой выборке 8.760035514831543\n"
     ]
    },
    {
     "name": "stderr",
     "output_type": "stream",
     "text": [
      " 91%|█████████ | 845/927 [1:51:40<11:17,  8.26s/it]"
     ]
    },
    {
     "name": "stdout",
     "output_type": "stream",
     "text": [
      "Loss with opt features: 0.2468\n",
      "L1Loss модели на обучающей выборке 2.036000967025757\n",
      "L1Loss модели на тестовой выборке 2.4985814094543457\n",
      "Loss with opt features: 0.0484\n"
     ]
    },
    {
     "name": "stderr",
     "output_type": "stream",
     "text": [
      " 91%|█████████▏| 846/927 [1:51:48<11:05,  8.21s/it]"
     ]
    },
    {
     "name": "stdout",
     "output_type": "stream",
     "text": [
      "L1Loss модели на обучающей выборке 0.9565441012382507\n",
      "L1Loss модели на тестовой выборке 0.971319317817688\n"
     ]
    },
    {
     "name": "stderr",
     "output_type": "stream",
     "text": [
      " 91%|█████████▏| 847/927 [1:51:53<09:48,  7.36s/it]"
     ]
    },
    {
     "name": "stdout",
     "output_type": "stream",
     "text": [
      "Loss with opt features: 0.0230\n",
      "L1Loss модели на обучающей выборке 0.4078001081943512\n",
      "L1Loss модели на тестовой выборке 0.4884483516216278\n"
     ]
    },
    {
     "name": "stderr",
     "output_type": "stream",
     "text": [
      " 91%|█████████▏| 848/927 [1:51:59<09:17,  7.06s/it]"
     ]
    },
    {
     "name": "stdout",
     "output_type": "stream",
     "text": [
      "Loss with opt features: 0.0054\n",
      "L1Loss модели на обучающей выборке 0.8295156955718994\n",
      "L1Loss модели на тестовой выборке 1.1643468141555786\n",
      "Loss with opt features: 0.0254\n"
     ]
    },
    {
     "name": "stderr",
     "output_type": "stream",
     "text": [
      " 92%|█████████▏| 849/927 [1:52:05<08:26,  6.49s/it]"
     ]
    },
    {
     "name": "stdout",
     "output_type": "stream",
     "text": [
      "L1Loss модели на обучающей выборке 3.4985263347625732\n",
      "L1Loss модели на тестовой выборке 6.723189353942871\n",
      "Loss with opt features: 0.1179\n"
     ]
    },
    {
     "name": "stderr",
     "output_type": "stream",
     "text": [
      " 92%|█████████▏| 850/927 [1:52:15<10:01,  7.82s/it]"
     ]
    },
    {
     "name": "stdout",
     "output_type": "stream",
     "text": [
      "L1Loss модели на обучающей выборке 0.6040480732917786\n",
      "L1Loss модели на тестовой выборке 0.9276725649833679\n",
      "Loss with opt features: 8.8862\n"
     ]
    },
    {
     "name": "stderr",
     "output_type": "stream",
     "text": [
      " 92%|█████████▏| 851/927 [1:52:24<10:09,  8.02s/it]"
     ]
    },
    {
     "name": "stdout",
     "output_type": "stream",
     "text": [
      "L1Loss модели на обучающей выборке 1.304844856262207\n",
      "L1Loss модели на тестовой выборке 1.0745234489440918\n"
     ]
    },
    {
     "name": "stderr",
     "output_type": "stream",
     "text": [
      " 92%|█████████▏| 852/927 [1:52:31<09:35,  7.68s/it]"
     ]
    },
    {
     "name": "stdout",
     "output_type": "stream",
     "text": [
      "Loss with opt features: 0.0141\n",
      "L1Loss модели на обучающей выборке 0.7804827094078064\n",
      "L1Loss модели на тестовой выборке 1.0215343236923218\n",
      "Loss with opt features: 0.0002\n"
     ]
    },
    {
     "name": "stderr",
     "output_type": "stream",
     "text": [
      " 92%|█████████▏| 853/927 [1:52:36<08:25,  6.83s/it]"
     ]
    },
    {
     "name": "stdout",
     "output_type": "stream",
     "text": [
      "L1Loss модели на обучающей выборке 3.6754724979400635\n",
      "L1Loss модели на тестовой выборке 5.752190589904785\n",
      "Loss with opt features: 0.0885\n"
     ]
    },
    {
     "name": "stderr",
     "output_type": "stream",
     "text": [
      " 92%|█████████▏| 854/927 [1:52:44<08:58,  7.38s/it]"
     ]
    },
    {
     "name": "stdout",
     "output_type": "stream",
     "text": [
      "L1Loss модели на обучающей выборке 1.0277155637741089\n",
      "L1Loss модели на тестовой выборке 1.1763172149658203\n",
      "Loss with opt features: 0.0111\n"
     ]
    },
    {
     "name": "stderr",
     "output_type": "stream",
     "text": [
      " 92%|█████████▏| 855/927 [1:52:53<09:12,  7.68s/it]"
     ]
    },
    {
     "name": "stdout",
     "output_type": "stream",
     "text": [
      "L1Loss модели на обучающей выборке 1.673364520072937\n",
      "L1Loss модели на тестовой выборке 2.1310107707977295\n"
     ]
    },
    {
     "name": "stderr",
     "output_type": "stream",
     "text": [
      " 92%|█████████▏| 856/927 [1:52:57<07:52,  6.66s/it]"
     ]
    },
    {
     "name": "stdout",
     "output_type": "stream",
     "text": [
      "Loss with opt features: 0.0243\n",
      "L1Loss модели на обучающей выборке 3.676966905593872\n",
      "L1Loss модели на тестовой выборке 6.24644136428833\n"
     ]
    },
    {
     "name": "stderr",
     "output_type": "stream",
     "text": [
      " 92%|█████████▏| 857/927 [1:53:04<07:53,  6.76s/it]"
     ]
    },
    {
     "name": "stdout",
     "output_type": "stream",
     "text": [
      "Loss with opt features: 0.0550\n",
      "L1Loss модели на обучающей выборке 1.1598620414733887\n",
      "L1Loss модели на тестовой выборке 1.1198586225509644\n",
      "Loss with opt features: 0.0053\n"
     ]
    },
    {
     "name": "stderr",
     "output_type": "stream",
     "text": [
      " 93%|█████████▎| 858/927 [1:53:09<07:13,  6.28s/it]"
     ]
    },
    {
     "name": "stdout",
     "output_type": "stream",
     "text": [
      "L1Loss модели на обучающей выборке 0.6606784462928772\n",
      "L1Loss модели на тестовой выборке 0.9115545749664307\n",
      "Loss with opt features: 0.0046\n"
     ]
    },
    {
     "name": "stderr",
     "output_type": "stream",
     "text": [
      " 93%|█████████▎| 859/927 [1:53:15<07:04,  6.24s/it]"
     ]
    },
    {
     "name": "stdout",
     "output_type": "stream",
     "text": [
      "L1Loss модели на обучающей выборке 1.0073456764221191\n",
      "L1Loss модели на тестовой выборке 1.112716555595398\n"
     ]
    },
    {
     "name": "stderr",
     "output_type": "stream",
     "text": [
      " 93%|█████████▎| 860/927 [1:53:21<06:51,  6.15s/it]"
     ]
    },
    {
     "name": "stdout",
     "output_type": "stream",
     "text": [
      "Loss with opt features: 0.0155\n",
      "L1Loss модели на обучающей выборке 2.835787534713745\n",
      "L1Loss модели на тестовой выборке 4.879034996032715\n",
      "Loss with opt features: 5.0040\n"
     ]
    },
    {
     "name": "stderr",
     "output_type": "stream",
     "text": [
      " 93%|█████████▎| 861/927 [1:53:30<07:28,  6.79s/it]"
     ]
    },
    {
     "name": "stdout",
     "output_type": "stream",
     "text": [
      "L1Loss модели на обучающей выборке 0.9429399967193604\n",
      "L1Loss модели на тестовой выборке 1.514803171157837\n"
     ]
    },
    {
     "name": "stderr",
     "output_type": "stream",
     "text": [
      " 93%|█████████▎| 862/927 [1:53:37<07:35,  7.01s/it]"
     ]
    },
    {
     "name": "stdout",
     "output_type": "stream",
     "text": [
      "Loss with opt features: 3.0270\n",
      "L1Loss модели на обучающей выборке 0.27777642011642456\n",
      "L1Loss модели на тестовой выборке 0.5234424471855164\n",
      "Loss with opt features: 0.0031\n"
     ]
    },
    {
     "name": "stderr",
     "output_type": "stream",
     "text": [
      " 93%|█████████▎| 863/927 [1:53:46<08:01,  7.53s/it]"
     ]
    },
    {
     "name": "stdout",
     "output_type": "stream",
     "text": [
      "L1Loss модели на обучающей выборке 0.8664903044700623\n",
      "L1Loss модели на тестовой выборке 1.3697491884231567\n",
      "Loss with opt features: 0.0055\n"
     ]
    },
    {
     "name": "stderr",
     "output_type": "stream",
     "text": [
      " 93%|█████████▎| 864/927 [1:53:51<07:05,  6.75s/it]"
     ]
    },
    {
     "name": "stdout",
     "output_type": "stream",
     "text": [
      "L1Loss модели на обучающей выборке 0.19984066486358643\n",
      "L1Loss модели на тестовой выборке 0.16019302606582642\n",
      "Loss with opt features: 1.4501\n"
     ]
    },
    {
     "name": "stderr",
     "output_type": "stream",
     "text": [
      " 93%|█████████▎| 865/927 [1:54:01<08:00,  7.75s/it]"
     ]
    },
    {
     "name": "stdout",
     "output_type": "stream",
     "text": [
      "L1Loss модели на обучающей выборке 0.5255076885223389\n",
      "L1Loss модели на тестовой выборке 0.5293352603912354\n",
      "Loss with opt features: 0.0084\n"
     ]
    },
    {
     "name": "stderr",
     "output_type": "stream",
     "text": [
      " 93%|█████████▎| 866/927 [1:54:07<07:16,  7.15s/it]"
     ]
    },
    {
     "name": "stdout",
     "output_type": "stream",
     "text": [
      "L1Loss модели на обучающей выборке 0.1672419309616089\n",
      "L1Loss модели на тестовой выборке 0.2406589239835739\n",
      "Loss with opt features: 0.0014\n"
     ]
    },
    {
     "name": "stderr",
     "output_type": "stream",
     "text": [
      " 94%|█████████▎| 867/927 [1:54:17<08:00,  8.01s/it]"
     ]
    },
    {
     "name": "stdout",
     "output_type": "stream",
     "text": [
      "L1Loss модели на обучающей выборке 2.2814626693725586\n",
      "L1Loss модели на тестовой выборке 3.426241636276245\n"
     ]
    },
    {
     "name": "stderr",
     "output_type": "stream",
     "text": [
      " 94%|█████████▎| 868/927 [1:54:24<07:47,  7.93s/it]"
     ]
    },
    {
     "name": "stdout",
     "output_type": "stream",
     "text": [
      "Loss with opt features: 0.1035\n",
      "L1Loss модели на обучающей выборке 1.361148715019226\n",
      "L1Loss модели на тестовой выборке 1.2959333658218384\n",
      "Loss with opt features: 0.0431\n"
     ]
    },
    {
     "name": "stderr",
     "output_type": "stream",
     "text": [
      " 94%|█████████▎| 869/927 [1:54:29<06:38,  6.87s/it]"
     ]
    },
    {
     "name": "stdout",
     "output_type": "stream",
     "text": [
      "L1Loss модели на обучающей выборке 0.7990150451660156\n",
      "L1Loss модели на тестовой выборке 0.5945786833763123\n"
     ]
    },
    {
     "name": "stderr",
     "output_type": "stream",
     "text": [
      " 94%|█████████▍| 870/927 [1:54:34<06:06,  6.43s/it]"
     ]
    },
    {
     "name": "stdout",
     "output_type": "stream",
     "text": [
      "Loss with opt features: 0.0088\n",
      "L1Loss модели на обучающей выборке 0.5060973167419434\n",
      "L1Loss модели на тестовой выборке 0.3877657949924469\n"
     ]
    },
    {
     "name": "stderr",
     "output_type": "stream",
     "text": [
      " 94%|█████████▍| 871/927 [1:54:40<05:46,  6.19s/it]"
     ]
    },
    {
     "name": "stdout",
     "output_type": "stream",
     "text": [
      "Loss with opt features: 0.0024\n",
      "L1Loss модели на обучающей выборке 0.42524248361587524\n",
      "L1Loss модели на тестовой выборке 0.5605076551437378\n",
      "Loss with opt features: 0.0111\n"
     ]
    },
    {
     "name": "stderr",
     "output_type": "stream",
     "text": [
      " 94%|█████████▍| 872/927 [1:54:47<05:54,  6.45s/it]"
     ]
    },
    {
     "name": "stdout",
     "output_type": "stream",
     "text": [
      "L1Loss модели на обучающей выборке 0.19920800626277924\n",
      "L1Loss модели на тестовой выборке 0.2903316915035248\n"
     ]
    },
    {
     "name": "stderr",
     "output_type": "stream",
     "text": [
      " 94%|█████████▍| 873/927 [1:54:55<06:15,  6.96s/it]"
     ]
    },
    {
     "name": "stdout",
     "output_type": "stream",
     "text": [
      "Loss with opt features: 0.0022\n",
      "L1Loss модели на обучающей выборке 0.2229365110397339\n",
      "L1Loss модели на тестовой выборке 0.2667749226093292\n",
      "Loss with opt features: 0.0011\n"
     ]
    },
    {
     "name": "stderr",
     "output_type": "stream",
     "text": [
      " 94%|█████████▍| 874/927 [1:55:04<06:45,  7.65s/it]"
     ]
    },
    {
     "name": "stdout",
     "output_type": "stream",
     "text": [
      "L1Loss модели на обучающей выборке 0.925225019454956\n",
      "L1Loss модели на тестовой выборке 1.1333956718444824\n",
      "Loss with opt features: 0.0058\n"
     ]
    },
    {
     "name": "stderr",
     "output_type": "stream",
     "text": [
      " 94%|█████████▍| 875/927 [1:55:09<05:59,  6.91s/it]"
     ]
    },
    {
     "name": "stdout",
     "output_type": "stream",
     "text": [
      "L1Loss модели на обучающей выборке 0.2156069129705429\n",
      "L1Loss модели на тестовой выборке 0.30359765887260437\n",
      "Loss with opt features: 0.5387\n"
     ]
    },
    {
     "name": "stderr",
     "output_type": "stream",
     "text": [
      " 94%|█████████▍| 876/927 [1:55:17<06:03,  7.13s/it]"
     ]
    },
    {
     "name": "stdout",
     "output_type": "stream",
     "text": [
      "L1Loss модели на обучающей выборке 0.8452203869819641\n",
      "L1Loss модели на тестовой выборке 0.9484319090843201\n"
     ]
    },
    {
     "name": "stderr",
     "output_type": "stream",
     "text": [
      " 95%|█████████▍| 877/927 [1:55:23<05:33,  6.68s/it]"
     ]
    },
    {
     "name": "stdout",
     "output_type": "stream",
     "text": [
      "Loss with opt features: 0.0085\n",
      "L1Loss модели на обучающей выборке 0.42074084281921387\n",
      "L1Loss модели на тестовой выборке 0.6102082133293152\n"
     ]
    },
    {
     "name": "stderr",
     "output_type": "stream",
     "text": [
      " 95%|█████████▍| 878/927 [1:55:31<05:50,  7.14s/it]"
     ]
    },
    {
     "name": "stdout",
     "output_type": "stream",
     "text": [
      "Loss with opt features: 2.3538\n",
      "L1Loss модели на обучающей выборке 0.16420845687389374\n",
      "L1Loss модели на тестовой выборке 0.3129502534866333\n"
     ]
    },
    {
     "name": "stderr",
     "output_type": "stream",
     "text": [
      " 95%|█████████▍| 879/927 [1:55:40<06:12,  7.75s/it]"
     ]
    },
    {
     "name": "stdout",
     "output_type": "stream",
     "text": [
      "Loss with opt features: 3.6882\n",
      "L1Loss модели на обучающей выборке 0.08969105780124664\n",
      "L1Loss модели на тестовой выборке 0.10649345815181732\n",
      "Loss with opt features: 0.8965\n"
     ]
    },
    {
     "name": "stderr",
     "output_type": "stream",
     "text": [
      " 95%|█████████▍| 880/927 [1:55:52<07:01,  8.97s/it]"
     ]
    },
    {
     "name": "stdout",
     "output_type": "stream",
     "text": [
      "L1Loss модели на обучающей выборке 0.5376200675964355\n",
      "L1Loss модели на тестовой выборке 0.5482023358345032\n",
      "Loss with opt features: 0.0267\n"
     ]
    },
    {
     "name": "stderr",
     "output_type": "stream",
     "text": [
      " 95%|█████████▌| 881/927 [1:55:57<06:04,  7.93s/it]"
     ]
    },
    {
     "name": "stdout",
     "output_type": "stream",
     "text": [
      "L1Loss модели на обучающей выборке 0.24669156968593597\n",
      "L1Loss модели на тестовой выборке 0.34807702898979187\n"
     ]
    },
    {
     "name": "stderr",
     "output_type": "stream",
     "text": [
      " 95%|█████████▌| 882/927 [1:56:06<06:00,  8.02s/it]"
     ]
    },
    {
     "name": "stdout",
     "output_type": "stream",
     "text": [
      "Loss with opt features: 0.0026\n",
      "L1Loss модели на обучающей выборке 0.19865980744361877\n",
      "L1Loss модели на тестовой выборке 0.2726985216140747\n"
     ]
    },
    {
     "name": "stderr",
     "output_type": "stream",
     "text": [
      " 95%|█████████▌| 883/927 [1:56:16<06:25,  8.77s/it]"
     ]
    },
    {
     "name": "stdout",
     "output_type": "stream",
     "text": [
      "Loss with opt features: 0.0093\n",
      "L1Loss модели на обучающей выборке 1.162795066833496\n",
      "L1Loss модели на тестовой выборке 0.9760700464248657\n"
     ]
    },
    {
     "name": "stderr",
     "output_type": "stream",
     "text": [
      " 95%|█████████▌| 884/927 [1:56:29<07:09,  9.98s/it]"
     ]
    },
    {
     "name": "stdout",
     "output_type": "stream",
     "text": [
      "Loss with opt features: 0.0189\n",
      "L1Loss модели на обучающей выборке 0.8633637428283691\n",
      "L1Loss модели на тестовой выборке 0.9206942915916443\n"
     ]
    },
    {
     "name": "stderr",
     "output_type": "stream",
     "text": [
      " 95%|█████████▌| 885/927 [1:56:46<08:28, 12.11s/it]"
     ]
    },
    {
     "name": "stdout",
     "output_type": "stream",
     "text": [
      "Loss with opt features: 0.0015\n",
      "L1Loss модели на обучающей выборке 0.18596138060092926\n",
      "L1Loss модели на тестовой выборке 0.19725540280342102\n"
     ]
    },
    {
     "name": "stderr",
     "output_type": "stream",
     "text": [
      " 96%|█████████▌| 886/927 [1:57:10<10:46, 15.78s/it]"
     ]
    },
    {
     "name": "stdout",
     "output_type": "stream",
     "text": [
      "Loss with opt features: 0.4752\n",
      "L1Loss модели на обучающей выборке 0.6317508220672607\n",
      "L1Loss модели на тестовой выборке 0.5700915455818176\n"
     ]
    },
    {
     "name": "stderr",
     "output_type": "stream",
     "text": [
      " 96%|█████████▌| 887/927 [1:57:32<11:40, 17.51s/it]"
     ]
    },
    {
     "name": "stdout",
     "output_type": "stream",
     "text": [
      "Loss with opt features: 0.0104\n",
      "L1Loss модели на обучающей выборке 0.24270696938037872\n",
      "L1Loss модели на тестовой выборке 0.34781768918037415\n",
      "Loss with opt features: 0.0227\n"
     ]
    },
    {
     "name": "stderr",
     "output_type": "stream",
     "text": [
      " 96%|█████████▌| 888/927 [1:58:07<14:44, 22.68s/it]"
     ]
    },
    {
     "name": "stdout",
     "output_type": "stream",
     "text": [
      "L1Loss модели на обучающей выборке 0.8852392435073853\n",
      "L1Loss модели на тестовой выборке 1.6219121217727661\n",
      "Loss with opt features: 0.0856\n"
     ]
    },
    {
     "name": "stderr",
     "output_type": "stream",
     "text": [
      " 96%|█████████▌| 889/927 [1:58:18<12:16, 19.39s/it]"
     ]
    },
    {
     "name": "stdout",
     "output_type": "stream",
     "text": [
      "L1Loss модели на обучающей выборке 0.20358432829380035\n",
      "L1Loss модели на тестовой выборке 0.32537129521369934\n",
      "Loss with opt features: 0.0019\n"
     ]
    },
    {
     "name": "stderr",
     "output_type": "stream",
     "text": [
      " 96%|█████████▌| 890/927 [1:58:27<09:57, 16.15s/it]"
     ]
    },
    {
     "name": "stdout",
     "output_type": "stream",
     "text": [
      "L1Loss модели на обучающей выборке 0.23079700767993927\n",
      "L1Loss модели на тестовой выборке 0.17560526728630066\n",
      "Loss with opt features: 0.0029\n"
     ]
    },
    {
     "name": "stderr",
     "output_type": "stream",
     "text": [
      " 96%|█████████▌| 891/927 [1:58:36<08:25, 14.04s/it]"
     ]
    },
    {
     "name": "stdout",
     "output_type": "stream",
     "text": [
      "L1Loss модели на обучающей выборке 0.10555169731378555\n",
      "L1Loss модели на тестовой выборке 0.16151203215122223\n"
     ]
    },
    {
     "name": "stderr",
     "output_type": "stream",
     "text": [
      " 96%|█████████▌| 892/927 [1:58:48<07:48, 13.39s/it]"
     ]
    },
    {
     "name": "stdout",
     "output_type": "stream",
     "text": [
      "Loss with opt features: 1.4386\n",
      "L1Loss модели на обучающей выборке 0.6118640899658203\n",
      "L1Loss модели на тестовой выборке 0.8515316247940063\n"
     ]
    },
    {
     "name": "stderr",
     "output_type": "stream",
     "text": [
      " 96%|█████████▋| 893/927 [1:58:56<06:42, 11.83s/it]"
     ]
    },
    {
     "name": "stdout",
     "output_type": "stream",
     "text": [
      "Loss with opt features: 1.5942\n",
      "L1Loss модели на обучающей выборке 0.6835364699363708\n",
      "L1Loss модели на тестовой выборке 1.0153323411941528\n"
     ]
    },
    {
     "name": "stderr",
     "output_type": "stream",
     "text": [
      " 96%|█████████▋| 894/927 [1:59:04<05:53, 10.71s/it]"
     ]
    },
    {
     "name": "stdout",
     "output_type": "stream",
     "text": [
      "Loss with opt features: 2.0882\n",
      "L1Loss модели на обучающей выборке 0.14310218393802643\n",
      "L1Loss модели на тестовой выборке 0.1580531746149063\n",
      "Loss with opt features: 0.0640\n"
     ]
    },
    {
     "name": "stderr",
     "output_type": "stream",
     "text": [
      " 97%|█████████▋| 895/927 [1:59:12<05:09,  9.68s/it]"
     ]
    },
    {
     "name": "stdout",
     "output_type": "stream",
     "text": [
      "L1Loss модели на обучающей выборке 0.1531830132007599\n",
      "L1Loss модели на тестовой выборке 0.19710373878479004\n"
     ]
    },
    {
     "name": "stderr",
     "output_type": "stream",
     "text": [
      " 97%|█████████▋| 896/927 [1:59:21<04:54,  9.51s/it]"
     ]
    },
    {
     "name": "stdout",
     "output_type": "stream",
     "text": [
      "Loss with opt features: 1.0109\n",
      "L1Loss модели на обучающей выборке 1.3416321277618408\n",
      "L1Loss модели на тестовой выборке 1.1521013975143433\n"
     ]
    },
    {
     "name": "stderr",
     "output_type": "stream",
     "text": [
      " 97%|█████████▋| 897/927 [1:59:26<04:08,  8.30s/it]"
     ]
    },
    {
     "name": "stdout",
     "output_type": "stream",
     "text": [
      "Loss with opt features: 0.0139\n",
      "L1Loss модели на обучающей выборке 1.4839154481887817\n",
      "L1Loss модели на тестовой выборке 1.4261162281036377\n"
     ]
    },
    {
     "name": "stderr",
     "output_type": "stream",
     "text": [
      " 97%|█████████▋| 898/927 [1:59:32<03:43,  7.72s/it]"
     ]
    },
    {
     "name": "stdout",
     "output_type": "stream",
     "text": [
      "Loss with opt features: 0.0259\n",
      "L1Loss модели на обучающей выборке 0.07426422834396362\n",
      "L1Loss модели на тестовой выборке 0.0890679582953453\n"
     ]
    },
    {
     "name": "stderr",
     "output_type": "stream",
     "text": [
      " 97%|█████████▋| 899/927 [1:59:47<04:34,  9.82s/it]"
     ]
    },
    {
     "name": "stdout",
     "output_type": "stream",
     "text": [
      "Loss with opt features: 1.0410\n",
      "L1Loss модели на обучающей выборке 1.1681709289550781\n",
      "L1Loss модели на тестовой выборке 1.4275214672088623\n"
     ]
    },
    {
     "name": "stderr",
     "output_type": "stream",
     "text": [
      " 97%|█████████▋| 900/927 [1:59:53<03:53,  8.64s/it]"
     ]
    },
    {
     "name": "stdout",
     "output_type": "stream",
     "text": [
      "Loss with opt features: 0.0141\n",
      "L1Loss модели на обучающей выборке 0.624842643737793\n",
      "L1Loss модели на тестовой выборке 0.6711763143539429\n"
     ]
    },
    {
     "name": "stderr",
     "output_type": "stream",
     "text": [
      " 97%|█████████▋| 901/927 [2:00:01<03:35,  8.29s/it]"
     ]
    },
    {
     "name": "stdout",
     "output_type": "stream",
     "text": [
      "Loss with opt features: 0.0001\n",
      "L1Loss модели на обучающей выборке 1.2297085523605347\n",
      "L1Loss модели на тестовой выборке 1.1056170463562012\n"
     ]
    },
    {
     "name": "stderr",
     "output_type": "stream",
     "text": [
      " 97%|█████████▋| 902/927 [2:00:07<03:12,  7.69s/it]"
     ]
    },
    {
     "name": "stdout",
     "output_type": "stream",
     "text": [
      "Loss with opt features: 0.0020\n",
      "L1Loss модели на обучающей выборке 0.9344932436943054\n",
      "L1Loss модели на тестовой выборке 0.7445356845855713\n"
     ]
    },
    {
     "name": "stderr",
     "output_type": "stream",
     "text": [
      " 97%|█████████▋| 903/927 [2:00:13<02:51,  7.16s/it]"
     ]
    },
    {
     "name": "stdout",
     "output_type": "stream",
     "text": [
      "Loss with opt features: 0.0060\n",
      "L1Loss модели на обучающей выборке 0.4011716842651367\n",
      "L1Loss модели на тестовой выборке 0.5019248723983765\n"
     ]
    },
    {
     "name": "stderr",
     "output_type": "stream",
     "text": [
      " 98%|█████████▊| 904/927 [2:00:23<03:07,  8.15s/it]"
     ]
    },
    {
     "name": "stdout",
     "output_type": "stream",
     "text": [
      "Loss with opt features: 1.5032\n",
      "L1Loss модели на обучающей выборке 0.3299171030521393\n",
      "L1Loss модели на тестовой выборке 0.596994161605835\n"
     ]
    },
    {
     "name": "stderr",
     "output_type": "stream",
     "text": [
      " 98%|█████████▊| 905/927 [2:00:34<03:15,  8.91s/it]"
     ]
    },
    {
     "name": "stdout",
     "output_type": "stream",
     "text": [
      "Loss with opt features: 0.0137\n",
      "L1Loss модели на обучающей выборке 0.5451174974441528\n",
      "L1Loss модели на тестовой выборке 1.1635586023330688\n"
     ]
    },
    {
     "name": "stderr",
     "output_type": "stream",
     "text": [
      " 98%|█████████▊| 906/927 [2:00:50<03:55, 11.20s/it]"
     ]
    },
    {
     "name": "stdout",
     "output_type": "stream",
     "text": [
      "Loss with opt features: 14.3932\n",
      "L1Loss модели на обучающей выборке 0.33585286140441895\n",
      "L1Loss модели на тестовой выборке 0.5390435457229614\n"
     ]
    },
    {
     "name": "stderr",
     "output_type": "stream",
     "text": [
      " 98%|█████████▊| 907/927 [2:00:58<03:22, 10.12s/it]"
     ]
    },
    {
     "name": "stdout",
     "output_type": "stream",
     "text": [
      "Loss with opt features: 0.0050\n",
      "L1Loss модели на обучающей выборке 0.1494757980108261\n",
      "L1Loss модели на тестовой выборке 0.14887386560440063\n",
      "Loss with opt features: 0.0018\n"
     ]
    },
    {
     "name": "stderr",
     "output_type": "stream",
     "text": [
      " 98%|█████████▊| 908/927 [2:01:07<03:07,  9.88s/it]"
     ]
    },
    {
     "name": "stdout",
     "output_type": "stream",
     "text": [
      "L1Loss модели на обучающей выборке 1.4835965633392334\n",
      "L1Loss модели на тестовой выборке 2.116509199142456\n"
     ]
    },
    {
     "name": "stderr",
     "output_type": "stream",
     "text": [
      " 98%|█████████▊| 909/927 [2:01:16<02:50,  9.47s/it]"
     ]
    },
    {
     "name": "stdout",
     "output_type": "stream",
     "text": [
      "Loss with opt features: 0.0001\n",
      "L1Loss модели на обучающей выборке 0.6667062044143677\n",
      "L1Loss модели на тестовой выборке 0.718134343624115\n"
     ]
    },
    {
     "name": "stderr",
     "output_type": "stream",
     "text": [
      " 98%|█████████▊| 910/927 [2:01:21<02:19,  8.19s/it]"
     ]
    },
    {
     "name": "stdout",
     "output_type": "stream",
     "text": [
      "Loss with opt features: 0.0115\n",
      "L1Loss модели на обучающей выборке 0.036686986684799194\n",
      "L1Loss модели на тестовой выборке 0.03410765901207924\n",
      "Loss with opt features: 1.7850\n"
     ]
    },
    {
     "name": "stderr",
     "output_type": "stream",
     "text": [
      " 98%|█████████▊| 911/927 [2:01:35<02:38,  9.88s/it]"
     ]
    },
    {
     "name": "stdout",
     "output_type": "stream",
     "text": [
      "L1Loss модели на обучающей выборке 0.13061518967151642\n",
      "L1Loss модели на тестовой выборке 0.17248627543449402\n",
      "Loss with opt features: 0.8651\n"
     ]
    },
    {
     "name": "stderr",
     "output_type": "stream",
     "text": [
      " 98%|█████████▊| 912/927 [2:01:46<02:33, 10.27s/it]"
     ]
    },
    {
     "name": "stdout",
     "output_type": "stream",
     "text": [
      "L1Loss модели на обучающей выборке 1.1692348718643188\n",
      "L1Loss модели на тестовой выборке 1.9316762685775757\n",
      "Loss with opt features: 0.0272\n"
     ]
    },
    {
     "name": "stderr",
     "output_type": "stream",
     "text": [
      " 98%|█████████▊| 913/927 [2:01:54<02:14,  9.60s/it]"
     ]
    },
    {
     "name": "stdout",
     "output_type": "stream",
     "text": [
      "L1Loss модели на обучающей выборке 0.15146863460540771\n",
      "L1Loss модели на тестовой выборке 0.2599337697029114\n"
     ]
    },
    {
     "name": "stderr",
     "output_type": "stream",
     "text": [
      " 99%|█████████▊| 914/927 [2:02:05<02:08,  9.86s/it]"
     ]
    },
    {
     "name": "stdout",
     "output_type": "stream",
     "text": [
      "Loss with opt features: 3.9369\n",
      "L1Loss модели на обучающей выборке 0.050137635320425034\n",
      "L1Loss модели на тестовой выборке 0.07482896000146866\n"
     ]
    },
    {
     "name": "stderr",
     "output_type": "stream",
     "text": [
      " 99%|█████████▊| 915/927 [2:02:15<02:00, 10.08s/it]"
     ]
    },
    {
     "name": "stdout",
     "output_type": "stream",
     "text": [
      "Loss with opt features: 0.1677\n",
      "L1Loss модели на обучающей выборке 0.6396707892417908\n",
      "L1Loss модели на тестовой выборке 0.9206479787826538\n",
      "Loss with opt features: 0.0122\n"
     ]
    },
    {
     "name": "stderr",
     "output_type": "stream",
     "text": [
      " 99%|█████████▉| 916/927 [2:02:21<01:35,  8.66s/it]"
     ]
    },
    {
     "name": "stdout",
     "output_type": "stream",
     "text": [
      "L1Loss модели на обучающей выборке 0.24958661198616028\n",
      "L1Loss модели на тестовой выборке 0.34522539377212524\n",
      "Loss with opt features: 0.0061\n"
     ]
    },
    {
     "name": "stderr",
     "output_type": "stream",
     "text": [
      " 99%|█████████▉| 917/927 [2:02:29<01:25,  8.51s/it]"
     ]
    },
    {
     "name": "stdout",
     "output_type": "stream",
     "text": [
      "L1Loss модели на обучающей выборке 1.1456904411315918\n",
      "L1Loss модели на тестовой выборке 1.711521029472351\n",
      "Loss with opt features: 0.0008\n"
     ]
    },
    {
     "name": "stderr",
     "output_type": "stream",
     "text": [
      " 99%|█████████▉| 918/927 [2:02:34<01:09,  7.67s/it]"
     ]
    },
    {
     "name": "stdout",
     "output_type": "stream",
     "text": [
      "L1Loss модели на обучающей выборке 0.8741015195846558\n",
      "L1Loss модели на тестовой выборке 0.9448181390762329\n"
     ]
    },
    {
     "name": "stderr",
     "output_type": "stream",
     "text": [
      " 99%|█████████▉| 919/927 [2:02:40<00:55,  6.94s/it]"
     ]
    },
    {
     "name": "stdout",
     "output_type": "stream",
     "text": [
      "Loss with opt features: 0.0171\n",
      "L1Loss модели на обучающей выборке 0.9720205664634705\n",
      "L1Loss модели на тестовой выборке 1.4381641149520874\n"
     ]
    },
    {
     "name": "stderr",
     "output_type": "stream",
     "text": [
      " 99%|█████████▉| 920/927 [2:02:49<00:54,  7.71s/it]"
     ]
    },
    {
     "name": "stdout",
     "output_type": "stream",
     "text": [
      "Loss with opt features: 0.0290\n",
      "L1Loss модели на обучающей выборке 0.12726427614688873\n",
      "L1Loss модели на тестовой выборке 0.14385099709033966\n"
     ]
    },
    {
     "name": "stderr",
     "output_type": "stream",
     "text": [
      " 99%|█████████▉| 921/927 [2:03:02<00:55,  9.21s/it]"
     ]
    },
    {
     "name": "stdout",
     "output_type": "stream",
     "text": [
      "Loss with opt features: 4.8109\n",
      "L1Loss модели на обучающей выборке 0.6158012747764587\n",
      "L1Loss модели на тестовой выборке 0.7660579681396484\n"
     ]
    },
    {
     "name": "stderr",
     "output_type": "stream",
     "text": [
      " 99%|█████████▉| 922/927 [2:03:07<00:40,  8.07s/it]"
     ]
    },
    {
     "name": "stdout",
     "output_type": "stream",
     "text": [
      "Loss with opt features: 0.0106\n",
      "L1Loss модели на обучающей выборке 0.5955833792686462\n",
      "L1Loss модели на тестовой выборке 0.586889922618866\n",
      "Loss with opt features: 0.0008\n"
     ]
    },
    {
     "name": "stderr",
     "output_type": "stream",
     "text": [
      "100%|█████████▉| 923/927 [2:03:14<00:30,  7.74s/it]"
     ]
    },
    {
     "name": "stdout",
     "output_type": "stream",
     "text": [
      "L1Loss модели на обучающей выборке 0.08324295282363892\n",
      "L1Loss модели на тестовой выборке 0.11095857620239258\n",
      "Loss with opt features: 4.4670\n"
     ]
    },
    {
     "name": "stderr",
     "output_type": "stream",
     "text": [
      "100%|█████████▉| 924/927 [2:03:26<00:26,  8.93s/it]"
     ]
    },
    {
     "name": "stdout",
     "output_type": "stream",
     "text": [
      "L1Loss модели на обучающей выборке 0.9458287358283997\n",
      "L1Loss модели на тестовой выборке 1.1691972017288208\n"
     ]
    },
    {
     "name": "stderr",
     "output_type": "stream",
     "text": [
      "100%|█████████▉| 925/927 [2:03:35<00:17,  8.89s/it]"
     ]
    },
    {
     "name": "stdout",
     "output_type": "stream",
     "text": [
      "Loss with opt features: 0.0110\n",
      "L1Loss модели на обучающей выборке 1.6438992023468018\n",
      "L1Loss модели на тестовой выборке 2.0258305072784424\n",
      "Loss with opt features: 0.1103\n"
     ]
    },
    {
     "name": "stderr",
     "output_type": "stream",
     "text": [
      "100%|█████████▉| 926/927 [2:03:43<00:08,  8.56s/it]"
     ]
    },
    {
     "name": "stdout",
     "output_type": "stream",
     "text": [
      "L1Loss модели на обучающей выборке 0.63884037733078\n",
      "L1Loss модели на тестовой выборке 1.0080273151397705\n"
     ]
    },
    {
     "name": "stderr",
     "output_type": "stream",
     "text": [
      "100%|██████████| 927/927 [2:03:51<00:00,  8.02s/it]"
     ]
    },
    {
     "name": "stdout",
     "output_type": "stream",
     "text": [
      "Loss with opt features: 1.0452\n"
     ]
    },
    {
     "name": "stderr",
     "output_type": "stream",
     "text": [
      "\n"
     ]
    }
   ],
   "source": [
    "n = 0\n",
    "for feature in tqdm(Y.columns):\n",
    "    targets = Y[feature].to_numpy(dtype=float)\n",
    "\n",
    "    X_train, X_test, y_train, y_test = train_test_split(inputs, targets, test_size=0.3, random_state=42)\n",
    "\n",
    "    X_train, X_test = torch.from_numpy(X_train).float(), torch.from_numpy(X_test).float()  \n",
    "    y_train, y_test = torch.from_numpy(y_train).float().view(-1, 1), torch.from_numpy(y_test).float().view(-1, 1)\n",
    "\n",
    "    # Инициализируем модель\n",
    "    input_size = X_train.shape[1]\n",
    "    output_size = 1\n",
    "    lambda_ = 0.01\n",
    "    model = Regression(input_size, output_size, lambda_)\n",
    "\n",
    "    # Инициализируем фуункцию потерь и оптимизатор\n",
    "    # criterion = nn.MSELoss()\n",
    "\n",
    "    criterion = nn.L1Loss()\n",
    "\n",
    "    optimizer = optim.LBFGS(model.parameters(), lr=0.01)\n",
    "\n",
    "    # эпоха обучения\n",
    "    def fitness_step():\n",
    "        global loss\n",
    "        outputs = model(X_train) # Получаем предсказания\n",
    "        loss =  criterion(outputs, y_train) # Обсчитываем функцию потерь\n",
    "        if reg == 'l1':\n",
    "            loss += model.l1_reg() # Добавляем L1 регуляризацию\n",
    "        elif reg == 'l2':\n",
    "            loss += model.l2_reg() # Добавляем L2 регуляризацию\n",
    "\n",
    "        # Выполняем оптимизацию параметров модели\n",
    "        optimizer.zero_grad()\n",
    "        loss.backward()\n",
    "        #print(f'Epoch [{epoch+1}/{num_epochs}], Loss: {loss.item():.4f}') \n",
    "        return loss\n",
    "\n",
    "\n",
    "    # Запускаем обучение\n",
    "    reg = 'l1'\n",
    "    num_epochs = 500\n",
    "    for epoch in range(num_epochs):\n",
    "        optimizer.step(fitness_step)\n",
    "    #print(f' Total Loss: {loss.item():.4f}')\n",
    "\n",
    "    print(f'L1Loss модели на обучающей выборке {criterion(model(X_train), y_train)}')\n",
    "    print(f'L1Loss модели на тестовой выборке {criterion(model(X_test), y_test)}')\n",
    "\n",
    "\n",
    "    # подбираем ручки по полученной модели\n",
    "    reverse_model = Reverse_Regression(model)\n",
    "    optimizer = optim.Adam(reverse_model.parameters(), lr=0.01)\n",
    "\n",
    "    weights_3 = torch.from_numpy(model.weights_3.detach().numpy()).float()\n",
    "    weights_2 = torch.from_numpy(model.weights_2.detach().numpy()).float()\n",
    "    weights = torch.from_numpy(model.weights.detach().numpy()).float()\n",
    "    bias = torch.from_numpy(model.bias.detach().numpy()).float()\n",
    "\n",
    "    y_ = torch.from_numpy(np.array([[0]])).float().view(-1, 1)\n",
    "\n",
    "    num_epochs = 1000\n",
    "    for epoch in range(num_epochs):\n",
    "        # Forward pass\n",
    "        outputs = reverse_model(weights, weights_2, weights_3, bias) # Получаем предсказания\n",
    "        loss = criterion(outputs, y_) # Обсчитываем функцию потерь\n",
    "\n",
    "        # Выполняем оптимизацию параметров модели\n",
    "        optimizer.zero_grad()\n",
    "        loss.backward()\n",
    "\n",
    "        # Ограничиваем значения оптимизируемых параметров\n",
    "        reverse_model.opt_vec.data = torch.clamp(reverse_model.opt_vec.data, min_val, max_val)\n",
    "\n",
    "        # Выполняем шаг оптимизации\n",
    "        optimizer.step()\n",
    "\n",
    "    # Ограничиваем значения оптимизируемых параметров\n",
    "\n",
    "    reverse_model.opt_vec.data = torch.clamp(reverse_model.opt_vec.data, min_val, max_val)\n",
    "\n",
    "    outputs = reverse_model(weights, weights_2, weights_3, bias) # Получаем предсказания\n",
    "    loss = criterion(outputs, y_)\n",
    "\n",
    "    print(f'Loss with opt features: {loss.item():.4f}')\n",
    "    \n",
    "    weights = np.concatenate((model.weights_3.view(-1,).detach().numpy(),\n",
    "                              model.weights_2.view(-1,).detach().numpy(),\n",
    "                              model.weights.view(-1,).detach().numpy(),\n",
    "                              model.bias.view(-1,).detach().numpy(),\n",
    "                              scaler.inverse_transform(reverse_model.opt_vec.detach().numpy())[0],\n",
    "                              np.array([loss.item()])), axis=None)\n",
    "\n",
    "    if n == 0:\n",
    "        df_res = pd.DataFrame()\n",
    "        df_res[feature] = weights\n",
    "        df_res.to_csv('DNN_weights.csv', index=False)\n",
    "    \n",
    "    else:\n",
    "        df_res = pd.read_csv('DNN_weights.csv')\n",
    "        df_res[feature] = weights\n",
    "        df_res.to_csv('DNN_weights.csv', index=False)\n",
    "        \n",
    "    n = 1"
   ]
  },
  {
   "cell_type": "code",
   "execution_count": null,
   "metadata": {},
   "outputs": [],
   "source": []
  },
  {
   "cell_type": "code",
   "execution_count": null,
   "metadata": {},
   "outputs": [],
   "source": []
  },
  {
   "cell_type": "code",
   "execution_count": null,
   "metadata": {},
   "outputs": [],
   "source": [
    "\n",
    "feature = Y.columns[0]\n",
    "\n",
    "# получаем датасет из библиотеки sklearn\n",
    "scaler = MinMaxScaler()\n",
    "\n",
    "inputs = scaler.fit_transform(X)#.to_numpy(dtype=float)\n",
    "targets = Y[feature].to_numpy(dtype=float)\n",
    "\n",
    "X_train, X_test, y_train, y_test = train_test_split(inputs, targets, test_size=0.3, random_state=42)\n",
    "\n",
    "X_train, X_test = torch.from_numpy(X_train).float(), torch.from_numpy(X_test).float()  \n",
    "y_train, y_test = torch.from_numpy(y_train).float().view(-1, 1), torch.from_numpy(y_test).float().view(-1, 1)\n",
    "\n",
    "# Инициализируем модель\n",
    "input_size = X_train.shape[1]\n",
    "output_size = 1\n",
    "lambda_ = 0.01\n",
    "model = Regression(input_size, output_size, lambda_)\n",
    "\n",
    "# Инициализируем фуункцию потерь и оптимизатор\n",
    "# criterion = nn.MSELoss()\n",
    "\n",
    "criterion = nn.L1Loss()\n",
    "\n",
    "optimizer = optim.LBFGS(model.parameters(), lr=0.01)\n",
    "\n",
    "# эпоха обучения\n",
    "def fitness_step():\n",
    "    global loss\n",
    "    outputs = model(X_train) # Получаем предсказания\n",
    "    loss =  criterion(outputs, y_train) # Обсчитываем функцию потерь\n",
    "    if reg == 'l1':\n",
    "        loss += model.l1_reg() # Добавляем L1 регуляризацию\n",
    "    elif reg == 'l2':\n",
    "        loss += model.l2_reg() # Добавляем L2 регуляризацию\n",
    "\n",
    "    # Выполняем оптимизацию параметров модели\n",
    "    optimizer.zero_grad()\n",
    "    loss.backward()\n",
    "    #print(f'Epoch [{epoch+1}/{num_epochs}], Loss: {loss.item():.4f}') \n",
    "    return loss\n",
    "\n",
    "\n",
    "# Запускаем обучение\n",
    "reg = 'l1'\n",
    "num_epochs = 500\n",
    "for epoch in range(num_epochs):\n",
    "    optimizer.step(fitness_step)\n",
    "#print(f' Total Loss: {loss.item():.4f}')\n",
    "\n",
    "print(f'L1Loss модели на обучающей выборке {criterion(model(X_train), y_train)}')\n",
    "print(f'L1Loss модели на тестовой выборке {criterion(model(X_test), y_test)}')\n"
   ]
  },
  {
   "cell_type": "code",
   "execution_count": null,
   "metadata": {},
   "outputs": [],
   "source": []
  },
  {
   "cell_type": "code",
   "execution_count": null,
   "metadata": {},
   "outputs": [],
   "source": [
    "feature_names = df.iloc[2:3, 2:16].loc[2].to_list()\n",
    "lim_df = pd.read_excel('data/input_limits.xlsx')\n",
    "min_val = scaler.transform(np.array([[lim_df[lim_df['Parameter']==f_n].Min.values[0] for f_n in feature_names]]))\n",
    "max_val = scaler.transform(np.array([[lim_df[lim_df['Parameter']==f_n].Max.values[0] for f_n in feature_names]]))\n",
    "min_val = torch.from_numpy(min_val).float()\n",
    "max_val = torch.from_numpy(max_val).float()"
   ]
  },
  {
   "cell_type": "code",
   "execution_count": null,
   "metadata": {},
   "outputs": [],
   "source": [
    "reverse_model = Reverse_Regression(model)\n",
    "criterion = nn.L1Loss()\n",
    "\n",
    "optimizer = optim.Adam(reverse_model.parameters(), lr=0.01)\n",
    "\n",
    "weights_3 = torch.from_numpy(model.weights_3.detach().numpy()).float()\n",
    "weights_2 = torch.from_numpy(model.weights_2.detach().numpy()).float()\n",
    "weights = torch.from_numpy(model.weights.detach().numpy()).float()\n",
    "bias = torch.from_numpy(model.bias.detach().numpy()).float()\n",
    "\n",
    "y_ = torch.from_numpy(np.array([[0]])).float().view(-1, 1)\n",
    "\n",
    "\n",
    "\n",
    "num_epochs = 1000\n",
    "for epoch in range(num_epochs):\n",
    "    # Forward pass\n",
    "    outputs = reverse_model(weights, weights_2, weights_3, bias) # Получаем предсказания\n",
    "    loss = criterion(outputs, y_) # Обсчитываем функцию потерь\n",
    "\n",
    "    # Выполняем оптимизацию параметров модели\n",
    "    optimizer.zero_grad()\n",
    "    loss.backward()\n",
    "\n",
    "    # Ограничиваем значения оптимизируемых параметров\n",
    "    reverse_model.opt_vec.data = torch.clamp(reverse_model.opt_vec.data, min_val, max_val)\n",
    "\n",
    "    # Выполняем шаг оптимизации\n",
    "    optimizer.step()\n",
    "\n",
    "    # Print the loss\n",
    "    if (epoch+1) % 5== 0:\n",
    "        print(f'Epoch [{epoch+1}/{num_epochs}], Loss: {loss.item():.4f}')\n",
    "\n",
    "# Ограничиваем значения оптимизируемых параметров\n",
    "\n",
    "reverse_model.opt_vec.data = torch.clamp(reverse_model.opt_vec.data, min_val, max_val)\n",
    "\n",
    "outputs = reverse_model(weights, weights_2, weights_3, bias) # Получаем предсказания\n",
    "loss = criterion(outputs, y_)\n",
    "\n",
    "print(f'Epoch [{epoch+1}/{num_epochs}], Loss: {loss.item():.4f}')"
   ]
  },
  {
   "cell_type": "code",
   "execution_count": null,
   "metadata": {},
   "outputs": [],
   "source": []
  },
  {
   "cell_type": "code",
   "execution_count": null,
   "metadata": {},
   "outputs": [],
   "source": [
    "reverse_model.opt_vec, scaler.inverse_transform(reverse_model.opt_vec.detach().numpy())"
   ]
  },
  {
   "cell_type": "code",
   "execution_count": null,
   "metadata": {},
   "outputs": [],
   "source": [
    " scaler.inverse_transform(reverse_model.opt_vec.detach().numpy())[0]"
   ]
  }
 ],
 "metadata": {
  "kernelspec": {
   "display_name": "Python 3.10.8 ('Torch_Env')",
   "language": "python",
   "name": "python3"
  },
  "language_info": {
   "name": "python",
   "version": "3.10.8"
  },
  "orig_nbformat": 4,
  "vscode": {
   "interpreter": {
    "hash": "e27a8cd1610fe5b135f9bd9bd93917f9da9138d6e3d8e9e5927e4b6fe543dc55"
   }
  }
 },
 "nbformat": 4,
 "nbformat_minor": 2
}
